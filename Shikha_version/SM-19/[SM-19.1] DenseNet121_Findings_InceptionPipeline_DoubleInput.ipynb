{
 "cells": [
  {
   "cell_type": "markdown",
   "metadata": {
    "id": "l3HaHWqBSTSN"
   },
   "source": [
    "<h1> Скачиваем набор данных"
   ]
  },
  {
   "cell_type": "code",
   "execution_count": 1,
   "metadata": {
    "colab": {
     "base_uri": "https://localhost:8080/"
    },
    "id": "d9YlGB9wwgCV",
    "jupyter": {
     "is_executing": true
    },
    "outputId": "98410c2a-8ade-40bf-8ff0-95ccca0a87cb"
   },
   "outputs": [
    {
     "name": "stdout",
     "output_type": "stream",
     "text": [
      "Tue Jul  1 15:45:30 2025       \n",
      "+-----------------------------------------------------------------------------------------+\n",
      "| NVIDIA-SMI 560.35.03              Driver Version: 560.35.03      CUDA Version: 12.6     |\n",
      "|-----------------------------------------+------------------------+----------------------+\n",
      "| GPU  Name                 Persistence-M | Bus-Id          Disp.A | Volatile Uncorr. ECC |\n",
      "| Fan  Temp   Perf          Pwr:Usage/Cap |           Memory-Usage | GPU-Util  Compute M. |\n",
      "|                                         |                        |               MIG M. |\n",
      "|=========================================+========================+======================|\n",
      "|   0  Tesla T4                       Off |   00000000:00:04.0 Off |                    0 |\n",
      "| N/A   43C    P8             12W /   70W |       1MiB /  15360MiB |      0%      Default |\n",
      "|                                         |                        |                  N/A |\n",
      "+-----------------------------------------+------------------------+----------------------+\n",
      "|   1  Tesla T4                       Off |   00000000:00:05.0 Off |                    0 |\n",
      "| N/A   37C    P8              9W /   70W |       1MiB /  15360MiB |      0%      Default |\n",
      "|                                         |                        |                  N/A |\n",
      "+-----------------------------------------+------------------------+----------------------+\n",
      "                                                                                         \n",
      "+-----------------------------------------------------------------------------------------+\n",
      "| Processes:                                                                              |\n",
      "|  GPU   GI   CI        PID   Type   Process name                              GPU Memory |\n",
      "|        ID   ID                                                               Usage      |\n",
      "|=========================================================================================|\n",
      "|  No running processes found                                                             |\n",
      "+-----------------------------------------------------------------------------------------+\n"
     ]
    }
   ],
   "source": [
    "!nvidia-smi"
   ]
  },
  {
   "cell_type": "markdown",
   "metadata": {},
   "source": [
    "# Подготовка данных"
   ]
  },
  {
   "cell_type": "code",
   "execution_count": 2,
   "metadata": {
    "ExecuteTime": {
     "end_time": "2025-06-24T17:12:51.612671Z",
     "start_time": "2025-06-24T17:12:51.609501Z"
    },
    "id": "2pl-0sReypax"
   },
   "outputs": [],
   "source": [
    "import pandas as pd\n",
    "import numpy as np\n",
    "from tqdm.notebook import tqdm\n",
    "import shutil"
   ]
  },
  {
   "cell_type": "markdown",
   "metadata": {
    "id": "_xoLw64CSnbV"
   },
   "source": [
    "Откроем датасет, которые получили после предварительной обработки текстовых данных"
   ]
  },
  {
   "cell_type": "code",
   "execution_count": 3,
   "metadata": {
    "ExecuteTime": {
     "end_time": "2025-06-24T17:17:54.573845Z",
     "start_time": "2025-06-24T17:12:57.649034Z"
    }
   },
   "outputs": [
    {
     "data": {
      "text/plain": [
       "'/kaggle/working/chest-xrays-indiana-university/images/images_normalized'"
      ]
     },
     "execution_count": 3,
     "metadata": {},
     "output_type": "execute_result"
    }
   ],
   "source": [
    "# Source directory\n",
    "source_dir = \"/kaggle/input/chest-xrays-indiana-university/images/images_normalized\"\n",
    "\n",
    "# Destination directory\n",
    "destination_dir = \"/kaggle/working/chest-xrays-indiana-university/images/images_normalized\"\n",
    "\n",
    "shutil.copytree(source_dir, destination_dir)"
   ]
  },
  {
   "cell_type": "code",
   "execution_count": 4,
   "metadata": {
    "ExecuteTime": {
     "end_time": "2025-06-24T16:39:42.943798Z",
     "start_time": "2025-06-24T16:39:42.906781Z"
    },
    "id": "kW-lQ2Ecyvm6"
   },
   "outputs": [
    {
     "data": {
      "text/html": [
       "<div>\n",
       "<style scoped>\n",
       "    .dataframe tbody tr th:only-of-type {\n",
       "        vertical-align: middle;\n",
       "    }\n",
       "\n",
       "    .dataframe tbody tr th {\n",
       "        vertical-align: top;\n",
       "    }\n",
       "\n",
       "    .dataframe thead th {\n",
       "        text-align: right;\n",
       "    }\n",
       "</style>\n",
       "<table border=\"1\" class=\"dataframe\">\n",
       "  <thead>\n",
       "    <tr style=\"text-align: right;\">\n",
       "      <th></th>\n",
       "      <th>Frontal</th>\n",
       "      <th>Lateral</th>\n",
       "      <th>MeSH</th>\n",
       "      <th>Problems</th>\n",
       "      <th>indication</th>\n",
       "      <th>findings</th>\n",
       "      <th>impression</th>\n",
       "    </tr>\n",
       "  </thead>\n",
       "  <tbody>\n",
       "    <tr>\n",
       "      <th>0</th>\n",
       "      <td>1_IM-0001-4001.dcm.png</td>\n",
       "      <td>1_IM-0001-3001.dcm.png</td>\n",
       "      <td>normal</td>\n",
       "      <td>normal</td>\n",
       "      <td>positive tb test</td>\n",
       "      <td>the cardiac silhouette and mediastinum size ar...</td>\n",
       "      <td>normal chest</td>\n",
       "    </tr>\n",
       "    <tr>\n",
       "      <th>1</th>\n",
       "      <td>2_IM-0652-1001.dcm.png</td>\n",
       "      <td>2_IM-0652-2001.dcm.png</td>\n",
       "      <td>Cardiomegaly/borderline;Pulmonary Artery/enlarged</td>\n",
       "      <td>Cardiomegaly;Pulmonary Artery</td>\n",
       "      <td>preop bariatric surgery</td>\n",
       "      <td>borderline cardiomegaly midline sternotomy enl...</td>\n",
       "      <td>no acute pulmonary findings</td>\n",
       "    </tr>\n",
       "    <tr>\n",
       "      <th>2</th>\n",
       "      <td>3_IM-1384-1001.dcm.png</td>\n",
       "      <td>3_IM-1384-2001.dcm.png</td>\n",
       "      <td>normal</td>\n",
       "      <td>normal</td>\n",
       "      <td>rib pain after a steps this pain to r back r e...</td>\n",
       "      <td>NaN</td>\n",
       "      <td>no displaced rib fractures pneumothora or pleu...</td>\n",
       "    </tr>\n",
       "    <tr>\n",
       "      <th>3</th>\n",
       "      <td>4_IM-2050-1001.dcm.png</td>\n",
       "      <td>4_IM-2050-2001.dcm.png</td>\n",
       "      <td>Pulmonary Disease, Chronic Obstructive;Bullous...</td>\n",
       "      <td>Pulmonary Disease, Chronic Obstructive;Bullous...</td>\n",
       "      <td>with</td>\n",
       "      <td>there are diffuse bilateral interstitial and a...</td>\n",
       "      <td>bullous emphysema and interstitial fibrosis p...</td>\n",
       "    </tr>\n",
       "    <tr>\n",
       "      <th>4</th>\n",
       "      <td>5_IM-2117-1003002.dcm.png</td>\n",
       "      <td>5_IM-2117-1004003.dcm.png</td>\n",
       "      <td>Osteophyte/thoracic vertebrae/multiple/small;T...</td>\n",
       "      <td>Osteophyte;Thickening;Lung</td>\n",
       "      <td>chest and nasal congestion</td>\n",
       "      <td>the cardiomediastinal silhouette and pulmonary...</td>\n",
       "      <td>no acute cardiopulmonary abnormality</td>\n",
       "    </tr>\n",
       "  </tbody>\n",
       "</table>\n",
       "</div>"
      ],
      "text/plain": [
       "                     Frontal                    Lateral  \\\n",
       "0     1_IM-0001-4001.dcm.png     1_IM-0001-3001.dcm.png   \n",
       "1     2_IM-0652-1001.dcm.png     2_IM-0652-2001.dcm.png   \n",
       "2     3_IM-1384-1001.dcm.png     3_IM-1384-2001.dcm.png   \n",
       "3     4_IM-2050-1001.dcm.png     4_IM-2050-2001.dcm.png   \n",
       "4  5_IM-2117-1003002.dcm.png  5_IM-2117-1004003.dcm.png   \n",
       "\n",
       "                                                MeSH  \\\n",
       "0                                             normal   \n",
       "1  Cardiomegaly/borderline;Pulmonary Artery/enlarged   \n",
       "2                                             normal   \n",
       "3  Pulmonary Disease, Chronic Obstructive;Bullous...   \n",
       "4  Osteophyte/thoracic vertebrae/multiple/small;T...   \n",
       "\n",
       "                                            Problems  \\\n",
       "0                                             normal   \n",
       "1                      Cardiomegaly;Pulmonary Artery   \n",
       "2                                             normal   \n",
       "3  Pulmonary Disease, Chronic Obstructive;Bullous...   \n",
       "4                         Osteophyte;Thickening;Lung   \n",
       "\n",
       "                                          indication  \\\n",
       "0                                   positive tb test   \n",
       "1                            preop bariatric surgery   \n",
       "2  rib pain after a steps this pain to r back r e...   \n",
       "3                                              with    \n",
       "4                         chest and nasal congestion   \n",
       "\n",
       "                                            findings  \\\n",
       "0  the cardiac silhouette and mediastinum size ar...   \n",
       "1  borderline cardiomegaly midline sternotomy enl...   \n",
       "2                                                NaN   \n",
       "3  there are diffuse bilateral interstitial and a...   \n",
       "4  the cardiomediastinal silhouette and pulmonary...   \n",
       "\n",
       "                                          impression  \n",
       "0                                      normal chest   \n",
       "1                        no acute pulmonary findings  \n",
       "2  no displaced rib fractures pneumothora or pleu...  \n",
       "3   bullous emphysema and interstitial fibrosis p...  \n",
       "4               no acute cardiopulmonary abnormality  "
      ]
     },
     "execution_count": 4,
     "metadata": {},
     "output_type": "execute_result"
    }
   ],
   "source": [
    "df = pd.read_csv(\"/kaggle/input/merged-df-pkl/final.csv\")\n",
    "df.head()"
   ]
  },
  {
   "cell_type": "code",
   "execution_count": 5,
   "metadata": {
    "ExecuteTime": {
     "end_time": "2025-06-24T16:39:43.296681Z",
     "start_time": "2025-06-24T16:39:43.290897Z"
    },
    "id": "SGLl00T3rRX4"
   },
   "outputs": [],
   "source": [
    "df = df[[\"Frontal\", \"Lateral\", \"findings\"]]\n",
    "df = df.rename(columns={\"Frontal\": \"image_1\",\n",
    "                        \"Lateral\": \"image_2\"\n",
    "                        })"
   ]
  },
  {
   "cell_type": "code",
   "execution_count": 6,
   "metadata": {
    "ExecuteTime": {
     "end_time": "2025-06-24T16:39:53.096511Z",
     "start_time": "2025-06-24T16:39:53.088206Z"
    },
    "colab": {
     "base_uri": "https://localhost:8080/",
     "height": 206
    },
    "id": "ETvlb3DLrs2L",
    "outputId": "7e77e5b7-9bfa-473d-c45c-178ec5abcc46"
   },
   "outputs": [
    {
     "data": {
      "text/html": [
       "<div>\n",
       "<style scoped>\n",
       "    .dataframe tbody tr th:only-of-type {\n",
       "        vertical-align: middle;\n",
       "    }\n",
       "\n",
       "    .dataframe tbody tr th {\n",
       "        vertical-align: top;\n",
       "    }\n",
       "\n",
       "    .dataframe thead th {\n",
       "        text-align: right;\n",
       "    }\n",
       "</style>\n",
       "<table border=\"1\" class=\"dataframe\">\n",
       "  <thead>\n",
       "    <tr style=\"text-align: right;\">\n",
       "      <th></th>\n",
       "      <th>image_1</th>\n",
       "      <th>image_2</th>\n",
       "      <th>findings</th>\n",
       "    </tr>\n",
       "  </thead>\n",
       "  <tbody>\n",
       "    <tr>\n",
       "      <th>0</th>\n",
       "      <td>1_IM-0001-4001.dcm.png</td>\n",
       "      <td>1_IM-0001-3001.dcm.png</td>\n",
       "      <td>the cardiac silhouette and mediastinum size ar...</td>\n",
       "    </tr>\n",
       "    <tr>\n",
       "      <th>1</th>\n",
       "      <td>2_IM-0652-1001.dcm.png</td>\n",
       "      <td>2_IM-0652-2001.dcm.png</td>\n",
       "      <td>borderline cardiomegaly midline sternotomy enl...</td>\n",
       "    </tr>\n",
       "    <tr>\n",
       "      <th>2</th>\n",
       "      <td>3_IM-1384-1001.dcm.png</td>\n",
       "      <td>3_IM-1384-2001.dcm.png</td>\n",
       "      <td>NaN</td>\n",
       "    </tr>\n",
       "    <tr>\n",
       "      <th>3</th>\n",
       "      <td>4_IM-2050-1001.dcm.png</td>\n",
       "      <td>4_IM-2050-2001.dcm.png</td>\n",
       "      <td>there are diffuse bilateral interstitial and a...</td>\n",
       "    </tr>\n",
       "    <tr>\n",
       "      <th>4</th>\n",
       "      <td>5_IM-2117-1003002.dcm.png</td>\n",
       "      <td>5_IM-2117-1004003.dcm.png</td>\n",
       "      <td>the cardiomediastinal silhouette and pulmonary...</td>\n",
       "    </tr>\n",
       "  </tbody>\n",
       "</table>\n",
       "</div>"
      ],
      "text/plain": [
       "                     image_1                    image_2  \\\n",
       "0     1_IM-0001-4001.dcm.png     1_IM-0001-3001.dcm.png   \n",
       "1     2_IM-0652-1001.dcm.png     2_IM-0652-2001.dcm.png   \n",
       "2     3_IM-1384-1001.dcm.png     3_IM-1384-2001.dcm.png   \n",
       "3     4_IM-2050-1001.dcm.png     4_IM-2050-2001.dcm.png   \n",
       "4  5_IM-2117-1003002.dcm.png  5_IM-2117-1004003.dcm.png   \n",
       "\n",
       "                                            findings  \n",
       "0  the cardiac silhouette and mediastinum size ar...  \n",
       "1  borderline cardiomegaly midline sternotomy enl...  \n",
       "2                                                NaN  \n",
       "3  there are diffuse bilateral interstitial and a...  \n",
       "4  the cardiomediastinal silhouette and pulmonary...  "
      ]
     },
     "execution_count": 6,
     "metadata": {},
     "output_type": "execute_result"
    }
   ],
   "source": [
    "df.head()"
   ]
  },
  {
   "cell_type": "code",
   "execution_count": 7,
   "metadata": {
    "ExecuteTime": {
     "end_time": "2025-06-24T16:39:57.056050Z",
     "start_time": "2025-06-24T16:39:57.051861Z"
    },
    "colab": {
     "base_uri": "https://localhost:8080/"
    },
    "id": "PS4mf-ySTuMN",
    "outputId": "58bb3461-37f3-4905-e325-a8aaf6dee49e"
   },
   "outputs": [
    {
     "data": {
      "text/plain": [
       "(3913, 3)"
      ]
     },
     "execution_count": 7,
     "metadata": {},
     "output_type": "execute_result"
    }
   ],
   "source": [
    "df.shape"
   ]
  },
  {
   "cell_type": "markdown",
   "metadata": {
    "id": "JsNuaLISrwH2"
   },
   "source": [
    "Проверим на пустоты"
   ]
  },
  {
   "cell_type": "code",
   "execution_count": 8,
   "metadata": {
    "ExecuteTime": {
     "end_time": "2025-06-24T16:40:04.558618Z",
     "start_time": "2025-06-24T16:40:04.552620Z"
    },
    "colab": {
     "base_uri": "https://localhost:8080/"
    },
    "id": "pgIIbOwwrzcO",
    "outputId": "c5d5c9ae-187a-42c1-e4a7-df6fccaa1f09"
   },
   "outputs": [
    {
     "data": {
      "text/plain": [
       "image_1       0\n",
       "image_2       0\n",
       "findings    525\n",
       "dtype: int64"
      ]
     },
     "execution_count": 8,
     "metadata": {},
     "output_type": "execute_result"
    }
   ],
   "source": [
    "df.isnull().sum()"
   ]
  },
  {
   "cell_type": "code",
   "execution_count": 9,
   "metadata": {
    "ExecuteTime": {
     "end_time": "2025-06-24T16:40:08.076970Z",
     "start_time": "2025-06-24T16:40:08.071081Z"
    },
    "id": "qM7jOfIrr31f"
   },
   "outputs": [],
   "source": [
    "df.dropna(inplace=True)"
   ]
  },
  {
   "cell_type": "markdown",
   "metadata": {
    "id": "lXQfyskBsXhw"
   },
   "source": [
    "## Подготовим текст"
   ]
  },
  {
   "cell_type": "code",
   "execution_count": 10,
   "metadata": {
    "ExecuteTime": {
     "end_time": "2025-06-24T17:09:02.619496Z",
     "start_time": "2025-06-24T17:09:02.615391Z"
    },
    "id": "129zEBJutOIb"
   },
   "outputs": [],
   "source": [
    "df_1 = df.copy()"
   ]
  },
  {
   "cell_type": "markdown",
   "metadata": {
    "id": "CA-e3oMssefe"
   },
   "source": [
    "Добавим `<start>` & `<end>`"
   ]
  },
  {
   "cell_type": "code",
   "execution_count": 11,
   "metadata": {
    "ExecuteTime": {
     "end_time": "2025-06-24T17:09:03.029456Z",
     "start_time": "2025-06-24T17:09:03.023273Z"
    }
   },
   "outputs": [],
   "source": [
    "df_1[\"findings\"] = \"<start> \" + df_1[\"findings\"] + \" <end>\""
   ]
  },
  {
   "cell_type": "code",
   "execution_count": 12,
   "metadata": {
    "ExecuteTime": {
     "end_time": "2025-06-24T17:09:07.123845Z",
     "start_time": "2025-06-24T17:09:07.116299Z"
    },
    "colab": {
     "base_uri": "https://localhost:8080/",
     "height": 206
    },
    "id": "VEILTYx5tnda",
    "outputId": "24312e19-a0be-4816-9559-b9c4465dfa37"
   },
   "outputs": [
    {
     "data": {
      "text/html": [
       "<div>\n",
       "<style scoped>\n",
       "    .dataframe tbody tr th:only-of-type {\n",
       "        vertical-align: middle;\n",
       "    }\n",
       "\n",
       "    .dataframe tbody tr th {\n",
       "        vertical-align: top;\n",
       "    }\n",
       "\n",
       "    .dataframe thead th {\n",
       "        text-align: right;\n",
       "    }\n",
       "</style>\n",
       "<table border=\"1\" class=\"dataframe\">\n",
       "  <thead>\n",
       "    <tr style=\"text-align: right;\">\n",
       "      <th></th>\n",
       "      <th>image_1</th>\n",
       "      <th>image_2</th>\n",
       "      <th>findings</th>\n",
       "    </tr>\n",
       "  </thead>\n",
       "  <tbody>\n",
       "    <tr>\n",
       "      <th>0</th>\n",
       "      <td>1_IM-0001-4001.dcm.png</td>\n",
       "      <td>1_IM-0001-3001.dcm.png</td>\n",
       "      <td>&lt;start&gt; the cardiac silhouette and mediastinum...</td>\n",
       "    </tr>\n",
       "    <tr>\n",
       "      <th>1</th>\n",
       "      <td>2_IM-0652-1001.dcm.png</td>\n",
       "      <td>2_IM-0652-2001.dcm.png</td>\n",
       "      <td>&lt;start&gt; borderline cardiomegaly midline sterno...</td>\n",
       "    </tr>\n",
       "    <tr>\n",
       "      <th>3</th>\n",
       "      <td>4_IM-2050-1001.dcm.png</td>\n",
       "      <td>4_IM-2050-2001.dcm.png</td>\n",
       "      <td>&lt;start&gt; there are diffuse bilateral interstiti...</td>\n",
       "    </tr>\n",
       "    <tr>\n",
       "      <th>4</th>\n",
       "      <td>5_IM-2117-1003002.dcm.png</td>\n",
       "      <td>5_IM-2117-1004003.dcm.png</td>\n",
       "      <td>&lt;start&gt; the cardiomediastinal silhouette and p...</td>\n",
       "    </tr>\n",
       "    <tr>\n",
       "      <th>5</th>\n",
       "      <td>6_IM-2192-1001.dcm.png</td>\n",
       "      <td>6_IM-2192-2001.dcm.png</td>\n",
       "      <td>&lt;start&gt; heart size and mediastinal contour are...</td>\n",
       "    </tr>\n",
       "  </tbody>\n",
       "</table>\n",
       "</div>"
      ],
      "text/plain": [
       "                     image_1                    image_2  \\\n",
       "0     1_IM-0001-4001.dcm.png     1_IM-0001-3001.dcm.png   \n",
       "1     2_IM-0652-1001.dcm.png     2_IM-0652-2001.dcm.png   \n",
       "3     4_IM-2050-1001.dcm.png     4_IM-2050-2001.dcm.png   \n",
       "4  5_IM-2117-1003002.dcm.png  5_IM-2117-1004003.dcm.png   \n",
       "5     6_IM-2192-1001.dcm.png     6_IM-2192-2001.dcm.png   \n",
       "\n",
       "                                            findings  \n",
       "0  <start> the cardiac silhouette and mediastinum...  \n",
       "1  <start> borderline cardiomegaly midline sterno...  \n",
       "3  <start> there are diffuse bilateral interstiti...  \n",
       "4  <start> the cardiomediastinal silhouette and p...  \n",
       "5  <start> heart size and mediastinal contour are...  "
      ]
     },
     "execution_count": 12,
     "metadata": {},
     "output_type": "execute_result"
    }
   ],
   "source": [
    "df_1.head()"
   ]
  },
  {
   "cell_type": "markdown",
   "metadata": {
    "id": "IdPYApiyub0-"
   },
   "source": [
    "Для изображений укажем путь"
   ]
  },
  {
   "cell_type": "code",
   "execution_count": 13,
   "metadata": {
    "colab": {
     "base_uri": "https://localhost:8080/",
     "height": 292
    },
    "id": "KblWoX2auSd_",
    "jupyter": {
     "is_executing": true
    },
    "outputId": "d8feb826-62e5-4fef-9c69-f146afe6f0e4"
   },
   "outputs": [
    {
     "data": {
      "text/html": [
       "<div>\n",
       "<style scoped>\n",
       "    .dataframe tbody tr th:only-of-type {\n",
       "        vertical-align: middle;\n",
       "    }\n",
       "\n",
       "    .dataframe tbody tr th {\n",
       "        vertical-align: top;\n",
       "    }\n",
       "\n",
       "    .dataframe thead th {\n",
       "        text-align: right;\n",
       "    }\n",
       "</style>\n",
       "<table border=\"1\" class=\"dataframe\">\n",
       "  <thead>\n",
       "    <tr style=\"text-align: right;\">\n",
       "      <th></th>\n",
       "      <th>image_1</th>\n",
       "      <th>image_2</th>\n",
       "      <th>findings</th>\n",
       "    </tr>\n",
       "  </thead>\n",
       "  <tbody>\n",
       "    <tr>\n",
       "      <th>0</th>\n",
       "      <td>/kaggle/working/chest-xrays-indiana-university...</td>\n",
       "      <td>/kaggle/working/chest-xrays-indiana-university...</td>\n",
       "      <td>&lt;start&gt; the cardiac silhouette and mediastinum...</td>\n",
       "    </tr>\n",
       "    <tr>\n",
       "      <th>1</th>\n",
       "      <td>/kaggle/working/chest-xrays-indiana-university...</td>\n",
       "      <td>/kaggle/working/chest-xrays-indiana-university...</td>\n",
       "      <td>&lt;start&gt; borderline cardiomegaly midline sterno...</td>\n",
       "    </tr>\n",
       "    <tr>\n",
       "      <th>3</th>\n",
       "      <td>/kaggle/working/chest-xrays-indiana-university...</td>\n",
       "      <td>/kaggle/working/chest-xrays-indiana-university...</td>\n",
       "      <td>&lt;start&gt; there are diffuse bilateral interstiti...</td>\n",
       "    </tr>\n",
       "    <tr>\n",
       "      <th>4</th>\n",
       "      <td>/kaggle/working/chest-xrays-indiana-university...</td>\n",
       "      <td>/kaggle/working/chest-xrays-indiana-university...</td>\n",
       "      <td>&lt;start&gt; the cardiomediastinal silhouette and p...</td>\n",
       "    </tr>\n",
       "    <tr>\n",
       "      <th>5</th>\n",
       "      <td>/kaggle/working/chest-xrays-indiana-university...</td>\n",
       "      <td>/kaggle/working/chest-xrays-indiana-university...</td>\n",
       "      <td>&lt;start&gt; heart size and mediastinal contour are...</td>\n",
       "    </tr>\n",
       "  </tbody>\n",
       "</table>\n",
       "</div>"
      ],
      "text/plain": [
       "                                             image_1  \\\n",
       "0  /kaggle/working/chest-xrays-indiana-university...   \n",
       "1  /kaggle/working/chest-xrays-indiana-university...   \n",
       "3  /kaggle/working/chest-xrays-indiana-university...   \n",
       "4  /kaggle/working/chest-xrays-indiana-university...   \n",
       "5  /kaggle/working/chest-xrays-indiana-university...   \n",
       "\n",
       "                                             image_2  \\\n",
       "0  /kaggle/working/chest-xrays-indiana-university...   \n",
       "1  /kaggle/working/chest-xrays-indiana-university...   \n",
       "3  /kaggle/working/chest-xrays-indiana-university...   \n",
       "4  /kaggle/working/chest-xrays-indiana-university...   \n",
       "5  /kaggle/working/chest-xrays-indiana-university...   \n",
       "\n",
       "                                            findings  \n",
       "0  <start> the cardiac silhouette and mediastinum...  \n",
       "1  <start> borderline cardiomegaly midline sterno...  \n",
       "3  <start> there are diffuse bilateral interstiti...  \n",
       "4  <start> the cardiomediastinal silhouette and p...  \n",
       "5  <start> heart size and mediastinal contour are...  "
      ]
     },
     "execution_count": 13,
     "metadata": {},
     "output_type": "execute_result"
    }
   ],
   "source": [
    "df_1[\"image_1\"] = \"/kaggle/working/chest-xrays-indiana-university/images/images_normalized/\" + df_1[\"image_1\"]\n",
    "df_1[\"image_2\"] = \"/kaggle/working/chest-xrays-indiana-university/images/images_normalized/\" + df_1[\"image_2\"]\n",
    "\n",
    "df_1.head()"
   ]
  },
  {
   "cell_type": "markdown",
   "metadata": {
    "id": "W1QNld9pvnSw"
   },
   "source": [
    "Запишем данные из таблицы в списки"
   ]
  },
  {
   "cell_type": "code",
   "execution_count": 14,
   "metadata": {
    "colab": {
     "base_uri": "https://localhost:8080/"
    },
    "id": "YB8Ze_kTvut_",
    "outputId": "36d84279-c994-442a-cbb0-bb89045859b9"
   },
   "outputs": [
    {
     "data": {
      "application/vnd.jupyter.widget-view+json": {
       "model_id": "98dc3027f3404417873b990b7a2ccf39",
       "version_major": 2,
       "version_minor": 0
      },
      "text/plain": [
       "  0%|          | 0/3388 [00:00<?, ?it/s]"
      ]
     },
     "metadata": {},
     "output_type": "display_data"
    },
    {
     "name": "stdout",
     "output_type": "stream",
     "text": [
      "Количество пар изображений: 3388\n",
      "Количество отчетов: 3388\n",
      "Пример пары путей: ('/kaggle/working/chest-xrays-indiana-university/images/images_normalized/1_IM-0001-4001.dcm.png', '/kaggle/working/chest-xrays-indiana-university/images/images_normalized/1_IM-0001-3001.dcm.png')\n"
     ]
    }
   ],
   "source": [
    "# med_report = []\n",
    "# image_paths = []\n",
    "\n",
    "# for i in tqdm(range (0,df.shape [0])):\n",
    "#     image_paths.append(df_1.iloc[i].loc['image_1'])\n",
    "#     med_report.append(df_1.iloc[i].loc['findings'])\n",
    "#     image_paths.append(df_1.iloc[i].loc['image_2'])\n",
    "#     med_report.append(df_1.iloc[i].loc['findings'])\n",
    "\n",
    "    \n",
    "image_path_pairs = []\n",
    "med_reports = []\n",
    "df_1_reset = df_1.reset_index(drop=True) # Сбрасываем индекс для корректной итерации\n",
    "\n",
    "for i in tqdm(range(len(df_1_reset))):\n",
    "    # Создаем кортеж (пара) из путей к фронтальному и латеральному изображениям\n",
    "    frontal_path = df_1_reset.iloc[i].loc['image_1']\n",
    "    lateral_path = df_1_reset.iloc[i].loc['image_2']\n",
    "    image_path_pairs.append((frontal_path, lateral_path))\n",
    "    \n",
    "    # Добавляем соответствующий отчет\n",
    "    med_reports.append(df_1_reset.iloc[i].loc['findings'])\n",
    "\n",
    "# Проверим результат\n",
    "print(f\"Количество пар изображений: {len(image_path_pairs)}\")\n",
    "print(f\"Количество отчетов: {len(med_reports)}\")\n",
    "print(\"Пример пары путей:\", image_path_pairs[0])"
   ]
  },
  {
   "cell_type": "markdown",
   "metadata": {},
   "source": [
    "Создание списка подписей"
   ]
  },
  {
   "cell_type": "code",
   "execution_count": 15,
   "metadata": {
    "id": "NWIZ9JqBv1fd"
   },
   "outputs": [],
   "source": [
    "train_captions = []\n",
    "train_captions = med_reports"
   ]
  },
  {
   "cell_type": "markdown",
   "metadata": {
    "id": "3gIijnx_FsgL"
   },
   "source": [
    "# Создание модели"
   ]
  },
  {
   "cell_type": "markdown",
   "metadata": {
    "id": "iOq2kp-yFvNo"
   },
   "source": [
    "Используется механизм внимания с *энкодером* и *декодером*.\n",
    "\n",
    "**Энкодер** пропускает признаки изображения через полносвязный слой. **Декодер** генерирует подписи к этим признакам."
   ]
  },
  {
   "cell_type": "markdown",
   "metadata": {
    "id": "B3j1PgLrLBZf"
   },
   "source": [
    "Вместо того чтобы обучать модель с нуля, мы использовали DenseNet121 с предварительно обученными весами [CheXNet](https://www.kaggle.com/datasets/theewok/chexnet-keras-weights)"
   ]
  },
  {
   "cell_type": "code",
   "execution_count": 16,
   "metadata": {
    "id": "mfYN_uZIaXOR"
   },
   "outputs": [
    {
     "name": "stderr",
     "output_type": "stream",
     "text": [
      "2025-07-01 15:49:15.921328: E external/local_xla/xla/stream_executor/cuda/cuda_fft.cc:477] Unable to register cuFFT factory: Attempting to register factory for plugin cuFFT when one has already been registered\n",
      "WARNING: All log messages before absl::InitializeLog() is called are written to STDERR\n",
      "E0000 00:00:1751384956.079398      73 cuda_dnn.cc:8310] Unable to register cuDNN factory: Attempting to register factory for plugin cuDNN when one has already been registered\n",
      "E0000 00:00:1751384956.126168      73 cuda_blas.cc:1418] Unable to register cuBLAS factory: Attempting to register factory for plugin cuBLAS when one has already been registered\n"
     ]
    }
   ],
   "source": [
    "import tensorflow as tf"
   ]
  },
  {
   "cell_type": "code",
   "execution_count": null,
   "metadata": {
    "colab": {
     "base_uri": "https://localhost:8080/"
    },
    "id": "omnjchdDLMLn",
    "outputId": "0cfcd7d4-9f51-4b2a-b258-76e808034f41"
   },
   "outputs": [],
   "source": [
    "CHEXNET_WEIGHTS = \"\"\"/kaggle/input/chexnet-weights/brucechou1983_CheXNet_Keras_0.3.0_weights.h5\"\"\""
   ]
  },
  {
   "cell_type": "markdown",
   "metadata": {
    "id": "P5Og6JMfMHKA"
   },
   "source": [
    "___"
   ]
  },
  {
   "cell_type": "markdown",
   "metadata": {
    "id": "yx_nxSQNZpdb"
   },
   "source": [
    "<h1> Подготовка модели"
   ]
  },
  {
   "cell_type": "code",
   "execution_count": 20,
   "metadata": {
    "colab": {
     "base_uri": "https://localhost:8080/"
    },
    "id": "5V0tQ1kgXbE1",
    "outputId": "8241b311-fc3d-4db6-afb8-0ad52ff9a3e5"
   },
   "outputs": [
    {
     "name": "stdout",
     "output_type": "stream",
     "text": [
      "Форма выхода из image_features_extract_model: (1, 9, 9, 1024)\n"
     ]
    }
   ],
   "source": [
    "# Шаг 1: Загружаем ПОЛНУЮ модель DenseNet121, так как веса CheXNet предназначены для неё.\n",
    "# include_top=True гарантирует, что количество слоев будет совпадать с файлом весов.\n",
    "full_chexnet_model = tf.keras.applications.densenet.DenseNet121(\n",
    "    include_top=True,\n",
    "    weights=CHEXNET_WEIGHTS, # Теперь загрузка весов пройдет успешно\n",
    "    input_shape=(299, 299, 3),\n",
    "    classes=14 # Указываем количество классов, как в CheXNet\n",
    ")\n",
    "\n",
    "# Шаг 2: Теперь, когда веса загружены, мы можем \"отрезать\" ненужные слои, чтобы получить карту признаков.\n",
    "# Мы возьмем выход слоя перед GlobalAveragePooling2D. В стандартной архитектуре DenseNet121 это слой с именем 'relu'.\n",
    "# Давайте найдем его имя, чтобы сделать код надежнее.\n",
    "# full_chexnet_model.summary() # Можете раскомментировать, чтобы увидеть все имена слоев\n",
    "\n",
    "# Слой, который нам нужен, находится перед 'avg_pool' (GlobalAveragePooling2D)\n",
    "feature_map_output = full_chexnet_model.get_layer('relu').output \n",
    "new_input = full_chexnet_model.input\n",
    "\n",
    "# Шаг 3: Создаем новую модель, которая будет нашим извлекателем признаков.\n",
    "# Она будет иметь те же входы и веса, что и полная модель, но другой выход.\n",
    "image_features_extract_model = tf.keras.Model(inputs=new_input, outputs=feature_map_output)\n",
    "\n",
    "# Давайте снова проверим форму выхода, чтобы убедиться, что все правильно.\n",
    "test_input = tf.random.uniform((1, 299, 299, 3))\n",
    "test_output = image_features_extract_model(test_input)\n",
    "print(f\"Форма выхода из image_features_extract_model: {test_output.shape}\")\n",
    "# Ожидаемый вывод: (1, 9, 9, 1024) или что-то очень похожее, например (1, 9, 9, 1024)"
   ]
  },
  {
   "cell_type": "markdown",
   "metadata": {},
   "source": [
    "# Функция загрузки изображения"
   ]
  },
  {
   "cell_type": "code",
   "execution_count": 21,
   "metadata": {
    "id": "lqGOtnz_b_t5"
   },
   "outputs": [],
   "source": [
    "def load_image(image_path):\n",
    "    # 1) Читаем файл и декодируем JPEG в uint8\n",
    "    img = tf.io.read_file(image_path)\n",
    "    img = tf.io.decode_jpeg(img, channels=3)\n",
    "\n",
    "    # 2) Изменяем размер (по-прежнему uint8)\n",
    "    img = tf.keras.layers.Resizing(299, 299)(img)\n",
    "\n",
    "    # 3) Кастим в float32, чтобы preprocess_input сработал корректно\n",
    "    img = tf.cast(img, tf.float32)\n",
    "\n",
    "    # 4) Нормализуем под InceptionV3: (0–255) → (–1 … +1)\n",
    "    img = tf.keras.applications.densenet.preprocess_input(img)\n",
    "\n",
    "    return img, image_path"
   ]
  },
  {
   "cell_type": "markdown",
   "metadata": {
    "id": "aEtd42H_eNJI"
   },
   "source": [
    "# Извлечение и сохранение объединенных признаков"
   ]
  },
  {
   "cell_type": "code",
   "execution_count": 22,
   "metadata": {
    "colab": {
     "base_uri": "https://localhost:8080/"
    },
    "id": "BxKT7gb7eUm2",
    "outputId": "73856141-9ddc-4e5c-f11b-1f793d8d370e"
   },
   "outputs": [
    {
     "name": "stdout",
     "output_type": "stream",
     "text": [
      "Извлекаем признаки из 3388 уникальных пар изображений.\n"
     ]
    },
    {
     "data": {
      "application/vnd.jupyter.widget-view+json": {
       "model_id": "f132777d4908438985459b2784422341",
       "version_major": 2,
       "version_minor": 0
      },
      "text/plain": [
       "  0%|          | 0/3388 [00:00<?, ?it/s]"
      ]
     },
     "metadata": {},
     "output_type": "display_data"
    }
   ],
   "source": [
    "# Получаем уникальные пары путей\n",
    "encode_train_pairs = sorted(list(set(image_path_pairs)))\n",
    "\n",
    "print(f\"Извлекаем признаки из {len(encode_train_pairs)} уникальных пар изображений.\")\n",
    "\n",
    "for img_path_1, img_path_2 in tqdm(encode_train_pairs):\n",
    "    # Загружаем и извлекаем признаки для первого изображения\n",
    "    # load_image возвращает img, path. Нам нужен только img [0]\n",
    "    img_tensor_1 = tf.expand_dims(load_image(img_path_1)[0], 0)\n",
    "    features_1 = image_features_extract_model(img_tensor_1)\n",
    "\n",
    "    # Загружаем и извлекаем признаки для второго изображения\n",
    "    img_tensor_2 = tf.expand_dims(load_image(img_path_2)[0], 0)\n",
    "    features_2 = image_features_extract_model(img_tensor_2)\n",
    "    \n",
    "    # ИЗМЕНЕНИЕ: Reshape признаков перед конкатенацией\n",
    "    # Форма features_1: (1, 9, 9, 1024). Нужно -> (1, 81, 1024)\n",
    "    features_1_reshaped = tf.reshape(features_1, (features_1.shape[0], -1, features_1.shape[3]))\n",
    "    features_2_reshaped = tf.reshape(features_2, (features_2.shape[0], -1, features_2.shape[3]))\n",
    "    \n",
    "    # Объединяем (конкатенируем) признаки.\n",
    "    # Это ключевой момент: мы \"склеиваем\" информацию от двух изображений.\n",
    "    # Форма каждого: (1, 81, 1024). После конкатенации по последней оси: (1, 81, 2048)\n",
    "    combined_features = tf.concat([features_1_reshaped, features_2_reshaped], axis=-1)\n",
    "\n",
    "    # Приводим к нужной форме для сохранения (убираем измерение батча)\n",
    "    combined_features_final = tf.reshape(combined_features, (combined_features.shape[1], combined_features.shape[2]))\n",
    "\n",
    "    # Сохраняем объединенные признаки. Используем путь к фронтальному снимку как ключ.\n",
    "    path_of_feature = img_path_1\n",
    "    np.save(path_of_feature, combined_features_final.numpy())"
   ]
  },
  {
   "cell_type": "markdown",
   "metadata": {},
   "source": [
    "# Токенизация и создание выборок"
   ]
  },
  {
   "cell_type": "markdown",
   "metadata": {},
   "source": [
    "Токенизация текста"
   ]
  },
  {
   "cell_type": "code",
   "execution_count": 23,
   "metadata": {
    "id": "DObUi_4Qsnwx"
   },
   "outputs": [],
   "source": [
    "caption_dataset = tf.data.Dataset.from_tensor_slices(train_captions)\n",
    "\n",
    "max_length = 100\n",
    "vocabulary_size = 9000\n",
    "\n",
    "tokenizer = tf.keras.layers.TextVectorization(\n",
    "    max_tokens=vocabulary_size,\n",
    "    output_sequence_length=max_length\n",
    ")\n",
    "\n",
    "tokenizer.adapt(caption_dataset)"
   ]
  },
  {
   "cell_type": "markdown",
   "metadata": {},
   "source": [
    "Векторизация полей"
   ]
  },
  {
   "cell_type": "code",
   "execution_count": 24,
   "metadata": {
    "id": "SI4D-JR8vHtR"
   },
   "outputs": [],
   "source": [
    "cap_vector = caption_dataset.map(lambda x: tokenizer(x))"
   ]
  },
  {
   "cell_type": "markdown",
   "metadata": {
    "id": "fPYJ7hXlv8JL"
   },
   "source": [
    "Создание словарей"
   ]
  },
  {
   "cell_type": "code",
   "execution_count": 25,
   "metadata": {
    "id": "u73VQ7FgvUcO"
   },
   "outputs": [],
   "source": [
    "word_to_index = tf.keras.layers.StringLookup(\n",
    "    mask_token=\"\",\n",
    "    vocabulary=tokenizer.get_vocabulary())\n",
    "\n",
    "index_to_word = tf.keras.layers.StringLookup(\n",
    "    mask_token=\"\",\n",
    "    vocabulary=tokenizer.get_vocabulary(),\n",
    "    invert=True)"
   ]
  },
  {
   "cell_type": "markdown",
   "metadata": {
    "id": "tO3ypmgiwIi5"
   },
   "source": [
    "Разделение данных на train & test выборки"
   ]
  },
  {
   "cell_type": "code",
   "execution_count": 26,
   "metadata": {
    "id": "n3IWUpnTwQUA"
   },
   "outputs": [],
   "source": [
    "import collections\n",
    "import random"
   ]
  },
  {
   "cell_type": "code",
   "execution_count": 27,
   "metadata": {
    "id": "3kE3MCEUwHX9"
   },
   "outputs": [],
   "source": [
    "img_to_cap_vector = collections.defaultdict(list)\n",
    "# Ключом является кортеж из двух путей\n",
    "for img_pair, cap in zip(image_path_pairs, cap_vector):\n",
    "    img_to_cap_vector[img_pair].append(cap)\n",
    "\n",
    "# Создаем обучающую и валидационную выборки\n",
    "img_keys = list(img_to_cap_vector.keys())\n",
    "random.shuffle(img_keys)\n",
    "\n",
    "slice_index = int(len(img_keys) * 0.8)\n",
    "img_name_train_keys, img_name_val_keys = img_keys[:slice_index], img_keys[slice_index:]\n",
    "\n",
    "# Для обучающей выборки\n",
    "img_name_train = []\n",
    "cap_train = []\n",
    "for imgt_pair in img_name_train_keys:\n",
    "    capt_len = len(img_to_cap_vector[imgt_pair])\n",
    "    img_name_train.extend([imgt_pair] * capt_len)\n",
    "    cap_train.extend(img_to_cap_vector[imgt_pair])\n",
    "\n",
    "# Для валидационной выборки\n",
    "img_name_val = []\n",
    "cap_val = []\n",
    "for imgv_pair in img_name_val_keys:\n",
    "    capv_len = len(img_to_cap_vector[imgv_pair])\n",
    "    img_name_val.extend([imgv_pair] * capv_len)\n",
    "    cap_val.extend(img_to_cap_vector[imgv_pair])"
   ]
  },
  {
   "cell_type": "code",
   "execution_count": 28,
   "metadata": {
    "colab": {
     "base_uri": "https://localhost:8080/"
    },
    "id": "6hJUNbxjw4WB",
    "outputId": "a92f1778-dceb-42d5-c607-72b2f1fb324a"
   },
   "outputs": [
    {
     "data": {
      "text/plain": [
       "(2710, 2710, 678, 678)"
      ]
     },
     "execution_count": 28,
     "metadata": {},
     "output_type": "execute_result"
    }
   ],
   "source": [
    "len(img_name_train), len(cap_train), len(img_name_val), len(cap_val)"
   ]
  },
  {
   "cell_type": "markdown",
   "metadata": {
    "id": "gYoU13D_w_GN"
   },
   "source": [
    "# Создание конвейера данных tf.data"
   ]
  },
  {
   "cell_type": "code",
   "execution_count": 29,
   "metadata": {
    "id": "Hn4q1qv3w8N2"
   },
   "outputs": [],
   "source": [
    "batch_size = 64\n",
    "buffer_size = 1000\n",
    "embedding_dim = 512\n",
    "units = 1024\n",
    "num_steps = len(img_name_train) // batch_size\n",
    "# ИЗМЕНЕНО: теперь у нас 2048 признаков (1024 + 1024)\n",
    "features_shape = 2048 \n",
    "# ИЗМЕНЕНО: теперь у нас 81 вектор в последовательности (9*9)\n",
    "attention_features_shape = 81"
   ]
  },
  {
   "cell_type": "markdown",
   "metadata": {
    "id": "QKHNor89xeId"
   },
   "source": [
    "Загрузка numpy файлов"
   ]
  },
  {
   "cell_type": "code",
   "execution_count": 30,
   "metadata": {
    "id": "OqrGZ0O5xbWr"
   },
   "outputs": [],
   "source": [
    "def map_func(img_name_1, cap):\n",
    "    # Загружаем объединенные признаки по имени первого (фронтального) файла\n",
    "    img_tensor = np.load(img_name_1.decode('utf-8') + '.npy')\n",
    "    return img_tensor, cap"
   ]
  },
  {
   "cell_type": "code",
   "execution_count": 31,
   "metadata": {
    "id": "KlnhPjxqxo7j"
   },
   "outputs": [],
   "source": [
    "# Разделяем пары путей на два отдельных списка\n",
    "img1_train_paths, _ = zip(*img_name_train) # Второй список нам не нужен\n",
    "\n",
    "# Создаем датасет. Передаем только путь к первому изображению, т.к. по нему сохранен .npy\n",
    "dataset = tf.data.Dataset.from_tensor_slices((list(img1_train_paths), cap_train))\n",
    "\n",
    "# Используем map для загрузки .npy файлов\n",
    "dataset = dataset.map(lambda item1, item2: tf.numpy_function(\n",
    "          map_func, [item1, item2], [tf.float32, tf.int64]),\n",
    "          num_parallel_calls=tf.data.AUTOTUNE)\n",
    "\n",
    "# Перемешивание и батчинг\n",
    "dataset = dataset.shuffle(buffer_size).batch(batch_size)\n",
    "dataset = dataset.prefetch(buffer_size=tf.data.AUTOTUNE)"
   ]
  },
  {
   "cell_type": "markdown",
   "metadata": {
    "id": "yjUSu2iayF8S"
   },
   "source": [
    "<h1> Создание модели"
   ]
  },
  {
   "cell_type": "code",
   "execution_count": 123,
   "metadata": {
    "id": "tdmIsuZwyBZ9"
   },
   "outputs": [],
   "source": [
    "class CustomAttention(tf.keras.layers.Layer):\n",
    "    def __init__(self, units, **kwargs):\n",
    "        super().__init__(**kwargs)\n",
    "        self.W1 = tf.keras.layers.Dense(units)\n",
    "        self.W2 = tf.keras.layers.Dense(units)\n",
    "        self.V = tf.keras.layers.Dense(1)\n",
    "\n",
    "    def call(self, features, hidden):\n",
    "        hidden_with_time_axis = tf.expand_dims(hidden, 1)\n",
    "        attention_hidden_layer = (tf.nn.tanh(self.W1(features) + self.W2(hidden_with_time_axis)))\n",
    "        score = self.V(attention_hidden_layer)\n",
    "        attention_weights = tf.nn.softmax(score, axis=1)\n",
    "        context_vector = attention_weights * features\n",
    "        context_vector = tf.reduce_sum(context_vector, axis=1)\n",
    "        return context_vector, attention_weights"
   ]
  },
  {
   "cell_type": "code",
   "execution_count": 124,
   "metadata": {
    "id": "GHbyrS2Eyc4w"
   },
   "outputs": [],
   "source": [
    "class CNN_Encoder(tf.keras.layers.Layer):\n",
    "    def __init__(self, embedding_dim, **kwargs):\n",
    "        super().__init__(**kwargs)\n",
    "        self.fc = tf.keras.layers.Dense(embedding_dim, activation='relu')\n",
    "\n",
    "    def call(self, x):\n",
    "        return self.fc(x)"
   ]
  },
  {
   "cell_type": "code",
   "execution_count": 125,
   "metadata": {
    "id": "Pc0KtMq9y1v7"
   },
   "outputs": [],
   "source": [
    "class RNN_Decoder(tf.keras.layers.Layer):\n",
    "    def __init__(self, embedding_dim, units, vocab_size, **kwargs):\n",
    "        super().__init__(**kwargs)\n",
    "        self.units = units\n",
    "        self.embedding = tf.keras.layers.Embedding(vocab_size, embedding_dim)\n",
    "        self.gru = tf.keras.layers.GRU(self.units,\n",
    "                                     return_sequences=True,\n",
    "                                     return_state=True,\n",
    "                                     recurrent_initializer='glorot_uniform')\n",
    "        self.fc1 = tf.keras.layers.Dense(self.units)\n",
    "        self.fc2 = tf.keras.layers.Dense(vocab_size)\n",
    "        self.attention = CustomAttention(self.units)\n",
    "\n",
    "    def call(self, x, features, hidden):\n",
    "        context_vector, attention_weights = self.attention(features, hidden)\n",
    "        x = self.embedding(x)\n",
    "        x = tf.concat([tf.expand_dims(context_vector, 1), x], axis=-1)\n",
    "        output, state = self.gru(x, initial_state=hidden)\n",
    "        x = self.fc1(output)\n",
    "        x = tf.reshape(x, (-1, x.shape[2]))\n",
    "        x = self.fc2(x)\n",
    "        return x, state, attention_weights\n",
    "        \n",
    "    def reset_state(self, batch_size):\n",
    "        return tf.zeros((batch_size, self.units))"
   ]
  },
  {
   "cell_type": "code",
   "execution_count": 142,
   "metadata": {},
   "outputs": [],
   "source": [
    "class ImageCaptioningModel(tf.keras.Model):\n",
    "    def __init__(self, encoder, decoder, **kwargs):\n",
    "        super().__init__(**kwargs)\n",
    "        self.encoder = encoder\n",
    "        self.decoder = decoder\n",
    "        self.loss_tracker = tf.keras.metrics.Mean(name=\"loss\")\n",
    "        # Добавьте другие метрики, если нужно, например, self.accuracy_tracker\n",
    "    \n",
    "    @property\n",
    "    def metrics(self):\n",
    "        return [self.loss_tracker]\n",
    "\n",
    "    def train_step(self, data):\n",
    "        img_tensor, target = data\n",
    "        \n",
    "        loss = tf.constant(0.0)\n",
    "        \n",
    "        # 1. Получаем размер батча динамически\n",
    "        batch_size = tf.shape(target)[0]\n",
    "        \n",
    "        # 2. Используем его для сброса состояния\n",
    "        hidden = self.decoder.reset_state(batch_size=batch_size)\n",
    "        \n",
    "        # 3. ИСПОЛЬЗУЕМ ЕГО ЖЕ для создания начального входа\n",
    "        dec_input = tf.expand_dims([word_to_index('<start>')] * batch_size, 1)\n",
    "\n",
    "        with tf.GradientTape() as tape:\n",
    "            features = self.encoder(img_tensor)\n",
    "\n",
    "            for i in range(1, target.shape[1]):\n",
    "                predictions, hidden, _ = self.decoder(dec_input, features, hidden)\n",
    "                \n",
    "                mask = tf.math.logical_not(tf.math.equal(target[:, i], 0))\n",
    "                step_loss = loss_object(target[:, i], predictions)\n",
    "                mask = tf.cast(mask, dtype=step_loss.dtype)\n",
    "                step_loss *= mask\n",
    "                \n",
    "                loss += tf.reduce_sum(step_loss)\n",
    "                \n",
    "                # Teacher forcing\n",
    "                dec_input = tf.expand_dims(target[:, i], 1)\n",
    "\n",
    "        # Используем tf.cast, чтобы избежать проблем с типами\n",
    "        num_tokens = tf.cast(tf.reduce_sum(tf.cast(target != 0, tf.int32)), tf.float32)\n",
    "        total_loss = tf.math.divide_no_nan(loss, num_tokens)\n",
    "\n",
    "        trainable_vars = self.encoder.trainable_variables + self.decoder.trainable_variables\n",
    "        gradients = tape.gradient(loss, trainable_vars)\n",
    "        self.optimizer.apply_gradients(zip(trainable_vars, gradients))\n",
    "        \n",
    "        self.loss_tracker.update_state(total_loss)\n",
    "\n",
    "        return {\"loss\": self.loss_tracker.result()}"
   ]
  },
  {
   "cell_type": "code",
   "execution_count": 143,
   "metadata": {
    "id": "qWOqtIery_e4"
   },
   "outputs": [],
   "source": [
    "# 1. Создаем экземпляры энкодера и декодера\n",
    "encoder = CNN_Encoder(embedding_dim)\n",
    "decoder = RNN_Decoder(embedding_dim, units, tokenizer.vocabulary_size())\n",
    "\n",
    "# 2. Создаем экземпляр нашей главной модели\n",
    "captioning_model = ImageCaptioningModel(encoder=encoder, decoder=decoder)\n",
    "\n",
    "# 3. Компилируем модель, указывая оптимизатор\n",
    "captioning_model.compile(\n",
    "    optimizer=tf.keras.optimizers.Adam()\n",
    ")\n",
    "\n",
    "# 4. (Опционально) Восстанавливаем чекпоинт, если он есть\n",
    "# checkpoint_path = \"/kaggle/working/\"\n",
    "# ckpt = tf.train.Checkpoint(model=captioning_model, optimizer=captioning_model.optimizer)\n",
    "# ckpt_manager = tf.train.CheckpointManager(ckpt, checkpoint_path, max_to_keep=5)\n",
    "# if ckpt_manager.latest_checkpoint:\n",
    "#     ckpt.restore(ckpt_manager.latest_checkpoint)\n",
    "#     print(\"Восстановлен последний чекпоинт.\")\n",
    "\n",
    "# 5. Создаем колбэк для сохранения модели\n",
    "checkpoint_callback = tf.keras.callbacks.ModelCheckpoint(\n",
    "    filepath=\"/kaggle/working/checkpoints/train/.weights.h5\",\n",
    "    save_weights_only=True,\n",
    "    save_best_only=True,\n",
    "    monitor='loss',\n",
    "    mode='min',\n",
    "    verbose=1\n",
    ")"
   ]
  },
  {
   "cell_type": "code",
   "execution_count": 144,
   "metadata": {
    "id": "78pTeZzDy_w2"
   },
   "outputs": [],
   "source": [
    "# optimizer = tf.keras.optimizers.Adam()\n",
    "# loss_object = tf.keras.losses.SparseCategoricalCrossentropy(from_logits=True,\n",
    "#                                                             reduction='none')"
   ]
  },
  {
   "cell_type": "code",
   "execution_count": 145,
   "metadata": {
    "id": "qf03YElAzEft"
   },
   "outputs": [],
   "source": [
    "# def loss_function(real, pred):\n",
    "#     mask = tf.math.logical_not(tf.math.equal(real, 0))\n",
    "#     loss_ = loss_object(real, pred)\n",
    "\n",
    "#     mask = tf.cast(mask, dtype=loss_.dtype)\n",
    "#     loss_ *= mask\n",
    "\n",
    "#     return tf.reduce_mean(loss_)"
   ]
  },
  {
   "cell_type": "code",
   "execution_count": 146,
   "metadata": {
    "id": "ADMoKNvwzH6m"
   },
   "outputs": [],
   "source": [
    "# checkpoint_path = \"/kaggle/working/\"\n",
    "\n",
    "# ckpt = tf.train.Checkpoint(encoder=encoder,\n",
    "#                            decoder=decoder,\n",
    "#                            optimizer=optimizer)\n",
    "\n",
    "# ckpt_manager = tf.train.CheckpointManager(ckpt, checkpoint_path, max_to_keep=5)"
   ]
  },
  {
   "cell_type": "code",
   "execution_count": 147,
   "metadata": {
    "id": "Q91F8vVI2G_A"
   },
   "outputs": [],
   "source": [
    "# start_epoch = 0\n",
    "# if ckpt_manager.latest_checkpoint:\n",
    "#     start_epoch = int(ckpt_manager.latest_checkpoint.split('-')[-1])\n",
    "#     ckpt.restore(ckpt_manager.latest_checkpoint)"
   ]
  },
  {
   "cell_type": "markdown",
   "metadata": {
    "id": "9-E0xlqczk1G"
   },
   "source": [
    "<h2> Обучение"
   ]
  },
  {
   "cell_type": "code",
   "execution_count": 148,
   "metadata": {
    "id": "Nw2u5TpOzh9a"
   },
   "outputs": [],
   "source": [
    "# loss_plot = []"
   ]
  },
  {
   "cell_type": "code",
   "execution_count": 149,
   "metadata": {
    "id": "DYTFqfyozofV"
   },
   "outputs": [],
   "source": [
    "# @tf.function # Возвращаем декоратор для скорости!\n",
    "# def train_step(img_tensor, target):\n",
    "#     loss = 0\n",
    "#     hidden = decoder.reset_state(batch_size=target.shape[0])\n",
    "#     dec_input = tf.expand_dims([word_to_index('<start>')] * target.shape[0], 1)\n",
    "\n",
    "#     with tf.GradientTape() as tape:\n",
    "#         features = encoder(img_tensor)\n",
    "\n",
    "#         for i in range(1, target.shape[1]):\n",
    "#             # ИСПРАВЛЕНО: Распаковываем в 3 переменные, игнорируя последнюю\n",
    "#             predictions, hidden, _ = decoder(dec_input, features, hidden)\n",
    "            \n",
    "#             loss += loss_function(target[:, i], predictions)\n",
    "            \n",
    "#             dec_input = tf.expand_dims(target[:, i], 1)\n",
    "\n",
    "#     total_loss = (loss / int(target.shape[1]))\n",
    "    \n",
    "#     trainable_variables = encoder.trainable_variables + decoder.trainable_variables\n",
    "#     gradients = tape.gradient(loss, trainable_variables)\n",
    "#     optimizer.apply_gradients(zip(gradients, trainable_variables))\n",
    "\n",
    "#     return loss, total_loss"
   ]
  },
  {
   "cell_type": "markdown",
   "metadata": {
    "id": "BbNfo2BP1pZZ"
   },
   "source": [
    "<h3>5 эпох"
   ]
  },
  {
   "cell_type": "code",
   "execution_count": 150,
   "metadata": {
    "id": "jIQMPOcc2dzj"
   },
   "outputs": [],
   "source": [
    "import time\n",
    "import matplotlib.pyplot as plt"
   ]
  },
  {
   "cell_type": "code",
   "execution_count": 151,
   "metadata": {},
   "outputs": [
    {
     "name": "stdout",
     "output_type": "stream",
     "text": [
      "Epoch 1/5\n"
     ]
    },
    {
     "ename": "ValueError",
     "evalue": "as_list() is not defined on an unknown TensorShape.",
     "output_type": "error",
     "traceback": [
      "\u001b[0;31m---------------------------------------------------------------------------\u001b[0m",
      "\u001b[0;31mValueError\u001b[0m                                Traceback (most recent call last)",
      "\u001b[0;32m/tmp/ipykernel_73/2288354859.py\u001b[0m in \u001b[0;36m<cell line: 0>\u001b[0;34m()\u001b[0m\n\u001b[1;32m      1\u001b[0m \u001b[0mEPOCHS\u001b[0m \u001b[0;34m=\u001b[0m \u001b[0;36m5\u001b[0m\u001b[0;34m\u001b[0m\u001b[0;34m\u001b[0m\u001b[0m\n\u001b[1;32m      2\u001b[0m \u001b[0;34m\u001b[0m\u001b[0m\n\u001b[0;32m----> 3\u001b[0;31m history = captioning_model.fit(\n\u001b[0m\u001b[1;32m      4\u001b[0m     \u001b[0mdataset\u001b[0m\u001b[0;34m,\u001b[0m\u001b[0;34m\u001b[0m\u001b[0;34m\u001b[0m\u001b[0m\n\u001b[1;32m      5\u001b[0m     \u001b[0mepochs\u001b[0m\u001b[0;34m=\u001b[0m\u001b[0mEPOCHS\u001b[0m\u001b[0;34m,\u001b[0m\u001b[0;34m\u001b[0m\u001b[0;34m\u001b[0m\u001b[0m\n",
      "\u001b[0;32m/usr/local/lib/python3.11/dist-packages/keras/src/utils/traceback_utils.py\u001b[0m in \u001b[0;36merror_handler\u001b[0;34m(*args, **kwargs)\u001b[0m\n\u001b[1;32m    120\u001b[0m             \u001b[0;31m# To get the full stack trace, call:\u001b[0m\u001b[0;34m\u001b[0m\u001b[0;34m\u001b[0m\u001b[0m\n\u001b[1;32m    121\u001b[0m             \u001b[0;31m# `keras.config.disable_traceback_filtering()`\u001b[0m\u001b[0;34m\u001b[0m\u001b[0;34m\u001b[0m\u001b[0m\n\u001b[0;32m--> 122\u001b[0;31m             \u001b[0;32mraise\u001b[0m \u001b[0me\u001b[0m\u001b[0;34m.\u001b[0m\u001b[0mwith_traceback\u001b[0m\u001b[0;34m(\u001b[0m\u001b[0mfiltered_tb\u001b[0m\u001b[0;34m)\u001b[0m \u001b[0;32mfrom\u001b[0m \u001b[0;32mNone\u001b[0m\u001b[0;34m\u001b[0m\u001b[0;34m\u001b[0m\u001b[0m\n\u001b[0m\u001b[1;32m    123\u001b[0m         \u001b[0;32mfinally\u001b[0m\u001b[0;34m:\u001b[0m\u001b[0;34m\u001b[0m\u001b[0;34m\u001b[0m\u001b[0m\n\u001b[1;32m    124\u001b[0m             \u001b[0;32mdel\u001b[0m \u001b[0mfiltered_tb\u001b[0m\u001b[0;34m\u001b[0m\u001b[0;34m\u001b[0m\u001b[0m\n",
      "\u001b[0;32m/tmp/ipykernel_73/4237073647.py\u001b[0m in \u001b[0;36mtrain_step\u001b[0;34m(self, data)\u001b[0m\n\u001b[1;32m     26\u001b[0m \u001b[0;34m\u001b[0m\u001b[0m\n\u001b[1;32m     27\u001b[0m         \u001b[0;32mwith\u001b[0m \u001b[0mtf\u001b[0m\u001b[0;34m.\u001b[0m\u001b[0mGradientTape\u001b[0m\u001b[0;34m(\u001b[0m\u001b[0;34m)\u001b[0m \u001b[0;32mas\u001b[0m \u001b[0mtape\u001b[0m\u001b[0;34m:\u001b[0m\u001b[0;34m\u001b[0m\u001b[0;34m\u001b[0m\u001b[0m\n\u001b[0;32m---> 28\u001b[0;31m             \u001b[0mfeatures\u001b[0m \u001b[0;34m=\u001b[0m \u001b[0mself\u001b[0m\u001b[0;34m.\u001b[0m\u001b[0mencoder\u001b[0m\u001b[0;34m(\u001b[0m\u001b[0mimg_tensor\u001b[0m\u001b[0;34m)\u001b[0m\u001b[0;34m\u001b[0m\u001b[0;34m\u001b[0m\u001b[0m\n\u001b[0m\u001b[1;32m     29\u001b[0m \u001b[0;34m\u001b[0m\u001b[0m\n\u001b[1;32m     30\u001b[0m             \u001b[0;32mfor\u001b[0m \u001b[0mi\u001b[0m \u001b[0;32min\u001b[0m \u001b[0mrange\u001b[0m\u001b[0;34m(\u001b[0m\u001b[0;36m1\u001b[0m\u001b[0;34m,\u001b[0m \u001b[0mtarget\u001b[0m\u001b[0;34m.\u001b[0m\u001b[0mshape\u001b[0m\u001b[0;34m[\u001b[0m\u001b[0;36m1\u001b[0m\u001b[0;34m]\u001b[0m\u001b[0;34m)\u001b[0m\u001b[0;34m:\u001b[0m\u001b[0;34m\u001b[0m\u001b[0;34m\u001b[0m\u001b[0m\n",
      "\u001b[0;31mValueError\u001b[0m: as_list() is not defined on an unknown TensorShape."
     ]
    }
   ],
   "source": [
    "EPOCHS = 5\n",
    "\n",
    "history = captioning_model.fit(\n",
    "    dataset,\n",
    "    epochs=EPOCHS,\n",
    "    callbacks=[checkpoint_callback]\n",
    ")\n",
    "\n",
    "# Теперь можно построить график потерь из объекта history\n",
    "plt.plot(history.history['loss'])\n",
    "plt.title('Model Loss')\n",
    "plt.ylabel('Loss')\n",
    "plt.xlabel('Epoch')\n",
    "plt.show()"
   ]
  },
  {
   "cell_type": "code",
   "execution_count": null,
   "metadata": {},
   "outputs": [
    {
     "ename": "OperatorNotAllowedInGraphError",
     "evalue": "in user code:\n\n    File \"/tmp/ipykernel_73/3788556810.py\", line 12, in train_step  *\n        predictions, hidden, _ = decoder(dec_input, features, hidden)\n    File \"/usr/local/lib/python3.11/dist-packages/keras/src/utils/traceback_utils.py\", line 122, in error_handler  **\n        raise e.with_traceback(filtered_tb) from None\n    File \"/tmp/ipykernel_73/1157247805.py\", line 20, in call\n        output, state = self.gru(x, initial_state=hidden)\n\n    OperatorNotAllowedInGraphError: Exception encountered when calling GRU.call().\n    \n    \u001b[1mIterating over a symbolic `tf.Tensor` is not allowed. You can attempt the following resolutions to the problem: If you are running in Graph mode, use Eager execution mode or decorate this function with @tf.function. If you are using AutoGraph, you can try decorating this function with @tf.function. If that does not work, then you may be using an unsupported feature or your source code may not be visible to AutoGraph. See https://github.com/tensorflow/tensorflow/blob/master/tensorflow/python/autograph/g3doc/reference/limitations.md#access-to-source-code for more information.\u001b[0m\n    \n    Arguments received by GRU.call():\n      • sequences=tf.Tensor(shape=(64, 1, 1024), dtype=float32)\n      • initial_state=tf.Tensor(shape=(64, 1024), dtype=float32)\n      • mask=None\n      • training=False\n",
     "output_type": "error",
     "traceback": [
      "\u001b[0;31m---------------------------------------------------------------------------\u001b[0m",
      "\u001b[0;31mOperatorNotAllowedInGraphError\u001b[0m            Traceback (most recent call last)",
      "\u001b[0;32m/tmp/ipykernel_73/1961439467.py\u001b[0m in \u001b[0;36m<cell line: 0>\u001b[0;34m()\u001b[0m\n\u001b[1;32m      6\u001b[0m \u001b[0;34m\u001b[0m\u001b[0m\n\u001b[1;32m      7\u001b[0m     \u001b[0;32mfor\u001b[0m \u001b[0;34m(\u001b[0m\u001b[0mbatch\u001b[0m\u001b[0;34m,\u001b[0m \u001b[0;34m(\u001b[0m\u001b[0mimg_tensor\u001b[0m\u001b[0;34m,\u001b[0m \u001b[0mtarget\u001b[0m\u001b[0;34m)\u001b[0m\u001b[0;34m)\u001b[0m \u001b[0;32min\u001b[0m \u001b[0menumerate\u001b[0m\u001b[0;34m(\u001b[0m\u001b[0mdataset\u001b[0m\u001b[0;34m)\u001b[0m\u001b[0;34m:\u001b[0m\u001b[0;34m\u001b[0m\u001b[0;34m\u001b[0m\u001b[0m\n\u001b[0;32m----> 8\u001b[0;31m         \u001b[0mbatch_loss\u001b[0m\u001b[0;34m,\u001b[0m \u001b[0mt_loss\u001b[0m \u001b[0;34m=\u001b[0m \u001b[0mtrain_step\u001b[0m\u001b[0;34m(\u001b[0m\u001b[0mimg_tensor\u001b[0m\u001b[0;34m,\u001b[0m \u001b[0mtarget\u001b[0m\u001b[0;34m)\u001b[0m\u001b[0;34m\u001b[0m\u001b[0;34m\u001b[0m\u001b[0m\n\u001b[0m\u001b[1;32m      9\u001b[0m         \u001b[0mtotal_loss\u001b[0m \u001b[0;34m+=\u001b[0m \u001b[0mt_loss\u001b[0m\u001b[0;34m\u001b[0m\u001b[0;34m\u001b[0m\u001b[0m\n\u001b[1;32m     10\u001b[0m \u001b[0;34m\u001b[0m\u001b[0m\n",
      "\u001b[0;32m/usr/local/lib/python3.11/dist-packages/tensorflow/python/util/traceback_utils.py\u001b[0m in \u001b[0;36merror_handler\u001b[0;34m(*args, **kwargs)\u001b[0m\n\u001b[1;32m    151\u001b[0m     \u001b[0;32mexcept\u001b[0m \u001b[0mException\u001b[0m \u001b[0;32mas\u001b[0m \u001b[0me\u001b[0m\u001b[0;34m:\u001b[0m\u001b[0;34m\u001b[0m\u001b[0;34m\u001b[0m\u001b[0m\n\u001b[1;32m    152\u001b[0m       \u001b[0mfiltered_tb\u001b[0m \u001b[0;34m=\u001b[0m \u001b[0m_process_traceback_frames\u001b[0m\u001b[0;34m(\u001b[0m\u001b[0me\u001b[0m\u001b[0;34m.\u001b[0m\u001b[0m__traceback__\u001b[0m\u001b[0;34m)\u001b[0m\u001b[0;34m\u001b[0m\u001b[0;34m\u001b[0m\u001b[0m\n\u001b[0;32m--> 153\u001b[0;31m       \u001b[0;32mraise\u001b[0m \u001b[0me\u001b[0m\u001b[0;34m.\u001b[0m\u001b[0mwith_traceback\u001b[0m\u001b[0;34m(\u001b[0m\u001b[0mfiltered_tb\u001b[0m\u001b[0;34m)\u001b[0m \u001b[0;32mfrom\u001b[0m \u001b[0;32mNone\u001b[0m\u001b[0;34m\u001b[0m\u001b[0;34m\u001b[0m\u001b[0m\n\u001b[0m\u001b[1;32m    154\u001b[0m     \u001b[0;32mfinally\u001b[0m\u001b[0;34m:\u001b[0m\u001b[0;34m\u001b[0m\u001b[0;34m\u001b[0m\u001b[0m\n\u001b[1;32m    155\u001b[0m       \u001b[0;32mdel\u001b[0m \u001b[0mfiltered_tb\u001b[0m\u001b[0;34m\u001b[0m\u001b[0;34m\u001b[0m\u001b[0m\n",
      "\u001b[0;32m/usr/local/lib/python3.11/dist-packages/tensorflow/python/eager/polymorphic_function/autograph_util.py\u001b[0m in \u001b[0;36mautograph_handler\u001b[0;34m(*args, **kwargs)\u001b[0m\n\u001b[1;32m     50\u001b[0m     \u001b[0;32mexcept\u001b[0m \u001b[0mException\u001b[0m \u001b[0;32mas\u001b[0m \u001b[0me\u001b[0m\u001b[0;34m:\u001b[0m  \u001b[0;31m# pylint:disable=broad-except\u001b[0m\u001b[0;34m\u001b[0m\u001b[0;34m\u001b[0m\u001b[0m\n\u001b[1;32m     51\u001b[0m       \u001b[0;32mif\u001b[0m \u001b[0mhasattr\u001b[0m\u001b[0;34m(\u001b[0m\u001b[0me\u001b[0m\u001b[0;34m,\u001b[0m \u001b[0;34m\"ag_error_metadata\"\u001b[0m\u001b[0;34m)\u001b[0m\u001b[0;34m:\u001b[0m\u001b[0;34m\u001b[0m\u001b[0;34m\u001b[0m\u001b[0m\n\u001b[0;32m---> 52\u001b[0;31m         \u001b[0;32mraise\u001b[0m \u001b[0me\u001b[0m\u001b[0;34m.\u001b[0m\u001b[0mag_error_metadata\u001b[0m\u001b[0;34m.\u001b[0m\u001b[0mto_exception\u001b[0m\u001b[0;34m(\u001b[0m\u001b[0me\u001b[0m\u001b[0;34m)\u001b[0m\u001b[0;34m\u001b[0m\u001b[0;34m\u001b[0m\u001b[0m\n\u001b[0m\u001b[1;32m     53\u001b[0m       \u001b[0;32melse\u001b[0m\u001b[0;34m:\u001b[0m\u001b[0;34m\u001b[0m\u001b[0;34m\u001b[0m\u001b[0m\n\u001b[1;32m     54\u001b[0m         \u001b[0;32mraise\u001b[0m\u001b[0;34m\u001b[0m\u001b[0;34m\u001b[0m\u001b[0m\n",
      "\u001b[0;31mOperatorNotAllowedInGraphError\u001b[0m: in user code:\n\n    File \"/tmp/ipykernel_73/3788556810.py\", line 12, in train_step  *\n        predictions, hidden, _ = decoder(dec_input, features, hidden)\n    File \"/usr/local/lib/python3.11/dist-packages/keras/src/utils/traceback_utils.py\", line 122, in error_handler  **\n        raise e.with_traceback(filtered_tb) from None\n    File \"/tmp/ipykernel_73/1157247805.py\", line 20, in call\n        output, state = self.gru(x, initial_state=hidden)\n\n    OperatorNotAllowedInGraphError: Exception encountered when calling GRU.call().\n    \n    \u001b[1mIterating over a symbolic `tf.Tensor` is not allowed. You can attempt the following resolutions to the problem: If you are running in Graph mode, use Eager execution mode or decorate this function with @tf.function. If you are using AutoGraph, you can try decorating this function with @tf.function. If that does not work, then you may be using an unsupported feature or your source code may not be visible to AutoGraph. See https://github.com/tensorflow/tensorflow/blob/master/tensorflow/python/autograph/g3doc/reference/limitations.md#access-to-source-code for more information.\u001b[0m\n    \n    Arguments received by GRU.call():\n      • sequences=tf.Tensor(shape=(64, 1, 1024), dtype=float32)\n      • initial_state=tf.Tensor(shape=(64, 1024), dtype=float32)\n      • mask=None\n      • training=False\n"
     ]
    }
   ],
   "source": [
    "# EPOCHS = 5\n",
    "\n",
    "# for epoch in range(start_epoch, EPOCHS):\n",
    "#     start = time.time()\n",
    "#     total_loss = 0\n",
    "\n",
    "#     for (batch, (img_tensor, target)) in enumerate(dataset):\n",
    "#         batch_loss, t_loss = train_step(img_tensor, target)\n",
    "#         total_loss += t_loss\n",
    "\n",
    "#         if batch % 100 == 0:\n",
    "#             average_batch_loss = batch_loss.numpy() / int(target.shape[1])\n",
    "#             print(f'Epoch {epoch+1} Batch {batch} Loss {average_batch_loss:.4f}')\n",
    "\n",
    "#     # storing the epoch end loss value to plot later\n",
    "#     loss_plot.append(total_loss / num_steps)\n",
    "\n",
    "#     if epoch % 5 == 0:\n",
    "#       ckpt_manager.save()\n",
    "\n",
    "#     print(f'Epoch {epoch+1} Loss {total_loss / num_steps:.6f}')\n",
    "#     print(f'Time taken for 1 epoch {time.time() - start:.2f} sec\\n')"
   ]
  },
  {
   "cell_type": "markdown",
   "metadata": {
    "id": "G686O8TaF1O0"
   },
   "source": [
    "Графики после 5 эпох обучения"
   ]
  },
  {
   "cell_type": "code",
   "execution_count": 46,
   "metadata": {
    "id": "x8QlJa5aICmW"
   },
   "outputs": [],
   "source": [
    "import matplotlib.pyplot as plt"
   ]
  },
  {
   "cell_type": "code",
   "execution_count": 47,
   "metadata": {
    "colab": {
     "base_uri": "https://localhost:8080/",
     "height": 472
    },
    "id": "dgFoy-VL2rD9",
    "outputId": "41a7b0d6-4f89-47a4-c4c5-00206c2137df"
   },
   "outputs": [
    {
     "data": {
      "image/png": "[encoded data removed]",
      "text/plain": [
       "<Figure size 640x480 with 1 Axes>"
      ]
     },
     "metadata": {},
     "output_type": "display_data"
    }
   ],
   "source": [
    "plt.plot(loss_plot)\n",
    "plt.xlabel(\"Epochs\")\n",
    "plt.ylabel(\"Loss\")\n",
    "plt.title(\"Loss Plot\")\n",
    "plt.xticks(range(0, len(loss_plot)))\n",
    "plt.show()"
   ]
  },
  {
   "cell_type": "markdown",
   "metadata": {
    "id": "n0PMVO-NJZKT"
   },
   "source": [
    "<h3> Добавим еще 10 эпох. Итого 15"
   ]
  },
  {
   "cell_type": "code",
   "execution_count": null,
   "metadata": {
    "colab": {
     "base_uri": "https://localhost:8080/"
    },
    "id": "HqWQTDr1GtD4",
    "outputId": "fa904aee-501b-4512-fa34-d06658d34e60"
   },
   "outputs": [
    {
     "name": "stdout",
     "output_type": "stream",
     "text": [
      "Epoch 1 Batch 0 Loss 0.9689\n",
      "Epoch 1 Loss 1.011111\n",
      "Time taken for 1 epoch 67.57 sec\n",
      "\n",
      "Epoch 2 Batch 0 Loss 0.8315\n",
      "Epoch 2 Loss 0.975857\n",
      "Time taken for 1 epoch 66.34 sec\n",
      "\n",
      "Epoch 3 Batch 0 Loss 1.0507\n",
      "Epoch 3 Loss 0.944577\n",
      "Time taken for 1 epoch 66.65 sec\n",
      "\n",
      "Epoch 4 Batch 0 Loss 1.0354\n",
      "Epoch 4 Loss 0.914249\n",
      "Time taken for 1 epoch 66.70 sec\n",
      "\n",
      "Epoch 5 Batch 0 Loss 0.8720\n",
      "Epoch 5 Loss 0.885747\n",
      "Time taken for 1 epoch 66.77 sec\n",
      "\n",
      "Epoch 6 Batch 0 Loss 0.9010\n",
      "Epoch 6 Loss 0.862243\n",
      "Time taken for 1 epoch 67.87 sec\n",
      "\n",
      "Epoch 7 Batch 0 Loss 0.8399\n",
      "Epoch 7 Loss 0.839046\n",
      "Time taken for 1 epoch 66.80 sec\n",
      "\n",
      "Epoch 8 Batch 0 Loss 0.8168\n",
      "Epoch 8 Loss 0.814183\n",
      "Time taken for 1 epoch 66.75 sec\n",
      "\n",
      "Epoch 9 Batch 0 Loss 0.7715\n",
      "Epoch 9 Loss 0.785966\n",
      "Time taken for 1 epoch 66.76 sec\n",
      "\n",
      "Epoch 10 Batch 0 Loss 0.7649\n",
      "Epoch 10 Loss 0.761603\n",
      "Time taken for 1 epoch 66.75 sec\n",
      "\n"
     ]
    }
   ],
   "source": [
    "EPOCHS = 10\n",
    "\n",
    "for epoch in range(start_epoch, EPOCHS):\n",
    "    start = time.time()\n",
    "    total_loss = 0\n",
    "\n",
    "    for (batch, (img_tensor, target)) in enumerate(dataset):\n",
    "        batch_loss, t_loss = train_step(img_tensor, target)\n",
    "        total_loss += t_loss\n",
    "\n",
    "        if batch % 100 == 0:\n",
    "            average_batch_loss = batch_loss.numpy() / int(target.shape[1])\n",
    "            print(f'Epoch {epoch+1} Batch {batch} Loss {average_batch_loss:.4f}')\n",
    "    # storing the epoch end loss value to plot later\n",
    "    loss_plot.append(total_loss / num_steps)\n",
    "\n",
    "    if epoch % 5 == 0:\n",
    "      ckpt_manager.save()\n",
    "\n",
    "    print(f'Epoch {epoch+1} Loss {total_loss / num_steps:.6f}')\n",
    "    print(f'Time taken for 1 epoch {time.time() - start:.2f} sec\\n')"
   ]
  },
  {
   "cell_type": "markdown",
   "metadata": {
    "id": "J_ZI-nTJMjyl"
   },
   "source": [
    "Графики после 15 эпох обучения"
   ]
  },
  {
   "cell_type": "code",
   "execution_count": null,
   "metadata": {
    "colab": {
     "base_uri": "https://localhost:8080/",
     "height": 472
    },
    "id": "CFMPao-BJjcq",
    "outputId": "c8a186c9-d0f6-43f9-b907-e9005d717960"
   },
   "outputs": [
    {
     "data": {
      "image/png": "[encoded data removed]",
      "text/plain": [
       "<Figure size 640x480 with 1 Axes>"
      ]
     },
     "metadata": {},
     "output_type": "display_data"
    }
   ],
   "source": [
    "plt.plot(loss_plot)\n",
    "plt.xlabel(\"Epochs\")\n",
    "plt.ylabel(\"Loss\")\n",
    "plt.title(\"Loss Plot\")\n",
    "plt.xticks(range(0, len(loss_plot)))\n",
    "plt.show()"
   ]
  },
  {
   "cell_type": "code",
   "execution_count": null,
   "metadata": {
    "colab": {
     "base_uri": "https://localhost:8080/"
    },
    "id": "2qy4yY9zKP9U",
    "outputId": "d5b86c8d-d1d0-4d8d-e1ab-271ebcae4776"
   },
   "outputs": [
    {
     "name": "stdout",
     "output_type": "stream",
     "text": [
      "Epoch 1 Batch 0 Loss 0.5332\n",
      "Epoch 1 Loss 0.736289\n",
      "Time taken for 1 epoch 67.37 sec\n",
      "\n",
      "Epoch 2 Batch 0 Loss 0.7078\n",
      "Epoch 2 Loss 0.711369\n",
      "Time taken for 1 epoch 66.84 sec\n",
      "\n",
      "Epoch 3 Batch 0 Loss 0.6371\n",
      "Epoch 3 Loss 0.682435\n",
      "Time taken for 1 epoch 66.66 sec\n",
      "\n",
      "Epoch 4 Batch 0 Loss 0.6375\n",
      "Epoch 4 Loss 0.653963\n",
      "Time taken for 1 epoch 67.11 sec\n",
      "\n",
      "Epoch 5 Batch 0 Loss 0.4836\n",
      "Epoch 5 Loss 0.625232\n",
      "Time taken for 1 epoch 67.16 sec\n",
      "\n"
     ]
    }
   ],
   "source": [
    "EPOCHS = 5\n",
    "\n",
    "for epoch in range(start_epoch, EPOCHS):\n",
    "    start = time.time()\n",
    "    total_loss = 0\n",
    "\n",
    "    for (batch, (img_tensor, target)) in enumerate(dataset):\n",
    "        batch_loss, t_loss = train_step(img_tensor, target)\n",
    "        total_loss += t_loss\n",
    "\n",
    "        if batch % 100 == 0:\n",
    "            average_batch_loss = batch_loss.numpy() / int(target.shape[1])\n",
    "            print(f'Epoch {epoch+1} Batch {batch} Loss {average_batch_loss:.4f}')\n",
    "\n",
    "    # storing the epoch end loss value to plot later\n",
    "    loss_plot.append(total_loss / num_steps)\n",
    "\n",
    "    if epoch % 5 == 0:\n",
    "      ckpt_manager.save()\n",
    "\n",
    "    print(f'Epoch {epoch+1} Loss {total_loss / num_steps:.6f}')\n",
    "    print(f'Time taken for 1 epoch {time.time() - start:.2f} sec\\n')"
   ]
  },
  {
   "cell_type": "code",
   "execution_count": null,
   "metadata": {
    "colab": {
     "base_uri": "https://localhost:8080/",
     "height": 472
    },
    "id": "lRfjsz14Mi5-",
    "outputId": "c830766b-8dfb-4847-93fd-46d6b80a1c93"
   },
   "outputs": [
    {
     "data": {
      "image/png": "[encoded data removed]",
      "text/plain": [
       "<Figure size 640x480 with 1 Axes>"
      ]
     },
     "metadata": {},
     "output_type": "display_data"
    }
   ],
   "source": [
    "plt.plot(loss_plot)\n",
    "plt.xlabel(\"Epochs\")\n",
    "plt.ylabel(\"Loss\")\n",
    "plt.title(\"Loss Plot\")\n",
    "plt.xticks(range(0, len(loss_plot)))\n",
    "plt.show()"
   ]
  },
  {
   "cell_type": "markdown",
   "metadata": {
    "id": "XuPnfFr0S4Bo"
   },
   "source": [
    "<h2> Подпись"
   ]
  },
  {
   "cell_type": "code",
   "execution_count": 53,
   "metadata": {
    "id": "UM1hKiZSRvdQ"
   },
   "outputs": [],
   "source": [
    "def evaluate(image):\n",
    "    attention_plot = np.zeros((max_length, attention_features_shape))\n",
    "\n",
    "    hidden = decoder.reset_state(batch_size=1)\n",
    "\n",
    "    temp_input = tf.expand_dims(load_image(image)[0], 0)\n",
    "    img_tensor_val = image_features_extract_model(temp_input)\n",
    "    img_tensor_val = tf.reshape(img_tensor_val, (img_tensor_val.shape[0],\n",
    "                                                 -1,\n",
    "                                                 img_tensor_val.shape[3]))\n",
    "\n",
    "    features = encoder(img_tensor_val)\n",
    "\n",
    "    dec_input = tf.expand_dims([word_to_index('')], 0)\n",
    "    result = []\n",
    "\n",
    "    for i in range(max_length):\n",
    "        predictions, hidden, attention_weights = decoder(dec_input,\n",
    "                                                         features,\n",
    "                                                         hidden)\n",
    "        attention_plot[i] = tf.reshape(attention_weights, (-1, )).numpy()\n",
    "\n",
    "        predicted_id = tf.random.categorical(predictions, 1)[0][0].numpy()\n",
    "        predicted_word = tf.compat.as_text(index_to_word(predicted_id).numpy())\n",
    "        result.append(predicted_word)\n",
    "\n",
    "        if predicted_word == '':\n",
    "            return result, attention_plot\n",
    "\n",
    "        dec_input = tf.expand_dims([predicted_id], 0)\n",
    "\n",
    "    attention_plot = attention_plot[:len(result), :]\n",
    "    return result, attention_plot"
   ]
  },
  {
   "cell_type": "code",
   "execution_count": 54,
   "metadata": {
    "id": "Xq2a633MTCRX"
   },
   "outputs": [],
   "source": [
    "def plot_attention(image, result, attention_plot):\n",
    "    temp_image = np.array(Image.open(image))\n",
    "\n",
    "    fig = plt.figure(figsize=(200, 200))\n",
    "\n",
    "    len_result = len(result)\n",
    "    for i in range(len_result):\n",
    "        temp_att = np.resize(attention_plot[i], (80, 80))\n",
    "        grid_size = max(int(np.ceil(len_result/2)), 1)\n",
    "        ax = fig.add_subplot(grid_size, grid_size, i+1)\n",
    "        ax.set_title(result[i])\n",
    "        img = ax.imshow(temp_image)\n",
    "        ax.imshow(temp_att, cmap='gray', alpha=0.6, extent=img.get_extent())\n",
    "\n",
    "    # plt.tight_layout()\n",
    "    plt.show()"
   ]
  },
  {
   "cell_type": "code",
   "execution_count": 50,
   "metadata": {
    "id": "POJBkgt2UXBT"
   },
   "outputs": [
    {
     "name": "stdout",
     "output_type": "stream",
     "text": [
      "  Preparing metadata (setup.py) ... \u001b[?25l\u001b[?25hdone\n",
      "\u001b[2K   \u001b[90m━━━━━━━━━━━━━━━━━━━━━━━━━━━━━━━━━━━━━━━━\u001b[0m \u001b[32m61.1/61.1 kB\u001b[0m \u001b[31m2.1 MB/s\u001b[0m eta \u001b[36m0:00:00\u001b[0m\n",
      "\u001b[2K   \u001b[90m━━━━━━━━━━━━━━━━━━━━━━━━━━━━━━━━━━━━━━━━\u001b[0m \u001b[32m363.4/363.4 MB\u001b[0m \u001b[31m4.6 MB/s\u001b[0m eta \u001b[36m0:00:00\u001b[0m0:00:01\u001b[0m:02\u001b[0mmm\n",
      "\u001b[2K   \u001b[90m━━━━━━━━━━━━━━━━━━━━━━━━━━━━━━━━━━━━━━━━\u001b[0m \u001b[32m664.8/664.8 MB\u001b[0m \u001b[31m1.9 MB/s\u001b[0m eta \u001b[36m0:00:00\u001b[0m0:00:01\u001b[0m00:01\u001b[0m\n",
      "\u001b[2K   \u001b[90m━━━━━━━━━━━━━━━━━━━━━━━━━━━━━━━━━━━━━━━━\u001b[0m \u001b[32m211.5/211.5 MB\u001b[0m \u001b[31m5.9 MB/s\u001b[0m eta \u001b[36m0:00:00\u001b[0m0:00:01\u001b[0m00:01\u001b[0m\n",
      "\u001b[2K   \u001b[90m━━━━━━━━━━━━━━━━━━━━━━━━━━━━━━━━━━━━━━━━\u001b[0m \u001b[32m56.3/56.3 MB\u001b[0m \u001b[31m30.7 MB/s\u001b[0m eta \u001b[36m0:00:00\u001b[0m:00:01\u001b[0m00:01\u001b[0m\n",
      "\u001b[2K   \u001b[90m━━━━━━━━━━━━━━━━━━━━━━━━━━━━━━━━━━━━━━━━\u001b[0m \u001b[32m127.9/127.9 MB\u001b[0m \u001b[31m13.2 MB/s\u001b[0m eta \u001b[36m0:00:00\u001b[0m:00:01\u001b[0m00:01\u001b[0m\n",
      "\u001b[2K   \u001b[90m━━━━━━━━━━━━━━━━━━━━━━━━━━━━━━━━━━━━━━━━\u001b[0m \u001b[32m207.5/207.5 MB\u001b[0m \u001b[31m3.1 MB/s\u001b[0m eta \u001b[36m0:00:00\u001b[0m0:00:01\u001b[0m00:01\u001b[0m\n",
      "\u001b[2K   \u001b[90m━━━━━━━━━━━━━━━━━━━━━━━━━━━━━━━━━━━━━━━━\u001b[0m \u001b[32m21.1/21.1 MB\u001b[0m \u001b[31m81.5 MB/s\u001b[0m eta \u001b[36m0:00:00\u001b[0m:00:01\u001b[0m00:01\u001b[0m\n",
      "\u001b[?25h  Building wheel for rouge-score (setup.py) ... \u001b[?25l\u001b[?25hdone\n"
     ]
    }
   ],
   "source": [
    "!pip install rouge-score bert-score -q"
   ]
  },
  {
   "cell_type": "code",
   "execution_count": 51,
   "metadata": {
    "id": "lH-RuS1wTD_1"
   },
   "outputs": [],
   "source": [
    "from nltk.translate.bleu_score import sentence_bleu, SmoothingFunction\n",
    "from rouge_score import rouge_scorer\n",
    "from bert_score import score\n",
    "\n",
    "chencherry = SmoothingFunction()"
   ]
  },
  {
   "cell_type": "code",
   "execution_count": 57,
   "metadata": {
    "colab": {
     "base_uri": "https://localhost:8080/",
     "height": 582
    },
    "id": "WEN6Hc5cTY3A",
    "outputId": "0fd6daea-59db-472d-edc5-8e4ab226fda2"
   },
   "outputs": [
    {
     "name": "stdout",
     "output_type": "stream",
     "text": [
      "rid 380\n",
      "BLEU-1 score: 0.13920633785811495\n",
      "BLEU-2 score: 0.09512209710892344\n",
      "BLEU-3 score: 0.062624920493202\n",
      "BLEU-4 score: 0.03809385738449338\n",
      "ROUGE-1 score: 0.7352941176470589\n",
      "ROUGE-L score: 0.47058823529411764\n",
      "Real report:  the heart size and mediastinal contours appear within normal limits there are streaky left basilar opacities and blunting of the left costophrenic sulcus secondary to a small effusion no pneumothora no acute bony abnormalities\n",
      "Predicted report:  heart size within normal limits lungs are clear bilaterally no focal airspace disease pleural effusion or pneumothora there is throughout cardiac and mediastinal contours are within normal limits the aorta is similar to low lung volumes no edema pneumothora pneumothora or pleural effusion within normal limits atelectasis overlying this measures approimately cm in the thoracic spine degenerative changes inflammatoryinfectious process with some scarring in the left midlung no pleural effusion or pneumothora mild degenerative changes are some costophrenic are present and bilateral small pleural effusion acute bony abnormalities or pleural effusion there is mild tortuosity of the thora\n"
     ]
    },
    {
     "data": {
      "image/png": "[encoded data removed]",
      "text/plain": [
       "<Figure size 640x480 with 1 Axes>"
      ]
     },
     "metadata": {},
     "output_type": "display_data"
    }
   ],
   "source": [
    "# rid = np.random.randint(0, len(img_name_val))\n",
    "rid = 380\n",
    "print('rid', rid)\n",
    "\n",
    "image = img_name_val[rid]\n",
    "img = plt.imread(image)\n",
    "\n",
    "plt.figure()\n",
    "plt.imshow(img, cmap = \"gray\")\n",
    "plt.axis(False)\n",
    "\n",
    "real_caption = [tf.compat.as_text(index_to_word(i).numpy())\n",
    "                         for i in cap_val[rid] if i not in [0]]\n",
    "\n",
    "result, attention_plot = evaluate(image)\n",
    "rem = ['startseq', 'start', 'end', 'endseq']\n",
    "\n",
    "real_caption  = [x for x in real_caption if x not in rem]\n",
    "result = [x for x in result if x not in rem]\n",
    "\n",
    "weights = [(1, 0, 0, 0),   # BLEU-1\n",
    "           (0.5, 0.5, 0, 0), # BLEU-2\n",
    "           (0.33, 0.33, 0.33, 0), # BLEU-3\n",
    "           (0.25, 0.25, 0.25, 0.25)] # BLEU-4\n",
    "\n",
    "bleu_scores = []\n",
    "for weight in weights:\n",
    "    bl = sentence_bleu([result], real_caption, weights=weight, smoothing_function=SmoothingFunction().method5)\n",
    "    bleu_scores.append(bl)\n",
    "\n",
    "scorer = rouge_scorer.RougeScorer(['rouge1', 'rougeL'], use_stemmer=True)\n",
    "rouge_scores = scorer.score(' '.join(result), ' '.join(real_caption))\n",
    "\n",
    "for i, score in enumerate(bleu_scores, start=1):\n",
    "    print(f\"BLEU-{i} score:\", score)\n",
    "print(\"ROUGE-1 score:\", rouge_scores['rouge1'].precision)\n",
    "print(\"ROUGE-L score:\", rouge_scores['rougeL'].precision)\n",
    "print('Real report: ', ' '.join([i for i in real_caption]))\n",
    "print('Predicted report: ', ' '.join(result))\n"
   ]
  },
  {
   "cell_type": "markdown",
   "metadata": {
    "id": "n2-DaHHPXrWT"
   },
   "source": [
    "<h2>Расчет качества модели"
   ]
  },
  {
   "cell_type": "code",
   "execution_count": null,
   "metadata": {
    "colab": {
     "base_uri": "https://localhost:8080/"
    },
    "id": "0WlTuc5Zn1HM",
    "outputId": "da7732de-5d85-4893-918d-ebe1d8863756"
   },
   "outputs": [
    {
     "name": "stdout",
     "output_type": "stream",
     "text": [
      "Real report: indications male with pneumonia findings heart size within normal limits there is focal left lateral base airspace disease there is a mm nodular opacity in the right midlung no pneumothora no pleural effusion no displaced rib fractures there is an apparent deformity of the right humeral surgical neck this is not seen on the comparison correlate clinically with history of fracture impressions left base airspace disease and nodular opacity in the right midlung\n",
      "Predicted report: indications syncopal episode findings the trachea is midline negative for pneumothora pleural effusion or focal airspace consolidation heart size and pulmonary vascularity are within normal limits impressions no acute cardiopulmonary abnormality of lung cancer no months findings the heart size and mediastinal contour are within normal limits the lungs are clear impressions negative for adenopathy no acute osseous abnormality bilateral pulmonary arteries changes of retained contrast at hours findings heart size mediastinal contours are normal pulmonary vasculature is normal in size and contour the lungs are clear\n",
      "BLEU_1 score: 0.49027733613802377\n",
      "BLEU_2 score: 0.30543836531487034\n",
      "BLEU_3 score: 0.1907628579609032\n",
      "BLEU_4 score: 0.11203635590222433\n",
      "ROUGE-1 score: 0.3561643835616438\n",
      "ROUGE-L score: 0.1917808219178082\n",
      "****************************************************************************************************\n",
      "Real report: indications right arm numbness rightsided chest pain for for years the patients lower abdomen was shielded for this eam findings frontal and lateral views of the chest show normal size and configuration of the cardiac silhouette normal mediastinal contour pulmonary and vasculature central airways and lung volumes no pleural effusion impressions no acute or active cardiac pulmonary or pleural disease\n",
      "Predicted report: indications female with and smoking and findings calcified granulomas bony structures grossly intact impressions no acute cardiopulmonary abnormality of medication findings the lungs are clear without focal consolidation no pleural effusion or pneumothora is identified there are no focal consolidation or pulmonary nodules recommend chest abdomen aortic are seen the visualized osseous structures and within limits in left midlung within the left upper quadrant surgical clips and mild apical no effusion or pneumothora there is no visualized osseous structures no visible pleural effusion or pneumothora there are no focal airspace consolidation\n",
      "BLEU_1 score: 0.35812802635547253\n",
      "BLEU_2 score: 0.22368515910847406\n",
      "BLEU_3 score: 0.14082460695370697\n",
      "BLEU_4 score: 0.08306534873791302\n",
      "ROUGE-1 score: 0.38333333333333336\n",
      "ROUGE-L score: 0.23333333333333334\n",
      "****************************************************************************************************\n",
      "Real report: indications chest pain findings stable cardiomediastinal silhouette calcified granuloma in the left lower lobe minimal bibasilar airspace disease no pneumothora degenerative changes of the thoracic spine impressions minimal bibasilar airspace disease\n",
      "Predicted report: indications male with chest pain nonproductive findings there is no visible free intraperitoneal air under the diaphragm the visualized osseous structures an unchanged cardiomediastinal silhouette and mediastinal contours are grossly unremarkable there is motion artifact now located in the central and soft tissues are unremarkable impressions normal chest no evidence of active tuberculous process cholecystectomy pain findings the heart size is within normal limits for size and contour aortic calcifications mildly enlarged cardiomediastinal contours are normal impressions low lung volumes without superimposed focal consolidation pneumothora or pleural effusion\n",
      "BLEU_1 score: 0.10453305943081484\n",
      "BLEU_2 score: 0.06619057020265882\n",
      "BLEU_3 score: 0.03996333692879201\n",
      "BLEU_4 score: 0.02310608740435372\n",
      "ROUGE-1 score: 0.41935483870967744\n",
      "ROUGE-L score: 0.3870967741935484\n",
      "****************************************************************************************************\n",
      "Real report: indications positive ppd findings heart size and mediastinal contour within normal limits no focal airspace consolidation pneumothora or large pleural effusion degenerative changes of thoracic spine impressions no acute cardiopulmonary abnormality specifically no evidence for acute tuberculosis\n",
      "Predicted report: indications loss of transmetatarsal carcinoma surveillance findings lungs are clear bilaterally no large pleural effusion or pneumothora pleural effusion or pneumothora the lungs are clear without infiltrate there is a lucency in the right lower lobectomy the lungs are clear impressions lungs suggestive of left upper lobe mass in weeks to this findings lungs are clear bilaterally no pleural effusion or pneumothora impressions no acute cardiopulmonary abnormality of and fatigue findings cardiomediastinal silhouette normal lungs are clear the heart size is within normal limits cardiomediastinal\n",
      "BLEU_1 score: 0.21726145199260544\n",
      "BLEU_2 score: 0.1533262534610516\n",
      "BLEU_3 score: 0.10957836943290553\n",
      "BLEU_4 score: 0.07614329768126821\n",
      "ROUGE-1 score: 0.5675675675675675\n",
      "ROUGE-L score: 0.32432432432432434\n",
      "****************************************************************************************************\n",
      "Real report: indications with scheduled hip replacement surgical radiographs findings the heart pulmonary and mediastinum are within normal limits there is no pleural effusion or pneumothora there is no focal air space opacity to suggest a pneumonia there mild degenerative changes of the thoracic spine there is a slight deformity of the lower thoracic body which is ageindeterminate impressions ageindeterminate lower thoracic slight deformity otherwise negative eam\n",
      "Predicted report: indications findings the lungs remain clear degenerative disc disease of sternotomy and patient rotation somewhat limits evaluation of moderate to overlapping structures of the chest were obtained the heart and mediastinum overlying bony structures are intact impressions no acute cardiopulmonary abnormality findings lungs are clear without evidence of interstitial changes of retained contrast within the lungs otherwise clear lungs findings lungs are clear without evidence of acute cardiopulmonary process of the spine there is no focal consolidation pleural effusion or pneumothora pleural effusion or effusion\n",
      "BLEU_1 score: 0.5059399180129791\n",
      "BLEU_2 score: 0.3469120119241785\n",
      "BLEU_3 score: 0.2368241976966718\n",
      "BLEU_4 score: 0.1536724911824671\n",
      "ROUGE-1 score: 0.4307692307692308\n",
      "ROUGE-L score: 0.23076923076923078\n",
      "****************************************************************************************************\n",
      "Real report: indications woman with shortness of breath findings cardiac size mediastinal contour and pulmonary vascularity are within normal limits the right heart appears obscured and there are streaky right medial basilar airspace opacities possibly due to airspace disease or atelectasis otherwise no focal consolidation pleural effusion or pneumothora the visualized osseous structures appear intact impressions obscured right heart with streaky right medial basilar airspace opacities possibly due to airspace disease versus atelectasis otherwise no acute cardiopulmonary abnormalities\n",
      "Predicted report: indications chest pain findings cardiac and mediastinal contours are within normal limits no acute displaced rib fractures impressions no acute disease of the spine without acute abnormality demonstrated of the thoracic spine impressions no acute cardiopulmonary abnormalities of the chest were obtained the cardiomediastinal silhouette is upper limits of normal pulmonary vasculature are unremarkable pulmonary vascularity within normal limits calcified granuloma no acute bony abnormalities impressions no acute cardiopulmonary abnormalities of left rib fractures impressions patchy pulmonary edema\n",
      "BLEU_1 score: 0.5472781153486698\n",
      "BLEU_2 score: 0.358323760113298\n",
      "BLEU_3 score: 0.24111199357115917\n",
      "BLEU_4 score: 0.15573428943489465\n",
      "ROUGE-1 score: 0.3026315789473684\n",
      "ROUGE-L score: 0.2236842105263158\n",
      "****************************************************************************************************\n",
      "Real report: indications difficulty breathing chest pain for days findings cardiomegaly prominent are stable low lung volumes no pneumothora minimal right costophrenic blunting no focal infiltrates impressions cardiomegaly with right pleural effusion\n",
      "Predicted report: indications pain findings lungs are mildly increased elevation of the right hemidiaphragm and posterior pleural effusions there are diminished lung volumes with mild cardiomegaly and biapical opacities most compatible with known colonic perforation findings lungs or active cardiac catheterization findings normal cardiomediastinal contours no acute osseous abnormality identified impressions no acute cardiopulmonary abnormality findings mediastinal contours are not enlarged heart size remains moderately enlarged impressions no acute cardiopulmonary abnormality findings and etends below the lungs and pleural\n",
      "BLEU_1 score: 0.132281865090878\n",
      "BLEU_2 score: 0.07842331024289897\n",
      "BLEU_3 score: 0.04637869893333572\n",
      "BLEU_4 score: 0.0264896767699375\n",
      "ROUGE-1 score: 0.4666666666666667\n",
      "ROUGE-L score: 0.3333333333333333\n",
      "****************************************************************************************************\n",
      "Real report: indications chest pain findings the heart and mediastinum are unremarkable there are two subcentimeter hyperdense nodular opacities are noted within the right lung these may represent on or alternatively calcified granulomas the lungs are clear without infiltrate there is no effusion or pneumothora impressions no acute cardiopulmonary disease\n",
      "Predicted report: indications female with chest pain findings cardiomegaly or empyema of those seen on ciwa smoking and hypertensive urgency findings cardiomegaly or focal airspace disease is seen impressions cardiomegaly and lateral radiographs of the chest no acute or destructive process versus pneumonitis of which is a leftsided pain cramping nausea vomiting shortness of breath findings cardiomegaly is seen no acute pulmonary arteries raising the right glenoid disease of abdomen immediately retrocardiac airspace consolidation or noncalcified nodule of anterior midline sternotomy the eamination\n",
      "BLEU_1 score: 0.30758314609924575\n",
      "BLEU_2 score: 0.1924685151583182\n",
      "BLEU_3 score: 0.1192181498134186\n",
      "BLEU_4 score: 0.06975614843663923\n",
      "ROUGE-1 score: 0.375\n",
      "ROUGE-L score: 0.25\n",
      "****************************************************************************************************\n",
      "Real report: indications female with chest pain rule out pneumonia findings the lungs are clear bilaterally specifically no evidence of focal consolidation pneumothora or pleural effusion cardio mediastinal silhouette is unremarkable visualized osseous structures of the thora are without acute abnormality impressions no acute cardiopulmonary abnormality\n",
      "Predicted report: indications diminished breath sounds findings heart size is normal the mediastinum and mediastinal contours are within normal limits no focal air space consolidation no suspicious pulmonary nodules or masses impressions normal chest no acute pulmonary abnormality findings heart size normal lungs are clear bilaterallythere is evidence of heart and mediastinum size and pulmonary vasculature are within normal limits the lungs are clear without infiltrate impressions no acute cardiopulmonary abnormality feeding tube noted impressions normal chest no acute cardiopulmonary abnormality or tb findings cardiomediastinal\n",
      "BLEU_1 score: 0.319061813673096\n",
      "BLEU_2 score: 0.21750164415238454\n",
      "BLEU_3 score: 0.1546054222961765\n",
      "BLEU_4 score: 0.1085924490415833\n",
      "ROUGE-1 score: 0.5681818181818182\n",
      "ROUGE-L score: 0.45454545454545453\n",
      "****************************************************************************************************\n",
      "Real report: indications chest pain findings the heart and lungs have in the interval both lungs are clear and epanded heart and mediastinum normal impressions no active disease\n",
      "Predicted report: indications female dyspnea shortness of breath findings again biapical calcifications in the spine pulmonary vasculature within normal limits aorta is tortuous arthritic changes of the upper lumbar spine impressions stable valve artifact no focal consolidation is seen surgical clips and traction punctate round over the possible surgical clips there minimal degenerative changes of the thoracolumbar spine impressions chronic interstitial changes findings chronic changes without heart size and pulmonary vascularity are within normal limits atherosclerotic calcifications are notable in the granulomas are again noted unchanged unchanged atherosclerotic calcifications of the\n",
      "BLEU_1 score: 0.05800789768458588\n",
      "BLEU_2 score: 0.03449931672269259\n",
      "BLEU_3 score: 0.020416711720278265\n",
      "BLEU_4 score: 0.011671622606047503\n",
      "ROUGE-1 score: 0.46153846153846156\n",
      "ROUGE-L score: 0.3076923076923077\n",
      "****************************************************************************************************\n",
      "Real report: indications preop choli chest pain wheezing gastroesophageal reflu disease obstructive apnea obesity findings stable appearing bilateral calcified lymph the cardiac silhouette and mediastinal contours are within normal limits no focal opacity no large pleural effusion there is no pneumothora impressions no acute cardiopulmonary abnormality\n",
      "Predicted report: indications female screening findings normal cardiomediastinal silhouette aortic atherosclerotic the heart stable granulomatous emphysematous changes without focal airspace disease or focal consolidation effusion or focal airspace opacity pleural effusion or pneumothora normal heart size normal cardiomediastinal silhouette and upper cervical degenerative changes of the thoracic spine no visualized osseous structures appear intact impressions no acute cardiopulmonary abnormality of definition of the chest are demonstrated impressions no acute cardiopulmonary finding of the diaphragms no evidence of healed fractures stable mild elevation of the right lower lobe there is significant interval\n",
      "BLEU_1 score: 0.2756018059901614\n",
      "BLEU_2 score: 0.18181475466044947\n",
      "BLEU_3 score: 0.12292400058755598\n",
      "BLEU_4 score: 0.08345138044029335\n",
      "ROUGE-1 score: 0.5909090909090909\n",
      "ROUGE-L score: 0.29545454545454547\n",
      "****************************************************************************************************\n",
      "Real report: indications year old with lymphoma findings the heart and mediastinal silhouettes are within normal limits the lungs are clear without focal airspace opacity large effusion or pneumothora the are grossly intact interval removal of right picc persistent elevation of the left hemidiaphragm impressions no acute visualized cardiopulmonary abnormality\n",
      "Predicted report: indications chest pain findings cardiac and mediastinal contours are within normal limits for size and configuration pulmonary vasculature and mediastinal contours are within normal limits mild degenerative changes along the spine impressions no evidence of acute cardiopulmonary process surgery chest was obtained one projecting over the abdomen impressions no evidence of acute abnormality of lymphoma findings cardiac and mediastinal contours within normal limits the pulmonary and mediastinum are within normal limits there is no pneumothora or pleural effusion impressions negative of lymphoma bmt wu lab\n",
      "BLEU_1 score: 0.33138557351739534\n",
      "BLEU_2 score: 0.21805799028113024\n",
      "BLEU_3 score: 0.14716210286024378\n",
      "BLEU_4 score: 0.09672451234148749\n",
      "ROUGE-1 score: 0.5\n",
      "ROUGE-L score: 0.3333333333333333\n",
      "****************************************************************************************************\n",
      "Real report: indications female with breast mass and smoking history findings the heart size and cardiomediastinal silhouette are normal there is hyperepansion of the lungs with flattening of the hemidiaphragms there is no focal airspace opacity pleural effusion or pneumothora there multilevel degenerative changes of thoracic spine impressions emphysema however no acute cardiopulmonary finding\n",
      "Predicted report: indications nonproductive findings lungs with flattening of the diaphragms no evidence for acute bony abnormality impressions stable appearance of the diaphragms and persistent left midlung impressions no acute findings findings normal cardiomediastinal contours interval there is hyperepansion of mild degenerative disc disease concerning for pneumonia probable pectus carinatum findings lungs remain hyperepanded but clear lungs findings in size there is a few occurs appro once a levoscoliosis impressions no active disease findings lungs are clear\n",
      "BLEU_1 score: 0.4621269423403384\n",
      "BLEU_2 score: 0.3170063096749617\n",
      "BLEU_3 score: 0.2231023064032243\n",
      "BLEU_4 score: 0.154694015361807\n",
      "ROUGE-1 score: 0.5\n",
      "ROUGE-L score: 0.28846153846153844\n",
      "****************************************************************************************************\n",
      "Real report: indications male with dyspnea findings stable enlarged cardiac silhouette persistent bilateral lower lobe airspace disease not significantly compared to prior no pleural effusion or pneumothora no acute bony abnormality impressions no significant change compared to prior bibasilar airspace disease may represent infection or mild edema\n",
      "Predicted report: indications chest pain findings cardiac and mediastinal contours normal mediastinal widening multiple surgical clips are present in the visualized pneumothora or pleural effusion negative for acute displaced rib findings lungs are clear without focal pulmonary consolidation no suspicious pulmonary opacities heart size normal lungs are clear are clear without focal consolidation pleural effusion or pneumothoraces impressions no acute cardiopulmonary abnormality or symptoms findings cardiac and mediastinal contours are normal calcified and sacroiliac joints are normal the lungs are clear impressions no central catheter under pleural fluid the\n",
      "BLEU_1 score: 0.22455766417277528\n",
      "BLEU_2 score: 0.14201819287262452\n",
      "BLEU_3 score: 0.08862348927575806\n",
      "BLEU_4 score: 0.052007535156130734\n",
      "ROUGE-1 score: 0.3111111111111111\n",
      "ROUGE-L score: 0.26666666666666666\n",
      "****************************************************************************************************\n",
      "Real report: indications history of with findings the cardiomediastinal contours are within normal limits pulmonary vasculature is unremarkable there is no focal airspace opacity no pleural effusion or pneumothora is seen no acute bony abnormality is identified impressions no acute cardiopulmonary abnormality\n",
      "Predicted report: indications with epigastric pain findings heart size and cardiomediastinal silhouette stable impressions no acute abnormality bony structures are intact impressions possible right lower lobe airspace consolidation or effusion mild tortuosity of the thora are without acute abnormality is seen the are grossly unremarkable stable foreign body in the thoracic spine the osseous structures are intact impressions normal cardiac contour no acute bony abnormality impressions multiple bronchovascular crowding as clinically with mildly flattened diaphragm impressions normal chest of the bilateral upper etremity picc tip at the\n",
      "BLEU_1 score: 0.2466803790440794\n",
      "BLEU_2 score: 0.16487170964285955\n",
      "BLEU_3 score: 0.11062033101227012\n",
      "BLEU_4 score: 0.07062732346719847\n",
      "ROUGE-1 score: 0.575\n",
      "ROUGE-L score: 0.35\n",
      "****************************************************************************************************\n",
      "Real report: indications difficulty breathing findings the eamination consists of frontal and lateral radiographs of the chest eternal monitor leads the thora the cardiomediastinal contours are within normal limits pulmonary vascularity is within normal limits no focal consolidation pleural effusion or pneumothora identified the visualized osseous structures and upper abdomen are unremarkable impressions no evidence of acute cardiopulmonary process\n",
      "Predicted report: indications multiple eposure findings lungs are opacities are demonstrated within the lungs are clear no pneumothora or pleural effusions there is no effusion or pneumothora heart size and structures of the lungs are clear without infiltrate bilateral airspace disease no focal consolidation pleural effusion or pneumothora the visualized bony structures reveal no large pleural effusion impressions no focal consolidation pneumothora or effusion no acute bony abnormalities impressions no acute cardiopulmonary abnormality of atrial fibrillation findings heart size normal mediastinal contour is unremarkable the lungs are clear without infiltrate no\n",
      "BLEU_1 score: 0.4108890868791719\n",
      "BLEU_2 score: 0.2780822270169917\n",
      "BLEU_3 score: 0.19588679904159972\n",
      "BLEU_4 score: 0.14221612791590232\n",
      "ROUGE-1 score: 0.5087719298245614\n",
      "ROUGE-L score: 0.3684210526315789\n",
      "****************************************************************************************************\n",
      "Real report: indications the patient is a female with findings redemonstration of interstitial opacities consistent with patients history of pulmonary fibrosis unchanged calcified granulomas at the left greater than right hilum and in the pretracheal region no pneumothora pleural effusion or focal airspace consolidation cardiomediastinal size is the upper limits of normal pulmonary vasculature is normal intact impressions interstitial markings bilaterally pulmonary fibrosis unchanged\n",
      "Predicted report: indications shortness of breath findings heart size and soft tissues are grossly normal no focal consolidation suspicious pulmonary nodules or outside the spine seen no pleural effusion demonstrated there is evidence of focal consolidation pneumothora or pleural effusion impressions no evidence of focal airspace disease no pneumothora or pleural effusion no acute bony abnormalities impressions no acute or active cardiac pulmonary or pleural effusion pulmonary edema eaggerated kyphosis impressions no active or active cardiac pulmonary or pleural effusion stable no definite pleural effusion or focal space consolidation no convincing acute bony\n",
      "BLEU_1 score: 0.374104452037039\n",
      "BLEU_2 score: 0.23591962822792353\n",
      "BLEU_3 score: 0.1517054707742092\n",
      "BLEU_4 score: 0.09422653983504813\n",
      "ROUGE-1 score: 0.3548387096774194\n",
      "ROUGE-L score: 0.20967741935483872\n",
      "****************************************************************************************************\n",
      "Real report: indications chest pain mva findings cardiomediastinal silhouette is normal in size and contour pulmonary vasculature is normal in caliber lungs are clear of focal airspace disease pneumothora or pleural effusion there are no acute bony findings impressions no acute cardiopulmonary findings\n",
      "Predicted report: indications chest pain preop knee revision findings heart size is normal the pleural spaces are clear thoracic spondylosis impressions no acute abnormality of food in the right ape is noted in the distal to further evaluate lungs no acute pulmonary abnormality of prostate cancer preoperative prostate surgery findings heart size within normal limits there is no effusion or pneumothoraces impressions no acute findings of food in throat findings lungs suggestive of granulomatous disease no typical findings of pulmonary nodules identified no evidence of\n",
      "BLEU_1 score: 0.3040684550115368\n",
      "BLEU_2 score: 0.1976189579987357\n",
      "BLEU_3 score: 0.12543341413059053\n",
      "BLEU_4 score: 0.07473181947039424\n",
      "ROUGE-1 score: 0.6829268292682927\n",
      "ROUGE-L score: 0.4146341463414634\n",
      "****************************************************************************************************\n",
      "Real report: indications findings heart size normal lungs are clear are normal no pneumonia effusions edema pneumothora adenopathy nodules or masses impressions normal chest\n",
      "Predicted report: indications male with findings no evidence of focal consolidation pleural effusion or pneumothoraces cardiomediastinal silhouette is within normal limits no focal air space opacity pleural effusion or pneumothoraces the osseous structures are intact impressions no acute cardiopulmonary abnormalities or a large pleural effusion mildly hypoinflated but clear bilaterally impressions no evidence of active disease are without acute displaced rib catheter the are intact impressions no acute cardiopulmonary disease or osseous abnormality identified the are intact impressions no radiographic evidence of infiltrate no pleural\n",
      "BLEU_1 score: 0.037873540117809995\n",
      "BLEU_2 score: 0.021866298582181688\n",
      "BLEU_3 score: 0.012828051614962178\n",
      "BLEU_4 score: 0.007288766194060563\n",
      "ROUGE-1 score: 0.45454545454545453\n",
      "ROUGE-L score: 0.4090909090909091\n",
      "****************************************************************************************************\n",
      "Real report: indications shortest breath findings frontal and lateral views of the chest show an unchanged cardiomediastinal silhouette rightsided aortic normal mediastinal contour pulmonary and vasculature central airways and aeration of the lungs there is right basal patchy opacity and bibasal atelectasis or scarring there is no pleural effusion or pneumothora right apical calcified granuloma noted impressions right basal acute airspace disease please correlate clinically for pneumonia chronic interstitial pattern may reflect copd\n",
      "Predicted report: indications male with chest pain findings spinal stimulator lung volumes elevation of the right basilar atelectasis versus atelectasis and central pulmonary edema right basilar nodular opacities in mild congestion hyperinflated lungs but stable appearance of the soft tissues are stable calcified densities consistent with known calcified head with pulmonary prominence and unchanged cardiomediastinal silhouette normal no pleural effusions or masses no pleural effusion or pneumothora no pleural effusions or pneumothora stable there are small bilateral pleural effusion or changes findings mediastinal contours are within normal limits for appearance aortic calcification is\n",
      "BLEU_1 score: 0.49986750408659947\n",
      "BLEU_2 score: 0.32395205044039443\n",
      "BLEU_3 score: 0.21561537894542657\n",
      "BLEU_4 score: 0.1417237886383697\n",
      "ROUGE-1 score: 0.4647887323943662\n",
      "ROUGE-L score: 0.22535211267605634\n",
      "****************************************************************************************************\n",
      "Real report: indications chest pain findings the lungs are clear the cardiomediastinal silhouette is within normal limits no pneumothora or pleural effusion impressions negative chest\n",
      "Predicted report: indications wheezing findings heart size is within normal limits lungs are clear without evidence for acute bone abnormality or kidney disease if old left clavicle shows this may be grossly clear no visible focal airspace disease there is no pleural effusion or pneumothora normal in size and contour no focal consolidation suspicious pulmonary opacities bilaterally specifically no evidence of focal airspace disease pleural effusion no pneumothora or pleural effusion negative for focal consolidation there is no large pleural effusion or pneumothora impressions no acute cardiopulmonary abnormalities of aortic abnormality\n",
      "BLEU_1 score: 0.05294948486670357\n",
      "BLEU_2 score: 0.04037525894372172\n",
      "BLEU_3 score: 0.031314578848472094\n",
      "BLEU_4 score: 0.023433457837841735\n",
      "ROUGE-1 score: 0.6956521739130435\n",
      "ROUGE-L score: 0.5652173913043478\n",
      "****************************************************************************************************\n",
      "Real report: indications female syncope findings the cardiomediastinal silhouette is normal in size and contour no focal consolidation pneumothora or large pleural effusion tspine osteophytes impressions negative for acute abnormality\n",
      "Predicted report: indications female preoperative lung transplant evaluation history of sarcoidosis of obstructive lung disease negative for acute displaced rib fractures are again seen within the right upper lobe measuring cm in diameter lungs otherwise lungs with mildly enlargement of the thoracic aorta mild degenerative changes in the thoracic spine impressions hypoinflation with no focal consolidation no visualized pneumothora is unremarkable the lungs are clear and without evidence for acute bone abnormality impressions left lower lobe no focal infiltrates pulmonary vasculature is within normal limits the lungs are clear bilateral interstitial opacities no acute bony\n",
      "BLEU_1 score: 0.07615282151614793\n",
      "BLEU_2 score: 0.05085279616596026\n",
      "BLEU_3 score: 0.0333131290432214\n",
      "BLEU_4 score: 0.02015469835736262\n",
      "ROUGE-1 score: 0.5714285714285714\n",
      "ROUGE-L score: 0.39285714285714285\n",
      "****************************************************************************************************\n",
      "Real report: indications male with chest pain findings lungs are clear bilaterally with no focal infiltrate pleural effusion or pneumothoraces cardiomediastinal silhouette is within normal limits no acute bony or soft tissue abnormality impressions no acute cardiopulmonary abnormality\n",
      "Predicted report: indications pain findings images calcified granulomas noted at the right upper lobe there is an interim cervical spinal fusion partly evaluated compatible with costodiaphragmatic which may represent vascular congestion emphysema and disc disease possibly edema of intermittent back pain findings heart size and pulmonary vascularity impressions no acute findings of this pain findings tortuosity of the right upper lobe subsegmental atelectasis or adenopathy are also seen on prior eam suggestive of infiltrate there is no focal consolidation pleural effusion or pneumothora identified no focal alveolar consolidation or\n",
      "BLEU_1 score: 0.1710479325340316\n",
      "BLEU_2 score: 0.11373782805162269\n",
      "BLEU_3 score: 0.07379524779990286\n",
      "BLEU_4 score: 0.0443588937303399\n",
      "ROUGE-1 score: 0.4722222222222222\n",
      "ROUGE-L score: 0.3333333333333333\n",
      "****************************************************************************************************\n",
      "Real report: indications with shortness of breath findings no focal consolidation no visualized pneumothora no large pleural effusions the heart size and cardiomediastinal silhouette is grossly unremarkable there is motion artifact on the lateral radiograph impressions no acute cardiopulmonary findings\n",
      "Predicted report: indications male with pulmonary disease findings heart size and pulmonary appear normal impressions no acute related findings there is large pleural effusion or pneumothora there is moderate degenerative disc remains markedly airspace disease since the lungs are grossly intact impressions low lung no acute cardiopulmonary abnormality of chest pain findings normal heart size and mediastinal contours within normal limits impressions stable cardiomegaly small bilateral moderate to moderate sized hiatal hernia no focal consolidation multiple punctate round over the left midlung zone the heart silhouette is within normal\n",
      "BLEU_1 score: 0.24472689563341612\n",
      "BLEU_2 score: 0.17070310057594493\n",
      "BLEU_3 score: 0.11429441775008327\n",
      "BLEU_4 score: 0.07012117462076596\n",
      "ROUGE-1 score: 0.7105263157894737\n",
      "ROUGE-L score: 0.39473684210526316\n",
      "****************************************************************************************************\n",
      "Real report: indications male cva symptoms findings stable cardiomediastinal silhouette with normal heart size and aortic ectasiatortuosity no focal alveolar consolidation no definite pleural effusion seen mild bronchovascular crowding without typical findings of pulmonary edema distal clavicle shortening also present on the previous eam possibly posttraumatic or postsurgical impressions no acute findings\n",
      "Predicted report: indications findings heart size and mediastinal contour are within normal limits the lungs are clear no pneumothora visualized bony structures reveal no definite pleural effusions no pneumothora or large pleural effusion impressions no acute cardiopulmonary abnormalities or recent myocardial infarction increasing dyspnea history of bypass surgery findings heart size and pulmonary vascularity are stable and prominent in appearance suggests a deformities stable streaky opacities heart size and mediastinal contour grossly stable impressions buckling deformity of the subclavian central lungs evidence of tuberculosis edema atypical infection but another tip overlying\n",
      "BLEU_1 score: 0.30298454461507157\n",
      "BLEU_2 score: 0.20026788295025227\n",
      "BLEU_3 score: 0.13076756508026685\n",
      "BLEU_4 score: 0.07877896970808779\n",
      "ROUGE-1 score: 0.42\n",
      "ROUGE-L score: 0.3\n",
      "****************************************************************************************************\n",
      "Real report: indications chest pain findings the heart and lungs have in the interval both lungs are clear and epanded heart and mediastinum normal impressions no active disease\n",
      "Predicted report: indications female followup on eertion findings normal heart size normal impressions stable appearance is clear without focal air space consolidations no focal airspace consolidation or pleural effusion degenerative changes of the left midlung pulmonary nodules a pericardial effusion or pneumothora normal size and contour no focal consolidation pneumothora or pleural effusion cardio mediastinal silhouette is unremarkable calcified right knee no acute infiltrate impressions normal chest of coughing for pulmonary disease of dyspnea findings chest eamination was obtained the heart and lungs demonstrate no acute findings\n",
      "BLEU_1 score: 0.0797441482425135\n",
      "BLEU_2 score: 0.052805882554697994\n",
      "BLEU_3 score: 0.035868237725097646\n",
      "BLEU_4 score: 0.023513742238910118\n",
      "ROUGE-1 score: 0.5769230769230769\n",
      "ROUGE-L score: 0.3076923076923077\n",
      "****************************************************************************************************\n",
      "Real report: indications woman with positive ppd findings the lungs are clear bilaterally specifically no evidence of focal consolidation pneumothora or pleural effusion cardio mediastinal silhouette is unremarkable visualized osseous structures of the thora are without acute abnormality impressions no acute cardiopulmonary abnormality specifically no evidence of active tuberculous process\n",
      "Predicted report: indications findings compared to the cardiomediastinal silhouette is within normal limits for contour impressions no acute cardiopulmonary abnormalities of a woman question of a woman with hiv findings heart size is normal impressions no acute cardiopulmonary abnormality findings stable appearance of the joint disease of nasogastric tube tip may represent neoplastic process or pulmonary nodules consistent with perihilar opacities peribronchial cuffing suggestive of focal consolidation pneumothora or pleural effusions no acute bony abnormality vague density within the lungs are clear bilaterally specifically no\n",
      "BLEU_1 score: 0.4300034064996413\n",
      "BLEU_2 score: 0.32579851436283547\n",
      "BLEU_3 score: 0.25671778075815976\n",
      "BLEU_4 score: 0.2049042758030628\n",
      "ROUGE-1 score: 0.6666666666666666\n",
      "ROUGE-L score: 0.3541666666666667\n",
      "****************************************************************************************************\n",
      "Real report: indications with shortness of breath findings cardiac size mediastinal contour and pulmonary vascularity are within normal limits no focal consolidation suspicious pulmonary opacity pleural effusion or pneumothora the visualized osseous structures appear intact impressions no acute cardiopulmonary abnormalities\n",
      "Predicted report: indications male wheezing in left upper quadrant pain findings the lungs are clear without focal consolidation pleural effusion impressions no acute abnormalities pression low lung volumes lungs are clear the heart size and pulmonary vascular engorgement appear within limits of normal the lungs are clear and clear the heart size and pulmonary vascularity impressions no acute cardiopulmonary abnormality of definition of left upper etremity edema it is a rounded calcified granuloma is identified no visible free air under the right perihilar and abdomen was shielded for this is for further characterization\n",
      "BLEU_1 score: 0.20264419508217732\n",
      "BLEU_2 score: 0.13509857884585344\n",
      "BLEU_3 score: 0.09040872357665823\n",
      "BLEU_4 score: 0.057686806927618364\n",
      "ROUGE-1 score: 0.631578947368421\n",
      "ROUGE-L score: 0.3684210526315789\n",
      "****************************************************************************************************\n",
      "Real report: indications female with findings the cardiac and mediastinal silhouettes are unremarkable the lungs are well epanded and clear there are no focal air space opacities there is no pneumothora or effusion there are mild degenerative changes of the thoracic spine impressions no evidence of acute cardiopulmonary process stable appearance of the chest\n",
      "Predicted report: indications shortness of breath findings heart mediastinum is unremarkable stable mediastinal contours are within normal limits stable nodular densities overlying eternal cardiac radiodense foreign bodies impressions no evidence of active disease of smoking ro infiltratemass findings heart size and pulmonary vasculature are within normal limits lung volumes bilaterally no focal airspace consolidation no pneumothora or pleural effusion there is no evidence of focal consolidation pneumothora or pleural effusions there is no pneumothora or pleural effusion mild degenerative disc disease of impressions no active cardiopulmonary disease\n",
      "BLEU_1 score: 0.39487252153699226\n",
      "BLEU_2 score: 0.2695085746804015\n",
      "BLEU_3 score: 0.18880426894792662\n",
      "BLEU_4 score: 0.13048045652621557\n",
      "ROUGE-1 score: 0.5384615384615384\n",
      "ROUGE-L score: 0.40384615384615385\n",
      "****************************************************************************************************\n",
      "Real report: indications bone marrow transplant evaluation findings the heart size and pulmonary vascularity appear within normal limits the lungs are free of focal airspace disease no pleural effusion or pneumothora is seen a few bandlike opacities are present which are to represent small areas of scarring or atelectasis there is eventration of the right hemidiaphragm calcified granuloma is present in the left lung impressions no evidence of active disease\n",
      "Predicted report: indications findings stable cardiomediastinal silhouette is identified surgical clips but not ecluded from impressions stable appearance of the spine impressions no evidence of focal airspace disease no pneumothora pleural effusion or pneumothora there are calcified mediastinal contours with mild rightsided chest show an unchanged cardiomediastinal silhouette there is no pneumothora or pleural effusions there are calcified mediastinal and tortuous calcified thoracic spine impressions stable appearance of the knee severe underlying emphysematous versus true pulmonary nodules no confluent airspace consolidation is seen are noted impressions prominent interstitial markings without evidence\n",
      "BLEU_1 score: 0.508236453220318\n",
      "BLEU_2 score: 0.3513303461659577\n",
      "BLEU_3 score: 0.2496344079642835\n",
      "BLEU_4 score: 0.17303862511785031\n",
      "ROUGE-1 score: 0.45588235294117646\n",
      "ROUGE-L score: 0.3088235294117647\n",
      "****************************************************************************************************\n",
      "Real report: indications male with chest pain findings stable cardiomediastinal silhouette mild patchy right upper lobe opacities similar to slightly improved from left lung clear no pleural effusion or pneumothora impressions persistent mild right upper lobe infiltrate similar to slightly improved from left lung grossly clear\n",
      "Predicted report: indications gunshot wound findings overall heart which appears clear focal airspace disease of chest pain findings the lungs are overall heart size is unremarkable visualized visualized visualized osseous structures and visualized of the thoracic spine impressions mild hypoinflation with elevated right hemidiaphragm lungs are grossly clear intact midline the lungs are grossly clear multilevel degenerative changes of the thoracolumbar spine impressions right middle lobe crackles known syncopal episode findings mild chronic obstructive pulmonary infiltrate of t and vomiting findings sternotomy identified visualized\n",
      "BLEU_1 score: 0.24617140831288403\n",
      "BLEU_2 score: 0.15309357708264199\n",
      "BLEU_3 score: 0.09510438633029374\n",
      "BLEU_4 score: 0.0556856289577977\n",
      "ROUGE-1 score: 0.38636363636363635\n",
      "ROUGE-L score: 0.2727272727272727\n",
      "****************************************************************************************************\n",
      "Real report: indications findings the heart size and pulmonary vascularity appear within normal limits the lungs are free of focal airspace disease no pleural effusion or pneumothora is seen calcified granuloma are noted a few opacities are present consistent with of scarring or atelectasis impressions a few basilar of opacity this may represent scarring or atelectasis\n",
      "Predicted report: indications male with chest pain rt scapular area findings the lungs are clear without infiltrate there is minimal degenerative changes of the thoracic spine impressions stable appearance of diaphragms and a calcified granulomas visualized osseous structures are grossly intact impressions no acute cardiopulmonary abnormality of aortic valve prosthesis partly evaluated a deep sulcus sign on this could be secondary to overlapping shadows lungs with flattening of the chest of lower lung lesions versus displaced rib fracture or skeletal abnormality stable calcified granuloma lungs are clear no pleural effusion or\n",
      "BLEU_1 score: 0.3587874524489627\n",
      "BLEU_2 score: 0.23405019685031733\n",
      "BLEU_3 score: 0.15409677314735334\n",
      "BLEU_4 score: 0.09677537408498055\n",
      "ROUGE-1 score: 0.48148148148148145\n",
      "ROUGE-L score: 0.25925925925925924\n",
      "****************************************************************************************************\n",
      "Real report: indications findings the cardiomediastinal silhouette and vasculature are within normal limits for size and contour the lungs are normally inflated and clear osseous structures are within normal limits for patient age impressions no acute radiographic cardiopulmonary process\n",
      "Predicted report: indications dyspnea findings the cardiomediastinal silhouette is normal no pleural effusions no effusion is seen no acute bony abnormality impressions no acute cardiopulmonary abnormality demonstrated and bronchovascular crowding with chronic scarring identified cardiomegaly cardio mediastinal silhouette pulmonary vascularity is within normal limits in size and mediastinum are normal the lungs are normally inflated and clear without focal pulmonary nodules and left basilar atelectasis stable irregularity of both lower abdomen was shielded for further characterization of findings the heart pulmonary vascularity is within normal limits no focal consolidation pneumothora or pleural effusion\n",
      "BLEU_1 score: 0.22491881982613285\n",
      "BLEU_2 score: 0.17199654410356788\n",
      "BLEU_3 score: 0.13253151259316956\n",
      "BLEU_4 score: 0.10029843576388353\n",
      "ROUGE-1 score: 0.7297297297297297\n",
      "ROUGE-L score: 0.5945945945945946\n",
      "****************************************************************************************************\n",
      "Real report: indications male with continued evaluate for pneumonia findings leftsided icd device and leads are stable stable enlarged cardiac silhouette no focal airspace consolidation pneumothora or pleural effusion no acute bony abnormality impressions stable cardiomegaly without acute cardiopulmonary disease\n",
      "Predicted report: indications with hematemesis findings no pneumothora no acute osseous abnormalities identified impressions no acute cardiopulmonary consolidating airspace disease bilateral interstitial opacities tracheostomy tube has been placed previous eam trachea is seen surgical clips at in the head obliquely oriented lucency right shoulder and atelectasis no nodules or masses no acute osseous findings stable cardiomegaly vascular calcifications are hypoinflated with surgical changes are identified in the left cardiac shift the lungs are clear without evidence of acute cardiopulmonary abnormality of part of small osteophytes the lungs are clear and epanded\n",
      "BLEU_1 score: 0.18584281251893894\n",
      "BLEU_2 score: 0.11324726895154946\n",
      "BLEU_3 score: 0.06748695081846375\n",
      "BLEU_4 score: 0.03878178375612655\n",
      "ROUGE-1 score: 0.5526315789473685\n",
      "ROUGE-L score: 0.3684210526315789\n",
      "****************************************************************************************************\n",
      "Real report: indications male for massinfiltrate findings the cardiomediastinal silhouette is within normal limits for size pulmonary vasculature is within normal limits no focal consolidations effusions or pneumothoraces no acute bony abnormality impressions no acute cardiopulmonary abnormality\n",
      "Predicted report: indications preoperative evaluation findings normal heart size and mediastinal contours are within normal limits impressions no active disease of prostate cancer with findings the lungs are clear or old hypertension findings normal heart size and mediastinal contours are within normal limits in size within normal limits stable mediastinal and hilar vascular prominence may reflect pulmonary nodule no acute bone abnormality impressions no acute cardiopulmonary abnormality of prostate cancer findings the cardiomediastinal silhouette is within normal limits impressions no acute\n",
      "BLEU_1 score: 0.2666964841407985\n",
      "BLEU_2 score: 0.20807527614238822\n",
      "BLEU_3 score: 0.16884002383107727\n",
      "BLEU_4 score: 0.1388845065546278\n",
      "ROUGE-1 score: 0.6857142857142857\n",
      "ROUGE-L score: 0.5142857142857142\n",
      "****************************************************************************************************\n",
      "Real report: indications sore throat headache findings cardiomediastinal silhouette and pulmonary vasculature are within normal limits lungs are clear no pneumothora or pleural effusion no acute osseous findings impressions no acute cardiopulmonary findings\n",
      "Predicted report: indications difficulty breathing findings images mild degenerative endplate changes in the right upper lobe rounded lucency that is again seen in the posterior right th rib the left th rib with a female with pain findings images calcified right upper lobe pulmonary nodules concerning for fracture soft tissues and cardiomediastinal silhouette is stable and soft tissues are within normal limits no focal consolidation pleural effusion or pneumothora no displaced rib fractures may not evident no convincing acute bony abnormality again most if there is a calcified granuloma in right th posterior th rib and th\n",
      "BLEU_1 score: 0.10118539919698127\n",
      "BLEU_2 score: 0.06649215032400249\n",
      "BLEU_3 score: 0.044257851094763656\n",
      "BLEU_4 score: 0.028485387628255258\n",
      "ROUGE-1 score: 0.6129032258064516\n",
      "ROUGE-L score: 0.4838709677419355\n",
      "****************************************************************************************************\n",
      "Real report: indications findings the lungs are clear there is no pleural effusion or pneumothora the heart and mediastinum are normal the skeletal structures are normal impressions no acute pulmonary disease\n",
      "Predicted report: indications icd placement findings no focal airspace consolidation or pleural effusion impressions no evidence of breath findings no pleural effusion or pneumothora there are arthritic changes of the aorta tspine osteophytes impressions no evidence of active consolidation no visible pleural effusion or pneumothora there is a tortuous and grossly intact impressions no evidence of active disease of several illdefined within the right hemidiaphragm noted degenerative changes are seen probable mild degenerative changes of the spine impressions no acute cardiopulmonary abnormality of the thoracic\n",
      "BLEU_1 score: 0.13258394241505275\n",
      "BLEU_2 score: 0.0926987452129542\n",
      "BLEU_3 score: 0.06643733817917555\n",
      "BLEU_4 score: 0.047046126100296994\n",
      "ROUGE-1 score: 0.6551724137931034\n",
      "ROUGE-L score: 0.4827586206896552\n",
      "****************************************************************************************************\n",
      "Real report: indications male assault findings the heart size and mediastinal contours appear within normal limits low lung volumes on the ap view with bronchovascular crowding and bibasilar atelectasis no focal airspace consolidation pleural effusions or pneumothora no acute bony abnormalities impressions no acute cardiopulmonary findings\n",
      "Predicted report: indications findings and lateral radiographs of which does not of the spine of the sternum in the right upper lobe calcified granuloma noted in the right posterior rib mass highly concerning for dissection possible nodules for further evaluation of the chest is recommended for further evaluation is present the to descending thoracic aorta tspine osteophytes of chest pain tachycardia findings the heart is not enlarged the osseous structures are grossly intact impressions right no pneumothora impressions no acute findings there is no effusion\n",
      "BLEU_1 score: 0.23134522948622757\n",
      "BLEU_2 score: 0.14936617941825378\n",
      "BLEU_3 score: 0.09661764138230189\n",
      "BLEU_4 score: 0.05776073772509392\n",
      "ROUGE-1 score: 0.3181818181818182\n",
      "ROUGE-L score: 0.25\n",
      "****************************************************************************************************\n",
      "Real report: indications fu aspiration findings the lungs appear clear no evidence of focal pneumonia the heart and pulmonary are normal there is suture material at the left ape suggesting prior lung surgery in the pleural spaces are clear mediastinal contours appear normal impressions no evidence of pneumonia or aspiration suture material along left ape suggesting prior lung surgery\n",
      "Predicted report: indications preoperative evaluation prolapse preop findings there is no pleural effusion or pneumothora there is no pleural effusion or pneumothora is seen impressions no evidence of tuberculosis cholecystectomy history of several inferior rib fracture dislocation right upper lobe pneumonia recommend ct scan followup of the spine impressions no evidence of breath findings bilateral pleural effusions or pelvis radiographs findings lungs are clear bony structures are intact impressions no evidence of active disease of prostate cancer\n",
      "BLEU_1 score: 0.4355021799803487\n",
      "BLEU_2 score: 0.2867525568125118\n",
      "BLEU_3 score: 0.19047809725379208\n",
      "BLEU_4 score: 0.12014334809666105\n",
      "ROUGE-1 score: 0.3333333333333333\n",
      "ROUGE-L score: 0.24561403508771928\n",
      "****************************************************************************************************\n",
      "Real report: indications hemoptysis findings heart size normal lungs are clear are normal no pneumonia effusions edema pneumothora adenopathy nodules or masses impressions normal chest\n",
      "Predicted report: indications male with abdominal pain findings heart size is otherwise grossly unremarkable impressions no acute cardiopulmonary abnormality of chronic findings lungs are clear without focal consolidation visible pneumothora no visible pleural fluid mild bilateral reticulonodular interstitial markings are numerous calcifications remain chronic lungs otherwise no focal consolidation cardiomediastinal silhouette and mediastinal contours are normal calcified mediastinal widening the lungs are clear without focal consolidation there is no focal alveolar consolidation no large pleural effusion or pneumothora impressions hyperepanded lungs without acute abnormality of smoking findings\n",
      "BLEU_1 score: 0.05304711968342934\n",
      "BLEU_2 score: 0.036372044489870484\n",
      "BLEU_3 score: 0.02425415582950394\n",
      "BLEU_4 score: 0.014817676897219776\n",
      "ROUGE-1 score: 0.6086956521739131\n",
      "ROUGE-L score: 0.5652173913043478\n",
      "****************************************************************************************************\n",
      "Real report: indications and congestion for months findings there are tspine osteophytes small nodule projecting near the left heart is unchanged from and appears calcified this represents a calcified granuloma the cardiomediastinal silhouette and pulmonary vasculature are within normal limits there is no pneumothora or pleural effusion there are no focal areas of consolidation impressions no acute cardiopulmonary abnormality\n",
      "Predicted report: indications male history of pneumonia findings normal heart size and soft recess effusions impressions no acute abnormality of smoking findings the lungs are clear bilaterallythere is hyperinflation of the skeletal structures appear intact impressions no acute cardiopulmonary abnormality findings lungs are hyperepanded heart size mediastinal contours are normal impressions no acute cardiopulmonary abnormality findings heart size contours are within normal limits lungs are clear thoracic spondylosis impressions no acute cardiopulmonary abnormality of smoking history of\n",
      "BLEU_1 score: 0.45255979290491555\n",
      "BLEU_2 score: 0.303349664568407\n",
      "BLEU_3 score: 0.21452335919132934\n",
      "BLEU_4 score: 0.14952835083243535\n",
      "ROUGE-1 score: 0.40350877192982454\n",
      "ROUGE-L score: 0.2807017543859649\n",
      "****************************************************************************************************\n",
      "Real report: indications left side chest wall pain findings the lungs are clear the heart and pulmonary are normal the pleural spaces are clear mediastinal contours are normal impressions no acute cardiopulmonary disease\n",
      "Predicted report: indications chest pain findings no effusion or airspace consolidation heart size and pulmonary vascularity within normal limits there are no focal areas of consolidation no suspicious pulmonary mass or cortical this is obese impressions no evidence of metastatic disease of smoking l carotid artery findings lungs are clear the heart and pulmonary vascularity appear within normal limits pulmonary vascularity is within normal limits there is mild degenerative endplate changes of the spine impressions no acute cardiopulmonary process of prostate cancer findings no evidence of effusion\n",
      "BLEU_1 score: 0.15320489960990955\n",
      "BLEU_2 score: 0.11386573662175217\n",
      "BLEU_3 score: 0.0887029645419019\n",
      "BLEU_4 score: 0.06968622804977065\n",
      "ROUGE-1 score: 0.6451612903225806\n",
      "ROUGE-L score: 0.5483870967741935\n",
      "****************************************************************************************************\n",
      "Real report: indications male pain findings heart size within normal limits stable mediastinal and hilar contours no focal alveolar consolidation no definite pleural effusion seen no typical findings of pulmonary edema no pneumothora impressions no acute findings\n",
      "Predicted report: indications rule out pneumonia positive ppd findings heart size and pulmonary vasculature are within normal limits for size and contour no focal consolidation suspicious pulmonary nodules or masses no convincing acute bony findings impressions hiatal hernia or infiltrates there is a calcified granuloma seen partially visualized on prior granulomatous disease is seen impressions heart size and mediastinal contours are unremarkable no focal consolidation pleural effusion or pneumothora is seen no convincing acute bony abnormality impressions vague density overlying left upper lung base may be evaluated further shadows lungs of\n",
      "BLEU_1 score: 0.18772191916374983\n",
      "BLEU_2 score: 0.12373828460409957\n",
      "BLEU_3 score: 0.07921784715444781\n",
      "BLEU_4 score: 0.04744276951760797\n",
      "ROUGE-1 score: 0.7142857142857143\n",
      "ROUGE-L score: 0.5142857142857142\n",
      "****************************************************************************************************\n",
      "Real report: indications pain weakness findings there are tspine osteophytes there calcified costochondral cartilages there is loss of disc of a midthoracic vertebral body there are streaky opacities in both lung bases which may represent atelectasis or scarring no pneumothora the heart is borderline enlarged impressions borderline cardiomegaly ageindeterminate chronic deformity in the midthoracic spine\n",
      "Predicted report: indications dyspnea findings the cardiac contours are stable there are atherosclerotic disease there is minimal degenerative changes of the spine impressions no acute cardiopulmonary abnormality of smoking and dizziness findings the cardiac contours are normal the lungs are free of acute cardiopulmonary disease of subsegmental atelectasis no acute infiltrate or effusion impressions no acute process of t findings there are patchy airspace consolidation changes of the aorta the lungs are grossly clear lungs no lobar pneumonia there are atherosclerotic changes of the spine\n",
      "BLEU_1 score: 0.3323669474752261\n",
      "BLEU_2 score: 0.20711024726803204\n",
      "BLEU_3 score: 0.12799773524102842\n",
      "BLEU_4 score: 0.07475146960719917\n",
      "ROUGE-1 score: 0.3584905660377358\n",
      "ROUGE-L score: 0.3018867924528302\n",
      "****************************************************************************************************\n",
      "Real report: indications preop neck surgery findings heart size and mediastinal contour normal lungs are clear pulmonary vascularity normal no pleural effusions or pneumothoraces minimal degenerative changes thoracic spine impressions no acute cardiopulmonary process\n",
      "Predicted report: indications with productive findings there are minimal degenerative changes of the right and upper lung zones no focal infiltrate there is no effusion or edema there is no evidence of infiltrate there is no pneumothora there are no focal consolidation no suspicious pulmonary opacity or effusion there is no effusion or pleural effusion is identified there is a right uppermid lung mass or adenopathy findings the lungs are clear without evidence for acute abnormality impressions negative for active disease findings the trachea is midline normal heart size\n",
      "BLEU_1 score: 0.140371633360812\n",
      "BLEU_2 score: 0.09208916932596063\n",
      "BLEU_3 score: 0.059581438671653365\n",
      "BLEU_4 score: 0.035812341290764146\n",
      "ROUGE-1 score: 0.625\n",
      "ROUGE-L score: 0.34375\n",
      "****************************************************************************************************\n",
      "Real report: indications female pain findings heart size within normal limits no focal alveolar consolidation no definite pleural effusion seen no typical findings of pulmonary edema no pneumothora impressions no acute cardiopulmonary findings\n",
      "Predicted report: indications findings the lungs appear clear impressions no acute pulmonary abnormality or tb findings heart size borderline enlarged pulmonary vascularity within normal limits impressions negative for acute disease of the chest of the chest of body findings heart size and pulmonary are normal impressions no acute pulmonary abnormality of the vertebral body this is again seen throughout the spine impressions no evidence for acute abnormality findings heart size and pulmonary vasculature\n",
      "BLEU_1 score: 0.210676972336623\n",
      "BLEU_2 score: 0.14373245050373673\n",
      "BLEU_3 score: 0.09652796054183554\n",
      "BLEU_4 score: 0.05916004957246321\n",
      "ROUGE-1 score: 0.5483870967741935\n",
      "ROUGE-L score: 0.45161290322580644\n",
      "****************************************************************************************************\n",
      "Real report: indications female with dyspnea findings there are patchy alveolar and interstitial opacities within the lung bases bilaterally representing an infectious etiology versus chronic lung disease there is no evidence of pneumothora or large pleural effusion the cardiac silhouette is enlarged there are atherosclerotic calcifications of the aortic there are degenerative changes throughout the thoracic spine impressions patchy alveolar and interstitial opacities within the lung bases bilaterally representing an infectious etiology versus chronic lung disease\n",
      "Predicted report: indications findings there are degenerative changes of the spine are grossly intact impressions bilateral interstitial markings impressions streaky left basilar atelectasis lungs are opacities most notably in the spine impressions no acute cardiopulmonary abnormalities of knee surgery findings the cardiomediastinal silhouette is within normal limits lungs are clear mediastinal contours are within normal limits aorta is atherosclerotic calcifications aorta degenerative changes in the aorta there is mild degenerative changes of the posterior spine multiple surgical clips are present at the cardiomediastinal silhouette is mildly enlarged the lungs are clear\n",
      "BLEU_1 score: 0.5190546017853621\n",
      "BLEU_2 score: 0.33631753617393634\n",
      "BLEU_3 score: 0.21784488170215094\n",
      "BLEU_4 score: 0.13465856929027004\n",
      "ROUGE-1 score: 0.44594594594594594\n",
      "ROUGE-L score: 0.3108108108108108\n",
      "****************************************************************************************************\n",
      "Real report: indications female onset chest pain findings the cardiomediastinal silhouette is within normal limits for size and contour the lungs are normally inflated without evidence of focal airspace disease pleural effusion or pneumothora no acute osseus abnormality impressions no acute cardiopulmonary process\n",
      "Predicted report: indications productive findings the lungs are clear without evidence of abnormal radiodense foreign bodies impressions no acute cardiopulmonary abnormality of eamination persistent findings the lungs are clear bilaterally specifically no evidence of focal consolidation pneumothora or pleural effusion cardio mediastinal contour and soft tissues grossly intact impressions changes of the cardiopulmonary abnormality of chest pain findings the lungs are clear and epanded heart and mediastinum are normal impressions low lung volumes without acute abnormalities impressions cardiomegaly findings\n",
      "BLEU_1 score: 0.35578818302155263\n",
      "BLEU_2 score: 0.2565694755913329\n",
      "BLEU_3 score: 0.1849835600513754\n",
      "BLEU_4 score: 0.1242343972289625\n",
      "ROUGE-1 score: 0.6341463414634146\n",
      "ROUGE-L score: 0.34146341463414637\n",
      "****************************************************************************************************\n",
      "Real report: indications transplant evaluation findings the heart size and pulmonary vascularity appear within normal limits the lungs are free of focal airspace disease no pleural effusion or pneumothora is seen impressions no evidence of active disease\n",
      "Predicted report: indications shortness of breath findings the heart is normal in size and contour the lungs are clear heart size and pulmonary vascularity within normal limits lungs are clear bony structures are intact impressions no acute cardiopulmonary abnormality of etoh assess line pain findings cardiomediastinal silhouettes are unremarkable stable bilateral hilar and incidentally without acute osseous abnormality pathologic calcifications hip joint space consolidation no visible free of focal airspace disease pleural effusion or pneumothora old healed left lateral th and scarring and is noted impressions normal chest of\n",
      "BLEU_1 score: 0.23610432369158835\n",
      "BLEU_2 score: 0.1842555716286535\n",
      "BLEU_3 score: 0.14295902100932614\n",
      "BLEU_4 score: 0.10667649536841074\n",
      "ROUGE-1 score: 0.8\n",
      "ROUGE-L score: 0.7142857142857143\n",
      "****************************************************************************************************\n",
      "Real report: indications the patient is a male with shortness of breath history of smoking years ago findings no pneumothora pleural effusion or airspace consolidation cardiomediastinal size is within normal limits intact impressions no acute cardiopulmonary abnormality\n",
      "Predicted report: indications male preoperative eam for total knee replacement findings there is mild tortuosity of the thoracic aorta the descending thoracic aorta impressions stable medial right basilar atelectasis or cabg with adjacent focal airspace opacity large pleural effusion of prior granulomatous disease and several of frontal and lateral radiographs of the spine impressions no evidence for acute abnormality of obstructive pulmonary disease or dislocation of the proimal lateral shoulder rotator of cabg and calcified granuloma noted impressions no evidence for\n",
      "BLEU_1 score: 0.192512311229211\n",
      "BLEU_2 score: 0.11587687554524541\n",
      "BLEU_3 score: 0.06881683919476524\n",
      "BLEU_4 score: 0.039438916015951474\n",
      "ROUGE-1 score: 0.4857142857142857\n",
      "ROUGE-L score: 0.2571428571428571\n",
      "****************************************************************************************************\n",
      "Average BLEU-1 score on the test data is 0.2737462573871799\n",
      "Average BLEU-2 score on the test data is 0.18315010680631083\n",
      "Average BLEU-3 score on the test data is 0.12439528770413938\n",
      "Average BLEU-4 score on the test data is 0.08208998538449708\n",
      "Average rouge_1 score on the test data is 0.5207657754143814\n",
      "Average rouge_l score on the test data is 0.3585564380163052\n"
     ]
    }
   ],
   "source": [
    "# BLEU 1-4\n",
    "\n",
    "index = len(img_name_val)\n",
    "cols = ['image', 'real', 'pred', 'bleu_1', 'bleu_2', 'bleu_3', 'bleu_4', 'rouge_1', 'rouge_l']\n",
    "dat = pd.DataFrame(columns=cols)\n",
    "\n",
    "# Инициализируем переменные для суммирования метрик\n",
    "bleu_scores = [0] * len(weights)\n",
    "\n",
    "# Создаем список весов для BLEU-1 до BLEU-4\n",
    "weights = [\n",
    "    (1, 0, 0, 0),    # BLEU-1\n",
    "    (0.5, 0.5, 0, 0),  # BLEU-2\n",
    "    (0.33, 0.33, 0.33, 0),  # BLEU-3\n",
    "    (0.25, 0.25, 0.25, 0.25)  # BLEU-4\n",
    "]\n",
    "\n",
    "rouge_1 = 0\n",
    "rouge_l = 0\n",
    "bleu_1_scores = []\n",
    "bleu_2_scores = []\n",
    "bleu_3_scores = []\n",
    "bleu_4_scores = []\n",
    "\n",
    "nums = 50\n",
    "\n",
    "dfs = []\n",
    "\n",
    "for j in range(nums):\n",
    "    image = img_name_val[j]\n",
    "\n",
    "    real_caption = [tf.compat.as_text(index_to_word(i).numpy())\n",
    "                            for i in cap_val[j] if i not in [0]]\n",
    "\n",
    "    result, attention_plot = evaluate(image)\n",
    "\n",
    "    # removing the start and end tags we initially added\n",
    "    rem = ['startseq', 'start', 'end', 'endseq']\n",
    "\n",
    "    real_caption  = [x for x in real_caption if x not in rem]\n",
    "    result  = [x for x in result if x not in rem]\n",
    "\n",
    "    print(f'Real report: {\" \".join([i for i in real_caption])}')\n",
    "    print(f'Predicted report: {\" \".join(result)}')\n",
    "\n",
    "    chencherry = SmoothingFunction()\n",
    "    bleu_scores = [0] * len(weights)\n",
    "\n",
    "    for i, weight in enumerate(weights):\n",
    "        bleu_scores[i] = sentence_bleu([result], real_caption, weights=weight,\n",
    "                                       smoothing_function=chencherry.method5)\n",
    "    bleu_1_scores.append(bleu_scores[0])\n",
    "    bleu_2_scores.append(bleu_scores[1])\n",
    "    bleu_3_scores.append(bleu_scores[2])\n",
    "    bleu_4_scores.append(bleu_scores[3])\n",
    "\n",
    "    scorer = rouge_scorer.RougeScorer(['rouge1', 'rougeL'], use_stemmer=True)\n",
    "    rouge_scores = scorer.score(' '.join(result), ' '.join(real_caption))\n",
    "    rouge_1 += rouge_scores['rouge1'].precision\n",
    "    rouge_l += rouge_scores['rougeL'].precision\n",
    "\n",
    "    real_cap =  ' '.join([i for i in real_caption])\n",
    "    pred_cap = ' '.join(result)\n",
    "\n",
    "    temp_df = pd.DataFrame({'image': [image],\n",
    "                            'real': [real_cap],\n",
    "                            'pred': [pred_cap],\n",
    "                            'bleu_1': [bleu_scores[0]],\n",
    "                            'bleu_2': [bleu_scores[1]],\n",
    "                            'bleu_3': [bleu_scores[2]],\n",
    "                            'bleu_4': [bleu_scores[3]],\n",
    "                            'rouge_1': [rouge_scores['rouge1'].precision],\n",
    "                            'rouge_l': [rouge_scores['rougeL'].precision]})\n",
    "\n",
    "    dfs.append(temp_df)\n",
    "\n",
    "    print('BLEU_1 score:', bleu_scores[0])\n",
    "    print('BLEU_2 score:', bleu_scores[1])\n",
    "    print('BLEU_3 score:', bleu_scores[2])\n",
    "    print('BLEU_4 score:', bleu_scores[3])\n",
    "    print(\"ROUGE-1 score:\", rouge_scores['rouge1'].precision)\n",
    "    print(\"ROUGE-L score:\", rouge_scores['rougeL'].precision)\n",
    "\n",
    "    print(f\"{'*' * 100}\")\n",
    "\n",
    "average_bleu_1 = sum(bleu_1_scores) / nums\n",
    "average_bleu_2 = sum(bleu_2_scores) / nums\n",
    "average_bleu_3 = sum(bleu_3_scores) / nums\n",
    "average_bleu_4 = sum(bleu_4_scores) / nums\n",
    "\n",
    "# Вывод средних значений метрик BLEU\n",
    "print(f\"Average BLEU-1 score on the test data is {average_bleu_1}\")\n",
    "print(f\"Average BLEU-2 score on the test data is {average_bleu_2}\")\n",
    "print(f\"Average BLEU-3 score on the test data is {average_bleu_3}\")\n",
    "print(f\"Average BLEU-4 score on the test data is {average_bleu_4}\")\n",
    "print(f\"Average rouge_1 score on the test data is {rouge_1 / nums}\")\n",
    "print(f\"Average rouge_l score on the test data is {rouge_l / nums}\")\n",
    "\n",
    "dat = pd.concat(dfs, ignore_index=True)\n",
    "\n",
    "# Сохраняем DataFrame в файл CSV\n",
    "dat.to_csv('/content/drive/MyDrive/shikha version/data/real_vs_predicted.csv', index=False)"
   ]
  },
  {
   "cell_type": "code",
   "execution_count": null,
   "metadata": {
    "id": "DSMjVmWdTa9Q"
   },
   "outputs": [],
   "source": [
    "# index = len(img_name_val)\n",
    "# cols = ['image', 'real', 'pred', 'bleu', 'rouge_1', 'rouge_l']\n",
    "# dat = pd.DataFrame(columns=cols)\n",
    "\n",
    "# bl = 0\n",
    "# rouge_1 = 0\n",
    "# rouge_l = 0\n",
    "\n",
    "# df_predicted_res = pd.DataFrame()\n",
    "\n",
    "# nums = 50\n",
    "\n",
    "# for j in range(nums):\n",
    "#     image = img_name_val[j]\n",
    "\n",
    "#     real_caption = [tf.compat.as_text(index_to_word(i).numpy())\n",
    "#                             for i in cap_val[j] if i not in [0]]\n",
    "\n",
    "#     result, attention_plot = evaluate(image)\n",
    "\n",
    "#     # removing the start and end tags we initially added\n",
    "#     rem = ['startseq', 'start', 'end', 'endseq']\n",
    "\n",
    "#     real_caption  = [x for x in real_caption if x not in rem]\n",
    "#     result  = [x for x in result if x not in rem]\n",
    "\n",
    "#     print('Real report: ', ' '.join([i for i in real_caption]))\n",
    "#     print('Predicted report: ', ' '.join(result))\n",
    "\n",
    "#     chencherry = SmoothingFunction()\n",
    "#     bl += sentence_bleu([result], real_caption, weights=(1, 0, 0, 0), smoothing_function=chencherry.method5)\n",
    "#     scorer = rouge_scorer.RougeScorer(['rouge1', 'rougeL'], use_stemmer=True)\n",
    "#     rouge_scores = scorer.score(' '.join(result), ' '.join(real_caption))\n",
    "#     rouge_1 += rouge_scores['rouge1'].precision\n",
    "#     rouge_l += rouge_scores['rougeL'].precision\n",
    "\n",
    "#     print('Bleu score: ', sentence_bleu([result], real_caption, weights=(1, 0, 0, 0), smoothing_function=chencherry.method5))\n",
    "#     print(\"ROUGE-1 score:\", rouge_scores['rouge1'].precision)\n",
    "#     print(\"ROUGE-L score:\", rouge_scores['rougeL'].precision)\n",
    "\n",
    "#     real_cap =  ' '.join([i for i in real_caption])\n",
    "#     pred_cap = ' '.join(result)\n",
    "#     dat = dat.append({'image': image,\n",
    "#                       'real': real_cap,\n",
    "#                       'pred': pred_cap,\n",
    "#                       'bleu': sentence_bleu([result], real_caption, weights=(1, 0, 0, 0), smoothing_function=chencherry.method5),\n",
    "#                       'rouge_1': rouge_scores['rouge1'].precision,\n",
    "#                       'rouge_l': rouge_scores['rougeL'].precision}, ignore_index=True)\n",
    "#     print('*' * 100)\n",
    "\n",
    "# print(\"Average bleu score on the test data is \", bl / nums)\n",
    "# print(\"Average rouge_1 score on the test data is \", rouge_1 / nums)\n",
    "# print(\"Average rouge_l score on the test data is \", rouge_l / nums)\n",
    "\n",
    "# dat.to_csv('/content/drive/MyDrive/shikha version/data/real_vs_predicted.csv')\n"
   ]
  },
  {
   "cell_type": "code",
   "execution_count": null,
   "metadata": {
    "colab": {
     "base_uri": "https://localhost:8080/"
    },
    "id": "f5KAJkJHYViR",
    "outputId": "11d7a84c-36f9-4daf-ad5e-ee05a402fa85"
   },
   "outputs": [
    {
     "data": {
      "application/vnd.google.colaboratory.intrinsic+json": {
       "summary": "{\n  \"name\": \"prediction\",\n  \"rows\": 50,\n  \"fields\": [\n    {\n      \"column\": \"image\",\n      \"properties\": {\n        \"dtype\": \"string\",\n        \"num_unique_values\": 50,\n        \"samples\": [\n          \"/content/images/images_normalized/1193_IM-0129-1001.dcm.png\",\n          \"/content/images/images_normalized/3593_IM-1772-2001.dcm.png\",\n          \"/content/images/images_normalized/3671_IM-1827-2001.dcm.png\"\n        ],\n        \"semantic_type\": \"\",\n        \"description\": \"\"\n      }\n    },\n    {\n      \"column\": \"real\",\n      \"properties\": {\n        \"dtype\": \"string\",\n        \"num_unique_values\": 49,\n        \"samples\": [\n          \"indications male with dyspnea findings stable enlarged cardiac silhouette persistent bilateral lower lobe airspace disease not significantly compared to prior no pleural effusion or pneumothora no acute bony abnormality impressions no significant change compared to prior bibasilar airspace disease may represent infection or mild edema\",\n          \"indications female with dyspnea findings there are patchy alveolar and interstitial opacities within the lung bases bilaterally representing an infectious etiology versus chronic lung disease there is no evidence of pneumothora or large pleural effusion the cardiac silhouette is enlarged there are atherosclerotic calcifications of the aortic there are degenerative changes throughout the thoracic spine impressions patchy alveolar and interstitial opacities within the lung bases bilaterally representing an infectious etiology versus chronic lung disease\",\n          \"indications transplant evaluation findings the heart size and pulmonary vascularity appear within normal limits the lungs are free of focal airspace disease no pleural effusion or pneumothora is seen impressions no evidence of active disease\"\n        ],\n        \"semantic_type\": \"\",\n        \"description\": \"\"\n      }\n    },\n    {\n      \"column\": \"pred\",\n      \"properties\": {\n        \"dtype\": \"string\",\n        \"num_unique_values\": 50,\n        \"samples\": [\n          \"indications chest pain findings cardiac and mediastinal contours normal mediastinal widening multiple surgical clips are present in the visualized pneumothora or pleural effusion negative for acute displaced rib findings lungs are clear without focal pulmonary consolidation no suspicious pulmonary opacities heart size normal lungs are clear are clear without focal consolidation pleural effusion or pneumothoraces impressions no acute cardiopulmonary abnormality or symptoms findings cardiac and mediastinal contours are normal calcified and sacroiliac joints are normal the lungs are clear impressions no central catheter under pleural fluid the\",\n          \"indications male with abdominal pain findings heart size is otherwise grossly unremarkable impressions no acute cardiopulmonary abnormality of chronic findings lungs are clear without focal consolidation visible pneumothora no visible pleural fluid mild bilateral reticulonodular interstitial markings are numerous calcifications remain chronic lungs otherwise no focal consolidation cardiomediastinal silhouette and mediastinal contours are normal calcified mediastinal widening the lungs are clear without focal consolidation there is no focal alveolar consolidation no large pleural effusion or pneumothora impressions hyperepanded lungs without acute abnormality of smoking findings\",\n          \"indications gunshot wound findings overall heart which appears clear focal airspace disease of chest pain findings the lungs are overall heart size is unremarkable visualized visualized visualized osseous structures and visualized of the thoracic spine impressions mild hypoinflation with elevated right hemidiaphragm lungs are grossly clear intact midline the lungs are grossly clear multilevel degenerative changes of the thoracolumbar spine impressions right middle lobe crackles known syncopal episode findings mild chronic obstructive pulmonary infiltrate of t and vomiting findings sternotomy identified visualized\"\n        ],\n        \"semantic_type\": \"\",\n        \"description\": \"\"\n      }\n    },\n    {\n      \"column\": \"bleu_1\",\n      \"properties\": {\n        \"dtype\": \"number\",\n        \"std\": 0.14272929674942306,\n        \"min\": 0.0378735401178099,\n        \"max\": 0.5472781153486698,\n        \"num_unique_values\": 50,\n        \"samples\": [\n          0.2245576641727752,\n          0.0530471196834293,\n          0.246171408312884\n        ],\n        \"semantic_type\": \"\",\n        \"description\": \"\"\n      }\n    },\n    {\n      \"column\": \"bleu_2\",\n      \"properties\": {\n        \"dtype\": \"number\",\n        \"std\": 0.09598714967733332,\n        \"min\": 0.0218662985821816,\n        \"max\": 0.358323760113298,\n        \"num_unique_values\": 50,\n        \"samples\": [\n          0.1420181928726245,\n          0.0363720444898704,\n          0.1530935770826419\n        ],\n        \"semantic_type\": \"\",\n        \"description\": \"\"\n      }\n    },\n    {\n      \"column\": \"bleu_3\",\n      \"properties\": {\n        \"dtype\": \"number\",\n        \"std\": 0.06772006508039732,\n        \"min\": 0.0128280516149621,\n        \"max\": 0.2567177807581597,\n        \"num_unique_values\": 50,\n        \"samples\": [\n          0.088623489275758,\n          0.0242541558295039,\n          0.0951043863302937\n        ],\n        \"semantic_type\": \"\",\n        \"description\": \"\"\n      }\n    },\n    {\n      \"column\": \"bleu_4\",\n      \"properties\": {\n        \"dtype\": \"number\",\n        \"std\": 0.048346795527074854,\n        \"min\": 0.0072887661940605,\n        \"max\": 0.2049042758030628,\n        \"num_unique_values\": 50,\n        \"samples\": [\n          0.0520075351561307,\n          0.0148176768972197,\n          0.0556856289577977\n        ],\n        \"semantic_type\": \"\",\n        \"description\": \"\"\n      }\n    },\n    {\n      \"column\": \"rouge_1\",\n      \"properties\": {\n        \"dtype\": \"number\",\n        \"std\": 0.12660350696188727,\n        \"min\": 0.3026315789473684,\n        \"max\": 0.8,\n        \"num_unique_values\": 49,\n        \"samples\": [\n          0.575,\n          0.4459459459459459,\n          0.8\n        ],\n        \"semantic_type\": \"\",\n        \"description\": \"\"\n      }\n    },\n    {\n      \"column\": \"rouge_l\",\n      \"properties\": {\n        \"dtype\": \"number\",\n        \"std\": 0.11410436703899504,\n        \"min\": 0.1917808219178082,\n        \"max\": 0.7142857142857143,\n        \"num_unique_values\": 42,\n        \"samples\": [\n          0.3088235294117647,\n          0.35,\n          0.4545454545454545\n        ],\n        \"semantic_type\": \"\",\n        \"description\": \"\"\n      }\n    }\n  ]\n}",
       "type": "dataframe",
       "variable_name": "prediction"
      },
      "text/html": [
       "\n",
       "  <div id=\"df-7ffedc5e-6af4-4702-b990-551487bc180f\" class=\"colab-df-container\">\n",
       "    <div>\n",
       "<style scoped>\n",
       "    .dataframe tbody tr th:only-of-type {\n",
       "        vertical-align: middle;\n",
       "    }\n",
       "\n",
       "    .dataframe tbody tr th {\n",
       "        vertical-align: top;\n",
       "    }\n",
       "\n",
       "    .dataframe thead th {\n",
       "        text-align: right;\n",
       "    }\n",
       "</style>\n",
       "<table border=\"1\" class=\"dataframe\">\n",
       "  <thead>\n",
       "    <tr style=\"text-align: right;\">\n",
       "      <th></th>\n",
       "      <th>image</th>\n",
       "      <th>real</th>\n",
       "      <th>pred</th>\n",
       "      <th>bleu_1</th>\n",
       "      <th>bleu_2</th>\n",
       "      <th>bleu_3</th>\n",
       "      <th>bleu_4</th>\n",
       "      <th>rouge_1</th>\n",
       "      <th>rouge_l</th>\n",
       "    </tr>\n",
       "  </thead>\n",
       "  <tbody>\n",
       "    <tr>\n",
       "      <th>0</th>\n",
       "      <td>/content/images/images_normalized/1855_IM-0555...</td>\n",
       "      <td>indications male with pneumonia findings heart...</td>\n",
       "      <td>indications syncopal episode findings the trac...</td>\n",
       "      <td>0.490277</td>\n",
       "      <td>0.305438</td>\n",
       "      <td>0.190763</td>\n",
       "      <td>0.112036</td>\n",
       "      <td>0.356164</td>\n",
       "      <td>0.191781</td>\n",
       "    </tr>\n",
       "    <tr>\n",
       "      <th>1</th>\n",
       "      <td>/content/images/images_normalized/119_IM-0128-...</td>\n",
       "      <td>indications right arm numbness rightsided ches...</td>\n",
       "      <td>indications female with and smoking and findin...</td>\n",
       "      <td>0.358128</td>\n",
       "      <td>0.223685</td>\n",
       "      <td>0.140825</td>\n",
       "      <td>0.083065</td>\n",
       "      <td>0.383333</td>\n",
       "      <td>0.233333</td>\n",
       "    </tr>\n",
       "    <tr>\n",
       "      <th>2</th>\n",
       "      <td>/content/images/images_normalized/2417_IM-0961...</td>\n",
       "      <td>indications chest pain findings stable cardiom...</td>\n",
       "      <td>indications male with chest pain nonproductive...</td>\n",
       "      <td>0.104533</td>\n",
       "      <td>0.066191</td>\n",
       "      <td>0.039963</td>\n",
       "      <td>0.023106</td>\n",
       "      <td>0.419355</td>\n",
       "      <td>0.387097</td>\n",
       "    </tr>\n",
       "    <tr>\n",
       "      <th>3</th>\n",
       "      <td>/content/images/images_normalized/443_IM-2078-...</td>\n",
       "      <td>indications positive ppd findings heart size a...</td>\n",
       "      <td>indications loss of transmetatarsal carcinoma ...</td>\n",
       "      <td>0.217261</td>\n",
       "      <td>0.153326</td>\n",
       "      <td>0.109578</td>\n",
       "      <td>0.076143</td>\n",
       "      <td>0.567568</td>\n",
       "      <td>0.324324</td>\n",
       "    </tr>\n",
       "    <tr>\n",
       "      <th>4</th>\n",
       "      <td>/content/images/images_normalized/1210_IM-0142...</td>\n",
       "      <td>indications with scheduled hip replacement sur...</td>\n",
       "      <td>indications findings the lungs remain clear de...</td>\n",
       "      <td>0.505940</td>\n",
       "      <td>0.346912</td>\n",
       "      <td>0.236824</td>\n",
       "      <td>0.153672</td>\n",
       "      <td>0.430769</td>\n",
       "      <td>0.230769</td>\n",
       "    </tr>\n",
       "    <tr>\n",
       "      <th>5</th>\n",
       "      <td>/content/images/images_normalized/357_IM-1753-...</td>\n",
       "      <td>indications woman with shortness of breath fin...</td>\n",
       "      <td>indications chest pain findings cardiac and me...</td>\n",
       "      <td>0.547278</td>\n",
       "      <td>0.358324</td>\n",
       "      <td>0.241112</td>\n",
       "      <td>0.155734</td>\n",
       "      <td>0.302632</td>\n",
       "      <td>0.223684</td>\n",
       "    </tr>\n",
       "    <tr>\n",
       "      <th>6</th>\n",
       "      <td>/content/images/images_normalized/2702_IM-1170...</td>\n",
       "      <td>indications difficulty breathing chest pain fo...</td>\n",
       "      <td>indications pain findings lungs are mildly inc...</td>\n",
       "      <td>0.132282</td>\n",
       "      <td>0.078423</td>\n",
       "      <td>0.046379</td>\n",
       "      <td>0.026490</td>\n",
       "      <td>0.466667</td>\n",
       "      <td>0.333333</td>\n",
       "    </tr>\n",
       "    <tr>\n",
       "      <th>7</th>\n",
       "      <td>/content/images/images_normalized/113_IM-0086-...</td>\n",
       "      <td>indications chest pain findings the heart and ...</td>\n",
       "      <td>indications female with chest pain findings ca...</td>\n",
       "      <td>0.307583</td>\n",
       "      <td>0.192469</td>\n",
       "      <td>0.119218</td>\n",
       "      <td>0.069756</td>\n",
       "      <td>0.375000</td>\n",
       "      <td>0.250000</td>\n",
       "    </tr>\n",
       "    <tr>\n",
       "      <th>8</th>\n",
       "      <td>/content/images/images_normalized/36_IM-1776-1...</td>\n",
       "      <td>indications female with chest pain rule out pn...</td>\n",
       "      <td>indications diminished breath sounds findings ...</td>\n",
       "      <td>0.319062</td>\n",
       "      <td>0.217502</td>\n",
       "      <td>0.154605</td>\n",
       "      <td>0.108592</td>\n",
       "      <td>0.568182</td>\n",
       "      <td>0.454545</td>\n",
       "    </tr>\n",
       "    <tr>\n",
       "      <th>9</th>\n",
       "      <td>/content/images/images_normalized/738_IM-2296-...</td>\n",
       "      <td>indications chest pain findings the heart and ...</td>\n",
       "      <td>indications female dyspnea shortness of breath...</td>\n",
       "      <td>0.058008</td>\n",
       "      <td>0.034499</td>\n",
       "      <td>0.020417</td>\n",
       "      <td>0.011672</td>\n",
       "      <td>0.461538</td>\n",
       "      <td>0.307692</td>\n",
       "    </tr>\n",
       "    <tr>\n",
       "      <th>10</th>\n",
       "      <td>/content/images/images_normalized/493_IM-2113-...</td>\n",
       "      <td>indications preop choli chest pain wheezing ga...</td>\n",
       "      <td>indications female screening findings normal c...</td>\n",
       "      <td>0.275602</td>\n",
       "      <td>0.181815</td>\n",
       "      <td>0.122924</td>\n",
       "      <td>0.083451</td>\n",
       "      <td>0.590909</td>\n",
       "      <td>0.295455</td>\n",
       "    </tr>\n",
       "    <tr>\n",
       "      <th>11</th>\n",
       "      <td>/content/images/images_normalized/2283_IM-0870...</td>\n",
       "      <td>indications year old with lymphoma findings th...</td>\n",
       "      <td>indications chest pain findings cardiac and me...</td>\n",
       "      <td>0.331386</td>\n",
       "      <td>0.218058</td>\n",
       "      <td>0.147162</td>\n",
       "      <td>0.096725</td>\n",
       "      <td>0.500000</td>\n",
       "      <td>0.333333</td>\n",
       "    </tr>\n",
       "    <tr>\n",
       "      <th>12</th>\n",
       "      <td>/content/images/images_normalized/35_IM-1704-1...</td>\n",
       "      <td>indications female with breast mass and smokin...</td>\n",
       "      <td>indications nonproductive findings lungs with ...</td>\n",
       "      <td>0.462127</td>\n",
       "      <td>0.317006</td>\n",
       "      <td>0.223102</td>\n",
       "      <td>0.154694</td>\n",
       "      <td>0.500000</td>\n",
       "      <td>0.288462</td>\n",
       "    </tr>\n",
       "    <tr>\n",
       "      <th>13</th>\n",
       "      <td>/content/images/images_normalized/1193_IM-0129...</td>\n",
       "      <td>indications male with dyspnea findings stable ...</td>\n",
       "      <td>indications chest pain findings cardiac and me...</td>\n",
       "      <td>0.224558</td>\n",
       "      <td>0.142018</td>\n",
       "      <td>0.088623</td>\n",
       "      <td>0.052008</td>\n",
       "      <td>0.311111</td>\n",
       "      <td>0.266667</td>\n",
       "    </tr>\n",
       "    <tr>\n",
       "      <th>14</th>\n",
       "      <td>/content/images/images_normalized/2450_IM-0986...</td>\n",
       "      <td>indications history of with findings the cardi...</td>\n",
       "      <td>indications with epigastric pain findings hear...</td>\n",
       "      <td>0.246680</td>\n",
       "      <td>0.164872</td>\n",
       "      <td>0.110620</td>\n",
       "      <td>0.070627</td>\n",
       "      <td>0.575000</td>\n",
       "      <td>0.350000</td>\n",
       "    </tr>\n",
       "    <tr>\n",
       "      <th>15</th>\n",
       "      <td>/content/images/images_normalized/3044_IM-1418...</td>\n",
       "      <td>indications difficulty breathing findings the ...</td>\n",
       "      <td>indications multiple eposure findings lungs ar...</td>\n",
       "      <td>0.410889</td>\n",
       "      <td>0.278082</td>\n",
       "      <td>0.195887</td>\n",
       "      <td>0.142216</td>\n",
       "      <td>0.508772</td>\n",
       "      <td>0.368421</td>\n",
       "    </tr>\n",
       "    <tr>\n",
       "      <th>16</th>\n",
       "      <td>/content/images/images_normalized/409_IM-2055-...</td>\n",
       "      <td>indications the patient is a female with findi...</td>\n",
       "      <td>indications shortness of breath findings heart...</td>\n",
       "      <td>0.374104</td>\n",
       "      <td>0.235920</td>\n",
       "      <td>0.151705</td>\n",
       "      <td>0.094227</td>\n",
       "      <td>0.354839</td>\n",
       "      <td>0.209677</td>\n",
       "    </tr>\n",
       "    <tr>\n",
       "      <th>17</th>\n",
       "      <td>/content/images/images_normalized/1920_IM-0598...</td>\n",
       "      <td>indications chest pain mva findings cardiomedi...</td>\n",
       "      <td>indications chest pain preop knee revision fin...</td>\n",
       "      <td>0.304068</td>\n",
       "      <td>0.197619</td>\n",
       "      <td>0.125433</td>\n",
       "      <td>0.074732</td>\n",
       "      <td>0.682927</td>\n",
       "      <td>0.414634</td>\n",
       "    </tr>\n",
       "    <tr>\n",
       "      <th>18</th>\n",
       "      <td>/content/images/images_normalized/3157_IM-1487...</td>\n",
       "      <td>indications findings heart size normal lungs a...</td>\n",
       "      <td>indications male with findings no evidence of ...</td>\n",
       "      <td>0.037874</td>\n",
       "      <td>0.021866</td>\n",
       "      <td>0.012828</td>\n",
       "      <td>0.007289</td>\n",
       "      <td>0.454545</td>\n",
       "      <td>0.409091</td>\n",
       "    </tr>\n",
       "    <tr>\n",
       "      <th>19</th>\n",
       "      <td>/content/images/images_normalized/2537_IM-1049...</td>\n",
       "      <td>indications shortest breath findings frontal a...</td>\n",
       "      <td>indications male with chest pain findings spin...</td>\n",
       "      <td>0.499868</td>\n",
       "      <td>0.323952</td>\n",
       "      <td>0.215615</td>\n",
       "      <td>0.141724</td>\n",
       "      <td>0.464789</td>\n",
       "      <td>0.225352</td>\n",
       "    </tr>\n",
       "    <tr>\n",
       "      <th>20</th>\n",
       "      <td>/content/images/images_normalized/1974_IM-0633...</td>\n",
       "      <td>indications chest pain findings the lungs are ...</td>\n",
       "      <td>indications wheezing findings heart size is wi...</td>\n",
       "      <td>0.052949</td>\n",
       "      <td>0.040375</td>\n",
       "      <td>0.031315</td>\n",
       "      <td>0.023433</td>\n",
       "      <td>0.695652</td>\n",
       "      <td>0.565217</td>\n",
       "    </tr>\n",
       "    <tr>\n",
       "      <th>21</th>\n",
       "      <td>/content/images/images_normalized/698_IM-2263-...</td>\n",
       "      <td>indications female syncope findings the cardio...</td>\n",
       "      <td>indications female preoperative lung transplan...</td>\n",
       "      <td>0.076153</td>\n",
       "      <td>0.050853</td>\n",
       "      <td>0.033313</td>\n",
       "      <td>0.020155</td>\n",
       "      <td>0.571429</td>\n",
       "      <td>0.392857</td>\n",
       "    </tr>\n",
       "    <tr>\n",
       "      <th>22</th>\n",
       "      <td>/content/images/images_normalized/663_IM-2239-...</td>\n",
       "      <td>indications male with chest pain findings lung...</td>\n",
       "      <td>indications pain findings images calcified gra...</td>\n",
       "      <td>0.171048</td>\n",
       "      <td>0.113738</td>\n",
       "      <td>0.073795</td>\n",
       "      <td>0.044359</td>\n",
       "      <td>0.472222</td>\n",
       "      <td>0.333333</td>\n",
       "    </tr>\n",
       "    <tr>\n",
       "      <th>23</th>\n",
       "      <td>/content/images/images_normalized/1526_IM-0341...</td>\n",
       "      <td>indications with shortness of breath findings ...</td>\n",
       "      <td>indications male with pulmonary disease findin...</td>\n",
       "      <td>0.244727</td>\n",
       "      <td>0.170703</td>\n",
       "      <td>0.114294</td>\n",
       "      <td>0.070121</td>\n",
       "      <td>0.710526</td>\n",
       "      <td>0.394737</td>\n",
       "    </tr>\n",
       "    <tr>\n",
       "      <th>24</th>\n",
       "      <td>/content/images/images_normalized/706_IM-2269-...</td>\n",
       "      <td>indications male cva symptoms findings stable ...</td>\n",
       "      <td>indications findings heart size and mediastina...</td>\n",
       "      <td>0.302985</td>\n",
       "      <td>0.200268</td>\n",
       "      <td>0.130768</td>\n",
       "      <td>0.078779</td>\n",
       "      <td>0.420000</td>\n",
       "      <td>0.300000</td>\n",
       "    </tr>\n",
       "    <tr>\n",
       "      <th>25</th>\n",
       "      <td>/content/images/images_normalized/1150_IM-0102...</td>\n",
       "      <td>indications chest pain findings the heart and ...</td>\n",
       "      <td>indications female followup on eertion finding...</td>\n",
       "      <td>0.079744</td>\n",
       "      <td>0.052806</td>\n",
       "      <td>0.035868</td>\n",
       "      <td>0.023514</td>\n",
       "      <td>0.576923</td>\n",
       "      <td>0.307692</td>\n",
       "    </tr>\n",
       "    <tr>\n",
       "      <th>26</th>\n",
       "      <td>/content/images/images_normalized/3156_IM-1486...</td>\n",
       "      <td>indications woman with positive ppd findings t...</td>\n",
       "      <td>indications findings compared to the cardiomed...</td>\n",
       "      <td>0.430003</td>\n",
       "      <td>0.325799</td>\n",
       "      <td>0.256718</td>\n",
       "      <td>0.204904</td>\n",
       "      <td>0.666667</td>\n",
       "      <td>0.354167</td>\n",
       "    </tr>\n",
       "    <tr>\n",
       "      <th>27</th>\n",
       "      <td>/content/images/images_normalized/141_IM-0260-...</td>\n",
       "      <td>indications with shortness of breath findings ...</td>\n",
       "      <td>indications male wheezing in left upper quadra...</td>\n",
       "      <td>0.202644</td>\n",
       "      <td>0.135099</td>\n",
       "      <td>0.090409</td>\n",
       "      <td>0.057687</td>\n",
       "      <td>0.631579</td>\n",
       "      <td>0.368421</td>\n",
       "    </tr>\n",
       "    <tr>\n",
       "      <th>28</th>\n",
       "      <td>/content/images/images_normalized/20_IM-0653-1...</td>\n",
       "      <td>indications female with findings the cardiac a...</td>\n",
       "      <td>indications shortness of breath findings heart...</td>\n",
       "      <td>0.394873</td>\n",
       "      <td>0.269509</td>\n",
       "      <td>0.188804</td>\n",
       "      <td>0.130480</td>\n",
       "      <td>0.538462</td>\n",
       "      <td>0.403846</td>\n",
       "    </tr>\n",
       "    <tr>\n",
       "      <th>29</th>\n",
       "      <td>/content/images/images_normalized/2520_IM-1039...</td>\n",
       "      <td>indications bone marrow transplant evaluation ...</td>\n",
       "      <td>indications findings stable cardiomediastinal ...</td>\n",
       "      <td>0.508236</td>\n",
       "      <td>0.351330</td>\n",
       "      <td>0.249634</td>\n",
       "      <td>0.173039</td>\n",
       "      <td>0.455882</td>\n",
       "      <td>0.308824</td>\n",
       "    </tr>\n",
       "    <tr>\n",
       "      <th>30</th>\n",
       "      <td>/content/images/images_normalized/3671_IM-1827...</td>\n",
       "      <td>indications male with chest pain findings stab...</td>\n",
       "      <td>indications gunshot wound findings overall hea...</td>\n",
       "      <td>0.246171</td>\n",
       "      <td>0.153094</td>\n",
       "      <td>0.095104</td>\n",
       "      <td>0.055686</td>\n",
       "      <td>0.386364</td>\n",
       "      <td>0.272727</td>\n",
       "    </tr>\n",
       "    <tr>\n",
       "      <th>31</th>\n",
       "      <td>/content/images/images_normalized/952_IM-2447-...</td>\n",
       "      <td>indications findings the heart size and pulmon...</td>\n",
       "      <td>indications male with chest pain rt scapular a...</td>\n",
       "      <td>0.358787</td>\n",
       "      <td>0.234050</td>\n",
       "      <td>0.154097</td>\n",
       "      <td>0.096775</td>\n",
       "      <td>0.481481</td>\n",
       "      <td>0.259259</td>\n",
       "    </tr>\n",
       "    <tr>\n",
       "      <th>32</th>\n",
       "      <td>/content/images/images_normalized/1042_IM-0034...</td>\n",
       "      <td>indications findings the cardiomediastinal sil...</td>\n",
       "      <td>indications dyspnea findings the cardiomediast...</td>\n",
       "      <td>0.224919</td>\n",
       "      <td>0.171997</td>\n",
       "      <td>0.132532</td>\n",
       "      <td>0.100298</td>\n",
       "      <td>0.729730</td>\n",
       "      <td>0.594595</td>\n",
       "    </tr>\n",
       "    <tr>\n",
       "      <th>33</th>\n",
       "      <td>/content/images/images_normalized/1336_IM-0216...</td>\n",
       "      <td>indications male with continued evaluate for p...</td>\n",
       "      <td>indications with hematemesis findings no pneum...</td>\n",
       "      <td>0.185843</td>\n",
       "      <td>0.113247</td>\n",
       "      <td>0.067487</td>\n",
       "      <td>0.038782</td>\n",
       "      <td>0.552632</td>\n",
       "      <td>0.368421</td>\n",
       "    </tr>\n",
       "    <tr>\n",
       "      <th>34</th>\n",
       "      <td>/content/images/images_normalized/1719_IM-0474...</td>\n",
       "      <td>indications male for massinfiltrate findings t...</td>\n",
       "      <td>indications preoperative evaluation findings n...</td>\n",
       "      <td>0.266696</td>\n",
       "      <td>0.208075</td>\n",
       "      <td>0.168840</td>\n",
       "      <td>0.138885</td>\n",
       "      <td>0.685714</td>\n",
       "      <td>0.514286</td>\n",
       "    </tr>\n",
       "    <tr>\n",
       "      <th>35</th>\n",
       "      <td>/content/images/images_normalized/368_IM-1832-...</td>\n",
       "      <td>indications sore throat headache findings card...</td>\n",
       "      <td>indications difficulty breathing findings imag...</td>\n",
       "      <td>0.101185</td>\n",
       "      <td>0.066492</td>\n",
       "      <td>0.044258</td>\n",
       "      <td>0.028485</td>\n",
       "      <td>0.612903</td>\n",
       "      <td>0.483871</td>\n",
       "    </tr>\n",
       "    <tr>\n",
       "      <th>36</th>\n",
       "      <td>/content/images/images_normalized/2680_IM-1154...</td>\n",
       "      <td>indications findings the lungs are clear there...</td>\n",
       "      <td>indications icd placement findings no focal ai...</td>\n",
       "      <td>0.132584</td>\n",
       "      <td>0.092699</td>\n",
       "      <td>0.066437</td>\n",
       "      <td>0.047046</td>\n",
       "      <td>0.655172</td>\n",
       "      <td>0.482759</td>\n",
       "    </tr>\n",
       "    <tr>\n",
       "      <th>37</th>\n",
       "      <td>/content/images/images_normalized/1184_IM-0124...</td>\n",
       "      <td>indications male assault findings the heart si...</td>\n",
       "      <td>indications findings and lateral radiographs o...</td>\n",
       "      <td>0.231345</td>\n",
       "      <td>0.149366</td>\n",
       "      <td>0.096618</td>\n",
       "      <td>0.057761</td>\n",
       "      <td>0.318182</td>\n",
       "      <td>0.250000</td>\n",
       "    </tr>\n",
       "    <tr>\n",
       "      <th>38</th>\n",
       "      <td>/content/images/images_normalized/452_IM-2083-...</td>\n",
       "      <td>indications fu aspiration findings the lungs a...</td>\n",
       "      <td>indications preoperative evaluation prolapse p...</td>\n",
       "      <td>0.435502</td>\n",
       "      <td>0.286753</td>\n",
       "      <td>0.190478</td>\n",
       "      <td>0.120143</td>\n",
       "      <td>0.333333</td>\n",
       "      <td>0.245614</td>\n",
       "    </tr>\n",
       "    <tr>\n",
       "      <th>39</th>\n",
       "      <td>/content/images/images_normalized/3593_IM-1772...</td>\n",
       "      <td>indications hemoptysis findings heart size nor...</td>\n",
       "      <td>indications male with abdominal pain findings ...</td>\n",
       "      <td>0.053047</td>\n",
       "      <td>0.036372</td>\n",
       "      <td>0.024254</td>\n",
       "      <td>0.014818</td>\n",
       "      <td>0.608696</td>\n",
       "      <td>0.565217</td>\n",
       "    </tr>\n",
       "    <tr>\n",
       "      <th>40</th>\n",
       "      <td>/content/images/images_normalized/820_IM-2351-...</td>\n",
       "      <td>indications and congestion for months findings...</td>\n",
       "      <td>indications male history of pneumonia findings...</td>\n",
       "      <td>0.452560</td>\n",
       "      <td>0.303350</td>\n",
       "      <td>0.214523</td>\n",
       "      <td>0.149528</td>\n",
       "      <td>0.403509</td>\n",
       "      <td>0.280702</td>\n",
       "    </tr>\n",
       "    <tr>\n",
       "      <th>41</th>\n",
       "      <td>/content/images/images_normalized/556_IM-2156-...</td>\n",
       "      <td>indications left side chest wall pain findings...</td>\n",
       "      <td>indications chest pain findings no effusion or...</td>\n",
       "      <td>0.153205</td>\n",
       "      <td>0.113866</td>\n",
       "      <td>0.088703</td>\n",
       "      <td>0.069686</td>\n",
       "      <td>0.645161</td>\n",
       "      <td>0.548387</td>\n",
       "    </tr>\n",
       "    <tr>\n",
       "      <th>42</th>\n",
       "      <td>/content/images/images_normalized/2632_IM-1119...</td>\n",
       "      <td>indications male pain findings heart size with...</td>\n",
       "      <td>indications rule out pneumonia positive ppd fi...</td>\n",
       "      <td>0.187722</td>\n",
       "      <td>0.123738</td>\n",
       "      <td>0.079218</td>\n",
       "      <td>0.047443</td>\n",
       "      <td>0.714286</td>\n",
       "      <td>0.514286</td>\n",
       "    </tr>\n",
       "    <tr>\n",
       "      <th>43</th>\n",
       "      <td>/content/images/images_normalized/594_IM-2187-...</td>\n",
       "      <td>indications pain weakness findings there are t...</td>\n",
       "      <td>indications dyspnea findings the cardiac conto...</td>\n",
       "      <td>0.332367</td>\n",
       "      <td>0.207110</td>\n",
       "      <td>0.127998</td>\n",
       "      <td>0.074751</td>\n",
       "      <td>0.358491</td>\n",
       "      <td>0.301887</td>\n",
       "    </tr>\n",
       "    <tr>\n",
       "      <th>44</th>\n",
       "      <td>/content/images/images_normalized/348_IM-1690-...</td>\n",
       "      <td>indications preop neck surgery findings heart ...</td>\n",
       "      <td>indications with productive findings there are...</td>\n",
       "      <td>0.140372</td>\n",
       "      <td>0.092089</td>\n",
       "      <td>0.059581</td>\n",
       "      <td>0.035812</td>\n",
       "      <td>0.625000</td>\n",
       "      <td>0.343750</td>\n",
       "    </tr>\n",
       "    <tr>\n",
       "      <th>45</th>\n",
       "      <td>/content/images/images_normalized/1477_IM-0309...</td>\n",
       "      <td>indications female pain findings heart size wi...</td>\n",
       "      <td>indications findings the lungs appear clear im...</td>\n",
       "      <td>0.210677</td>\n",
       "      <td>0.143732</td>\n",
       "      <td>0.096528</td>\n",
       "      <td>0.059160</td>\n",
       "      <td>0.548387</td>\n",
       "      <td>0.451613</td>\n",
       "    </tr>\n",
       "    <tr>\n",
       "      <th>46</th>\n",
       "      <td>/content/images/images_normalized/897_IM-2406-...</td>\n",
       "      <td>indications female with dyspnea findings there...</td>\n",
       "      <td>indications findings there are degenerative ch...</td>\n",
       "      <td>0.519055</td>\n",
       "      <td>0.336318</td>\n",
       "      <td>0.217845</td>\n",
       "      <td>0.134659</td>\n",
       "      <td>0.445946</td>\n",
       "      <td>0.310811</td>\n",
       "    </tr>\n",
       "    <tr>\n",
       "      <th>47</th>\n",
       "      <td>/content/images/images_normalized/735_IM-2294-...</td>\n",
       "      <td>indications female onset chest pain findings t...</td>\n",
       "      <td>indications productive findings the lungs are ...</td>\n",
       "      <td>0.355788</td>\n",
       "      <td>0.256569</td>\n",
       "      <td>0.184984</td>\n",
       "      <td>0.124234</td>\n",
       "      <td>0.634146</td>\n",
       "      <td>0.341463</td>\n",
       "    </tr>\n",
       "    <tr>\n",
       "      <th>48</th>\n",
       "      <td>/content/images/images_normalized/1319_IM-0205...</td>\n",
       "      <td>indications transplant evaluation findings the...</td>\n",
       "      <td>indications shortness of breath findings the h...</td>\n",
       "      <td>0.236104</td>\n",
       "      <td>0.184256</td>\n",
       "      <td>0.142959</td>\n",
       "      <td>0.106676</td>\n",
       "      <td>0.800000</td>\n",
       "      <td>0.714286</td>\n",
       "    </tr>\n",
       "    <tr>\n",
       "      <th>49</th>\n",
       "      <td>/content/images/images_normalized/519_IM-2131-...</td>\n",
       "      <td>indications the patient is a male with shortne...</td>\n",
       "      <td>indications male preoperative eam for total kn...</td>\n",
       "      <td>0.192512</td>\n",
       "      <td>0.115877</td>\n",
       "      <td>0.068817</td>\n",
       "      <td>0.039439</td>\n",
       "      <td>0.485714</td>\n",
       "      <td>0.257143</td>\n",
       "    </tr>\n",
       "  </tbody>\n",
       "</table>\n",
       "</div>\n",
       "    <div class=\"colab-df-buttons\">\n",
       "\n",
       "  <div class=\"colab-df-container\">\n",
       "    <button class=\"colab-df-convert\" onclick=\"convertToInteractive('df-7ffedc5e-6af4-4702-b990-551487bc180f')\"\n",
       "            title=\"Convert this dataframe to an interactive table.\"\n",
       "            style=\"display:none;\">\n",
       "\n",
       "  <svg xmlns=\"http://www.w3.org/2000/svg\" height=\"24px\" viewBox=\"0 -960 960 960\">\n",
       "    <path d=\"M120-120v-720h720v720H120Zm60-500h600v-160H180v160Zm220 220h160v-160H400v160Zm0 220h160v-160H400v160ZM180-400h160v-160H180v160Zm440 0h160v-160H620v160ZM180-180h160v-160H180v160Zm440 0h160v-160H620v160Z\"/>\n",
       "  </svg>\n",
       "    </button>\n",
       "\n",
       "  <style>\n",
       "    .colab-df-container {\n",
       "      display:flex;\n",
       "      gap: 12px;\n",
       "    }\n",
       "\n",
       "    .colab-df-convert {\n",
       "      background-color: #E8F0FE;\n",
       "      border: none;\n",
       "      border-radius: 50%;\n",
       "      cursor: pointer;\n",
       "      display: none;\n",
       "      fill: #1967D2;\n",
       "      height: 32px;\n",
       "      padding: 0 0 0 0;\n",
       "      width: 32px;\n",
       "    }\n",
       "\n",
       "    .colab-df-convert:hover {\n",
       "      background-color: #E2EBFA;\n",
       "      box-shadow: 0px 1px 2px rgba(60, 64, 67, 0.3), 0px 1px 3px 1px rgba(60, 64, 67, 0.15);\n",
       "      fill: #174EA6;\n",
       "    }\n",
       "\n",
       "    .colab-df-buttons div {\n",
       "      margin-bottom: 4px;\n",
       "    }\n",
       "\n",
       "    [theme=dark] .colab-df-convert {\n",
       "      background-color: #3B4455;\n",
       "      fill: #D2E3FC;\n",
       "    }\n",
       "\n",
       "    [theme=dark] .colab-df-convert:hover {\n",
       "      background-color: #434B5C;\n",
       "      box-shadow: 0px 1px 3px 1px rgba(0, 0, 0, 0.15);\n",
       "      filter: drop-shadow(0px 1px 2px rgba(0, 0, 0, 0.3));\n",
       "      fill: #FFFFFF;\n",
       "    }\n",
       "  </style>\n",
       "\n",
       "    <script>\n",
       "      const buttonEl =\n",
       "        document.querySelector('#df-7ffedc5e-6af4-4702-b990-551487bc180f button.colab-df-convert');\n",
       "      buttonEl.style.display =\n",
       "        google.colab.kernel.accessAllowed ? 'block' : 'none';\n",
       "\n",
       "      async function convertToInteractive(key) {\n",
       "        const element = document.querySelector('#df-7ffedc5e-6af4-4702-b990-551487bc180f');\n",
       "        const dataTable =\n",
       "          await google.colab.kernel.invokeFunction('convertToInteractive',\n",
       "                                                    [key], {});\n",
       "        if (!dataTable) return;\n",
       "\n",
       "        const docLinkHtml = 'Like what you see? Visit the ' +\n",
       "          '<a target=\"_blank\" href=https://colab.research.google.com/notebooks/data_table.ipynb>data table notebook</a>'\n",
       "          + ' to learn more about interactive tables.';\n",
       "        element.innerHTML = '';\n",
       "        dataTable['output_type'] = 'display_data';\n",
       "        await google.colab.output.renderOutput(dataTable, element);\n",
       "        const docLink = document.createElement('div');\n",
       "        docLink.innerHTML = docLinkHtml;\n",
       "        element.appendChild(docLink);\n",
       "      }\n",
       "    </script>\n",
       "  </div>\n",
       "\n",
       "\n",
       "<div id=\"df-17623467-9518-46e3-99af-b17bf1911ad6\">\n",
       "  <button class=\"colab-df-quickchart\" onclick=\"quickchart('df-17623467-9518-46e3-99af-b17bf1911ad6')\"\n",
       "            title=\"Suggest charts\"\n",
       "            style=\"display:none;\">\n",
       "\n",
       "<svg xmlns=\"http://www.w3.org/2000/svg\" height=\"24px\"viewBox=\"0 0 24 24\"\n",
       "     width=\"24px\">\n",
       "    <g>\n",
       "        <path d=\"M19 3H5c-1.1 0-2 .9-2 2v14c0 1.1.9 2 2 2h14c1.1 0 2-.9 2-2V5c0-1.1-.9-2-2-2zM9 17H7v-7h2v7zm4 0h-2V7h2v10zm4 0h-2v-4h2v4z\"/>\n",
       "    </g>\n",
       "</svg>\n",
       "  </button>\n",
       "\n",
       "<style>\n",
       "  .colab-df-quickchart {\n",
       "      --bg-color: #E8F0FE;\n",
       "      --fill-color: #1967D2;\n",
       "      --hover-bg-color: #E2EBFA;\n",
       "      --hover-fill-color: #174EA6;\n",
       "      --disabled-fill-color: #AAA;\n",
       "      --disabled-bg-color: #DDD;\n",
       "  }\n",
       "\n",
       "  [theme=dark] .colab-df-quickchart {\n",
       "      --bg-color: #3B4455;\n",
       "      --fill-color: #D2E3FC;\n",
       "      --hover-bg-color: #434B5C;\n",
       "      --hover-fill-color: #FFFFFF;\n",
       "      --disabled-bg-color: #3B4455;\n",
       "      --disabled-fill-color: #666;\n",
       "  }\n",
       "\n",
       "  .colab-df-quickchart {\n",
       "    background-color: var(--bg-color);\n",
       "    border: none;\n",
       "    border-radius: 50%;\n",
       "    cursor: pointer;\n",
       "    display: none;\n",
       "    fill: var(--fill-color);\n",
       "    height: 32px;\n",
       "    padding: 0;\n",
       "    width: 32px;\n",
       "  }\n",
       "\n",
       "  .colab-df-quickchart:hover {\n",
       "    background-color: var(--hover-bg-color);\n",
       "    box-shadow: 0 1px 2px rgba(60, 64, 67, 0.3), 0 1px 3px 1px rgba(60, 64, 67, 0.15);\n",
       "    fill: var(--button-hover-fill-color);\n",
       "  }\n",
       "\n",
       "  .colab-df-quickchart-complete:disabled,\n",
       "  .colab-df-quickchart-complete:disabled:hover {\n",
       "    background-color: var(--disabled-bg-color);\n",
       "    fill: var(--disabled-fill-color);\n",
       "    box-shadow: none;\n",
       "  }\n",
       "\n",
       "  .colab-df-spinner {\n",
       "    border: 2px solid var(--fill-color);\n",
       "    border-color: transparent;\n",
       "    border-bottom-color: var(--fill-color);\n",
       "    animation:\n",
       "      spin 1s steps(1) infinite;\n",
       "  }\n",
       "\n",
       "  @keyframes spin {\n",
       "    0% {\n",
       "      border-color: transparent;\n",
       "      border-bottom-color: var(--fill-color);\n",
       "      border-left-color: var(--fill-color);\n",
       "    }\n",
       "    20% {\n",
       "      border-color: transparent;\n",
       "      border-left-color: var(--fill-color);\n",
       "      border-top-color: var(--fill-color);\n",
       "    }\n",
       "    30% {\n",
       "      border-color: transparent;\n",
       "      border-left-color: var(--fill-color);\n",
       "      border-top-color: var(--fill-color);\n",
       "      border-right-color: var(--fill-color);\n",
       "    }\n",
       "    40% {\n",
       "      border-color: transparent;\n",
       "      border-right-color: var(--fill-color);\n",
       "      border-top-color: var(--fill-color);\n",
       "    }\n",
       "    60% {\n",
       "      border-color: transparent;\n",
       "      border-right-color: var(--fill-color);\n",
       "    }\n",
       "    80% {\n",
       "      border-color: transparent;\n",
       "      border-right-color: var(--fill-color);\n",
       "      border-bottom-color: var(--fill-color);\n",
       "    }\n",
       "    90% {\n",
       "      border-color: transparent;\n",
       "      border-bottom-color: var(--fill-color);\n",
       "    }\n",
       "  }\n",
       "</style>\n",
       "\n",
       "  <script>\n",
       "    async function quickchart(key) {\n",
       "      const quickchartButtonEl =\n",
       "        document.querySelector('#' + key + ' button');\n",
       "      quickchartButtonEl.disabled = true;  // To prevent multiple clicks.\n",
       "      quickchartButtonEl.classList.add('colab-df-spinner');\n",
       "      try {\n",
       "        const charts = await google.colab.kernel.invokeFunction(\n",
       "            'suggestCharts', [key], {});\n",
       "      } catch (error) {\n",
       "        console.error('Error during call to suggestCharts:', error);\n",
       "      }\n",
       "      quickchartButtonEl.classList.remove('colab-df-spinner');\n",
       "      quickchartButtonEl.classList.add('colab-df-quickchart-complete');\n",
       "    }\n",
       "    (() => {\n",
       "      let quickchartButtonEl =\n",
       "        document.querySelector('#df-17623467-9518-46e3-99af-b17bf1911ad6 button');\n",
       "      quickchartButtonEl.style.display =\n",
       "        google.colab.kernel.accessAllowed ? 'block' : 'none';\n",
       "    })();\n",
       "  </script>\n",
       "</div>\n",
       "    </div>\n",
       "  </div>\n"
      ],
      "text/plain": [
       "                                                image  \\\n",
       "0   /content/images/images_normalized/1855_IM-0555...   \n",
       "1   /content/images/images_normalized/119_IM-0128-...   \n",
       "2   /content/images/images_normalized/2417_IM-0961...   \n",
       "3   /content/images/images_normalized/443_IM-2078-...   \n",
       "4   /content/images/images_normalized/1210_IM-0142...   \n",
       "5   /content/images/images_normalized/357_IM-1753-...   \n",
       "6   /content/images/images_normalized/2702_IM-1170...   \n",
       "7   /content/images/images_normalized/113_IM-0086-...   \n",
       "8   /content/images/images_normalized/36_IM-1776-1...   \n",
       "9   /content/images/images_normalized/738_IM-2296-...   \n",
       "10  /content/images/images_normalized/493_IM-2113-...   \n",
       "11  /content/images/images_normalized/2283_IM-0870...   \n",
       "12  /content/images/images_normalized/35_IM-1704-1...   \n",
       "13  /content/images/images_normalized/1193_IM-0129...   \n",
       "14  /content/images/images_normalized/2450_IM-0986...   \n",
       "15  /content/images/images_normalized/3044_IM-1418...   \n",
       "16  /content/images/images_normalized/409_IM-2055-...   \n",
       "17  /content/images/images_normalized/1920_IM-0598...   \n",
       "18  /content/images/images_normalized/3157_IM-1487...   \n",
       "19  /content/images/images_normalized/2537_IM-1049...   \n",
       "20  /content/images/images_normalized/1974_IM-0633...   \n",
       "21  /content/images/images_normalized/698_IM-2263-...   \n",
       "22  /content/images/images_normalized/663_IM-2239-...   \n",
       "23  /content/images/images_normalized/1526_IM-0341...   \n",
       "24  /content/images/images_normalized/706_IM-2269-...   \n",
       "25  /content/images/images_normalized/1150_IM-0102...   \n",
       "26  /content/images/images_normalized/3156_IM-1486...   \n",
       "27  /content/images/images_normalized/141_IM-0260-...   \n",
       "28  /content/images/images_normalized/20_IM-0653-1...   \n",
       "29  /content/images/images_normalized/2520_IM-1039...   \n",
       "30  /content/images/images_normalized/3671_IM-1827...   \n",
       "31  /content/images/images_normalized/952_IM-2447-...   \n",
       "32  /content/images/images_normalized/1042_IM-0034...   \n",
       "33  /content/images/images_normalized/1336_IM-0216...   \n",
       "34  /content/images/images_normalized/1719_IM-0474...   \n",
       "35  /content/images/images_normalized/368_IM-1832-...   \n",
       "36  /content/images/images_normalized/2680_IM-1154...   \n",
       "37  /content/images/images_normalized/1184_IM-0124...   \n",
       "38  /content/images/images_normalized/452_IM-2083-...   \n",
       "39  /content/images/images_normalized/3593_IM-1772...   \n",
       "40  /content/images/images_normalized/820_IM-2351-...   \n",
       "41  /content/images/images_normalized/556_IM-2156-...   \n",
       "42  /content/images/images_normalized/2632_IM-1119...   \n",
       "43  /content/images/images_normalized/594_IM-2187-...   \n",
       "44  /content/images/images_normalized/348_IM-1690-...   \n",
       "45  /content/images/images_normalized/1477_IM-0309...   \n",
       "46  /content/images/images_normalized/897_IM-2406-...   \n",
       "47  /content/images/images_normalized/735_IM-2294-...   \n",
       "48  /content/images/images_normalized/1319_IM-0205...   \n",
       "49  /content/images/images_normalized/519_IM-2131-...   \n",
       "\n",
       "                                                 real  \\\n",
       "0   indications male with pneumonia findings heart...   \n",
       "1   indications right arm numbness rightsided ches...   \n",
       "2   indications chest pain findings stable cardiom...   \n",
       "3   indications positive ppd findings heart size a...   \n",
       "4   indications with scheduled hip replacement sur...   \n",
       "5   indications woman with shortness of breath fin...   \n",
       "6   indications difficulty breathing chest pain fo...   \n",
       "7   indications chest pain findings the heart and ...   \n",
       "8   indications female with chest pain rule out pn...   \n",
       "9   indications chest pain findings the heart and ...   \n",
       "10  indications preop choli chest pain wheezing ga...   \n",
       "11  indications year old with lymphoma findings th...   \n",
       "12  indications female with breast mass and smokin...   \n",
       "13  indications male with dyspnea findings stable ...   \n",
       "14  indications history of with findings the cardi...   \n",
       "15  indications difficulty breathing findings the ...   \n",
       "16  indications the patient is a female with findi...   \n",
       "17  indications chest pain mva findings cardiomedi...   \n",
       "18  indications findings heart size normal lungs a...   \n",
       "19  indications shortest breath findings frontal a...   \n",
       "20  indications chest pain findings the lungs are ...   \n",
       "21  indications female syncope findings the cardio...   \n",
       "22  indications male with chest pain findings lung...   \n",
       "23  indications with shortness of breath findings ...   \n",
       "24  indications male cva symptoms findings stable ...   \n",
       "25  indications chest pain findings the heart and ...   \n",
       "26  indications woman with positive ppd findings t...   \n",
       "27  indications with shortness of breath findings ...   \n",
       "28  indications female with findings the cardiac a...   \n",
       "29  indications bone marrow transplant evaluation ...   \n",
       "30  indications male with chest pain findings stab...   \n",
       "31  indications findings the heart size and pulmon...   \n",
       "32  indications findings the cardiomediastinal sil...   \n",
       "33  indications male with continued evaluate for p...   \n",
       "34  indications male for massinfiltrate findings t...   \n",
       "35  indications sore throat headache findings card...   \n",
       "36  indications findings the lungs are clear there...   \n",
       "37  indications male assault findings the heart si...   \n",
       "38  indications fu aspiration findings the lungs a...   \n",
       "39  indications hemoptysis findings heart size nor...   \n",
       "40  indications and congestion for months findings...   \n",
       "41  indications left side chest wall pain findings...   \n",
       "42  indications male pain findings heart size with...   \n",
       "43  indications pain weakness findings there are t...   \n",
       "44  indications preop neck surgery findings heart ...   \n",
       "45  indications female pain findings heart size wi...   \n",
       "46  indications female with dyspnea findings there...   \n",
       "47  indications female onset chest pain findings t...   \n",
       "48  indications transplant evaluation findings the...   \n",
       "49  indications the patient is a male with shortne...   \n",
       "\n",
       "                                                 pred    bleu_1    bleu_2  \\\n",
       "0   indications syncopal episode findings the trac...  0.490277  0.305438   \n",
       "1   indications female with and smoking and findin...  0.358128  0.223685   \n",
       "2   indications male with chest pain nonproductive...  0.104533  0.066191   \n",
       "3   indications loss of transmetatarsal carcinoma ...  0.217261  0.153326   \n",
       "4   indications findings the lungs remain clear de...  0.505940  0.346912   \n",
       "5   indications chest pain findings cardiac and me...  0.547278  0.358324   \n",
       "6   indications pain findings lungs are mildly inc...  0.132282  0.078423   \n",
       "7   indications female with chest pain findings ca...  0.307583  0.192469   \n",
       "8   indications diminished breath sounds findings ...  0.319062  0.217502   \n",
       "9   indications female dyspnea shortness of breath...  0.058008  0.034499   \n",
       "10  indications female screening findings normal c...  0.275602  0.181815   \n",
       "11  indications chest pain findings cardiac and me...  0.331386  0.218058   \n",
       "12  indications nonproductive findings lungs with ...  0.462127  0.317006   \n",
       "13  indications chest pain findings cardiac and me...  0.224558  0.142018   \n",
       "14  indications with epigastric pain findings hear...  0.246680  0.164872   \n",
       "15  indications multiple eposure findings lungs ar...  0.410889  0.278082   \n",
       "16  indications shortness of breath findings heart...  0.374104  0.235920   \n",
       "17  indications chest pain preop knee revision fin...  0.304068  0.197619   \n",
       "18  indications male with findings no evidence of ...  0.037874  0.021866   \n",
       "19  indications male with chest pain findings spin...  0.499868  0.323952   \n",
       "20  indications wheezing findings heart size is wi...  0.052949  0.040375   \n",
       "21  indications female preoperative lung transplan...  0.076153  0.050853   \n",
       "22  indications pain findings images calcified gra...  0.171048  0.113738   \n",
       "23  indications male with pulmonary disease findin...  0.244727  0.170703   \n",
       "24  indications findings heart size and mediastina...  0.302985  0.200268   \n",
       "25  indications female followup on eertion finding...  0.079744  0.052806   \n",
       "26  indications findings compared to the cardiomed...  0.430003  0.325799   \n",
       "27  indications male wheezing in left upper quadra...  0.202644  0.135099   \n",
       "28  indications shortness of breath findings heart...  0.394873  0.269509   \n",
       "29  indications findings stable cardiomediastinal ...  0.508236  0.351330   \n",
       "30  indications gunshot wound findings overall hea...  0.246171  0.153094   \n",
       "31  indications male with chest pain rt scapular a...  0.358787  0.234050   \n",
       "32  indications dyspnea findings the cardiomediast...  0.224919  0.171997   \n",
       "33  indications with hematemesis findings no pneum...  0.185843  0.113247   \n",
       "34  indications preoperative evaluation findings n...  0.266696  0.208075   \n",
       "35  indications difficulty breathing findings imag...  0.101185  0.066492   \n",
       "36  indications icd placement findings no focal ai...  0.132584  0.092699   \n",
       "37  indications findings and lateral radiographs o...  0.231345  0.149366   \n",
       "38  indications preoperative evaluation prolapse p...  0.435502  0.286753   \n",
       "39  indications male with abdominal pain findings ...  0.053047  0.036372   \n",
       "40  indications male history of pneumonia findings...  0.452560  0.303350   \n",
       "41  indications chest pain findings no effusion or...  0.153205  0.113866   \n",
       "42  indications rule out pneumonia positive ppd fi...  0.187722  0.123738   \n",
       "43  indications dyspnea findings the cardiac conto...  0.332367  0.207110   \n",
       "44  indications with productive findings there are...  0.140372  0.092089   \n",
       "45  indications findings the lungs appear clear im...  0.210677  0.143732   \n",
       "46  indications findings there are degenerative ch...  0.519055  0.336318   \n",
       "47  indications productive findings the lungs are ...  0.355788  0.256569   \n",
       "48  indications shortness of breath findings the h...  0.236104  0.184256   \n",
       "49  indications male preoperative eam for total kn...  0.192512  0.115877   \n",
       "\n",
       "      bleu_3    bleu_4   rouge_1   rouge_l  \n",
       "0   0.190763  0.112036  0.356164  0.191781  \n",
       "1   0.140825  0.083065  0.383333  0.233333  \n",
       "2   0.039963  0.023106  0.419355  0.387097  \n",
       "3   0.109578  0.076143  0.567568  0.324324  \n",
       "4   0.236824  0.153672  0.430769  0.230769  \n",
       "5   0.241112  0.155734  0.302632  0.223684  \n",
       "6   0.046379  0.026490  0.466667  0.333333  \n",
       "7   0.119218  0.069756  0.375000  0.250000  \n",
       "8   0.154605  0.108592  0.568182  0.454545  \n",
       "9   0.020417  0.011672  0.461538  0.307692  \n",
       "10  0.122924  0.083451  0.590909  0.295455  \n",
       "11  0.147162  0.096725  0.500000  0.333333  \n",
       "12  0.223102  0.154694  0.500000  0.288462  \n",
       "13  0.088623  0.052008  0.311111  0.266667  \n",
       "14  0.110620  0.070627  0.575000  0.350000  \n",
       "15  0.195887  0.142216  0.508772  0.368421  \n",
       "16  0.151705  0.094227  0.354839  0.209677  \n",
       "17  0.125433  0.074732  0.682927  0.414634  \n",
       "18  0.012828  0.007289  0.454545  0.409091  \n",
       "19  0.215615  0.141724  0.464789  0.225352  \n",
       "20  0.031315  0.023433  0.695652  0.565217  \n",
       "21  0.033313  0.020155  0.571429  0.392857  \n",
       "22  0.073795  0.044359  0.472222  0.333333  \n",
       "23  0.114294  0.070121  0.710526  0.394737  \n",
       "24  0.130768  0.078779  0.420000  0.300000  \n",
       "25  0.035868  0.023514  0.576923  0.307692  \n",
       "26  0.256718  0.204904  0.666667  0.354167  \n",
       "27  0.090409  0.057687  0.631579  0.368421  \n",
       "28  0.188804  0.130480  0.538462  0.403846  \n",
       "29  0.249634  0.173039  0.455882  0.308824  \n",
       "30  0.095104  0.055686  0.386364  0.272727  \n",
       "31  0.154097  0.096775  0.481481  0.259259  \n",
       "32  0.132532  0.100298  0.729730  0.594595  \n",
       "33  0.067487  0.038782  0.552632  0.368421  \n",
       "34  0.168840  0.138885  0.685714  0.514286  \n",
       "35  0.044258  0.028485  0.612903  0.483871  \n",
       "36  0.066437  0.047046  0.655172  0.482759  \n",
       "37  0.096618  0.057761  0.318182  0.250000  \n",
       "38  0.190478  0.120143  0.333333  0.245614  \n",
       "39  0.024254  0.014818  0.608696  0.565217  \n",
       "40  0.214523  0.149528  0.403509  0.280702  \n",
       "41  0.088703  0.069686  0.645161  0.548387  \n",
       "42  0.079218  0.047443  0.714286  0.514286  \n",
       "43  0.127998  0.074751  0.358491  0.301887  \n",
       "44  0.059581  0.035812  0.625000  0.343750  \n",
       "45  0.096528  0.059160  0.548387  0.451613  \n",
       "46  0.217845  0.134659  0.445946  0.310811  \n",
       "47  0.184984  0.124234  0.634146  0.341463  \n",
       "48  0.142959  0.106676  0.800000  0.714286  \n",
       "49  0.068817  0.039439  0.485714  0.257143  "
      ]
     },
     "execution_count": 109,
     "metadata": {},
     "output_type": "execute_result"
    }
   ],
   "source": [
    "prediction = pd.read_csv('/content/drive/MyDrive/shikha version/data/real_vs_predicted.csv')\n",
    "prediction"
   ]
  },
  {
   "cell_type": "code",
   "execution_count": null,
   "metadata": {
    "id": "ABFbhkgbaOfg"
   },
   "outputs": [],
   "source": []
  }
 ],
 "metadata": {
  "colab": {
   "provenance": []
  },
  "kernelspec": {
   "display_name": "Python 3 (ipykernel)",
   "language": "python",
   "name": "python3"
  },
  "language_info": {
   "codemirror_mode": {
    "name": "ipython",
    "version": 3
   },
   "file_extension": ".py",
   "mimetype": "text/x-python",
   "name": "python",
   "nbconvert_exporter": "python",
   "pygments_lexer": "ipython3",
   "version": "3.11.11"
  }
 },
 "nbformat": 4,
 "nbformat_minor": 0
}
