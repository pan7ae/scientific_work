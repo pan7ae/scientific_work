{
 "cells": [
  {
   "cell_type": "markdown",
   "metadata": {},
   "source": [
    "## Импорт зависимостей"
   ]
  },
  {
   "cell_type": "code",
   "execution_count": 1,
   "metadata": {},
   "outputs": [],
   "source": [
    "!pip install medcam3d grad-cam -q"
   ]
  },
  {
   "cell_type": "code",
   "execution_count": 22,
   "metadata": {},
   "outputs": [],
   "source": [
    "import os\n",
    "import re\n",
    "import torch\n",
    "import torchvision\n",
    "import pandas as pd\n",
    "from torch import nn, optim\n",
    "from transformers import GPT2Tokenizer, GPT2LMHeadModel, BertTokenizer, BertForSequenceClassification\n",
    "from pytorch_grad_cam import GradCAM\n",
    "from sklearn.preprocessing import MultiLabelBinarizer\n",
    "from sklearn.metrics import classification_report\n",
    "from sklearn.model_selection import GroupShuffleSplit"
   ]
  },
  {
   "cell_type": "markdown",
   "metadata": {},
   "source": [
    "## Загрузка и предобработка данных"
   ]
  },
  {
   "cell_type": "code",
   "execution_count": 23,
   "metadata": {},
   "outputs": [],
   "source": [
    "rpt = pd.read_csv('/kaggle/input/chest-xrays-indiana-university/indiana_reports.csv')\n",
    "proj = pd.read_csv('/kaggle/input/chest-xrays-indiana-university/indiana_projections.csv')"
   ]
  },
  {
   "cell_type": "code",
   "execution_count": 24,
   "metadata": {},
   "outputs": [],
   "source": [
    "df = proj.merge(rpt, on='uid', how='left')\n",
    "df = df.dropna(subset=['findings','impression'])\n",
    "df['report'] = df['findings'].fillna('') + ' ' + df['impression'].fillna('')"
   ]
  },
  {
   "cell_type": "code",
   "execution_count": 25,
   "metadata": {},
   "outputs": [],
   "source": [
    "df[\"path\"] = '/kaggle/input/chest-xrays-indiana-university/images/images_normalized/' + df[\"filename\"]"
   ]
  },
  {
   "cell_type": "code",
   "execution_count": 26,
   "metadata": {},
   "outputs": [
    {
     "data": {
      "text/html": [
       "<div>\n",
       "<style scoped>\n",
       "    .dataframe tbody tr th:only-of-type {\n",
       "        vertical-align: middle;\n",
       "    }\n",
       "\n",
       "    .dataframe tbody tr th {\n",
       "        vertical-align: top;\n",
       "    }\n",
       "\n",
       "    .dataframe thead th {\n",
       "        text-align: right;\n",
       "    }\n",
       "</style>\n",
       "<table border=\"1\" class=\"dataframe\">\n",
       "  <thead>\n",
       "    <tr style=\"text-align: right;\">\n",
       "      <th></th>\n",
       "      <th>uid</th>\n",
       "      <th>filename</th>\n",
       "      <th>projection</th>\n",
       "      <th>MeSH</th>\n",
       "      <th>Problems</th>\n",
       "      <th>image</th>\n",
       "      <th>indication</th>\n",
       "      <th>comparison</th>\n",
       "      <th>findings</th>\n",
       "      <th>impression</th>\n",
       "      <th>report</th>\n",
       "      <th>path</th>\n",
       "    </tr>\n",
       "  </thead>\n",
       "  <tbody>\n",
       "    <tr>\n",
       "      <th>0</th>\n",
       "      <td>1</td>\n",
       "      <td>1_IM-0001-4001.dcm.png</td>\n",
       "      <td>Frontal</td>\n",
       "      <td>normal</td>\n",
       "      <td>normal</td>\n",
       "      <td>Xray Chest PA and Lateral</td>\n",
       "      <td>Positive TB test</td>\n",
       "      <td>None.</td>\n",
       "      <td>The cardiac silhouette and mediastinum size ar...</td>\n",
       "      <td>Normal chest x-XXXX.</td>\n",
       "      <td>The cardiac silhouette and mediastinum size ar...</td>\n",
       "      <td>/kaggle/input/chest-xrays-indiana-university/i...</td>\n",
       "    </tr>\n",
       "    <tr>\n",
       "      <th>1</th>\n",
       "      <td>1</td>\n",
       "      <td>1_IM-0001-3001.dcm.png</td>\n",
       "      <td>Lateral</td>\n",
       "      <td>normal</td>\n",
       "      <td>normal</td>\n",
       "      <td>Xray Chest PA and Lateral</td>\n",
       "      <td>Positive TB test</td>\n",
       "      <td>None.</td>\n",
       "      <td>The cardiac silhouette and mediastinum size ar...</td>\n",
       "      <td>Normal chest x-XXXX.</td>\n",
       "      <td>The cardiac silhouette and mediastinum size ar...</td>\n",
       "      <td>/kaggle/input/chest-xrays-indiana-university/i...</td>\n",
       "    </tr>\n",
       "    <tr>\n",
       "      <th>2</th>\n",
       "      <td>2</td>\n",
       "      <td>2_IM-0652-1001.dcm.png</td>\n",
       "      <td>Frontal</td>\n",
       "      <td>Cardiomegaly/borderline;Pulmonary Artery/enlarged</td>\n",
       "      <td>Cardiomegaly;Pulmonary Artery</td>\n",
       "      <td>Chest, 2 views, frontal and lateral</td>\n",
       "      <td>Preop bariatric surgery.</td>\n",
       "      <td>None.</td>\n",
       "      <td>Borderline cardiomegaly. Midline sternotomy XX...</td>\n",
       "      <td>No acute pulmonary findings.</td>\n",
       "      <td>Borderline cardiomegaly. Midline sternotomy XX...</td>\n",
       "      <td>/kaggle/input/chest-xrays-indiana-university/i...</td>\n",
       "    </tr>\n",
       "    <tr>\n",
       "      <th>3</th>\n",
       "      <td>2</td>\n",
       "      <td>2_IM-0652-2001.dcm.png</td>\n",
       "      <td>Lateral</td>\n",
       "      <td>Cardiomegaly/borderline;Pulmonary Artery/enlarged</td>\n",
       "      <td>Cardiomegaly;Pulmonary Artery</td>\n",
       "      <td>Chest, 2 views, frontal and lateral</td>\n",
       "      <td>Preop bariatric surgery.</td>\n",
       "      <td>None.</td>\n",
       "      <td>Borderline cardiomegaly. Midline sternotomy XX...</td>\n",
       "      <td>No acute pulmonary findings.</td>\n",
       "      <td>Borderline cardiomegaly. Midline sternotomy XX...</td>\n",
       "      <td>/kaggle/input/chest-xrays-indiana-university/i...</td>\n",
       "    </tr>\n",
       "    <tr>\n",
       "      <th>6</th>\n",
       "      <td>4</td>\n",
       "      <td>4_IM-2050-1001.dcm.png</td>\n",
       "      <td>Frontal</td>\n",
       "      <td>Pulmonary Disease, Chronic Obstructive;Bullous...</td>\n",
       "      <td>Pulmonary Disease, Chronic Obstructive;Bullous...</td>\n",
       "      <td>PA and lateral views of the chest XXXX, XXXX a...</td>\n",
       "      <td>XXXX-year-old XXXX with XXXX.</td>\n",
       "      <td>None available</td>\n",
       "      <td>There are diffuse bilateral interstitial and a...</td>\n",
       "      <td>1. Bullous emphysema and interstitial fibrosis...</td>\n",
       "      <td>There are diffuse bilateral interstitial and a...</td>\n",
       "      <td>/kaggle/input/chest-xrays-indiana-university/i...</td>\n",
       "    </tr>\n",
       "  </tbody>\n",
       "</table>\n",
       "</div>"
      ],
      "text/plain": [
       "   uid                filename projection  \\\n",
       "0    1  1_IM-0001-4001.dcm.png    Frontal   \n",
       "1    1  1_IM-0001-3001.dcm.png    Lateral   \n",
       "2    2  2_IM-0652-1001.dcm.png    Frontal   \n",
       "3    2  2_IM-0652-2001.dcm.png    Lateral   \n",
       "6    4  4_IM-2050-1001.dcm.png    Frontal   \n",
       "\n",
       "                                                MeSH  \\\n",
       "0                                             normal   \n",
       "1                                             normal   \n",
       "2  Cardiomegaly/borderline;Pulmonary Artery/enlarged   \n",
       "3  Cardiomegaly/borderline;Pulmonary Artery/enlarged   \n",
       "6  Pulmonary Disease, Chronic Obstructive;Bullous...   \n",
       "\n",
       "                                            Problems  \\\n",
       "0                                             normal   \n",
       "1                                             normal   \n",
       "2                      Cardiomegaly;Pulmonary Artery   \n",
       "3                      Cardiomegaly;Pulmonary Artery   \n",
       "6  Pulmonary Disease, Chronic Obstructive;Bullous...   \n",
       "\n",
       "                                               image  \\\n",
       "0                          Xray Chest PA and Lateral   \n",
       "1                          Xray Chest PA and Lateral   \n",
       "2                Chest, 2 views, frontal and lateral   \n",
       "3                Chest, 2 views, frontal and lateral   \n",
       "6  PA and lateral views of the chest XXXX, XXXX a...   \n",
       "\n",
       "                      indication      comparison  \\\n",
       "0               Positive TB test           None.   \n",
       "1               Positive TB test           None.   \n",
       "2       Preop bariatric surgery.           None.   \n",
       "3       Preop bariatric surgery.           None.   \n",
       "6  XXXX-year-old XXXX with XXXX.  None available   \n",
       "\n",
       "                                            findings  \\\n",
       "0  The cardiac silhouette and mediastinum size ar...   \n",
       "1  The cardiac silhouette and mediastinum size ar...   \n",
       "2  Borderline cardiomegaly. Midline sternotomy XX...   \n",
       "3  Borderline cardiomegaly. Midline sternotomy XX...   \n",
       "6  There are diffuse bilateral interstitial and a...   \n",
       "\n",
       "                                          impression  \\\n",
       "0                               Normal chest x-XXXX.   \n",
       "1                               Normal chest x-XXXX.   \n",
       "2                       No acute pulmonary findings.   \n",
       "3                       No acute pulmonary findings.   \n",
       "6  1. Bullous emphysema and interstitial fibrosis...   \n",
       "\n",
       "                                              report  \\\n",
       "0  The cardiac silhouette and mediastinum size ar...   \n",
       "1  The cardiac silhouette and mediastinum size ar...   \n",
       "2  Borderline cardiomegaly. Midline sternotomy XX...   \n",
       "3  Borderline cardiomegaly. Midline sternotomy XX...   \n",
       "6  There are diffuse bilateral interstitial and a...   \n",
       "\n",
       "                                                path  \n",
       "0  /kaggle/input/chest-xrays-indiana-university/i...  \n",
       "1  /kaggle/input/chest-xrays-indiana-university/i...  \n",
       "2  /kaggle/input/chest-xrays-indiana-university/i...  \n",
       "3  /kaggle/input/chest-xrays-indiana-university/i...  \n",
       "6  /kaggle/input/chest-xrays-indiana-university/i...  "
      ]
     },
     "execution_count": 26,
     "metadata": {},
     "output_type": "execute_result"
    }
   ],
   "source": [
    "df.head()"
   ]
  },
  {
   "cell_type": "markdown",
   "metadata": {},
   "source": [
    "Разбиение на выборки"
   ]
  },
  {
   "cell_type": "code",
   "execution_count": 27,
   "metadata": {},
   "outputs": [],
   "source": [
    "split = GroupShuffleSplit(test_size=0.2, n_splits=1, random_state=42)\n",
    "train_idx, test_idx = next(split.split(df, groups=df['uid']))\n",
    "train_df, test_df = df.iloc[train_idx], df.iloc[test_idx]"
   ]
  },
  {
   "cell_type": "code",
   "execution_count": 28,
   "metadata": {},
   "outputs": [
    {
     "data": {
      "text/plain": [
       "((5164, 12), (1293, 12))"
      ]
     },
     "execution_count": 28,
     "metadata": {},
     "output_type": "execute_result"
    }
   ],
   "source": [
    "train_df.shape, test_df.shape"
   ]
  },
  {
   "cell_type": "markdown",
   "metadata": {},
   "source": [
    "### Парсинг MeSH → pathology теги"
   ]
  },
  {
   "cell_type": "code",
   "execution_count": 29,
   "metadata": {},
   "outputs": [],
   "source": [
    "common_labels = [\n",
    "    \"atelectasis\",\"cardiomegaly\",\"consolidation\",\"edema\",\"pleural effusion\",\n",
    "    \"pneumonia\",\"pneumothorax\",\"support devices\",\"enlarged cardiomediastinum\",\n",
    "    \"fracture\",\"lung lesion\",\"lung opacity\",\"pleural other\",\"pleural thickening\", \"normal\"\n",
    "]\n",
    "label_map = {lbl: i for i,lbl in enumerate(common_labels)}"
   ]
  },
  {
   "cell_type": "markdown",
   "metadata": {},
   "source": [
    "Построение label_map"
   ]
  },
  {
   "cell_type": "code",
   "execution_count": 30,
   "metadata": {},
   "outputs": [],
   "source": [
    "def extract_labels(mesh_str):\n",
    "    tags = []\n",
    "    for term in re.split('[;/]', mesh_str.lower()):\n",
    "        term = term.strip()\n",
    "        for lbl in common_labels:\n",
    "            if lbl in term:\n",
    "                tags.append(lbl)\n",
    "    return list(set(tags))\n"
   ]
  },
  {
   "cell_type": "code",
   "execution_count": 31,
   "metadata": {},
   "outputs": [
    {
     "data": {
      "text/html": [
       "<style>#sk-container-id-2 {color: black;background-color: white;}#sk-container-id-2 pre{padding: 0;}#sk-container-id-2 div.sk-toggleable {background-color: white;}#sk-container-id-2 label.sk-toggleable__label {cursor: pointer;display: block;width: 100%;margin-bottom: 0;padding: 0.3em;box-sizing: border-box;text-align: center;}#sk-container-id-2 label.sk-toggleable__label-arrow:before {content: \"▸\";float: left;margin-right: 0.25em;color: #696969;}#sk-container-id-2 label.sk-toggleable__label-arrow:hover:before {color: black;}#sk-container-id-2 div.sk-estimator:hover label.sk-toggleable__label-arrow:before {color: black;}#sk-container-id-2 div.sk-toggleable__content {max-height: 0;max-width: 0;overflow: hidden;text-align: left;background-color: #f0f8ff;}#sk-container-id-2 div.sk-toggleable__content pre {margin: 0.2em;color: black;border-radius: 0.25em;background-color: #f0f8ff;}#sk-container-id-2 input.sk-toggleable__control:checked~div.sk-toggleable__content {max-height: 200px;max-width: 100%;overflow: auto;}#sk-container-id-2 input.sk-toggleable__control:checked~label.sk-toggleable__label-arrow:before {content: \"▾\";}#sk-container-id-2 div.sk-estimator input.sk-toggleable__control:checked~label.sk-toggleable__label {background-color: #d4ebff;}#sk-container-id-2 div.sk-label input.sk-toggleable__control:checked~label.sk-toggleable__label {background-color: #d4ebff;}#sk-container-id-2 input.sk-hidden--visually {border: 0;clip: rect(1px 1px 1px 1px);clip: rect(1px, 1px, 1px, 1px);height: 1px;margin: -1px;overflow: hidden;padding: 0;position: absolute;width: 1px;}#sk-container-id-2 div.sk-estimator {font-family: monospace;background-color: #f0f8ff;border: 1px dotted black;border-radius: 0.25em;box-sizing: border-box;margin-bottom: 0.5em;}#sk-container-id-2 div.sk-estimator:hover {background-color: #d4ebff;}#sk-container-id-2 div.sk-parallel-item::after {content: \"\";width: 100%;border-bottom: 1px solid gray;flex-grow: 1;}#sk-container-id-2 div.sk-label:hover label.sk-toggleable__label {background-color: #d4ebff;}#sk-container-id-2 div.sk-serial::before {content: \"\";position: absolute;border-left: 1px solid gray;box-sizing: border-box;top: 0;bottom: 0;left: 50%;z-index: 0;}#sk-container-id-2 div.sk-serial {display: flex;flex-direction: column;align-items: center;background-color: white;padding-right: 0.2em;padding-left: 0.2em;position: relative;}#sk-container-id-2 div.sk-item {position: relative;z-index: 1;}#sk-container-id-2 div.sk-parallel {display: flex;align-items: stretch;justify-content: center;background-color: white;position: relative;}#sk-container-id-2 div.sk-item::before, #sk-container-id-2 div.sk-parallel-item::before {content: \"\";position: absolute;border-left: 1px solid gray;box-sizing: border-box;top: 0;bottom: 0;left: 50%;z-index: -1;}#sk-container-id-2 div.sk-parallel-item {display: flex;flex-direction: column;z-index: 1;position: relative;background-color: white;}#sk-container-id-2 div.sk-parallel-item:first-child::after {align-self: flex-end;width: 50%;}#sk-container-id-2 div.sk-parallel-item:last-child::after {align-self: flex-start;width: 50%;}#sk-container-id-2 div.sk-parallel-item:only-child::after {width: 0;}#sk-container-id-2 div.sk-dashed-wrapped {border: 1px dashed gray;margin: 0 0.4em 0.5em 0.4em;box-sizing: border-box;padding-bottom: 0.4em;background-color: white;}#sk-container-id-2 div.sk-label label {font-family: monospace;font-weight: bold;display: inline-block;line-height: 1.2em;}#sk-container-id-2 div.sk-label-container {text-align: center;}#sk-container-id-2 div.sk-container {/* jupyter's `normalize.less` sets `[hidden] { display: none; }` but bootstrap.min.css set `[hidden] { display: none !important; }` so we also need the `!important` here to be able to override the default hidden behavior on the sphinx rendered scikit-learn.org. See: https://github.com/scikit-learn/scikit-learn/issues/21755 */display: inline-block !important;position: relative;}#sk-container-id-2 div.sk-text-repr-fallback {display: none;}</style><div id=\"sk-container-id-2\" class=\"sk-top-container\"><div class=\"sk-text-repr-fallback\"><pre>MultiLabelBinarizer(classes=[&#x27;atelectasis&#x27;, &#x27;cardiomegaly&#x27;, &#x27;consolidation&#x27;,\n",
       "                             &#x27;edema&#x27;, &#x27;pleural effusion&#x27;, &#x27;pneumonia&#x27;,\n",
       "                             &#x27;pneumothorax&#x27;, &#x27;support devices&#x27;,\n",
       "                             &#x27;enlarged cardiomediastinum&#x27;, &#x27;fracture&#x27;,\n",
       "                             &#x27;lung lesion&#x27;, &#x27;lung opacity&#x27;, &#x27;pleural other&#x27;,\n",
       "                             &#x27;pleural thickening&#x27;, &#x27;normal&#x27;])</pre><b>In a Jupyter environment, please rerun this cell to show the HTML representation or trust the notebook. <br />On GitHub, the HTML representation is unable to render, please try loading this page with nbviewer.org.</b></div><div class=\"sk-container\" hidden><div class=\"sk-item\"><div class=\"sk-estimator sk-toggleable\"><input class=\"sk-toggleable__control sk-hidden--visually\" id=\"sk-estimator-id-2\" type=\"checkbox\" checked><label for=\"sk-estimator-id-2\" class=\"sk-toggleable__label sk-toggleable__label-arrow\">MultiLabelBinarizer</label><div class=\"sk-toggleable__content\"><pre>MultiLabelBinarizer(classes=[&#x27;atelectasis&#x27;, &#x27;cardiomegaly&#x27;, &#x27;consolidation&#x27;,\n",
       "                             &#x27;edema&#x27;, &#x27;pleural effusion&#x27;, &#x27;pneumonia&#x27;,\n",
       "                             &#x27;pneumothorax&#x27;, &#x27;support devices&#x27;,\n",
       "                             &#x27;enlarged cardiomediastinum&#x27;, &#x27;fracture&#x27;,\n",
       "                             &#x27;lung lesion&#x27;, &#x27;lung opacity&#x27;, &#x27;pleural other&#x27;,\n",
       "                             &#x27;pleural thickening&#x27;, &#x27;normal&#x27;])</pre></div></div></div></div></div>"
      ],
      "text/plain": [
       "MultiLabelBinarizer(classes=['atelectasis', 'cardiomegaly', 'consolidation',\n",
       "                             'edema', 'pleural effusion', 'pneumonia',\n",
       "                             'pneumothorax', 'support devices',\n",
       "                             'enlarged cardiomediastinum', 'fracture',\n",
       "                             'lung lesion', 'lung opacity', 'pleural other',\n",
       "                             'pleural thickening', 'normal'])"
      ]
     },
     "execution_count": 31,
     "metadata": {},
     "output_type": "execute_result"
    }
   ],
   "source": [
    "# df_labels = df[['uid','MeSH']].dropna()\n",
    "df_labels = df[['uid','MeSH']].drop_duplicates().copy()\n",
    "\n",
    "df_labels['labels'] = df_labels['MeSH'].apply(extract_labels)\n",
    "\n",
    "mlb = MultiLabelBinarizer(classes=common_labels)\n",
    "mlb.fit([common_labels])"
   ]
  },
  {
   "cell_type": "code",
   "execution_count": 32,
   "metadata": {},
   "outputs": [],
   "source": [
    "label_map = {}\n",
    "for uid, grp in df_labels.groupby('uid'):\n",
    "    lbls = grp['labels'].sum()  # объединяем списки (хотя обычно один элемент)\n",
    "    vect = mlb.transform([lbls])[0]\n",
    "    label_map[uid] = torch.tensor(vect, dtype=torch.float)"
   ]
  },
  {
   "cell_type": "code",
   "execution_count": 33,
   "metadata": {},
   "outputs": [
    {
     "name": "stdout",
     "output_type": "stream",
     "text": [
      "UIDs without labels: set()\n"
     ]
    }
   ],
   "source": [
    "# Проверяем, что есть метки для каждой группы:\n",
    "miss = set(train_df['uid']) - set(label_map.keys())\n",
    "print(\"UIDs without labels:\", miss)\n",
    "assert not miss, \"Проверьте функцию extract_labels: не все UID получили метки\""
   ]
  },
  {
   "cell_type": "markdown",
   "metadata": {},
   "source": [
    "### DataLoader с фронтальными и латеральными проекциями"
   ]
  },
  {
   "cell_type": "code",
   "execution_count": 34,
   "metadata": {},
   "outputs": [],
   "source": [
    "from torch.utils.data import Dataset, DataLoader\n",
    "from PIL import Image\n",
    "from torchvision import transforms"
   ]
  },
  {
   "cell_type": "code",
   "execution_count": 35,
   "metadata": {},
   "outputs": [],
   "source": [
    "class IUDataset(Dataset):\n",
    "    def __init__(self, df, img_dir, label_map, transform=None):\n",
    "        self.transform = transform\n",
    "        self.groups = df.groupby('uid')\n",
    "        self.uids = list(self.groups.groups.keys())\n",
    "        self.img_dir = img_dir\n",
    "        self.label_map = label_map\n",
    "\n",
    "    def __len__(self):\n",
    "        return len(self.uids)\n",
    "\n",
    "    def __getitem__(self, idx):\n",
    "        uid = self.uids[idx]\n",
    "        group = self.groups.get_group(uid)\n",
    "        # выбираем frontal\n",
    "        if 'projection' in group.columns and 'frontal' in group['projection'].values:\n",
    "            row = group[group['projection']=='frontal'].iloc[0]\n",
    "        else:\n",
    "            row = group.iloc[0]\n",
    "\n",
    "        path = row['path']  # убедитесь, что колонка называется именно так\n",
    "        image = Image.open(os.path.join(self.img_dir, path)).convert('RGB')\n",
    "        if self.transform:\n",
    "            image = self.transform(image)\n",
    "\n",
    "        labels = self.label_map[uid]        # теперь это dict, а не Compose\n",
    "        report = row['report']\n",
    "\n",
    "        return {'img_f': image, 'report': report, 'labels': labels}\n"
   ]
  },
  {
   "cell_type": "code",
   "execution_count": 36,
   "metadata": {},
   "outputs": [],
   "source": [
    "tfm = transforms.Compose([\n",
    "    transforms.Resize((224, 224)),\n",
    "    transforms.ToTensor(),\n",
    "    transforms.Normalize(mean=[0.5], std=[0.5])\n",
    "])"
   ]
  },
  {
   "cell_type": "code",
   "execution_count": 37,
   "metadata": {},
   "outputs": [],
   "source": [
    "train_ds = IUDataset(train_df, '/kaggle/input/chest-xrays-indiana-university/images/images_normalized', transform=tfm, label_map=label_map)\n",
    "train_dl = DataLoader(train_ds, batch_size=16, shuffle=True, num_workers=2)\n",
    "\n",
    "test_ds = IUDataset(test_df, '/kaggle/input/chest-xrays-indiana-university/images/images_normalized', transform=tfm, label_map=label_map)\n",
    "test_dl = DataLoader(test_ds, batch_size=16, shuffle=True, num_workers=2)"
   ]
  },
  {
   "cell_type": "markdown",
   "metadata": {},
   "source": [
    "## Определение DenseTagger (CheXNet‑backbone)"
   ]
  },
  {
   "cell_type": "code",
   "execution_count": 39,
   "metadata": {},
   "outputs": [],
   "source": [
    "class DenseTagger(nn.Module):\n",
    "    def __init__(self, num_labels):\n",
    "        super().__init__()\n",
    "        self.backbone = torchvision.models.densenet121(pretrained=True)\n",
    "        # Заменяем классификатор на multi-label\n",
    "        in_features = self.backbone.classifier.in_features\n",
    "        self.backbone.classifier = nn.Linear(in_features, num_labels)\n",
    "\n",
    "    def forward(self, x):\n",
    "        # x: [batch, 3, H, W]\n",
    "        logits = self.backbone(x)\n",
    "        return logits  # BCEWithLogitsLoss применит sigmoid внутри"
   ]
  },
  {
   "cell_type": "code",
   "execution_count": 40,
   "metadata": {},
   "outputs": [],
   "source": [
    "# Гиперпараметры\n",
    "num_labels = 15  # Число патологий в IU X-Ray (настройте по CSV)\n",
    "batch_size = 16\n",
    "lr = 1e-4\n",
    "num_epochs = 5"
   ]
  },
  {
   "cell_type": "code",
   "execution_count": 41,
   "metadata": {},
   "outputs": [],
   "source": [
    "device = torch.device(\"cuda\" if torch.cuda.is_available() else \"cpu\")"
   ]
  },
  {
   "cell_type": "code",
   "execution_count": 42,
   "metadata": {},
   "outputs": [
    {
     "name": "stderr",
     "output_type": "stream",
     "text": [
      "/opt/conda/lib/python3.10/site-packages/torchvision/models/_utils.py:208: UserWarning: The parameter 'pretrained' is deprecated since 0.13 and may be removed in the future, please use 'weights' instead.\n",
      "  warnings.warn(\n",
      "/opt/conda/lib/python3.10/site-packages/torchvision/models/_utils.py:223: UserWarning: Arguments other than a weight enum or `None` for 'weights' are deprecated since 0.13 and may be removed in the future. The current behavior is equivalent to passing `weights=DenseNet121_Weights.IMAGENET1K_V1`. You can also use `weights=DenseNet121_Weights.DEFAULT` to get the most up-to-date weights.\n",
      "  warnings.warn(msg)\n"
     ]
    }
   ],
   "source": [
    "# Инициализация модели, loss и оптимизатора\n",
    "model = DenseTagger(num_labels=num_labels).to(device)\n",
    "criterion = nn.BCEWithLogitsLoss()\n",
    "optimizer = optim.Adam(model.parameters(), lr=lr)"
   ]
  },
  {
   "cell_type": "code",
   "execution_count": 43,
   "metadata": {},
   "outputs": [],
   "source": [
    "def train_epoch(model, loader, criterion, optimizer):\n",
    "    \"\"\"\n",
    "    Обучение модели\n",
    "    \"\"\"\n",
    "    model.train()\n",
    "    total_loss = 0.0\n",
    "    for batch in loader:\n",
    "        imgs = batch['img_f'].to(device)  # используем frontal view\n",
    "        # Если нужны оба вида: concat или два потока\n",
    "        targets = batch['labels'].to(device)  # tensor [B, num_labels]\n",
    "\n",
    "        optimizer.zero_grad()\n",
    "        logits = model(imgs)\n",
    "        loss = criterion(logits, targets)\n",
    "        loss.backward()\n",
    "        optimizer.step()\n",
    "\n",
    "        total_loss += loss.item() * imgs.size(0)\n",
    "    return total_loss / len(loader.dataset)"
   ]
  },
  {
   "cell_type": "code",
   "execution_count": 44,
   "metadata": {},
   "outputs": [],
   "source": [
    "def validate_epoch(model, loader, criterion):\n",
    "    \"\"\"\n",
    "    Валидация модели\n",
    "    \"\"\"\n",
    "    model.eval()\n",
    "    total_loss = 0.0\n",
    "    with torch.no_grad():\n",
    "        for batch in loader:\n",
    "            imgs = batch['img_f'].to(device)\n",
    "            targets = batch['labels'].to(device)\n",
    "            logits = model(imgs)\n",
    "            loss = criterion(logits, targets)\n",
    "            total_loss += loss.item() * imgs.size(0)\n",
    "    return total_loss / len(loader.dataset)"
   ]
  },
  {
   "cell_type": "markdown",
   "metadata": {},
   "source": [
    "Обучение"
   ]
  },
  {
   "cell_type": "code",
   "execution_count": 45,
   "metadata": {},
   "outputs": [
    {
     "name": "stdout",
     "output_type": "stream",
     "text": [
      "Epoch 1: Train Loss = 0.2005, Val Loss = 0.1084\n",
      "Epoch 2: Train Loss = 0.0888, Val Loss = 0.0990\n",
      "Epoch 3: Train Loss = 0.0697, Val Loss = 0.0981\n",
      "Epoch 4: Train Loss = 0.0496, Val Loss = 0.1141\n",
      "Epoch 5: Train Loss = 0.0335, Val Loss = 0.1181\n",
      "Training complete. Model saved to dense_tagger.pt\n"
     ]
    }
   ],
   "source": [
    "for epoch in range(1, num_epochs + 1):\n",
    "    train_loss = train_epoch(model, train_dl, criterion, optimizer)\n",
    "    val_loss = validate_epoch(model, test_dl, criterion)\n",
    "    print(f\"Epoch {epoch}: Train Loss = {train_loss:.4f}, Val Loss = {val_loss:.4f}\")\n",
    "\n",
    "# Сохранение чекпойнта\n",
    "torch.save(model.state_dict(), 'dense_tagger.pt')\n",
    "print(\"Training complete. Model saved to dense_tagger.pt\")"
   ]
  },
  {
   "cell_type": "code",
   "execution_count": 46,
   "metadata": {},
   "outputs": [
    {
     "name": "stdout",
     "output_type": "stream",
     "text": [
      "Probs:\n",
      " [[5.2377232e-03 7.3896036e-02 3.9529526e-03 6.7159072e-03 3.1068497e-03\n",
      "  7.7399062e-03 1.0152541e-03 2.4027477e-03 1.0218463e-03 6.6921189e-03\n",
      "  1.1620955e-03 1.6949276e-03 1.2949926e-03 1.1127987e-03 4.1301730e-03]\n",
      " [4.0373523e-03 1.9283025e-01 3.7208796e-03 1.4749845e-02 1.5060047e-02\n",
      "  5.4868641e-03 1.3661016e-03 2.5402396e-03 8.1273285e-04 1.6706083e-02\n",
      "  1.2976187e-03 1.3232386e-03 1.3801036e-03 1.1620357e-03 2.6445766e-03]\n",
      " [7.3696452e-01 2.5527971e-02 7.0201731e-03 4.7813058e-03 2.4575172e-02\n",
      "  7.6761944e-03 7.6276725e-03 1.5060474e-03 6.1185006e-04 1.5688503e-02\n",
      "  1.0779948e-03 5.1496155e-04 1.7433182e-03 9.5444382e-04 6.3697244e-03]\n",
      " [1.9949256e-02 3.1900895e-03 2.3964492e-03 3.7114909e-03 3.4246254e-03\n",
      "  4.9994681e-03 3.0515969e-03 3.4977414e-03 1.3011824e-03 3.9115339e-03\n",
      "  2.5473454e-03 1.4386236e-03 1.9051324e-03 2.0626471e-03 9.0177590e-01]\n",
      " [5.5655502e-02 8.4581263e-03 5.0148577e-03 4.5600948e-03 6.1346581e-03\n",
      "  8.0476739e-03 6.4141299e-03 3.2425066e-03 1.9654247e-03 8.3407961e-02\n",
      "  2.0791690e-03 1.7850676e-03 2.8341275e-03 3.0294089e-03 1.2062037e-02]\n",
      " [2.6449464e-02 2.0991797e-03 2.3935349e-03 2.1882774e-03 1.2822482e-02\n",
      "  4.6604862e-03 2.2992888e-03 1.6938886e-03 7.2663807e-04 1.7348209e-02\n",
      "  1.0559738e-03 9.1026077e-04 9.9135004e-04 7.1175653e-04 1.1135251e-02]\n",
      " [1.2227533e-03 8.7570044e-04 1.2510093e-03 2.3362471e-03 1.4666839e-03\n",
      "  1.0229368e-03 2.1526641e-03 1.7999515e-03 6.8063440e-04 2.1603166e-03\n",
      "  1.3431336e-03 7.9921528e-04 1.3801273e-03 1.5835251e-03 9.8518813e-01]\n",
      " [5.6735086e-03 7.8628786e-02 4.1568987e-03 7.7664130e-03 3.8660748e-03\n",
      "  4.4619935e-03 3.2807386e-03 6.1286888e-03 1.7070668e-03 4.5768325e-03\n",
      "  1.7941582e-03 2.2287713e-03 2.7496179e-03 2.5278246e-03 2.6371670e-01]\n",
      " [4.4737724e-04 3.1282387e-03 1.7350394e-03 3.1209593e-03 9.9260744e-04\n",
      "  1.8517589e-03 3.3438948e-03 1.8469748e-03 1.3046290e-03 3.7305395e-03\n",
      "  1.6969433e-03 7.3174911e-04 1.0475712e-03 1.2584972e-03 9.1938961e-01]\n",
      " [2.4799977e-03 1.4110585e-03 3.3714955e-03 5.2510323e-03 4.9427790e-03\n",
      "  6.3726562e-03 9.9401539e-03 3.3457279e-03 1.8867996e-03 5.0903019e-03\n",
      "  2.3281800e-03 2.2047216e-03 2.3378145e-03 3.3716734e-03 6.2221777e-01]\n",
      " [6.7987072e-04 2.1511712e-04 6.3792133e-04 8.8540703e-04 7.2280434e-04\n",
      "  5.5272278e-04 7.7907793e-04 9.5850183e-04 4.0784501e-04 7.4429845e-04\n",
      "  7.0351409e-04 2.6405702e-04 4.5232795e-04 7.1397464e-04 9.9815816e-01]\n",
      " [1.1456455e-02 1.5727587e-03 3.1197120e-03 2.8052016e-03 4.0462380e-03\n",
      "  3.0973919e-03 3.2452724e-03 2.3966283e-03 1.2248782e-03 1.9901462e-03\n",
      "  1.3813133e-03 1.2177264e-03 1.8234383e-03 1.4550636e-03 4.3824992e-01]\n",
      " [1.3992571e-03 2.8576874e-04 1.0416112e-03 1.1211679e-03 1.2616226e-03\n",
      "  3.4519106e-03 2.4253700e-03 1.2338391e-03 7.8451086e-04 5.9633125e-03\n",
      "  1.0513288e-03 6.1903044e-04 8.0496102e-04 1.1486193e-03 7.9595238e-01]\n",
      " [6.2220646e-03 1.4485635e-03 9.8819251e-04 1.0768464e-03 6.9445011e-04\n",
      "  9.2493184e-04 1.3052006e-03 1.4212271e-03 4.8918941e-04 1.3492479e-03\n",
      "  7.2272093e-04 4.8989709e-04 5.4611609e-04 7.7200471e-04 8.8945055e-01]\n",
      " [8.5306237e-04 1.0419044e-03 1.4454259e-03 2.1293864e-03 2.1743008e-03\n",
      "  6.7286845e-03 2.2830693e-03 2.6996750e-03 1.2458131e-03 1.1260015e-03\n",
      "  1.6603392e-03 8.8357943e-04 1.4080409e-03 1.7207749e-03 7.7200067e-01]\n",
      " [8.5246395e-03 7.1704615e-04 1.6288676e-03 2.3341242e-03 2.1283126e-03\n",
      "  6.5174340e-03 3.1477145e-03 1.9048622e-03 7.7443291e-04 9.5956167e-03\n",
      "  1.3634221e-03 1.2442335e-03 1.5984039e-03 1.2436558e-03 2.2282951e-02]]\n",
      "Preds:\n",
      " [[0 0 0 0 0 0 0 0 0 0 0 0 0 0 0]\n",
      " [0 0 0 0 0 0 0 0 0 0 0 0 0 0 0]\n",
      " [1 0 0 0 0 0 0 0 0 0 0 0 0 0 0]\n",
      " [0 0 0 0 0 0 0 0 0 0 0 0 0 0 1]\n",
      " [0 0 0 0 0 0 0 0 0 0 0 0 0 0 0]\n",
      " [0 0 0 0 0 0 0 0 0 0 0 0 0 0 0]\n",
      " [0 0 0 0 0 0 0 0 0 0 0 0 0 0 1]\n",
      " [0 0 0 0 0 0 0 0 0 0 0 0 0 0 0]\n",
      " [0 0 0 0 0 0 0 0 0 0 0 0 0 0 1]\n",
      " [0 0 0 0 0 0 0 0 0 0 0 0 0 0 1]\n",
      " [0 0 0 0 0 0 0 0 0 0 0 0 0 0 1]\n",
      " [0 0 0 0 0 0 0 0 0 0 0 0 0 0 0]\n",
      " [0 0 0 0 0 0 0 0 0 0 0 0 0 0 1]\n",
      " [0 0 0 0 0 0 0 0 0 0 0 0 0 0 1]\n",
      " [0 0 0 0 0 0 0 0 0 0 0 0 0 0 1]\n",
      " [0 0 0 0 0 0 0 0 0 0 0 0 0 0 0]]\n",
      "GT:\n",
      " [[0. 0. 0. 0. 0. 0. 0. 0. 0. 0. 0. 0. 0. 0. 0.]\n",
      " [0. 0. 1. 0. 0. 0. 0. 0. 0. 0. 0. 0. 0. 0. 0.]\n",
      " [0. 0. 0. 0. 0. 0. 0. 0. 0. 0. 0. 0. 0. 0. 0.]\n",
      " [0. 0. 0. 0. 0. 0. 0. 0. 0. 0. 0. 0. 0. 0. 1.]\n",
      " [0. 0. 0. 0. 0. 0. 0. 0. 0. 0. 0. 0. 0. 0. 0.]\n",
      " [0. 0. 0. 0. 0. 0. 0. 0. 0. 0. 0. 0. 0. 0. 0.]\n",
      " [0. 0. 0. 0. 0. 0. 0. 0. 0. 0. 0. 0. 0. 0. 0.]\n",
      " [0. 1. 0. 0. 0. 0. 0. 0. 0. 0. 0. 0. 0. 0. 0.]\n",
      " [0. 0. 0. 0. 0. 0. 0. 0. 0. 0. 0. 0. 0. 0. 1.]\n",
      " [0. 0. 0. 0. 0. 0. 0. 0. 0. 0. 0. 0. 0. 0. 1.]\n",
      " [0. 0. 0. 0. 0. 0. 0. 0. 0. 0. 0. 0. 0. 0. 0.]\n",
      " [0. 0. 0. 0. 0. 0. 0. 0. 0. 0. 0. 0. 0. 0. 0.]\n",
      " [0. 0. 0. 0. 0. 0. 0. 0. 0. 0. 0. 0. 0. 0. 0.]\n",
      " [0. 0. 0. 0. 0. 0. 0. 0. 0. 0. 0. 0. 0. 0. 1.]\n",
      " [0. 0. 0. 0. 0. 0. 0. 0. 0. 0. 0. 0. 0. 0. 1.]\n",
      " [0. 0. 0. 0. 0. 0. 0. 0. 0. 0. 0. 0. 0. 0. 1.]]\n"
     ]
    }
   ],
   "source": [
    "model.eval()\n",
    "with torch.no_grad():\n",
    "    batch = next(iter(test_dl))\n",
    "    imgs = batch['img_f'].to(device)\n",
    "    logits = model(imgs)               # [B,14]\n",
    "    probs = torch.sigmoid(logits)      # вероятности\n",
    "    preds = (probs > 0.5).int()        # бинарные метки\n",
    "\n",
    "print(\"Probs:\\n\", probs.cpu().numpy())\n",
    "print(\"Preds:\\n\", preds.cpu().numpy())\n",
    "print(\"GT:\\n\", batch['labels'].cpu().numpy())\n"
   ]
  },
  {
   "cell_type": "code",
   "execution_count": 47,
   "metadata": {},
   "outputs": [
    {
     "name": "stdout",
     "output_type": "stream",
     "text": [
      "=== Sample 0 ===\n",
      "Probabilities: {'atelectasis': 0.003, 'cardiomegaly': 0.005, 'consolidation': 0.001, 'edema': 0.003, 'pleural effusion': 0.001, 'pneumonia': 0.003, 'pneumothorax': 0.003, 'support devices': 0.004, 'enlarged cardiomediastinum': 0.002, 'fracture': 0.007, 'lung lesion': 0.001, 'lung opacity': 0.001, 'pleural other': 0.002, 'pleural thickening': 0.002, 'normal': 0.105}\n",
      "Predicted: []\n",
      "Ground‑Truth: ['normal']\n",
      "\n",
      "=== Sample 1 ===\n",
      "Probabilities: {'atelectasis': 0.002, 'cardiomegaly': 0.002, 'consolidation': 0.002, 'edema': 0.003, 'pleural effusion': 0.003, 'pneumonia': 0.003, 'pneumothorax': 0.003, 'support devices': 0.002, 'enlarged cardiomediastinum': 0.001, 'fracture': 0.002, 'lung lesion': 0.002, 'lung opacity': 0.001, 'pleural other': 0.001, 'pleural thickening': 0.002, 'normal': 0.799}\n",
      "Predicted: ['normal']\n",
      "Ground‑Truth: ['normal']\n",
      "\n",
      "=== Sample 2 ===\n",
      "Probabilities: {'atelectasis': 0.001, 'cardiomegaly': 0.002, 'consolidation': 0.002, 'edema': 0.004, 'pleural effusion': 0.002, 'pneumonia': 0.002, 'pneumothorax': 0.003, 'support devices': 0.002, 'enlarged cardiomediastinum': 0.001, 'fracture': 0.008, 'lung lesion': 0.002, 'lung opacity': 0.001, 'pleural other': 0.001, 'pleural thickening': 0.002, 'normal': 0.974}\n",
      "Predicted: ['normal']\n",
      "Ground‑Truth: ['normal']\n",
      "\n",
      "=== Sample 3 ===\n",
      "Probabilities: {'atelectasis': 0.001, 'cardiomegaly': 0.002, 'consolidation': 0.002, 'edema': 0.003, 'pleural effusion': 0.002, 'pneumonia': 0.003, 'pneumothorax': 0.003, 'support devices': 0.003, 'enlarged cardiomediastinum': 0.001, 'fracture': 0.002, 'lung lesion': 0.001, 'lung opacity': 0.001, 'pleural other': 0.001, 'pleural thickening': 0.002, 'normal': 0.892}\n",
      "Predicted: ['normal']\n",
      "Ground‑Truth: ['normal']\n",
      "\n",
      "=== Sample 4 ===\n",
      "Probabilities: {'atelectasis': 0.001, 'cardiomegaly': 0.005, 'consolidation': 0.002, 'edema': 0.005, 'pleural effusion': 0.002, 'pneumonia': 0.007, 'pneumothorax': 0.004, 'support devices': 0.002, 'enlarged cardiomediastinum': 0.001, 'fracture': 0.006, 'lung lesion': 0.002, 'lung opacity': 0.001, 'pleural other': 0.002, 'pleural thickening': 0.002, 'normal': 0.074}\n",
      "Predicted: []\n",
      "Ground‑Truth: ['normal']\n",
      "\n",
      "=== Sample 5 ===\n",
      "Probabilities: {'atelectasis': 0.003, 'cardiomegaly': 0.002, 'consolidation': 0.002, 'edema': 0.002, 'pleural effusion': 0.004, 'pneumonia': 0.005, 'pneumothorax': 0.002, 'support devices': 0.002, 'enlarged cardiomediastinum': 0.001, 'fracture': 0.008, 'lung lesion': 0.001, 'lung opacity': 0.001, 'pleural other': 0.001, 'pleural thickening': 0.001, 'normal': 0.059}\n",
      "Predicted: []\n",
      "Ground‑Truth: []\n",
      "\n",
      "=== Sample 6 ===\n",
      "Probabilities: {'atelectasis': 0.001, 'cardiomegaly': 0.001, 'consolidation': 0.003, 'edema': 0.004, 'pleural effusion': 0.002, 'pneumonia': 0.002, 'pneumothorax': 0.003, 'support devices': 0.003, 'enlarged cardiomediastinum': 0.001, 'fracture': 0.002, 'lung lesion': 0.001, 'lung opacity': 0.001, 'pleural other': 0.002, 'pleural thickening': 0.001, 'normal': 0.991}\n",
      "Predicted: ['normal']\n",
      "Ground‑Truth: ['normal']\n",
      "\n",
      "=== Sample 7 ===\n",
      "Probabilities: {'atelectasis': 0.002, 'cardiomegaly': 0.0, 'consolidation': 0.001, 'edema': 0.001, 'pleural effusion': 0.001, 'pneumonia': 0.002, 'pneumothorax': 0.001, 'support devices': 0.001, 'enlarged cardiomediastinum': 0.001, 'fracture': 0.002, 'lung lesion': 0.001, 'lung opacity': 0.0, 'pleural other': 0.001, 'pleural thickening': 0.001, 'normal': 0.97}\n",
      "Predicted: ['normal']\n",
      "Ground‑Truth: ['normal']\n",
      "\n",
      "=== Sample 8 ===\n",
      "Probabilities: {'atelectasis': 0.275, 'cardiomegaly': 0.005, 'consolidation': 0.02, 'edema': 0.012, 'pleural effusion': 0.041, 'pneumonia': 0.026, 'pneumothorax': 0.008, 'support devices': 0.004, 'enlarged cardiomediastinum': 0.003, 'fracture': 0.044, 'lung lesion': 0.003, 'lung opacity': 0.002, 'pleural other': 0.003, 'pleural thickening': 0.002, 'normal': 0.003}\n",
      "Predicted: []\n",
      "Ground‑Truth: ['normal']\n",
      "\n",
      "=== Sample 9 ===\n",
      "Probabilities: {'atelectasis': 0.237, 'cardiomegaly': 0.086, 'consolidation': 0.052, 'edema': 0.044, 'pleural effusion': 0.375, 'pneumonia': 0.2, 'pneumothorax': 0.016, 'support devices': 0.004, 'enlarged cardiomediastinum': 0.003, 'fracture': 0.008, 'lung lesion': 0.004, 'lung opacity': 0.003, 'pleural other': 0.004, 'pleural thickening': 0.002, 'normal': 0.008}\n",
      "Predicted: []\n",
      "Ground‑Truth: ['atelectasis', 'pleural effusion']\n",
      "\n",
      "=== Sample 10 ===\n",
      "Probabilities: {'atelectasis': 0.008, 'cardiomegaly': 0.001, 'consolidation': 0.001, 'edema': 0.002, 'pleural effusion': 0.001, 'pneumonia': 0.002, 'pneumothorax': 0.004, 'support devices': 0.001, 'enlarged cardiomediastinum': 0.001, 'fracture': 0.003, 'lung lesion': 0.002, 'lung opacity': 0.001, 'pleural other': 0.001, 'pleural thickening': 0.002, 'normal': 0.984}\n",
      "Predicted: ['normal']\n",
      "Ground‑Truth: ['normal']\n",
      "\n",
      "=== Sample 11 ===\n",
      "Probabilities: {'atelectasis': 0.001, 'cardiomegaly': 0.001, 'consolidation': 0.002, 'edema': 0.002, 'pleural effusion': 0.008, 'pneumonia': 0.004, 'pneumothorax': 0.004, 'support devices': 0.001, 'enlarged cardiomediastinum': 0.001, 'fracture': 0.026, 'lung lesion': 0.001, 'lung opacity': 0.001, 'pleural other': 0.001, 'pleural thickening': 0.001, 'normal': 0.032}\n",
      "Predicted: []\n",
      "Ground‑Truth: []\n",
      "\n",
      "=== Sample 12 ===\n",
      "Probabilities: {'atelectasis': 0.001, 'cardiomegaly': 0.0, 'consolidation': 0.001, 'edema': 0.002, 'pleural effusion': 0.002, 'pneumonia': 0.002, 'pneumothorax': 0.002, 'support devices': 0.001, 'enlarged cardiomediastinum': 0.001, 'fracture': 0.0, 'lung lesion': 0.001, 'lung opacity': 0.001, 'pleural other': 0.001, 'pleural thickening': 0.001, 'normal': 0.828}\n",
      "Predicted: ['normal']\n",
      "Ground‑Truth: ['normal']\n",
      "\n",
      "=== Sample 13 ===\n",
      "Probabilities: {'atelectasis': 0.009, 'cardiomegaly': 0.01, 'consolidation': 0.005, 'edema': 0.006, 'pleural effusion': 0.006, 'pneumonia': 0.003, 'pneumothorax': 0.003, 'support devices': 0.003, 'enlarged cardiomediastinum': 0.002, 'fracture': 0.011, 'lung lesion': 0.002, 'lung opacity': 0.002, 'pleural other': 0.003, 'pleural thickening': 0.003, 'normal': 0.835}\n",
      "Predicted: ['normal']\n",
      "Ground‑Truth: []\n",
      "\n",
      "=== Sample 14 ===\n",
      "Probabilities: {'atelectasis': 0.002, 'cardiomegaly': 0.003, 'consolidation': 0.001, 'edema': 0.002, 'pleural effusion': 0.001, 'pneumonia': 0.002, 'pneumothorax': 0.002, 'support devices': 0.001, 'enlarged cardiomediastinum': 0.0, 'fracture': 0.001, 'lung lesion': 0.001, 'lung opacity': 0.001, 'pleural other': 0.001, 'pleural thickening': 0.001, 'normal': 0.847}\n",
      "Predicted: ['normal']\n",
      "Ground‑Truth: ['normal']\n",
      "\n",
      "=== Sample 15 ===\n",
      "Probabilities: {'atelectasis': 0.018, 'cardiomegaly': 0.003, 'consolidation': 0.003, 'edema': 0.003, 'pleural effusion': 0.003, 'pneumonia': 0.004, 'pneumothorax': 0.007, 'support devices': 0.004, 'enlarged cardiomediastinum': 0.002, 'fracture': 0.055, 'lung lesion': 0.003, 'lung opacity': 0.002, 'pleural other': 0.002, 'pleural thickening': 0.003, 'normal': 0.483}\n",
      "Predicted: []\n",
      "Ground‑Truth: ['normal']\n",
      "\n"
     ]
    }
   ],
   "source": [
    "model.eval()\n",
    "with torch.no_grad():\n",
    "    batch = next(iter(test_dl))\n",
    "    imgs = batch['img_f'].to(device)\n",
    "    probs = torch.sigmoid(model(imgs)).cpu().numpy()\n",
    "    preds = (probs > 0.5).astype(int)\n",
    "\n",
    "for i in range(len(imgs)):\n",
    "    print(f\"=== Sample {i} ===\")\n",
    "    print(\"Probabilities:\", {common_labels[j]: round(float(probs[i,j]), 3) for j in range(len(common_labels))})\n",
    "    print(\"Predicted:\", [common_labels[j] for j in range(len(common_labels)) if preds[i,j] == 1])\n",
    "    print(\"Ground‑Truth:\", [common_labels[j] for j in range(len(common_labels)) if batch['labels'][i,j] == 1])\n",
    "    print()"
   ]
  },
  {
   "cell_type": "code",
   "execution_count": 48,
   "metadata": {},
   "outputs": [
    {
     "name": "stdout",
     "output_type": "stream",
     "text": [
      "                            precision    recall  f1-score   support\n",
      "\n",
      "               atelectasis       0.16      0.05      0.08        55\n",
      "              cardiomegaly       0.51      0.45      0.48        55\n",
      "             consolidation       0.00      0.00      0.00         6\n",
      "                     edema       0.00      0.00      0.00         6\n",
      "          pleural effusion       0.62      0.33      0.43        24\n",
      "                 pneumonia       0.00      0.00      0.00         8\n",
      "              pneumothorax       0.00      0.00      0.00         3\n",
      "           support devices       0.00      0.00      0.00         0\n",
      "enlarged cardiomediastinum       0.00      0.00      0.00         0\n",
      "                  fracture       0.00      0.00      0.00        20\n",
      "               lung lesion       0.00      0.00      0.00         0\n",
      "              lung opacity       0.00      0.00      0.00         0\n",
      "             pleural other       0.00      0.00      0.00         0\n",
      "        pleural thickening       0.00      0.00      0.00         0\n",
      "                    normal       0.53      0.61      0.57       228\n",
      "\n",
      "                 micro avg       0.51      0.43      0.47       405\n",
      "                 macro avg       0.12      0.10      0.10       405\n",
      "              weighted avg       0.42      0.43      0.42       405\n",
      "               samples avg       0.26      0.25      0.25       405\n",
      "\n"
     ]
    },
    {
     "name": "stderr",
     "output_type": "stream",
     "text": [
      "/opt/conda/lib/python3.10/site-packages/sklearn/metrics/_classification.py:1344: UndefinedMetricWarning: Precision and F-score are ill-defined and being set to 0.0 in labels with no predicted samples. Use `zero_division` parameter to control this behavior.\n",
      "  _warn_prf(average, modifier, msg_start, len(result))\n",
      "/opt/conda/lib/python3.10/site-packages/sklearn/metrics/_classification.py:1344: UndefinedMetricWarning: Recall and F-score are ill-defined and being set to 0.0 in labels with no true samples. Use `zero_division` parameter to control this behavior.\n",
      "  _warn_prf(average, modifier, msg_start, len(result))\n",
      "/opt/conda/lib/python3.10/site-packages/sklearn/metrics/_classification.py:1344: UndefinedMetricWarning: Precision and F-score are ill-defined and being set to 0.0 in samples with no predicted labels. Use `zero_division` parameter to control this behavior.\n",
      "  _warn_prf(average, modifier, msg_start, len(result))\n",
      "/opt/conda/lib/python3.10/site-packages/sklearn/metrics/_classification.py:1344: UndefinedMetricWarning: Recall and F-score are ill-defined and being set to 0.0 in samples with no true labels. Use `zero_division` parameter to control this behavior.\n",
      "  _warn_prf(average, modifier, msg_start, len(result))\n"
     ]
    }
   ],
   "source": [
    "all_preds = []\n",
    "all_targets = []\n",
    "\n",
    "model.eval()\n",
    "with torch.no_grad():\n",
    "    for batch in test_dl:\n",
    "        probs = torch.sigmoid(model(batch['img_f'].to(device))).cpu().numpy()\n",
    "        preds = (probs > 0.5).astype(int)\n",
    "        all_preds.extend(preds)\n",
    "        all_targets.extend(batch['labels'].cpu().numpy())\n",
    "\n",
    "print(classification_report(all_targets, all_preds, target_names=common_labels))\n"
   ]
  },
  {
   "cell_type": "code",
   "execution_count": null,
   "metadata": {},
   "outputs": [],
   "source": []
  },
  {
   "cell_type": "code",
   "execution_count": null,
   "metadata": {},
   "outputs": [],
   "source": []
  }
 ],
 "metadata": {
  "kaggle": {
   "accelerator": "gpu",
   "dataSources": [
    {
     "datasetId": 516716,
     "sourceId": 951996,
     "sourceType": "datasetVersion"
    }
   ],
   "dockerImageVersionId": 30683,
   "isGpuEnabled": true,
   "isInternetEnabled": true,
   "language": "python",
   "sourceType": "notebook"
  },
  "kernelspec": {
   "display_name": "Python 3 (ipykernel)",
   "language": "python",
   "name": "python3"
  },
  "language_info": {
   "codemirror_mode": {
    "name": "ipython",
    "version": 3
   },
   "file_extension": ".py",
   "mimetype": "text/x-python",
   "name": "python",
   "nbconvert_exporter": "python",
   "pygments_lexer": "ipython3",
   "version": "3.10.13"
  }
 },
 "nbformat": 4,
 "nbformat_minor": 4
}
