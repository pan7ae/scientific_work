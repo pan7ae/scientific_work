{
 "cells": [
  {
   "cell_type": "markdown",
   "metadata": {},
   "source": [
    "## Импорт зависимостей"
   ]
  },
  {
   "cell_type": "code",
   "execution_count": 1,
   "metadata": {},
   "outputs": [],
   "source": [
    "!pip install medcam3d grad-cam -q"
   ]
  },
  {
   "cell_type": "code",
   "execution_count": 2,
   "metadata": {},
   "outputs": [],
   "source": [
    "import os\n",
    "import re\n",
    "import torch\n",
    "import torchvision\n",
    "import pandas as pd\n",
    "from torch import nn, optim\n",
    "from transformers import GPT2Tokenizer, GPT2LMHeadModel, BertTokenizer, BertForSequenceClassification\n",
    "from pytorch_grad_cam import GradCAM\n",
    "from sklearn.preprocessing import MultiLabelBinarizer\n",
    "from sklearn.metrics import classification_report\n",
    "from sklearn.model_selection import GroupShuffleSplit"
   ]
  },
  {
   "cell_type": "markdown",
   "metadata": {},
   "source": [
    "## Загрузка и предобработка данных"
   ]
  },
  {
   "cell_type": "code",
   "execution_count": 3,
   "metadata": {},
   "outputs": [],
   "source": [
    "rpt = pd.read_csv('/kaggle/input/chest-xrays-indiana-university/indiana_reports.csv')\n",
    "proj = pd.read_csv('/kaggle/input/chest-xrays-indiana-university/indiana_projections.csv')"
   ]
  },
  {
   "cell_type": "code",
   "execution_count": 4,
   "metadata": {},
   "outputs": [],
   "source": [
    "df = proj.merge(rpt, on='uid', how='left')\n",
    "df = df.dropna(subset=['findings','impression'])\n",
    "df['report'] = df['findings'].fillna('') + ' ' + df['impression'].fillna('')"
   ]
  },
  {
   "cell_type": "code",
   "execution_count": 5,
   "metadata": {},
   "outputs": [],
   "source": [
    "df[\"path\"] = '/kaggle/input/chest-xrays-indiana-university/images/images_normalized/' + df[\"filename\"]"
   ]
  },
  {
   "cell_type": "code",
   "execution_count": 6,
   "metadata": {},
   "outputs": [
    {
     "data": {
      "text/html": [
       "<div>\n",
       "<style scoped>\n",
       "    .dataframe tbody tr th:only-of-type {\n",
       "        vertical-align: middle;\n",
       "    }\n",
       "\n",
       "    .dataframe tbody tr th {\n",
       "        vertical-align: top;\n",
       "    }\n",
       "\n",
       "    .dataframe thead th {\n",
       "        text-align: right;\n",
       "    }\n",
       "</style>\n",
       "<table border=\"1\" class=\"dataframe\">\n",
       "  <thead>\n",
       "    <tr style=\"text-align: right;\">\n",
       "      <th></th>\n",
       "      <th>uid</th>\n",
       "      <th>filename</th>\n",
       "      <th>projection</th>\n",
       "      <th>MeSH</th>\n",
       "      <th>Problems</th>\n",
       "      <th>image</th>\n",
       "      <th>indication</th>\n",
       "      <th>comparison</th>\n",
       "      <th>findings</th>\n",
       "      <th>impression</th>\n",
       "      <th>report</th>\n",
       "      <th>path</th>\n",
       "    </tr>\n",
       "  </thead>\n",
       "  <tbody>\n",
       "    <tr>\n",
       "      <th>0</th>\n",
       "      <td>1</td>\n",
       "      <td>1_IM-0001-4001.dcm.png</td>\n",
       "      <td>Frontal</td>\n",
       "      <td>normal</td>\n",
       "      <td>normal</td>\n",
       "      <td>Xray Chest PA and Lateral</td>\n",
       "      <td>Positive TB test</td>\n",
       "      <td>None.</td>\n",
       "      <td>The cardiac silhouette and mediastinum size ar...</td>\n",
       "      <td>Normal chest x-XXXX.</td>\n",
       "      <td>The cardiac silhouette and mediastinum size ar...</td>\n",
       "      <td>/kaggle/input/chest-xrays-indiana-university/i...</td>\n",
       "    </tr>\n",
       "    <tr>\n",
       "      <th>1</th>\n",
       "      <td>1</td>\n",
       "      <td>1_IM-0001-3001.dcm.png</td>\n",
       "      <td>Lateral</td>\n",
       "      <td>normal</td>\n",
       "      <td>normal</td>\n",
       "      <td>Xray Chest PA and Lateral</td>\n",
       "      <td>Positive TB test</td>\n",
       "      <td>None.</td>\n",
       "      <td>The cardiac silhouette and mediastinum size ar...</td>\n",
       "      <td>Normal chest x-XXXX.</td>\n",
       "      <td>The cardiac silhouette and mediastinum size ar...</td>\n",
       "      <td>/kaggle/input/chest-xrays-indiana-university/i...</td>\n",
       "    </tr>\n",
       "    <tr>\n",
       "      <th>2</th>\n",
       "      <td>2</td>\n",
       "      <td>2_IM-0652-1001.dcm.png</td>\n",
       "      <td>Frontal</td>\n",
       "      <td>Cardiomegaly/borderline;Pulmonary Artery/enlarged</td>\n",
       "      <td>Cardiomegaly;Pulmonary Artery</td>\n",
       "      <td>Chest, 2 views, frontal and lateral</td>\n",
       "      <td>Preop bariatric surgery.</td>\n",
       "      <td>None.</td>\n",
       "      <td>Borderline cardiomegaly. Midline sternotomy XX...</td>\n",
       "      <td>No acute pulmonary findings.</td>\n",
       "      <td>Borderline cardiomegaly. Midline sternotomy XX...</td>\n",
       "      <td>/kaggle/input/chest-xrays-indiana-university/i...</td>\n",
       "    </tr>\n",
       "    <tr>\n",
       "      <th>3</th>\n",
       "      <td>2</td>\n",
       "      <td>2_IM-0652-2001.dcm.png</td>\n",
       "      <td>Lateral</td>\n",
       "      <td>Cardiomegaly/borderline;Pulmonary Artery/enlarged</td>\n",
       "      <td>Cardiomegaly;Pulmonary Artery</td>\n",
       "      <td>Chest, 2 views, frontal and lateral</td>\n",
       "      <td>Preop bariatric surgery.</td>\n",
       "      <td>None.</td>\n",
       "      <td>Borderline cardiomegaly. Midline sternotomy XX...</td>\n",
       "      <td>No acute pulmonary findings.</td>\n",
       "      <td>Borderline cardiomegaly. Midline sternotomy XX...</td>\n",
       "      <td>/kaggle/input/chest-xrays-indiana-university/i...</td>\n",
       "    </tr>\n",
       "    <tr>\n",
       "      <th>6</th>\n",
       "      <td>4</td>\n",
       "      <td>4_IM-2050-1001.dcm.png</td>\n",
       "      <td>Frontal</td>\n",
       "      <td>Pulmonary Disease, Chronic Obstructive;Bullous...</td>\n",
       "      <td>Pulmonary Disease, Chronic Obstructive;Bullous...</td>\n",
       "      <td>PA and lateral views of the chest XXXX, XXXX a...</td>\n",
       "      <td>XXXX-year-old XXXX with XXXX.</td>\n",
       "      <td>None available</td>\n",
       "      <td>There are diffuse bilateral interstitial and a...</td>\n",
       "      <td>1. Bullous emphysema and interstitial fibrosis...</td>\n",
       "      <td>There are diffuse bilateral interstitial and a...</td>\n",
       "      <td>/kaggle/input/chest-xrays-indiana-university/i...</td>\n",
       "    </tr>\n",
       "  </tbody>\n",
       "</table>\n",
       "</div>"
      ],
      "text/plain": [
       "   uid                filename projection  \\\n",
       "0    1  1_IM-0001-4001.dcm.png    Frontal   \n",
       "1    1  1_IM-0001-3001.dcm.png    Lateral   \n",
       "2    2  2_IM-0652-1001.dcm.png    Frontal   \n",
       "3    2  2_IM-0652-2001.dcm.png    Lateral   \n",
       "6    4  4_IM-2050-1001.dcm.png    Frontal   \n",
       "\n",
       "                                                MeSH  \\\n",
       "0                                             normal   \n",
       "1                                             normal   \n",
       "2  Cardiomegaly/borderline;Pulmonary Artery/enlarged   \n",
       "3  Cardiomegaly/borderline;Pulmonary Artery/enlarged   \n",
       "6  Pulmonary Disease, Chronic Obstructive;Bullous...   \n",
       "\n",
       "                                            Problems  \\\n",
       "0                                             normal   \n",
       "1                                             normal   \n",
       "2                      Cardiomegaly;Pulmonary Artery   \n",
       "3                      Cardiomegaly;Pulmonary Artery   \n",
       "6  Pulmonary Disease, Chronic Obstructive;Bullous...   \n",
       "\n",
       "                                               image  \\\n",
       "0                          Xray Chest PA and Lateral   \n",
       "1                          Xray Chest PA and Lateral   \n",
       "2                Chest, 2 views, frontal and lateral   \n",
       "3                Chest, 2 views, frontal and lateral   \n",
       "6  PA and lateral views of the chest XXXX, XXXX a...   \n",
       "\n",
       "                      indication      comparison  \\\n",
       "0               Positive TB test           None.   \n",
       "1               Positive TB test           None.   \n",
       "2       Preop bariatric surgery.           None.   \n",
       "3       Preop bariatric surgery.           None.   \n",
       "6  XXXX-year-old XXXX with XXXX.  None available   \n",
       "\n",
       "                                            findings  \\\n",
       "0  The cardiac silhouette and mediastinum size ar...   \n",
       "1  The cardiac silhouette and mediastinum size ar...   \n",
       "2  Borderline cardiomegaly. Midline sternotomy XX...   \n",
       "3  Borderline cardiomegaly. Midline sternotomy XX...   \n",
       "6  There are diffuse bilateral interstitial and a...   \n",
       "\n",
       "                                          impression  \\\n",
       "0                               Normal chest x-XXXX.   \n",
       "1                               Normal chest x-XXXX.   \n",
       "2                       No acute pulmonary findings.   \n",
       "3                       No acute pulmonary findings.   \n",
       "6  1. Bullous emphysema and interstitial fibrosis...   \n",
       "\n",
       "                                              report  \\\n",
       "0  The cardiac silhouette and mediastinum size ar...   \n",
       "1  The cardiac silhouette and mediastinum size ar...   \n",
       "2  Borderline cardiomegaly. Midline sternotomy XX...   \n",
       "3  Borderline cardiomegaly. Midline sternotomy XX...   \n",
       "6  There are diffuse bilateral interstitial and a...   \n",
       "\n",
       "                                                path  \n",
       "0  /kaggle/input/chest-xrays-indiana-university/i...  \n",
       "1  /kaggle/input/chest-xrays-indiana-university/i...  \n",
       "2  /kaggle/input/chest-xrays-indiana-university/i...  \n",
       "3  /kaggle/input/chest-xrays-indiana-university/i...  \n",
       "6  /kaggle/input/chest-xrays-indiana-university/i...  "
      ]
     },
     "execution_count": 6,
     "metadata": {},
     "output_type": "execute_result"
    }
   ],
   "source": [
    "df.head()"
   ]
  },
  {
   "cell_type": "markdown",
   "metadata": {},
   "source": [
    "Разбиение на выборки"
   ]
  },
  {
   "cell_type": "code",
   "execution_count": 7,
   "metadata": {},
   "outputs": [],
   "source": [
    "split = GroupShuffleSplit(test_size=0.2, n_splits=1, random_state=42)\n",
    "train_idx, test_idx = next(split.split(df, groups=df['uid']))\n",
    "train_df, test_df = df.iloc[train_idx], df.iloc[test_idx]"
   ]
  },
  {
   "cell_type": "code",
   "execution_count": 8,
   "metadata": {},
   "outputs": [
    {
     "data": {
      "text/plain": [
       "((5164, 12), (1293, 12))"
      ]
     },
     "execution_count": 8,
     "metadata": {},
     "output_type": "execute_result"
    }
   ],
   "source": [
    "train_df.shape, test_df.shape"
   ]
  },
  {
   "cell_type": "markdown",
   "metadata": {},
   "source": [
    "### Парсинг MeSH → pathology теги"
   ]
  },
  {
   "cell_type": "code",
   "execution_count": 9,
   "metadata": {},
   "outputs": [],
   "source": [
    "common_labels = [\n",
    "    \"atelectasis\",\"cardiomegaly\",\"consolidation\",\"edema\",\"pleural effusion\",\n",
    "    \"pneumonia\",\"pneumothorax\",\"support devices\",\"enlarged cardiomediastinum\",\n",
    "    \"fracture\",\"lung lesion\",\"lung opacity\",\"pleural other\",\"pleural thickening\", \"normal\"\n",
    "]\n",
    "label_map = {lbl: i for i,lbl in enumerate(common_labels)}"
   ]
  },
  {
   "cell_type": "markdown",
   "metadata": {},
   "source": [
    "Построение label_map"
   ]
  },
  {
   "cell_type": "code",
   "execution_count": 10,
   "metadata": {},
   "outputs": [],
   "source": [
    "def extract_labels(mesh_str):\n",
    "    tags = []\n",
    "    for term in re.split('[;/]', mesh_str.lower()):\n",
    "        term = term.strip()\n",
    "        for lbl in common_labels:\n",
    "            if lbl in term:\n",
    "                tags.append(lbl)\n",
    "    return list(set(tags))\n"
   ]
  },
  {
   "cell_type": "code",
   "execution_count": 11,
   "metadata": {},
   "outputs": [
    {
     "data": {
      "text/html": [
       "<style>#sk-container-id-1 {color: black;background-color: white;}#sk-container-id-1 pre{padding: 0;}#sk-container-id-1 div.sk-toggleable {background-color: white;}#sk-container-id-1 label.sk-toggleable__label {cursor: pointer;display: block;width: 100%;margin-bottom: 0;padding: 0.3em;box-sizing: border-box;text-align: center;}#sk-container-id-1 label.sk-toggleable__label-arrow:before {content: \"▸\";float: left;margin-right: 0.25em;color: #696969;}#sk-container-id-1 label.sk-toggleable__label-arrow:hover:before {color: black;}#sk-container-id-1 div.sk-estimator:hover label.sk-toggleable__label-arrow:before {color: black;}#sk-container-id-1 div.sk-toggleable__content {max-height: 0;max-width: 0;overflow: hidden;text-align: left;background-color: #f0f8ff;}#sk-container-id-1 div.sk-toggleable__content pre {margin: 0.2em;color: black;border-radius: 0.25em;background-color: #f0f8ff;}#sk-container-id-1 input.sk-toggleable__control:checked~div.sk-toggleable__content {max-height: 200px;max-width: 100%;overflow: auto;}#sk-container-id-1 input.sk-toggleable__control:checked~label.sk-toggleable__label-arrow:before {content: \"▾\";}#sk-container-id-1 div.sk-estimator input.sk-toggleable__control:checked~label.sk-toggleable__label {background-color: #d4ebff;}#sk-container-id-1 div.sk-label input.sk-toggleable__control:checked~label.sk-toggleable__label {background-color: #d4ebff;}#sk-container-id-1 input.sk-hidden--visually {border: 0;clip: rect(1px 1px 1px 1px);clip: rect(1px, 1px, 1px, 1px);height: 1px;margin: -1px;overflow: hidden;padding: 0;position: absolute;width: 1px;}#sk-container-id-1 div.sk-estimator {font-family: monospace;background-color: #f0f8ff;border: 1px dotted black;border-radius: 0.25em;box-sizing: border-box;margin-bottom: 0.5em;}#sk-container-id-1 div.sk-estimator:hover {background-color: #d4ebff;}#sk-container-id-1 div.sk-parallel-item::after {content: \"\";width: 100%;border-bottom: 1px solid gray;flex-grow: 1;}#sk-container-id-1 div.sk-label:hover label.sk-toggleable__label {background-color: #d4ebff;}#sk-container-id-1 div.sk-serial::before {content: \"\";position: absolute;border-left: 1px solid gray;box-sizing: border-box;top: 0;bottom: 0;left: 50%;z-index: 0;}#sk-container-id-1 div.sk-serial {display: flex;flex-direction: column;align-items: center;background-color: white;padding-right: 0.2em;padding-left: 0.2em;position: relative;}#sk-container-id-1 div.sk-item {position: relative;z-index: 1;}#sk-container-id-1 div.sk-parallel {display: flex;align-items: stretch;justify-content: center;background-color: white;position: relative;}#sk-container-id-1 div.sk-item::before, #sk-container-id-1 div.sk-parallel-item::before {content: \"\";position: absolute;border-left: 1px solid gray;box-sizing: border-box;top: 0;bottom: 0;left: 50%;z-index: -1;}#sk-container-id-1 div.sk-parallel-item {display: flex;flex-direction: column;z-index: 1;position: relative;background-color: white;}#sk-container-id-1 div.sk-parallel-item:first-child::after {align-self: flex-end;width: 50%;}#sk-container-id-1 div.sk-parallel-item:last-child::after {align-self: flex-start;width: 50%;}#sk-container-id-1 div.sk-parallel-item:only-child::after {width: 0;}#sk-container-id-1 div.sk-dashed-wrapped {border: 1px dashed gray;margin: 0 0.4em 0.5em 0.4em;box-sizing: border-box;padding-bottom: 0.4em;background-color: white;}#sk-container-id-1 div.sk-label label {font-family: monospace;font-weight: bold;display: inline-block;line-height: 1.2em;}#sk-container-id-1 div.sk-label-container {text-align: center;}#sk-container-id-1 div.sk-container {/* jupyter's `normalize.less` sets `[hidden] { display: none; }` but bootstrap.min.css set `[hidden] { display: none !important; }` so we also need the `!important` here to be able to override the default hidden behavior on the sphinx rendered scikit-learn.org. See: https://github.com/scikit-learn/scikit-learn/issues/21755 */display: inline-block !important;position: relative;}#sk-container-id-1 div.sk-text-repr-fallback {display: none;}</style><div id=\"sk-container-id-1\" class=\"sk-top-container\"><div class=\"sk-text-repr-fallback\"><pre>MultiLabelBinarizer(classes=[&#x27;atelectasis&#x27;, &#x27;cardiomegaly&#x27;, &#x27;consolidation&#x27;,\n",
       "                             &#x27;edema&#x27;, &#x27;pleural effusion&#x27;, &#x27;pneumonia&#x27;,\n",
       "                             &#x27;pneumothorax&#x27;, &#x27;support devices&#x27;,\n",
       "                             &#x27;enlarged cardiomediastinum&#x27;, &#x27;fracture&#x27;,\n",
       "                             &#x27;lung lesion&#x27;, &#x27;lung opacity&#x27;, &#x27;pleural other&#x27;,\n",
       "                             &#x27;pleural thickening&#x27;, &#x27;normal&#x27;])</pre><b>In a Jupyter environment, please rerun this cell to show the HTML representation or trust the notebook. <br />On GitHub, the HTML representation is unable to render, please try loading this page with nbviewer.org.</b></div><div class=\"sk-container\" hidden><div class=\"sk-item\"><div class=\"sk-estimator sk-toggleable\"><input class=\"sk-toggleable__control sk-hidden--visually\" id=\"sk-estimator-id-1\" type=\"checkbox\" checked><label for=\"sk-estimator-id-1\" class=\"sk-toggleable__label sk-toggleable__label-arrow\">MultiLabelBinarizer</label><div class=\"sk-toggleable__content\"><pre>MultiLabelBinarizer(classes=[&#x27;atelectasis&#x27;, &#x27;cardiomegaly&#x27;, &#x27;consolidation&#x27;,\n",
       "                             &#x27;edema&#x27;, &#x27;pleural effusion&#x27;, &#x27;pneumonia&#x27;,\n",
       "                             &#x27;pneumothorax&#x27;, &#x27;support devices&#x27;,\n",
       "                             &#x27;enlarged cardiomediastinum&#x27;, &#x27;fracture&#x27;,\n",
       "                             &#x27;lung lesion&#x27;, &#x27;lung opacity&#x27;, &#x27;pleural other&#x27;,\n",
       "                             &#x27;pleural thickening&#x27;, &#x27;normal&#x27;])</pre></div></div></div></div></div>"
      ],
      "text/plain": [
       "MultiLabelBinarizer(classes=['atelectasis', 'cardiomegaly', 'consolidation',\n",
       "                             'edema', 'pleural effusion', 'pneumonia',\n",
       "                             'pneumothorax', 'support devices',\n",
       "                             'enlarged cardiomediastinum', 'fracture',\n",
       "                             'lung lesion', 'lung opacity', 'pleural other',\n",
       "                             'pleural thickening', 'normal'])"
      ]
     },
     "execution_count": 11,
     "metadata": {},
     "output_type": "execute_result"
    }
   ],
   "source": [
    "# df_labels = df[['uid','MeSH']].dropna()\n",
    "df_labels = df[['uid','MeSH']].drop_duplicates().copy()\n",
    "\n",
    "df_labels['labels'] = df_labels['MeSH'].apply(extract_labels)\n",
    "\n",
    "mlb = MultiLabelBinarizer(classes=common_labels)\n",
    "mlb.fit([common_labels])"
   ]
  },
  {
   "cell_type": "code",
   "execution_count": 12,
   "metadata": {},
   "outputs": [],
   "source": [
    "label_map = {}\n",
    "for uid, grp in df_labels.groupby('uid'):\n",
    "    lbls = grp['labels'].sum()  # объединяем списки (хотя обычно один элемент)\n",
    "    vect = mlb.transform([lbls])[0]\n",
    "    label_map[uid] = torch.tensor(vect, dtype=torch.float)"
   ]
  },
  {
   "cell_type": "code",
   "execution_count": 13,
   "metadata": {},
   "outputs": [
    {
     "name": "stdout",
     "output_type": "stream",
     "text": [
      "UIDs without labels: set()\n"
     ]
    }
   ],
   "source": [
    "# Проверяем, что есть метки для каждой группы:\n",
    "miss = set(train_df['uid']) - set(label_map.keys())\n",
    "print(\"UIDs without labels:\", miss)\n",
    "assert not miss, \"Проверьте функцию extract_labels: не все UID получили метки\""
   ]
  },
  {
   "cell_type": "markdown",
   "metadata": {},
   "source": [
    "### DataLoader с фронтальными и латеральными проекциями"
   ]
  },
  {
   "cell_type": "code",
   "execution_count": 14,
   "metadata": {},
   "outputs": [],
   "source": [
    "from torch.utils.data import Dataset, DataLoader\n",
    "from PIL import Image\n",
    "from torchvision import transforms"
   ]
  },
  {
   "cell_type": "code",
   "execution_count": 15,
   "metadata": {},
   "outputs": [],
   "source": [
    "class IUDataset(Dataset):\n",
    "    def __init__(self, df, img_dir, label_map, transform=None):\n",
    "        self.transform = transform\n",
    "        self.groups = df.groupby('uid')\n",
    "        self.uids = list(self.groups.groups.keys())\n",
    "        self.img_dir = img_dir\n",
    "        self.label_map = label_map\n",
    "\n",
    "    def __len__(self):\n",
    "        return len(self.uids)\n",
    "\n",
    "    def __getitem__(self, idx):\n",
    "        uid = self.uids[idx]\n",
    "        group = self.groups.get_group(uid)\n",
    "        # выбираем frontal\n",
    "        if 'projection' in group.columns and 'frontal' in group['projection'].values:\n",
    "            row = group[group['projection']=='frontal'].iloc[0]\n",
    "        else:\n",
    "            row = group.iloc[0]\n",
    "\n",
    "        path = row['path']  # убедитесь, что колонка называется именно так\n",
    "        image = Image.open(os.path.join(self.img_dir, path)).convert('RGB')\n",
    "        if self.transform:\n",
    "            image = self.transform(image)\n",
    "\n",
    "        labels = self.label_map[uid]        # теперь это dict, а не Compose\n",
    "        report = row['report']\n",
    "\n",
    "        return {'img_f': image, 'report': report, 'labels': labels}\n"
   ]
  },
  {
   "cell_type": "code",
   "execution_count": 16,
   "metadata": {},
   "outputs": [],
   "source": [
    "tfm = transforms.Compose([\n",
    "    transforms.Resize((224, 224)),\n",
    "    transforms.ToTensor(),\n",
    "    transforms.Normalize(mean=[0.5], std=[0.5])\n",
    "])"
   ]
  },
  {
   "cell_type": "code",
   "execution_count": 17,
   "metadata": {},
   "outputs": [],
   "source": [
    "train_ds = IUDataset(train_df, '/kaggle/input/chest-xrays-indiana-university/images/images_normalized', transform=tfm, label_map=label_map)\n",
    "train_dl = DataLoader(train_ds, batch_size=16, shuffle=True, num_workers=2)\n",
    "\n",
    "test_ds = IUDataset(test_df, '/kaggle/input/chest-xrays-indiana-university/images/images_normalized', transform=tfm, label_map=label_map)\n",
    "test_dl = DataLoader(test_ds, batch_size=16, shuffle=True, num_workers=2)"
   ]
  },
  {
   "cell_type": "markdown",
   "metadata": {},
   "source": [
    "## Определение DenseTagger (CheXNet‑backbone)"
   ]
  },
  {
   "cell_type": "code",
   "execution_count": 18,
   "metadata": {},
   "outputs": [],
   "source": [
    "class DenseTagger(nn.Module):\n",
    "    def __init__(self, num_labels):\n",
    "        super().__init__()\n",
    "        self.backbone = torchvision.models.densenet121(pretrained=True)\n",
    "        # Заменяем классификатор на multi-label\n",
    "        in_features = self.backbone.classifier.in_features\n",
    "        self.backbone.classifier = nn.Linear(in_features, num_labels)\n",
    "\n",
    "    def forward(self, x):\n",
    "        # x: [batch, 3, H, W]\n",
    "        logits = self.backbone(x)\n",
    "        return logits  # BCEWithLogitsLoss применит sigmoid внутри"
   ]
  },
  {
   "cell_type": "code",
   "execution_count": 19,
   "metadata": {},
   "outputs": [],
   "source": [
    "# Гиперпараметры\n",
    "num_labels = 15  # Число патологий в IU X-Ray (настройте по CSV)\n",
    "batch_size = 16\n",
    "lr = 1e-4\n",
    "num_epochs = 5"
   ]
  },
  {
   "cell_type": "code",
   "execution_count": 20,
   "metadata": {},
   "outputs": [],
   "source": [
    "device = torch.device(\"cuda\" if torch.cuda.is_available() else \"cpu\")"
   ]
  },
  {
   "cell_type": "code",
   "execution_count": 21,
   "metadata": {},
   "outputs": [
    {
     "name": "stderr",
     "output_type": "stream",
     "text": [
      "/opt/conda/lib/python3.10/site-packages/torchvision/models/_utils.py:208: UserWarning: The parameter 'pretrained' is deprecated since 0.13 and may be removed in the future, please use 'weights' instead.\n",
      "  warnings.warn(\n",
      "/opt/conda/lib/python3.10/site-packages/torchvision/models/_utils.py:223: UserWarning: Arguments other than a weight enum or `None` for 'weights' are deprecated since 0.13 and may be removed in the future. The current behavior is equivalent to passing `weights=DenseNet121_Weights.IMAGENET1K_V1`. You can also use `weights=DenseNet121_Weights.DEFAULT` to get the most up-to-date weights.\n",
      "  warnings.warn(msg)\n"
     ]
    }
   ],
   "source": [
    "# Инициализация модели, loss и оптимизатора\n",
    "model = DenseTagger(num_labels=num_labels).to(device)\n",
    "criterion = nn.BCEWithLogitsLoss()\n",
    "optimizer = optim.Adam(model.parameters(), lr=lr)"
   ]
  },
  {
   "cell_type": "code",
   "execution_count": 22,
   "metadata": {},
   "outputs": [],
   "source": [
    "def train_epoch(model, loader, criterion, optimizer):\n",
    "    \"\"\"\n",
    "    Обучение модели\n",
    "    \"\"\"\n",
    "    model.train()\n",
    "    total_loss = 0.0\n",
    "    for batch in loader:\n",
    "        imgs = batch['img_f'].to(device)  # используем frontal view\n",
    "        # Если нужны оба вида: concat или два потока\n",
    "        targets = batch['labels'].to(device)  # tensor [B, num_labels]\n",
    "\n",
    "        optimizer.zero_grad()\n",
    "        logits = model(imgs)\n",
    "        loss = criterion(logits, targets)\n",
    "        loss.backward()\n",
    "        optimizer.step()\n",
    "\n",
    "        total_loss += loss.item() * imgs.size(0)\n",
    "    return total_loss / len(loader.dataset)"
   ]
  },
  {
   "cell_type": "code",
   "execution_count": 23,
   "metadata": {},
   "outputs": [],
   "source": [
    "def validate_epoch(model, loader, criterion):\n",
    "    \"\"\"\n",
    "    Валидация модели\n",
    "    \"\"\"\n",
    "    model.eval()\n",
    "    total_loss = 0.0\n",
    "    with torch.no_grad():\n",
    "        for batch in loader:\n",
    "            imgs = batch['img_f'].to(device)\n",
    "            targets = batch['labels'].to(device)\n",
    "            logits = model(imgs)\n",
    "            loss = criterion(logits, targets)\n",
    "            total_loss += loss.item() * imgs.size(0)\n",
    "    return total_loss / len(loader.dataset)"
   ]
  },
  {
   "cell_type": "markdown",
   "metadata": {},
   "source": [
    "## Обучение с сохранением наилучшего чекпоинта по минимальной валидационной потере"
   ]
  },
  {
   "cell_type": "code",
   "execution_count": 24,
   "metadata": {},
   "outputs": [],
   "source": [
    "best_val = float('inf')\n",
    "best_epoch = -1"
   ]
  },
  {
   "cell_type": "code",
   "execution_count": 25,
   "metadata": {},
   "outputs": [
    {
     "name": "stdout",
     "output_type": "stream",
     "text": [
      "Epoch 1: Train Loss = 0.2015, Val Loss = 0.1109\n",
      "=> New best model saved (epoch 1, val_loss=0.1109)\n",
      "Epoch 2: Train Loss = 0.0872, Val Loss = 0.1043\n",
      "=> New best model saved (epoch 2, val_loss=0.1043)\n",
      "Epoch 3: Train Loss = 0.0670, Val Loss = 0.1079\n",
      "Epoch 4: Train Loss = 0.0454, Val Loss = 0.1125\n",
      "Epoch 5: Train Loss = 0.0310, Val Loss = 0.1247\n",
      "Training complete. Best val_loss 0.1043 at epoch 2\n"
     ]
    }
   ],
   "source": [
    "for epoch in range(1, num_epochs + 1):\n",
    "    train_loss = train_epoch(model, train_dl, criterion, optimizer)\n",
    "    val_loss = validate_epoch(model, test_dl, criterion)\n",
    "\n",
    "    print(f\"Epoch {epoch}: Train Loss = {train_loss:.4f}, Val Loss = {val_loss:.4f}\")\n",
    "\n",
    "    if val_loss < best_val:\n",
    "        best_val = val_loss\n",
    "        best_epoch = epoch\n",
    "        torch.save({\n",
    "            'epoch': epoch,\n",
    "            'model_state_dict': model.state_dict(),\n",
    "            'optimizer_state_dict': optimizer.state_dict(),\n",
    "            'val_loss': val_loss\n",
    "        }, 'best_dense_tagger.pt')\n",
    "        print(f\"=> New best model saved (epoch {epoch}, val_loss={val_loss:.4f})\")\n",
    "\n",
    "print(f\"Training complete. Best val_loss {best_val:.4f} at epoch {best_epoch}\")"
   ]
  },
  {
   "cell_type": "markdown",
   "metadata": {},
   "source": [
    "Загрузка наилучшей модели"
   ]
  },
  {
   "cell_type": "code",
   "execution_count": 26,
   "metadata": {},
   "outputs": [
    {
     "name": "stdout",
     "output_type": "stream",
     "text": [
      "Loaded best model from epoch 2 with val_loss = 0.1043\n"
     ]
    }
   ],
   "source": [
    "ckpt = torch.load('best_dense_tagger.pt')\n",
    "model.load_state_dict(ckpt['model_state_dict'])\n",
    "optimizer.load_state_dict(ckpt['optimizer_state_dict'])\n",
    "print(f\"Loaded best model from epoch {ckpt['epoch']} with val_loss = {ckpt['val_loss']:.4f}\")"
   ]
  },
  {
   "cell_type": "code",
   "execution_count": 28,
   "metadata": {},
   "outputs": [
    {
     "name": "stdout",
     "output_type": "stream",
     "text": [
      "Probs:\n",
      " [[0.0489841  0.1184022  0.04343482 0.01905177 0.07111479 0.01833937\n",
      "  0.01269776 0.00792821 0.00661284 0.0226193  0.01227041 0.01339292\n",
      "  0.0135476  0.00783083 0.06678728]\n",
      " [0.6408981  0.72030294 0.02763935 0.05626715 0.15666099 0.02187985\n",
      "  0.01857601 0.00527147 0.00690743 0.0251747  0.01274019 0.01302264\n",
      "  0.00949994 0.00827656 0.01815701]\n",
      " [0.02212089 0.04957295 0.00935958 0.01136032 0.00628911 0.00567096\n",
      "  0.00964182 0.00432027 0.0069657  0.00807972 0.00900637 0.01040506\n",
      "  0.00812291 0.00747889 0.43422875]\n",
      " [0.02780366 0.01074267 0.0093627  0.00740412 0.00683731 0.01194001\n",
      "  0.00813514 0.00614844 0.00449053 0.011826   0.00681223 0.00953462\n",
      "  0.0057378  0.00492156 0.51197207]\n",
      " [0.00847246 0.00367822 0.01074441 0.00470991 0.00822416 0.00758066\n",
      "  0.00620317 0.00593116 0.00568199 0.00911417 0.00626851 0.00639581\n",
      "  0.00768462 0.00452718 0.37510377]\n",
      " [0.02738944 0.00602952 0.00750633 0.00441963 0.00481591 0.00794734\n",
      "  0.00646436 0.00424769 0.00407445 0.0083392  0.00533111 0.00809731\n",
      "  0.00506779 0.00388471 0.60963064]\n",
      " [0.04236451 0.01174958 0.0088603  0.00807024 0.00813097 0.0081214\n",
      "  0.0076596  0.00448956 0.0063679  0.02717113 0.00719938 0.00957098\n",
      "  0.00707173 0.00501924 0.22602595]\n",
      " [0.04701906 0.04543473 0.01812957 0.01227755 0.04731928 0.01221285\n",
      "  0.00905433 0.00741173 0.00544921 0.01858866 0.00943434 0.01196681\n",
      "  0.00815473 0.00652285 0.03303685]\n",
      " [0.02454736 0.02671231 0.00926697 0.01125948 0.0107313  0.01296649\n",
      "  0.00750981 0.00542651 0.00769457 0.0195354  0.01098434 0.01194104\n",
      "  0.00916191 0.00702007 0.15598586]\n",
      " [0.04652045 0.01801752 0.01850204 0.01141263 0.06508954 0.01090807\n",
      "  0.01268379 0.01139968 0.00637665 0.00987109 0.00896535 0.01045568\n",
      "  0.00781477 0.00615305 0.20797732]\n",
      " [0.06271434 0.04214466 0.01074743 0.01093374 0.01999891 0.00500271\n",
      "  0.00535998 0.00320477 0.00705346 0.0147385  0.00605122 0.0067589\n",
      "  0.00553539 0.00352819 0.02796237]\n",
      " [0.00667577 0.0020159  0.00732536 0.00412024 0.0039074  0.00536822\n",
      "  0.0044668  0.00343049 0.00473062 0.00874036 0.00585082 0.00670205\n",
      "  0.00412484 0.00336945 0.8421018 ]\n",
      " [0.01340872 0.00447857 0.00924087 0.0053687  0.0039071  0.01672976\n",
      "  0.00869434 0.00583432 0.00741852 0.01192066 0.00748361 0.00917936\n",
      "  0.00513188 0.0063642  0.76179373]\n",
      " [0.07858855 0.17081994 0.02178463 0.02014754 0.02279033 0.01874089\n",
      "  0.01487489 0.00920696 0.01072124 0.02838307 0.00768731 0.01760589\n",
      "  0.01404664 0.00742538 0.11627231]\n",
      " [0.01637624 0.00859279 0.00925912 0.00416746 0.00486895 0.00578145\n",
      "  0.00415943 0.00322059 0.00439146 0.00713948 0.00586371 0.01134483\n",
      "  0.00597918 0.00409926 0.47803304]\n",
      " [0.4689363  0.4976337  0.05380716 0.08318776 0.45635563 0.04695316\n",
      "  0.02633749 0.01252512 0.00898386 0.03507736 0.0218819  0.01865657\n",
      "  0.01462948 0.0170011  0.02177088]]\n",
      "Preds:\n",
      " [[0 0 0 0 0 0 0 0 0 0 0 0 0 0 0]\n",
      " [1 1 0 0 0 0 0 0 0 0 0 0 0 0 0]\n",
      " [0 0 0 0 0 0 0 0 0 0 0 0 0 0 0]\n",
      " [0 0 0 0 0 0 0 0 0 0 0 0 0 0 1]\n",
      " [0 0 0 0 0 0 0 0 0 0 0 0 0 0 0]\n",
      " [0 0 0 0 0 0 0 0 0 0 0 0 0 0 1]\n",
      " [0 0 0 0 0 0 0 0 0 0 0 0 0 0 0]\n",
      " [0 0 0 0 0 0 0 0 0 0 0 0 0 0 0]\n",
      " [0 0 0 0 0 0 0 0 0 0 0 0 0 0 0]\n",
      " [0 0 0 0 0 0 0 0 0 0 0 0 0 0 0]\n",
      " [0 0 0 0 0 0 0 0 0 0 0 0 0 0 0]\n",
      " [0 0 0 0 0 0 0 0 0 0 0 0 0 0 1]\n",
      " [0 0 0 0 0 0 0 0 0 0 0 0 0 0 1]\n",
      " [0 0 0 0 0 0 0 0 0 0 0 0 0 0 0]\n",
      " [0 0 0 0 0 0 0 0 0 0 0 0 0 0 0]\n",
      " [0 0 0 0 0 0 0 0 0 0 0 0 0 0 0]]\n",
      "GT:\n",
      " [[0. 1. 0. 0. 0. 0. 0. 0. 0. 0. 0. 0. 0. 0. 0.]\n",
      " [0. 0. 0. 0. 0. 0. 0. 0. 0. 0. 0. 0. 0. 0. 1.]\n",
      " [0. 0. 0. 0. 0. 0. 0. 0. 0. 0. 0. 0. 0. 0. 1.]\n",
      " [0. 0. 0. 0. 0. 0. 0. 0. 0. 0. 0. 0. 0. 0. 1.]\n",
      " [0. 0. 0. 0. 0. 0. 0. 0. 0. 0. 0. 0. 0. 0. 0.]\n",
      " [0. 0. 0. 0. 0. 0. 0. 0. 0. 0. 0. 0. 0. 0. 1.]\n",
      " [0. 0. 0. 0. 0. 0. 0. 0. 0. 0. 0. 0. 0. 0. 0.]\n",
      " [0. 0. 0. 0. 0. 0. 0. 0. 0. 0. 0. 0. 0. 0. 0.]\n",
      " [0. 0. 0. 0. 0. 0. 0. 0. 0. 0. 0. 0. 0. 0. 0.]\n",
      " [0. 0. 0. 0. 0. 0. 0. 0. 0. 0. 0. 0. 0. 0. 0.]\n",
      " [0. 0. 0. 0. 0. 0. 0. 0. 0. 0. 0. 0. 0. 0. 0.]\n",
      " [0. 0. 0. 0. 0. 0. 0. 0. 0. 0. 0. 0. 0. 0. 0.]\n",
      " [0. 0. 0. 0. 0. 0. 0. 0. 0. 0. 0. 0. 0. 0. 1.]\n",
      " [1. 0. 0. 0. 1. 0. 0. 0. 0. 0. 0. 0. 0. 0. 0.]\n",
      " [0. 0. 0. 0. 0. 0. 0. 0. 0. 0. 0. 0. 0. 0. 0.]\n",
      " [1. 1. 0. 0. 1. 0. 0. 0. 0. 0. 0. 0. 0. 0. 0.]]\n"
     ]
    }
   ],
   "source": [
    "model.eval()\n",
    "with torch.no_grad():\n",
    "    batch = next(iter(test_dl))\n",
    "    imgs = batch['img_f'].to(device)\n",
    "    logits = model(imgs)               # [B,14]\n",
    "    probs = torch.sigmoid(logits)      # вероятности\n",
    "    preds = (probs > 0.5).int()        # бинарные метки\n",
    "\n",
    "print(\"Probs:\\n\", probs.cpu().numpy())\n",
    "print(\"Preds:\\n\", preds.cpu().numpy())\n",
    "print(\"GT:\\n\", batch['labels'].cpu().numpy())\n"
   ]
  },
  {
   "cell_type": "code",
   "execution_count": 29,
   "metadata": {},
   "outputs": [
    {
     "name": "stdout",
     "output_type": "stream",
     "text": [
      "=== Sample 0 ===\n",
      "Probabilities: {'atelectasis': 0.057, 'cardiomegaly': 0.048, 'consolidation': 0.026, 'edema': 0.02, 'pleural effusion': 0.104, 'pneumonia': 0.023, 'pneumothorax': 0.016, 'support devices': 0.009, 'enlarged cardiomediastinum': 0.007, 'fracture': 0.021, 'lung lesion': 0.012, 'lung opacity': 0.012, 'pleural other': 0.011, 'pleural thickening': 0.009, 'normal': 0.055}\n",
      "Predicted: []\n",
      "Ground‑Truth: ['cardiomegaly']\n",
      "\n",
      "=== Sample 1 ===\n",
      "Probabilities: {'atelectasis': 0.045, 'cardiomegaly': 0.167, 'consolidation': 0.007, 'edema': 0.018, 'pleural effusion': 0.013, 'pneumonia': 0.009, 'pneumothorax': 0.006, 'support devices': 0.003, 'enlarged cardiomediastinum': 0.005, 'fracture': 0.01, 'lung lesion': 0.007, 'lung opacity': 0.008, 'pleural other': 0.006, 'pleural thickening': 0.006, 'normal': 0.093}\n",
      "Predicted: []\n",
      "Ground‑Truth: []\n",
      "\n",
      "=== Sample 2 ===\n",
      "Probabilities: {'atelectasis': 0.058, 'cardiomegaly': 0.029, 'consolidation': 0.026, 'edema': 0.009, 'pleural effusion': 0.035, 'pneumonia': 0.016, 'pneumothorax': 0.009, 'support devices': 0.007, 'enlarged cardiomediastinum': 0.007, 'fracture': 0.021, 'lung lesion': 0.007, 'lung opacity': 0.01, 'pleural other': 0.008, 'pleural thickening': 0.004, 'normal': 0.245}\n",
      "Predicted: []\n",
      "Ground‑Truth: []\n",
      "\n",
      "=== Sample 3 ===\n",
      "Probabilities: {'atelectasis': 0.243, 'cardiomegaly': 0.181, 'consolidation': 0.01, 'edema': 0.024, 'pleural effusion': 0.015, 'pneumonia': 0.014, 'pneumothorax': 0.007, 'support devices': 0.003, 'enlarged cardiomediastinum': 0.005, 'fracture': 0.022, 'lung lesion': 0.007, 'lung opacity': 0.014, 'pleural other': 0.006, 'pleural thickening': 0.005, 'normal': 0.062}\n",
      "Predicted: []\n",
      "Ground‑Truth: []\n",
      "\n",
      "=== Sample 4 ===\n",
      "Probabilities: {'atelectasis': 0.023, 'cardiomegaly': 0.008, 'consolidation': 0.009, 'edema': 0.006, 'pleural effusion': 0.009, 'pneumonia': 0.011, 'pneumothorax': 0.008, 'support devices': 0.004, 'enlarged cardiomediastinum': 0.007, 'fracture': 0.008, 'lung lesion': 0.006, 'lung opacity': 0.008, 'pleural other': 0.005, 'pleural thickening': 0.004, 'normal': 0.613}\n",
      "Predicted: ['normal']\n",
      "Ground‑Truth: []\n",
      "\n",
      "=== Sample 5 ===\n",
      "Probabilities: {'atelectasis': 0.148, 'cardiomegaly': 0.283, 'consolidation': 0.017, 'edema': 0.023, 'pleural effusion': 0.039, 'pneumonia': 0.014, 'pneumothorax': 0.009, 'support devices': 0.006, 'enlarged cardiomediastinum': 0.005, 'fracture': 0.018, 'lung lesion': 0.007, 'lung opacity': 0.012, 'pleural other': 0.008, 'pleural thickening': 0.007, 'normal': 0.032}\n",
      "Predicted: []\n",
      "Ground‑Truth: []\n",
      "\n",
      "=== Sample 6 ===\n",
      "Probabilities: {'atelectasis': 0.048, 'cardiomegaly': 0.029, 'consolidation': 0.013, 'edema': 0.011, 'pleural effusion': 0.012, 'pneumonia': 0.016, 'pneumothorax': 0.01, 'support devices': 0.007, 'enlarged cardiomediastinum': 0.007, 'fracture': 0.014, 'lung lesion': 0.009, 'lung opacity': 0.011, 'pleural other': 0.007, 'pleural thickening': 0.005, 'normal': 0.451}\n",
      "Predicted: []\n",
      "Ground‑Truth: ['normal']\n",
      "\n",
      "=== Sample 7 ===\n",
      "Probabilities: {'atelectasis': 0.019, 'cardiomegaly': 0.035, 'consolidation': 0.009, 'edema': 0.009, 'pleural effusion': 0.008, 'pneumonia': 0.01, 'pneumothorax': 0.005, 'support devices': 0.003, 'enlarged cardiomediastinum': 0.006, 'fracture': 0.006, 'lung lesion': 0.007, 'lung opacity': 0.007, 'pleural other': 0.005, 'pleural thickening': 0.005, 'normal': 0.378}\n",
      "Predicted: []\n",
      "Ground‑Truth: []\n",
      "\n",
      "=== Sample 8 ===\n",
      "Probabilities: {'atelectasis': 0.121, 'cardiomegaly': 0.596, 'consolidation': 0.03, 'edema': 0.044, 'pleural effusion': 0.237, 'pneumonia': 0.026, 'pneumothorax': 0.01, 'support devices': 0.006, 'enlarged cardiomediastinum': 0.005, 'fracture': 0.013, 'lung lesion': 0.008, 'lung opacity': 0.007, 'pleural other': 0.006, 'pleural thickening': 0.009, 'normal': 0.017}\n",
      "Predicted: ['cardiomegaly']\n",
      "Ground‑Truth: ['consolidation']\n",
      "\n",
      "=== Sample 9 ===\n",
      "Probabilities: {'atelectasis': 0.118, 'cardiomegaly': 0.529, 'consolidation': 0.016, 'edema': 0.053, 'pleural effusion': 0.124, 'pneumonia': 0.029, 'pneumothorax': 0.013, 'support devices': 0.005, 'enlarged cardiomediastinum': 0.007, 'fracture': 0.016, 'lung lesion': 0.011, 'lung opacity': 0.009, 'pleural other': 0.008, 'pleural thickening': 0.011, 'normal': 0.03}\n",
      "Predicted: ['cardiomegaly']\n",
      "Ground‑Truth: []\n",
      "\n",
      "=== Sample 10 ===\n",
      "Probabilities: {'atelectasis': 0.023, 'cardiomegaly': 0.008, 'consolidation': 0.011, 'edema': 0.006, 'pleural effusion': 0.009, 'pneumonia': 0.008, 'pneumothorax': 0.006, 'support devices': 0.006, 'enlarged cardiomediastinum': 0.006, 'fracture': 0.021, 'lung lesion': 0.008, 'lung opacity': 0.01, 'pleural other': 0.006, 'pleural thickening': 0.007, 'normal': 0.145}\n",
      "Predicted: []\n",
      "Ground‑Truth: []\n",
      "\n",
      "=== Sample 11 ===\n",
      "Probabilities: {'atelectasis': 0.034, 'cardiomegaly': 0.027, 'consolidation': 0.012, 'edema': 0.007, 'pleural effusion': 0.011, 'pneumonia': 0.013, 'pneumothorax': 0.008, 'support devices': 0.006, 'enlarged cardiomediastinum': 0.005, 'fracture': 0.019, 'lung lesion': 0.006, 'lung opacity': 0.011, 'pleural other': 0.007, 'pleural thickening': 0.005, 'normal': 0.236}\n",
      "Predicted: []\n",
      "Ground‑Truth: []\n",
      "\n",
      "=== Sample 12 ===\n",
      "Probabilities: {'atelectasis': 0.046, 'cardiomegaly': 0.044, 'consolidation': 0.011, 'edema': 0.01, 'pleural effusion': 0.016, 'pneumonia': 0.01, 'pneumothorax': 0.006, 'support devices': 0.004, 'enlarged cardiomediastinum': 0.005, 'fracture': 0.016, 'lung lesion': 0.006, 'lung opacity': 0.01, 'pleural other': 0.006, 'pleural thickening': 0.005, 'normal': 0.402}\n",
      "Predicted: []\n",
      "Ground‑Truth: []\n",
      "\n",
      "=== Sample 13 ===\n",
      "Probabilities: {'atelectasis': 0.063, 'cardiomegaly': 0.029, 'consolidation': 0.021, 'edema': 0.019, 'pleural effusion': 0.024, 'pneumonia': 0.024, 'pneumothorax': 0.015, 'support devices': 0.01, 'enlarged cardiomediastinum': 0.01, 'fracture': 0.017, 'lung lesion': 0.011, 'lung opacity': 0.014, 'pleural other': 0.016, 'pleural thickening': 0.01, 'normal': 0.227}\n",
      "Predicted: []\n",
      "Ground‑Truth: []\n",
      "\n",
      "=== Sample 14 ===\n",
      "Probabilities: {'atelectasis': 0.052, 'cardiomegaly': 0.029, 'consolidation': 0.015, 'edema': 0.012, 'pleural effusion': 0.015, 'pneumonia': 0.011, 'pneumothorax': 0.007, 'support devices': 0.005, 'enlarged cardiomediastinum': 0.006, 'fracture': 0.021, 'lung lesion': 0.007, 'lung opacity': 0.012, 'pleural other': 0.007, 'pleural thickening': 0.005, 'normal': 0.193}\n",
      "Predicted: []\n",
      "Ground‑Truth: ['normal']\n",
      "\n",
      "=== Sample 15 ===\n",
      "Probabilities: {'atelectasis': 0.022, 'cardiomegaly': 0.008, 'consolidation': 0.006, 'edema': 0.005, 'pleural effusion': 0.004, 'pneumonia': 0.006, 'pneumothorax': 0.007, 'support devices': 0.003, 'enlarged cardiomediastinum': 0.006, 'fracture': 0.009, 'lung lesion': 0.007, 'lung opacity': 0.009, 'pleural other': 0.006, 'pleural thickening': 0.005, 'normal': 0.657}\n",
      "Predicted: ['normal']\n",
      "Ground‑Truth: []\n",
      "\n"
     ]
    }
   ],
   "source": [
    "model.eval()\n",
    "with torch.no_grad():\n",
    "    batch = next(iter(test_dl))\n",
    "    imgs = batch['img_f'].to(device)\n",
    "    probs = torch.sigmoid(model(imgs)).cpu().numpy()\n",
    "    preds = (probs > 0.5).astype(int)\n",
    "\n",
    "for i in range(len(imgs)):\n",
    "    print(f\"=== Sample {i} ===\")\n",
    "    print(\"Probabilities:\", {common_labels[j]: round(float(probs[i,j]), 3) for j in range(len(common_labels))})\n",
    "    print(\"Predicted:\", [common_labels[j] for j in range(len(common_labels)) if preds[i,j] == 1])\n",
    "    print(\"Ground‑Truth:\", [common_labels[j] for j in range(len(common_labels)) if batch['labels'][i,j] == 1])\n",
    "    print()"
   ]
  },
  {
   "cell_type": "code",
   "execution_count": 31,
   "metadata": {},
   "outputs": [
    {
     "name": "stdout",
     "output_type": "stream",
     "text": [
      "                            precision    recall  f1-score   support\n",
      "\n",
      "               atelectasis       0.15      0.04      0.06        55\n",
      "              cardiomegaly       0.33      0.29      0.31        55\n",
      "             consolidation       0.00      0.00      0.00         6\n",
      "                     edema       0.00      0.00      0.00         6\n",
      "          pleural effusion       0.50      0.08      0.14        24\n",
      "                 pneumonia       0.00      0.00      0.00         8\n",
      "              pneumothorax       0.00      0.00      0.00         3\n",
      "           support devices       0.00      0.00      0.00         0\n",
      "enlarged cardiomediastinum       0.00      0.00      0.00         0\n",
      "                  fracture       0.00      0.00      0.00        20\n",
      "               lung lesion       0.00      0.00      0.00         0\n",
      "              lung opacity       0.00      0.00      0.00         0\n",
      "             pleural other       0.00      0.00      0.00         0\n",
      "        pleural thickening       0.00      0.00      0.00         0\n",
      "                    normal       0.70      0.32      0.44       228\n",
      "\n",
      "                 micro avg       0.55      0.23      0.32       405\n",
      "                 macro avg       0.11      0.05      0.06       405\n",
      "              weighted avg       0.49      0.23      0.31       405\n",
      "               samples avg       0.14      0.13      0.13       405\n",
      "\n"
     ]
    },
    {
     "name": "stderr",
     "output_type": "stream",
     "text": [
      "/opt/conda/lib/python3.10/site-packages/sklearn/metrics/_classification.py:1344: UndefinedMetricWarning: Precision and F-score are ill-defined and being set to 0.0 in labels with no predicted samples. Use `zero_division` parameter to control this behavior.\n",
      "  _warn_prf(average, modifier, msg_start, len(result))\n",
      "/opt/conda/lib/python3.10/site-packages/sklearn/metrics/_classification.py:1344: UndefinedMetricWarning: Recall and F-score are ill-defined and being set to 0.0 in labels with no true samples. Use `zero_division` parameter to control this behavior.\n",
      "  _warn_prf(average, modifier, msg_start, len(result))\n",
      "/opt/conda/lib/python3.10/site-packages/sklearn/metrics/_classification.py:1344: UndefinedMetricWarning: Precision and F-score are ill-defined and being set to 0.0 in samples with no predicted labels. Use `zero_division` parameter to control this behavior.\n",
      "  _warn_prf(average, modifier, msg_start, len(result))\n",
      "/opt/conda/lib/python3.10/site-packages/sklearn/metrics/_classification.py:1344: UndefinedMetricWarning: Recall and F-score are ill-defined and being set to 0.0 in samples with no true labels. Use `zero_division` parameter to control this behavior.\n",
      "  _warn_prf(average, modifier, msg_start, len(result))\n"
     ]
    }
   ],
   "source": [
    "all_preds = []\n",
    "all_targets = []\n",
    "\n",
    "model.eval()\n",
    "with torch.no_grad():\n",
    "    for batch in test_dl:\n",
    "        probs = torch.sigmoid(model(batch['img_f'].to(device))).cpu().numpy()\n",
    "        preds = (probs > 0.5).astype(int)\n",
    "        all_preds.extend(preds)\n",
    "        all_targets.extend(batch['labels'].cpu().numpy())\n",
    "\n",
    "print(classification_report(all_targets, all_preds, target_names=common_labels))"
   ]
  },
  {
   "cell_type": "code",
   "execution_count": null,
   "metadata": {},
   "outputs": [],
   "source": []
  },
  {
   "cell_type": "code",
   "execution_count": null,
   "metadata": {},
   "outputs": [],
   "source": []
  },
  {
   "cell_type": "code",
   "execution_count": null,
   "metadata": {},
   "outputs": [],
   "source": []
  }
 ],
 "metadata": {
  "kaggle": {
   "accelerator": "gpu",
   "dataSources": [
    {
     "datasetId": 516716,
     "sourceId": 951996,
     "sourceType": "datasetVersion"
    }
   ],
   "dockerImageVersionId": 30683,
   "isGpuEnabled": true,
   "isInternetEnabled": true,
   "language": "python",
   "sourceType": "notebook"
  },
  "kernelspec": {
   "display_name": "Python 3 (ipykernel)",
   "language": "python",
   "name": "python3"
  },
  "language_info": {
   "codemirror_mode": {
    "name": "ipython",
    "version": 3
   },
   "file_extension": ".py",
   "mimetype": "text/x-python",
   "name": "python",
   "nbconvert_exporter": "python",
   "pygments_lexer": "ipython3",
   "version": "3.10.13"
  }
 },
 "nbformat": 4,
 "nbformat_minor": 4
}
