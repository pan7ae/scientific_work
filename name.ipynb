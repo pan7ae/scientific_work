{
  "nbformat": 4,
  "nbformat_minor": 0,
  "metadata": {
    "colab": {
      "provenance": [],
      "mount_file_id": "12Up9s-LvlXfCocsBp1-mdI-USOrqkDFF",
      "authorship_tag": "ABX9TyPhKQz/BFK3cunz/J1MDpuw",
      "include_colab_link": true
    },
    "kernelspec": {
      "name": "python3",
      "display_name": "Python 3"
    },
    "language_info": {
      "name": "python"
    }
  },
  "cells": [
    {
      "cell_type": "markdown",
      "metadata": {
        "id": "view-in-github",
        "colab_type": "text"
      },
      "source": [
        "<a href=\"https://colab.research.google.com/github/pan7ae/scientific_work/blob/main/name.ipynb\" target=\"_parent\"><img src=\"https://colab.research.google.com/assets/colab-badge.svg\" alt=\"Open In Colab\"/></a>"
      ]
    },
    {
      "cell_type": "markdown",
      "source": [
        "# Import Chest X-ray (Indiana University) datase from kaggle"
      ],
      "metadata": {
        "id": "uIGCSJpTwOY9"
      }
    },
    {
      "cell_type": "code",
      "execution_count": null,
      "metadata": {
        "id": "3ovtHU-BvyIc"
      },
      "outputs": [],
      "source": [
        "# Install kaggle\n",
        "!pip install -q kaggle"
      ]
    },
    {
      "cell_type": "code",
      "source": [
        "# Connect to Google Drive\n",
        "from google.colab import drive\n",
        "drive.mount('/content/drive')"
      ],
      "metadata": {
        "colab": {
          "base_uri": "https://localhost:8080/"
        },
        "id": "d9YlGB9wwgCV",
        "outputId": "d2036504-489a-4a3a-f6da-4c4e523b5c72"
      },
      "execution_count": null,
      "outputs": [
        {
          "output_type": "stream",
          "name": "stdout",
          "text": [
            "Drive already mounted at /content/drive; to attempt to forcibly remount, call drive.mount(\"/content/drive\", force_remount=True).\n"
          ]
        }
      ]
    },
    {
      "cell_type": "code",
      "source": [
        "# Change directory\n",
        "import os\n",
        "os.chdir(\"/content/drive/MyDrive/Nauchka\")"
      ],
      "metadata": {
        "id": "2pl-0sReypax"
      },
      "execution_count": null,
      "outputs": []
    },
    {
      "cell_type": "code",
      "source": [
        "# Create a kaggle folder\n",
        "!mkdir -p ~/.kaggle\n",
        "\n",
        "# Copy kaggle.json to created folder\n",
        "!cp kaggle.json ~/.kaggle/"
      ],
      "metadata": {
        "id": "kW-lQ2Ecyvm6"
      },
      "execution_count": null,
      "outputs": []
    },
    {
      "cell_type": "code",
      "source": [
        "# Permission for the json to act\n",
        "!chmod 600 ~/.kaggle/kaggle.json"
      ],
      "metadata": {
        "id": "4fAR12BUy2Qf"
      },
      "execution_count": null,
      "outputs": []
    },
    {
      "cell_type": "code",
      "source": [
        "# Download the required dataset\n",
        "!kaggle datasets download -d raddar/chest-xrays-indiana-university"
      ],
      "metadata": {
        "colab": {
          "base_uri": "https://localhost:8080/"
        },
        "id": "_YaJfiZtzBNE",
        "outputId": "bb19b6dc-8edd-49fc-f7df-a1e6d709f4c6"
      },
      "execution_count": null,
      "outputs": [
        {
          "output_type": "stream",
          "name": "stdout",
          "text": [
            "Downloading chest-xrays-indiana-university.zip to /content/drive/MyDrive/Nauchka\n",
            "100% 13.2G/13.2G [03:47<00:00, 72.0MB/s]\n",
            "100% 13.2G/13.2G [03:47<00:00, 62.1MB/s]\n"
          ]
        }
      ]
    },
    {
      "cell_type": "code",
      "source": [
        "# Unzip our dataset\n",
        "from zipfile import ZipFile\n",
        "from tqdm import tqdm\n",
        "\n",
        "\n",
        "file_to_extract = \"chest-xrays-indiana-university.zip\"\n",
        "\n",
        "# Open your .zip file\n",
        "with ZipFile(file=file_to_extract) as zip_file:\n",
        "\n",
        "    # Loop over each file and extract them\n",
        "    for file in tqdm(iterable=zip_file.namelist(), total=len(zip_file.namelist())):\n",
        "        zip_file.extract(member=file)"
      ],
      "metadata": {
        "colab": {
          "base_uri": "https://localhost:8080/"
        },
        "id": "nLTb6KMr1m7l",
        "outputId": "76a4c979-38f0-466d-e8f8-d56c0478692f"
      },
      "execution_count": null,
      "outputs": [
        {
          "output_type": "stream",
          "name": "stderr",
          "text": [
            "100%|██████████| 7472/7472 [08:35<00:00, 14.50it/s]\n"
          ]
        }
      ]
    },
    {
      "cell_type": "markdown",
      "source": [
        "# Preprocessing the image and the text data"
      ],
      "metadata": {
        "id": "s8b1IACP8Hd4"
      }
    },
    {
      "cell_type": "markdown",
      "source": [
        "## Prepare photo data"
      ],
      "metadata": {
        "id": "G9Rw3INM9N53"
      }
    },
    {
      "cell_type": "code",
      "source": [],
      "metadata": {
        "id": "Zy4SoUT83CZQ"
      },
      "execution_count": null,
      "outputs": []
    }
  ]
}