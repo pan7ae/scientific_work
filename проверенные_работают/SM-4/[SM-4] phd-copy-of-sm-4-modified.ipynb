{
 "cells": [
  {
   "cell_type": "markdown",
   "metadata": {
    "id": "l3HaHWqBSTSN"
   },
   "source": [
    "<h1> Скачиваем набор данных"
   ]
  },
  {
   "cell_type": "code",
   "execution_count": 1,
   "metadata": {
    "colab": {
     "base_uri": "https://localhost:8080/"
    },
    "id": "QG4OTd4vmzxZ",
    "outputId": "245d16f2-678f-4589-8578-18b4f767246d",
    "trusted": true
   },
   "outputs": [
    {
     "name": "stdout",
     "output_type": "stream",
     "text": [
      "Name: tensorflow\n",
      "Version: 2.18.0\n",
      "Summary: TensorFlow is an open source machine learning framework for everyone.\n",
      "Home-page: https://www.tensorflow.org/\n",
      "Author: Google Inc.\n",
      "Author-email: packages@tensorflow.org\n",
      "License: Apache 2.0\n",
      "Location: /usr/local/lib/python3.11/dist-packages\n",
      "Requires: absl-py, astunparse, flatbuffers, gast, google-pasta, grpcio, h5py, keras, libclang, ml-dtypes, numpy, opt-einsum, packaging, protobuf, requests, setuptools, six, tensorboard, tensorflow-io-gcs-filesystem, termcolor, typing-extensions, wrapt\n",
      "Required-by: dopamine_rl, tensorflow-text, tensorflow_decision_forests, tf_keras\n"
     ]
    }
   ],
   "source": [
    "!pip show tensorflow"
   ]
  },
  {
   "cell_type": "code",
   "execution_count": 2,
   "metadata": {
    "colab": {
     "base_uri": "https://localhost:8080/"
    },
    "id": "gO16xOXtBVHW",
    "outputId": "6f5fd39d-95d3-452c-92b9-ce329f296705",
    "trusted": true
   },
   "outputs": [
    {
     "name": "stdout",
     "output_type": "stream",
     "text": [
      "Thu Jun 19 13:28:00 2025       \n",
      "+-----------------------------------------------------------------------------------------+\n",
      "| NVIDIA-SMI 560.35.03              Driver Version: 560.35.03      CUDA Version: 12.6     |\n",
      "|-----------------------------------------+------------------------+----------------------+\n",
      "| GPU  Name                 Persistence-M | Bus-Id          Disp.A | Volatile Uncorr. ECC |\n",
      "| Fan  Temp   Perf          Pwr:Usage/Cap |           Memory-Usage | GPU-Util  Compute M. |\n",
      "|                                         |                        |               MIG M. |\n",
      "|=========================================+========================+======================|\n",
      "|   0  Tesla T4                       Off |   00000000:00:04.0 Off |                    0 |\n",
      "| N/A   51C    P8              9W /   70W |       1MiB /  15360MiB |      0%      Default |\n",
      "|                                         |                        |                  N/A |\n",
      "+-----------------------------------------+------------------------+----------------------+\n",
      "|   1  Tesla T4                       Off |   00000000:00:05.0 Off |                    0 |\n",
      "| N/A   44C    P8              9W /   70W |       1MiB /  15360MiB |      0%      Default |\n",
      "|                                         |                        |                  N/A |\n",
      "+-----------------------------------------+------------------------+----------------------+\n",
      "                                                                                         \n",
      "+-----------------------------------------------------------------------------------------+\n",
      "| Processes:                                                                              |\n",
      "|  GPU   GI   CI        PID   Type   Process name                              GPU Memory |\n",
      "|        ID   ID                                                               Usage      |\n",
      "|=========================================================================================|\n",
      "|  No running processes found                                                             |\n",
      "+-----------------------------------------------------------------------------------------+\n"
     ]
    }
   ],
   "source": [
    "!nvidia-smi"
   ]
  },
  {
   "cell_type": "markdown",
   "metadata": {
    "id": "_xoLw64CSnbV"
   },
   "source": [
    "Откроем датасет, которые получили после предварительной обработки текстовых данных"
   ]
  },
  {
   "cell_type": "code",
   "execution_count": 3,
   "metadata": {
    "colab": {
     "base_uri": "https://localhost:8080/",
     "height": 339
    },
    "id": "xS8551gASYJW",
    "outputId": "67240c32-108a-41ff-a09a-daa3904b1fbb",
    "trusted": true
   },
   "outputs": [],
   "source": [
    "import pandas as pd\n",
    "import numpy as np\n",
    "from tqdm import tqdm"
   ]
  },
  {
   "cell_type": "code",
   "execution_count": 4,
   "metadata": {
    "id": "tZK7bhz_TZn4",
    "trusted": true
   },
   "outputs": [
    {
     "data": {
      "text/html": [
       "<div>\n",
       "<style scoped>\n",
       "    .dataframe tbody tr th:only-of-type {\n",
       "        vertical-align: middle;\n",
       "    }\n",
       "\n",
       "    .dataframe tbody tr th {\n",
       "        vertical-align: top;\n",
       "    }\n",
       "\n",
       "    .dataframe thead th {\n",
       "        text-align: right;\n",
       "    }\n",
       "</style>\n",
       "<table border=\"1\" class=\"dataframe\">\n",
       "  <thead>\n",
       "    <tr style=\"text-align: right;\">\n",
       "      <th></th>\n",
       "      <th>uid</th>\n",
       "      <th>MeSH</th>\n",
       "      <th>Problems</th>\n",
       "      <th>image</th>\n",
       "      <th>indication</th>\n",
       "      <th>comparison</th>\n",
       "      <th>findings</th>\n",
       "      <th>impression</th>\n",
       "      <th>filename</th>\n",
       "      <th>projection</th>\n",
       "    </tr>\n",
       "  </thead>\n",
       "  <tbody>\n",
       "    <tr>\n",
       "      <th>0</th>\n",
       "      <td>1</td>\n",
       "      <td>normal</td>\n",
       "      <td>normal</td>\n",
       "      <td>Xray Chest PA and Lateral</td>\n",
       "      <td>positive tb test</td>\n",
       "      <td>None.</td>\n",
       "      <td>the cardiac silhouette and mediastinum size ar...</td>\n",
       "      <td>normal chest</td>\n",
       "      <td>1_IM-0001-4001.dcm.png</td>\n",
       "      <td>Frontal</td>\n",
       "    </tr>\n",
       "    <tr>\n",
       "      <th>1</th>\n",
       "      <td>1</td>\n",
       "      <td>normal</td>\n",
       "      <td>normal</td>\n",
       "      <td>Xray Chest PA and Lateral</td>\n",
       "      <td>positive tb test</td>\n",
       "      <td>None.</td>\n",
       "      <td>the cardiac silhouette and mediastinum size ar...</td>\n",
       "      <td>normal chest</td>\n",
       "      <td>1_IM-0001-3001.dcm.png</td>\n",
       "      <td>Lateral</td>\n",
       "    </tr>\n",
       "    <tr>\n",
       "      <th>2</th>\n",
       "      <td>2</td>\n",
       "      <td>Cardiomegaly/borderline;Pulmonary Artery/enlarged</td>\n",
       "      <td>Cardiomegaly;Pulmonary Artery</td>\n",
       "      <td>Chest, 2 views, frontal and lateral</td>\n",
       "      <td>preop bariatric surgery</td>\n",
       "      <td>None.</td>\n",
       "      <td>borderline cardiomegaly midline sternotomy enl...</td>\n",
       "      <td>no acute pulmonary findings</td>\n",
       "      <td>2_IM-0652-1001.dcm.png</td>\n",
       "      <td>Frontal</td>\n",
       "    </tr>\n",
       "    <tr>\n",
       "      <th>3</th>\n",
       "      <td>2</td>\n",
       "      <td>Cardiomegaly/borderline;Pulmonary Artery/enlarged</td>\n",
       "      <td>Cardiomegaly;Pulmonary Artery</td>\n",
       "      <td>Chest, 2 views, frontal and lateral</td>\n",
       "      <td>preop bariatric surgery</td>\n",
       "      <td>None.</td>\n",
       "      <td>borderline cardiomegaly midline sternotomy enl...</td>\n",
       "      <td>no acute pulmonary findings</td>\n",
       "      <td>2_IM-0652-2001.dcm.png</td>\n",
       "      <td>Lateral</td>\n",
       "    </tr>\n",
       "    <tr>\n",
       "      <th>6</th>\n",
       "      <td>4</td>\n",
       "      <td>Pulmonary Disease, Chronic Obstructive;Bullous...</td>\n",
       "      <td>Pulmonary Disease, Chronic Obstructive;Bullous...</td>\n",
       "      <td>PA and lateral views of the chest XXXX, XXXX a...</td>\n",
       "      <td>with</td>\n",
       "      <td>None available</td>\n",
       "      <td>there are diffuse bilateral interstitial and a...</td>\n",
       "      <td>bullous emphysema and interstitial fibrosis p...</td>\n",
       "      <td>4_IM-2050-1001.dcm.png</td>\n",
       "      <td>Frontal</td>\n",
       "    </tr>\n",
       "  </tbody>\n",
       "</table>\n",
       "</div>"
      ],
      "text/plain": [
       "   uid                                               MeSH  \\\n",
       "0    1                                             normal   \n",
       "1    1                                             normal   \n",
       "2    2  Cardiomegaly/borderline;Pulmonary Artery/enlarged   \n",
       "3    2  Cardiomegaly/borderline;Pulmonary Artery/enlarged   \n",
       "6    4  Pulmonary Disease, Chronic Obstructive;Bullous...   \n",
       "\n",
       "                                            Problems  \\\n",
       "0                                             normal   \n",
       "1                                             normal   \n",
       "2                      Cardiomegaly;Pulmonary Artery   \n",
       "3                      Cardiomegaly;Pulmonary Artery   \n",
       "6  Pulmonary Disease, Chronic Obstructive;Bullous...   \n",
       "\n",
       "                                               image               indication  \\\n",
       "0                          Xray Chest PA and Lateral         positive tb test   \n",
       "1                          Xray Chest PA and Lateral         positive tb test   \n",
       "2                Chest, 2 views, frontal and lateral  preop bariatric surgery   \n",
       "3                Chest, 2 views, frontal and lateral  preop bariatric surgery   \n",
       "6  PA and lateral views of the chest XXXX, XXXX a...                    with    \n",
       "\n",
       "       comparison                                           findings  \\\n",
       "0           None.  the cardiac silhouette and mediastinum size ar...   \n",
       "1           None.  the cardiac silhouette and mediastinum size ar...   \n",
       "2           None.  borderline cardiomegaly midline sternotomy enl...   \n",
       "3           None.  borderline cardiomegaly midline sternotomy enl...   \n",
       "6  None available  there are diffuse bilateral interstitial and a...   \n",
       "\n",
       "                                          impression                filename  \\\n",
       "0                                      normal chest   1_IM-0001-4001.dcm.png   \n",
       "1                                      normal chest   1_IM-0001-3001.dcm.png   \n",
       "2                        no acute pulmonary findings  2_IM-0652-1001.dcm.png   \n",
       "3                        no acute pulmonary findings  2_IM-0652-2001.dcm.png   \n",
       "6   bullous emphysema and interstitial fibrosis p...  4_IM-2050-1001.dcm.png   \n",
       "\n",
       "  projection  \n",
       "0    Frontal  \n",
       "1    Lateral  \n",
       "2    Frontal  \n",
       "3    Lateral  \n",
       "6    Frontal  "
      ]
     },
     "execution_count": 4,
     "metadata": {},
     "output_type": "execute_result"
    }
   ],
   "source": [
    "df = pd.read_pickle(\"/kaggle/input/merged-df-pkl/merged_df.pkl\")\n",
    "df.head()"
   ]
  },
  {
   "cell_type": "code",
   "execution_count": 5,
   "metadata": {
    "id": "PS4mf-ySTuMN",
    "trusted": true
   },
   "outputs": [
    {
     "data": {
      "text/plain": [
       "(6469, 10)"
      ]
     },
     "execution_count": 5,
     "metadata": {},
     "output_type": "execute_result"
    }
   ],
   "source": [
    "df.shape"
   ]
  },
  {
   "cell_type": "markdown",
   "metadata": {
    "id": "N34FrcKgT-M5"
   },
   "source": [
    "Будем работать с 6469 записями, т.к. для них значение признака findings не содержит пустых значений"
   ]
  },
  {
   "cell_type": "code",
   "execution_count": 6,
   "metadata": {
    "id": "7IB8Q3uBTu_T",
    "trusted": true
   },
   "outputs": [],
   "source": [
    "images = df[\"filename\"].to_list()"
   ]
  },
  {
   "cell_type": "code",
   "execution_count": 7,
   "metadata": {
    "id": "D-l2qPJwUpsj",
    "trusted": true
   },
   "outputs": [],
   "source": [
    "findings = list(df[\"findings\"])\n",
    "indication = list(df[\"indication\"])\n",
    "impression = list(df[\"impression\"])"
   ]
  },
  {
   "cell_type": "code",
   "execution_count": 8,
   "metadata": {
    "id": "Iv3tufG1U3n2",
    "trusted": true
   },
   "outputs": [
    {
     "data": {
      "text/plain": [
       "(6469, 6469, 6469)"
      ]
     },
     "execution_count": 8,
     "metadata": {},
     "output_type": "execute_result"
    }
   ],
   "source": [
    "len(findings), len(indication), len(impression)"
   ]
  },
  {
   "cell_type": "markdown",
   "metadata": {
    "id": "1agfhUDPVtbO"
   },
   "source": [
    "В наборе данных у нас есть indication, findings, impression. Мы объединяем их вместе, чтобы сформировать полное описание отчета для использования в модели"
   ]
  },
  {
   "cell_type": "code",
   "execution_count": 9,
   "metadata": {
    "id": "rpDdGRQqU_qQ",
    "trusted": true
   },
   "outputs": [],
   "source": [
    "try_captions = []\n",
    "\n",
    "\n",
    "# почему-то вместо <start> & <end> стояли пробелы\n",
    "for idx in range(len(findings)):\n",
    "    captions = str(\"<start> \" + str(findings[idx]) + \" <end>\")\n",
    "    try_captions.append(captions)"
   ]
  },
  {
   "cell_type": "markdown",
   "metadata": {
    "id": "Ag5p6Z-NUSCo"
   },
   "source": [
    "Создадим список с названиями файлов изображений"
   ]
  },
  {
   "cell_type": "code",
   "execution_count": 10,
   "metadata": {
    "trusted": true
   },
   "outputs": [
    {
     "data": {
      "text/plain": [
       "'/kaggle/working/chest-xrays-indiana-university/images/images_normalized'"
      ]
     },
     "execution_count": 10,
     "metadata": {},
     "output_type": "execute_result"
    }
   ],
   "source": [
    "# Source directory\n",
    "import shutil\n",
    "\n",
    "source_dir = \"/kaggle/input/chest-xrays-indiana-university/images/images_normalized\"\n",
    "\n",
    "# Destination directory\n",
    "destination_dir = \"/kaggle/working/chest-xrays-indiana-university/images/images_normalized\"\n",
    "\n",
    "shutil.copytree(source_dir, destination_dir)"
   ]
  },
  {
   "cell_type": "code",
   "execution_count": 11,
   "metadata": {
    "id": "NL5hgtW0Wdfw",
    "trusted": true
   },
   "outputs": [],
   "source": [
    "train_captions = try_captions\n",
    "\n",
    "image_paths = []\n",
    "\n",
    "for img in images:\n",
    "  path = \"/kaggle/working/chest-xrays-indiana-university/images/images_normalized/\" + img\n",
    "  image_paths.append(path)"
   ]
  },
  {
   "cell_type": "markdown",
   "metadata": {
    "id": "ayEU8LvAXR2S"
   },
   "source": [
    "Проверим созданные списки изображений и подписей"
   ]
  },
  {
   "cell_type": "code",
   "execution_count": 12,
   "metadata": {
    "id": "O21lbqJVXG5g",
    "trusted": true
   },
   "outputs": [
    {
     "data": {
      "text/plain": [
       "['<start> the cardiac silhouette and mediastinum size are within normal limits there is no pulmonary edema there is no focal consolidation there are no of a pleural effusion there is no evidence of pneumothora <end>',\n",
       " '<start> the cardiac silhouette and mediastinum size are within normal limits there is no pulmonary edema there is no focal consolidation there are no of a pleural effusion there is no evidence of pneumothora <end>',\n",
       " '<start> borderline cardiomegaly midline sternotomy enlarged pulmonary arteries clear lungs inferior  <end>',\n",
       " '<start> borderline cardiomegaly midline sternotomy enlarged pulmonary arteries clear lungs inferior  <end>',\n",
       " '<start> there are diffuse bilateral interstitial and alveolar opacities consistent with chronic obstructive lung disease and bullous emphysema there are irregular opacities in the left lung ape that could represent a cavitary lesion in the left lung apethere are streaky opacities in the right upper lobe scarring the cardiomediastinal silhouette is normal in size and contour there is no pneumothora or large pleural effusion <end>']"
      ]
     },
     "execution_count": 12,
     "metadata": {},
     "output_type": "execute_result"
    }
   ],
   "source": [
    "train_captions[:5]"
   ]
  },
  {
   "cell_type": "code",
   "execution_count": 13,
   "metadata": {
    "id": "BwQxmb79XZHU",
    "trusted": true
   },
   "outputs": [
    {
     "data": {
      "text/plain": [
       "['/kaggle/working/chest-xrays-indiana-university/images/images_normalized/1_IM-0001-4001.dcm.png',\n",
       " '/kaggle/working/chest-xrays-indiana-university/images/images_normalized/1_IM-0001-3001.dcm.png',\n",
       " '/kaggle/working/chest-xrays-indiana-university/images/images_normalized/2_IM-0652-1001.dcm.png',\n",
       " '/kaggle/working/chest-xrays-indiana-university/images/images_normalized/2_IM-0652-2001.dcm.png',\n",
       " '/kaggle/working/chest-xrays-indiana-university/images/images_normalized/4_IM-2050-1001.dcm.png']"
      ]
     },
     "execution_count": 13,
     "metadata": {},
     "output_type": "execute_result"
    }
   ],
   "source": [
    "image_paths[:5]"
   ]
  },
  {
   "cell_type": "markdown",
   "metadata": {
    "id": "yx_nxSQNZpdb"
   },
   "source": [
    "<h1> Подготовка модели"
   ]
  },
  {
   "cell_type": "code",
   "execution_count": 14,
   "metadata": {
    "id": "mfYN_uZIaXOR",
    "trusted": true
   },
   "outputs": [
    {
     "name": "stderr",
     "output_type": "stream",
     "text": [
      "2025-06-19 13:33:25.183117: E external/local_xla/xla/stream_executor/cuda/cuda_fft.cc:477] Unable to register cuFFT factory: Attempting to register factory for plugin cuFFT when one has already been registered\n",
      "WARNING: All log messages before absl::InitializeLog() is called are written to STDERR\n",
      "E0000 00:00:1750340005.696867      75 cuda_dnn.cc:8310] Unable to register cuDNN factory: Attempting to register factory for plugin cuDNN when one has already been registered\n",
      "E0000 00:00:1750340005.866207      75 cuda_blas.cc:1418] Unable to register cuBLAS factory: Attempting to register factory for plugin cuBLAS when one has already been registered\n"
     ]
    }
   ],
   "source": [
    "import tensorflow as tf"
   ]
  },
  {
   "cell_type": "code",
   "execution_count": 15,
   "metadata": {
    "id": "5V0tQ1kgXbE1",
    "trusted": true
   },
   "outputs": [
    {
     "name": "stderr",
     "output_type": "stream",
     "text": [
      "I0000 00:00:1750340027.941500      75 gpu_device.cc:2022] Created device /job:localhost/replica:0/task:0/device:GPU:0 with 13942 MB memory:  -> device: 0, name: Tesla T4, pci bus id: 0000:00:04.0, compute capability: 7.5\n",
      "I0000 00:00:1750340027.942160      75 gpu_device.cc:2022] Created device /job:localhost/replica:0/task:0/device:GPU:1 with 13942 MB memory:  -> device: 1, name: Tesla T4, pci bus id: 0000:00:05.0, compute capability: 7.5\n"
     ]
    },
    {
     "name": "stdout",
     "output_type": "stream",
     "text": [
      "Downloading data from https://storage.googleapis.com/tensorflow/keras-applications/inception_v3/inception_v3_weights_tf_dim_ordering_tf_kernels_notop.h5\n",
      "\u001b[1m87910968/87910968\u001b[0m \u001b[32m━━━━━━━━━━━━━━━━━━━━\u001b[0m\u001b[37m\u001b[0m \u001b[1m0s\u001b[0m 0us/step\n"
     ]
    }
   ],
   "source": [
    "base_model = tf.keras.applications.inception_v3.InceptionV3(include_top=False,\n",
    "                                                            weights=\"imagenet\",\n",
    "                                                            input_shape=(299, 299, 3))"
   ]
  },
  {
   "cell_type": "code",
   "execution_count": 16,
   "metadata": {
    "id": "bEXkGwKhaoFN",
    "trusted": true
   },
   "outputs": [],
   "source": [
    "base_model.trainable = True"
   ]
  },
  {
   "cell_type": "markdown",
   "metadata": {
    "id": "6xOaa1U2as7F"
   },
   "source": [
    "Создание модели"
   ]
  },
  {
   "cell_type": "code",
   "execution_count": 17,
   "metadata": {
    "id": "hlXSCI1DaqeI",
    "trusted": true
   },
   "outputs": [],
   "source": [
    "model_0 = tf.keras.Sequential([\n",
    "     tf.keras.layers.Input(shape=(299, 299, 3), name=\"Input_layer\"),\n",
    "     base_model,\n",
    "     tf.keras.layers.GlobalMaxPool2D(),\n",
    "     tf.keras.layers.Dense(12, activation=\"softmax\")\n",
    "])"
   ]
  },
  {
   "cell_type": "code",
   "execution_count": 18,
   "metadata": {
    "id": "h8Rdy4cYbxvR",
    "trusted": true
   },
   "outputs": [
    {
     "data": {
      "text/html": [
       "<pre style=\"white-space:pre;overflow-x:auto;line-height:normal;font-family:Menlo,'DejaVu Sans Mono',consolas,'Courier New',monospace\"><span style=\"font-weight: bold\">Model: \"sequential\"</span>\n",
       "</pre>\n"
      ],
      "text/plain": [
       "\u001b[1mModel: \"sequential\"\u001b[0m\n"
      ]
     },
     "metadata": {},
     "output_type": "display_data"
    },
    {
     "data": {
      "text/html": [
       "<pre style=\"white-space:pre;overflow-x:auto;line-height:normal;font-family:Menlo,'DejaVu Sans Mono',consolas,'Courier New',monospace\">┏━━━━━━━━━━━━━━━━━━━━━━━━━━━━━━━━━━━━━━┳━━━━━━━━━━━━━━━━━━━━━━━━━━━━━┳━━━━━━━━━━━━━━━━━┓\n",
       "┃<span style=\"font-weight: bold\"> Layer (type)                         </span>┃<span style=\"font-weight: bold\"> Output Shape                </span>┃<span style=\"font-weight: bold\">         Param # </span>┃\n",
       "┡━━━━━━━━━━━━━━━━━━━━━━━━━━━━━━━━━━━━━━╇━━━━━━━━━━━━━━━━━━━━━━━━━━━━━╇━━━━━━━━━━━━━━━━━┩\n",
       "│ inception_v3 (<span style=\"color: #0087ff; text-decoration-color: #0087ff\">Functional</span>)            │ (<span style=\"color: #00d7ff; text-decoration-color: #00d7ff\">None</span>, <span style=\"color: #00af00; text-decoration-color: #00af00\">8</span>, <span style=\"color: #00af00; text-decoration-color: #00af00\">8</span>, <span style=\"color: #00af00; text-decoration-color: #00af00\">2048</span>)          │      <span style=\"color: #00af00; text-decoration-color: #00af00\">21,802,784</span> │\n",
       "├──────────────────────────────────────┼─────────────────────────────┼─────────────────┤\n",
       "│ global_max_pooling2d                 │ (<span style=\"color: #00d7ff; text-decoration-color: #00d7ff\">None</span>, <span style=\"color: #00af00; text-decoration-color: #00af00\">2048</span>)                │               <span style=\"color: #00af00; text-decoration-color: #00af00\">0</span> │\n",
       "│ (<span style=\"color: #0087ff; text-decoration-color: #0087ff\">GlobalMaxPooling2D</span>)                 │                             │                 │\n",
       "├──────────────────────────────────────┼─────────────────────────────┼─────────────────┤\n",
       "│ dense (<span style=\"color: #0087ff; text-decoration-color: #0087ff\">Dense</span>)                        │ (<span style=\"color: #00d7ff; text-decoration-color: #00d7ff\">None</span>, <span style=\"color: #00af00; text-decoration-color: #00af00\">12</span>)                  │          <span style=\"color: #00af00; text-decoration-color: #00af00\">24,588</span> │\n",
       "└──────────────────────────────────────┴─────────────────────────────┴─────────────────┘\n",
       "</pre>\n"
      ],
      "text/plain": [
       "┏━━━━━━━━━━━━━━━━━━━━━━━━━━━━━━━━━━━━━━┳━━━━━━━━━━━━━━━━━━━━━━━━━━━━━┳━━━━━━━━━━━━━━━━━┓\n",
       "┃\u001b[1m \u001b[0m\u001b[1mLayer (type)                        \u001b[0m\u001b[1m \u001b[0m┃\u001b[1m \u001b[0m\u001b[1mOutput Shape               \u001b[0m\u001b[1m \u001b[0m┃\u001b[1m \u001b[0m\u001b[1m        Param #\u001b[0m\u001b[1m \u001b[0m┃\n",
       "┡━━━━━━━━━━━━━━━━━━━━━━━━━━━━━━━━━━━━━━╇━━━━━━━━━━━━━━━━━━━━━━━━━━━━━╇━━━━━━━━━━━━━━━━━┩\n",
       "│ inception_v3 (\u001b[38;5;33mFunctional\u001b[0m)            │ (\u001b[38;5;45mNone\u001b[0m, \u001b[38;5;34m8\u001b[0m, \u001b[38;5;34m8\u001b[0m, \u001b[38;5;34m2048\u001b[0m)          │      \u001b[38;5;34m21,802,784\u001b[0m │\n",
       "├──────────────────────────────────────┼─────────────────────────────┼─────────────────┤\n",
       "│ global_max_pooling2d                 │ (\u001b[38;5;45mNone\u001b[0m, \u001b[38;5;34m2048\u001b[0m)                │               \u001b[38;5;34m0\u001b[0m │\n",
       "│ (\u001b[38;5;33mGlobalMaxPooling2D\u001b[0m)                 │                             │                 │\n",
       "├──────────────────────────────────────┼─────────────────────────────┼─────────────────┤\n",
       "│ dense (\u001b[38;5;33mDense\u001b[0m)                        │ (\u001b[38;5;45mNone\u001b[0m, \u001b[38;5;34m12\u001b[0m)                  │          \u001b[38;5;34m24,588\u001b[0m │\n",
       "└──────────────────────────────────────┴─────────────────────────────┴─────────────────┘\n"
      ]
     },
     "metadata": {},
     "output_type": "display_data"
    },
    {
     "data": {
      "text/html": [
       "<pre style=\"white-space:pre;overflow-x:auto;line-height:normal;font-family:Menlo,'DejaVu Sans Mono',consolas,'Courier New',monospace\"><span style=\"font-weight: bold\"> Total params: </span><span style=\"color: #00af00; text-decoration-color: #00af00\">21,827,372</span> (83.26 MB)\n",
       "</pre>\n"
      ],
      "text/plain": [
       "\u001b[1m Total params: \u001b[0m\u001b[38;5;34m21,827,372\u001b[0m (83.26 MB)\n"
      ]
     },
     "metadata": {},
     "output_type": "display_data"
    },
    {
     "data": {
      "text/html": [
       "<pre style=\"white-space:pre;overflow-x:auto;line-height:normal;font-family:Menlo,'DejaVu Sans Mono',consolas,'Courier New',monospace\"><span style=\"font-weight: bold\"> Trainable params: </span><span style=\"color: #00af00; text-decoration-color: #00af00\">21,792,940</span> (83.13 MB)\n",
       "</pre>\n"
      ],
      "text/plain": [
       "\u001b[1m Trainable params: \u001b[0m\u001b[38;5;34m21,792,940\u001b[0m (83.13 MB)\n"
      ]
     },
     "metadata": {},
     "output_type": "display_data"
    },
    {
     "data": {
      "text/html": [
       "<pre style=\"white-space:pre;overflow-x:auto;line-height:normal;font-family:Menlo,'DejaVu Sans Mono',consolas,'Courier New',monospace\"><span style=\"font-weight: bold\"> Non-trainable params: </span><span style=\"color: #00af00; text-decoration-color: #00af00\">34,432</span> (134.50 KB)\n",
       "</pre>\n"
      ],
      "text/plain": [
       "\u001b[1m Non-trainable params: \u001b[0m\u001b[38;5;34m34,432\u001b[0m (134.50 KB)\n"
      ]
     },
     "metadata": {},
     "output_type": "display_data"
    }
   ],
   "source": [
    "model_0.summary()"
   ]
  },
  {
   "cell_type": "code",
   "execution_count": 19,
   "metadata": {
    "id": "AwvqRVrGbzp_",
    "trusted": true
   },
   "outputs": [],
   "source": [
    "image_model = base_model"
   ]
  },
  {
   "cell_type": "code",
   "execution_count": 20,
   "metadata": {
    "id": "lqGOtnz_b_t5",
    "trusted": true
   },
   "outputs": [],
   "source": [
    "# def load_image(image_path):\n",
    "#     img = tf.io.read_file(image_path)\n",
    "#     img = tf.io.decode_jpeg(img, channels=3)\n",
    "#     img = tf.keras.layers.Resizing(299, 299)(img)\n",
    "#     img = tf.keras.applications.inception_v3.preprocess_input(img)\n",
    "#     return img, image_path\n",
    "\n",
    "def load_image(image_path):\n",
    "    # 1) Читаем файл и декодируем JPEG в uint8\n",
    "    img = tf.io.read_file(image_path)\n",
    "    img = tf.io.decode_jpeg(img, channels=3)\n",
    "\n",
    "    # 2) Изменяем размер (по-прежнему uint8)\n",
    "    img = tf.keras.layers.Resizing(299, 299)(img)\n",
    "\n",
    "    # 3) Кастим в float32, чтобы preprocess_input сработал корректно\n",
    "    img = tf.cast(img, tf.float32)\n",
    "\n",
    "    # 4) Нормализуем под InceptionV3: (0–255) → (–1 … +1)\n",
    "    img = tf.keras.applications.inception_v3.preprocess_input(img)\n",
    "\n",
    "    return img, image_path"
   ]
  },
  {
   "cell_type": "markdown",
   "metadata": {
    "id": "aEtd42H_eNJI"
   },
   "source": [
    "Модель извлечения признаков изображения"
   ]
  },
  {
   "cell_type": "code",
   "execution_count": 21,
   "metadata": {
    "id": "bYFbKYgGcCXJ",
    "trusted": true
   },
   "outputs": [],
   "source": [
    "new_input = image_model.input\n",
    "hidden_layer = image_model.layers[-1].output\n",
    "\n",
    "image_features_extract_model = tf.keras.Model(new_input, hidden_layer)"
   ]
  },
  {
   "cell_type": "markdown",
   "metadata": {
    "id": "YNeW1dpEel_U"
   },
   "source": [
    "Get unique names"
   ]
  },
  {
   "cell_type": "code",
   "execution_count": 22,
   "metadata": {
    "id": "7Cj0cH-jhi4t",
    "trusted": true
   },
   "outputs": [
    {
     "name": "stdout",
     "output_type": "stream",
     "text": [
      "Name: tensorflow\n",
      "Version: 2.18.0\n",
      "Summary: TensorFlow is an open source machine learning framework for everyone.\n",
      "Home-page: https://www.tensorflow.org/\n",
      "Author: Google Inc.\n",
      "Author-email: packages@tensorflow.org\n",
      "License: Apache 2.0\n",
      "Location: /usr/local/lib/python3.11/dist-packages\n",
      "Requires: absl-py, astunparse, flatbuffers, gast, google-pasta, grpcio, h5py, keras, libclang, ml-dtypes, numpy, opt-einsum, packaging, protobuf, requests, setuptools, six, tensorboard, tensorflow-io-gcs-filesystem, termcolor, typing-extensions, wrapt\n",
      "Required-by: dopamine_rl, tensorflow-text, tensorflow_decision_forests, tf_keras\n"
     ]
    }
   ],
   "source": [
    "!pip show tensorflow"
   ]
  },
  {
   "cell_type": "code",
   "execution_count": null,
   "metadata": {
    "trusted": true
   },
   "outputs": [],
   "source": []
  },
  {
   "cell_type": "code",
   "execution_count": 23,
   "metadata": {
    "id": "BxKT7gb7eUm2",
    "trusted": true
   },
   "outputs": [
    {
     "name": "stderr",
     "output_type": "stream",
     "text": [
      "  0%|          | 0/405 [00:00<?, ?it/s]I0000 00:00:1750340038.150984      75 cuda_dnn.cc:529] Loaded cuDNN version 90300\n",
      "100%|██████████| 405/405 [04:18<00:00,  1.56it/s]\n"
     ]
    }
   ],
   "source": [
    "encode_train = sorted(set(image_paths))\n",
    "\n",
    "image_dataset = tf.data.Dataset.from_tensor_slices(encode_train)\n",
    "image_dataset = image_dataset.map(load_image, num_parallel_calls=tf.data.AUTOTUNE).batch(16)\n",
    "\n",
    "for img, path in tqdm(image_dataset):\n",
    "    batch_features = image_features_extract_model(img)\n",
    "    batch_features = tf.reshape(batch_features,\n",
    "                                (batch_features.shape[0], -1,  batch_features.shape[3]))\n",
    "\n",
    "    for bf, p in zip(batch_features, path):\n",
    "        path_of_feature = p.numpy().decode(\"utf-8\")\n",
    "        np.save(path_of_feature, bf.numpy())"
   ]
  },
  {
   "cell_type": "code",
   "execution_count": 24,
   "metadata": {
    "id": "dbFIEu2asOF0",
    "trusted": true
   },
   "outputs": [],
   "source": [
    "# import shutil\n",
    "# import os\n",
    "\n",
    "# # Путь к вашей папке на Google Drive\n",
    "# destination_folder = \"/content/drive/MyDrive/shikha version/data/npy\"\n",
    "\n",
    "# # Путь к вашей исходной папке с файлами .npy\n",
    "# source_folder = \"/content/images/images_normalized\"\n",
    "\n",
    "# # Создайте папку на Google Drive, если она ещё не существует\n",
    "# if not os.path.exists(destination_folder):\n",
    "#     os.makedirs(destination_folder)\n",
    "\n",
    "# # Получите список файлов .npy в исходной папке\n",
    "# npy_files = [f for f in os.listdir(source_folder) if f.endswith('.npy')]\n",
    "\n",
    "# # Копирование файлов из source_folder в destination_folder\n",
    "# for file in tqdm(npy_files):\n",
    "#     source_path = os.path.join(source_folder, file)\n",
    "#     destination_path = os.path.join(destination_folder, file)\n",
    "#     shutil.copyfile(source_path, destination_path)\n",
    "\n",
    "# print(\"Файлы успешно скопированы в новую папку на Google Drive.\")"
   ]
  },
  {
   "cell_type": "code",
   "execution_count": 25,
   "metadata": {
    "id": "DObUi_4Qsnwx",
    "trusted": true
   },
   "outputs": [],
   "source": [
    "caption_dataset = tf.data.Dataset.from_tensor_slices(train_captions)\n",
    "\n",
    "max_length = 100\n",
    "vocabulary_size = 9000\n",
    "\n",
    "tokenizer = tf.keras.layers.TextVectorization(\n",
    "    max_tokens=vocabulary_size,\n",
    "    output_sequence_length=max_length\n",
    ")\n",
    "\n",
    "tokenizer.adapt(caption_dataset)"
   ]
  },
  {
   "cell_type": "code",
   "execution_count": 26,
   "metadata": {
    "id": "SI4D-JR8vHtR",
    "trusted": true
   },
   "outputs": [],
   "source": [
    "cap_vector = caption_dataset.map(lambda x: tokenizer(x))"
   ]
  },
  {
   "cell_type": "markdown",
   "metadata": {
    "id": "fPYJ7hXlv8JL"
   },
   "source": [
    "Создание отображения слов на токены и токенов на слова"
   ]
  },
  {
   "cell_type": "code",
   "execution_count": 27,
   "metadata": {
    "id": "u73VQ7FgvUcO",
    "trusted": true
   },
   "outputs": [],
   "source": [
    "word_to_index = tf.keras.layers.StringLookup(\n",
    "    mask_token=\"\",\n",
    "    vocabulary=tokenizer.get_vocabulary())\n",
    "\n",
    "index_to_word = tf.keras.layers.StringLookup(\n",
    "    mask_token=\"\",\n",
    "    vocabulary=tokenizer.get_vocabulary(),\n",
    "    invert=True)"
   ]
  },
  {
   "cell_type": "markdown",
   "metadata": {
    "id": "tO3ypmgiwIi5"
   },
   "source": [
    "Разделение данных на train & test выборки"
   ]
  },
  {
   "cell_type": "code",
   "execution_count": 28,
   "metadata": {
    "id": "n3IWUpnTwQUA",
    "trusted": true
   },
   "outputs": [],
   "source": [
    "import collections\n",
    "import random"
   ]
  },
  {
   "cell_type": "code",
   "execution_count": 29,
   "metadata": {
    "id": "3kE3MCEUwHX9",
    "trusted": true
   },
   "outputs": [],
   "source": [
    "img_to_cap_vector = collections.defaultdict(list)\n",
    "for img, cap in zip(image_paths, cap_vector):\n",
    "    img_to_cap_vector[img].append(cap)\n",
    "\n",
    "# Create training and validation sets using an 80-20 split.\n",
    "img_keys = list(img_to_cap_vector.keys())\n",
    "random.shuffle(img_keys)\n",
    "\n",
    "slice_index = int(len(img_keys)*0.8)\n",
    "img_name_train_keys, img_name_val_keys = img_keys[:slice_index], img_keys[slice_index:]\n",
    "\n",
    "# for train split\n",
    "img_name_train = []\n",
    "cap_train = []\n",
    "for imgt in img_name_train_keys:\n",
    "    capt_len = len(img_to_cap_vector[imgt])\n",
    "    img_name_train.extend([imgt] * capt_len)\n",
    "    cap_train.extend(img_to_cap_vector[imgt])\n",
    "\n",
    "# for validation split\n",
    "img_name_val = []\n",
    "cap_val = []\n",
    "for imgv in img_name_val_keys:\n",
    "    capv_len = len(img_to_cap_vector[imgv])\n",
    "    img_name_val.extend([imgv] * capv_len)\n",
    "    cap_val.extend(img_to_cap_vector[imgv])"
   ]
  },
  {
   "cell_type": "code",
   "execution_count": 30,
   "metadata": {
    "id": "6hJUNbxjw4WB",
    "trusted": true
   },
   "outputs": [
    {
     "data": {
      "text/plain": [
       "(5175, 5175, 1294, 1294)"
      ]
     },
     "execution_count": 30,
     "metadata": {},
     "output_type": "execute_result"
    }
   ],
   "source": [
    "len(img_name_train), len(cap_train), len(img_name_val), len(cap_val)"
   ]
  },
  {
   "cell_type": "markdown",
   "metadata": {
    "id": "gYoU13D_w_GN"
   },
   "source": [
    "<h1>Создание окончательных данных"
   ]
  },
  {
   "cell_type": "code",
   "execution_count": 31,
   "metadata": {
    "id": "Hn4q1qv3w8N2",
    "trusted": true
   },
   "outputs": [],
   "source": [
    "batch_size = 64\n",
    "buffer_size = 1000\n",
    "embedding_dim = 512\n",
    "units = 1024\n",
    "num_steps = len(img_name_train) // batch_size\n",
    "features_shape = 2560\n",
    "attention_features_shape = 64"
   ]
  },
  {
   "cell_type": "markdown",
   "metadata": {
    "id": "QKHNor89xeId"
   },
   "source": [
    "Загрузка numpy файлов"
   ]
  },
  {
   "cell_type": "code",
   "execution_count": 32,
   "metadata": {
    "id": "OqrGZ0O5xbWr",
    "trusted": true
   },
   "outputs": [],
   "source": [
    "def map_func(img_name, cap):\n",
    "    img_tensor = np.load(img_name.decode('utf-8') + '.npy')\n",
    "    return img_tensor, cap"
   ]
  },
  {
   "cell_type": "code",
   "execution_count": 33,
   "metadata": {
    "id": "KlnhPjxqxo7j",
    "trusted": true
   },
   "outputs": [],
   "source": [
    "dataset = tf.data.Dataset.from_tensor_slices((img_name_train, cap_train))\n",
    "\n",
    "# Use map to load the numpy files in parallel\n",
    "dataset = dataset.map(lambda item1, item2: tf.numpy_function(\n",
    "          map_func, [item1, item2], [tf.float32, tf.int64]),\n",
    "          num_parallel_calls=tf.data.AUTOTUNE)\n",
    "\n",
    "# Shuffle and batch\n",
    "dataset = dataset.shuffle(buffer_size).batch(batch_size)\n",
    "dataset = dataset.prefetch(buffer_size=tf.data.AUTOTUNE)"
   ]
  },
  {
   "cell_type": "markdown",
   "metadata": {
    "id": "yjUSu2iayF8S"
   },
   "source": [
    "<h1> Создание модели"
   ]
  },
  {
   "cell_type": "code",
   "execution_count": 34,
   "metadata": {
    "id": "tdmIsuZwyBZ9",
    "trusted": true
   },
   "outputs": [],
   "source": [
    "class CustomAttention(tf.keras.Model):\n",
    "    def __init__(self, units):\n",
    "        super(CustomAttention, self).__init__()\n",
    "        self.W1 = tf.keras.layers.Dense(units)\n",
    "        self.W2 = tf.keras.layers.Dense(units)\n",
    "        self.V = tf.keras.layers.Dense(1)\n",
    "\n",
    "    def call(self, features, hidden):\n",
    "        hidden_with_time_axis = tf.expand_dims(hidden, 1)\n",
    "\n",
    "        # attention_hidden_layer shape == (batch_size, 64, units)\n",
    "        attention_hidden_layer = (tf.nn.tanh(self.W1(features) +\n",
    "                                            self.W2(hidden_with_time_axis)))\n",
    "\n",
    "\n",
    "        # For unnormalized score for each image feature.\n",
    "        score = self.V(attention_hidden_layer)\n",
    "\n",
    "        attention_weights = tf.nn.softmax(score, axis=1)\n",
    "\n",
    "        context_vector = attention_weights * features\n",
    "        context_vector = tf.reduce_sum(context_vector, axis=1)\n",
    "\n",
    "        return context_vector, attention_weights"
   ]
  },
  {
   "cell_type": "code",
   "execution_count": 35,
   "metadata": {
    "id": "GHbyrS2Eyc4w",
    "trusted": true
   },
   "outputs": [],
   "source": [
    "class CNN_Encoder(tf.keras.Model):\n",
    "    def __init__(self, embedding_dim):\n",
    "        super(CNN_Encoder, self).__init__()\n",
    "        self.fc = tf.keras.layers.Dense(embedding_dim)\n",
    "\n",
    "    def call(self, x):\n",
    "        x = self.fc(x)\n",
    "        x = tf.nn.relu(x)\n",
    "        return x"
   ]
  },
  {
   "cell_type": "code",
   "execution_count": 36,
   "metadata": {
    "id": "Pc0KtMq9y1v7",
    "trusted": true
   },
   "outputs": [],
   "source": [
    "class RNN_Decoder(tf.keras.Model):\n",
    "    def __init__(self, embedding_dim, units, vocab_size):\n",
    "        super(RNN_Decoder, self).__init__()\n",
    "        self.units = units\n",
    "\n",
    "        self.embedding = tf.keras.layers.Embedding(vocab_size, embedding_dim)\n",
    "\n",
    "        # 1) создаём GRUCell без return_sequences/return_state\n",
    "        gru_cell = tf.keras.layers.GRUCell(\n",
    "            self.units,\n",
    "            recurrent_initializer='glorot_uniform'\n",
    "        )\n",
    "        # 2) оборачиваем его в RNN — и получаем нужную функциональность:\n",
    "        self.gru = tf.keras.layers.RNN(\n",
    "            gru_cell,\n",
    "            return_sequences=True,\n",
    "            return_state=True,   # вернёт (outputs, state)\n",
    "            unroll=False         # важно: unroll=False (по-умолчанию) – значит, через tf.while_loop\n",
    "        )\n",
    "        \n",
    "        # self.gru = tf.keras.layers.GRU(self.units,\n",
    "        #                             return_sequences=True,\n",
    "        #                             return_state=True,\n",
    "        #                             recurrent_initializer='glorot_uniform')\n",
    "        self.fc1 = tf.keras.layers.Dense(self.units)\n",
    "        self.fc2 = tf.keras.layers.Dense(vocab_size)\n",
    "\n",
    "        self.attention = CustomAttention(self.units)\n",
    "\n",
    "    def call(self, x, features, hidden):\n",
    "        # defining attention model\n",
    "        context_vector, attention_weights = self.attention(features, hidden)\n",
    "        x = self.embedding(x)\n",
    "\n",
    "        x = tf.concat([tf.expand_dims(context_vector, 1), x], axis=-1)\n",
    "\n",
    "        # passing the concatenated vector to the GRU\n",
    "        output, state = self.gru(x)\n",
    "\n",
    "        x = self.fc1(output)\n",
    "        x = tf.reshape(x, (-1, x.shape[2]))\n",
    "\n",
    "        x = self.fc2(x)\n",
    "\n",
    "        return x, state, attention_weights\n",
    "\n",
    "    def reset_state(self, batch_size):\n",
    "        return tf.zeros((batch_size, self.units))"
   ]
  },
  {
   "cell_type": "code",
   "execution_count": 37,
   "metadata": {
    "id": "qWOqtIery_e4",
    "trusted": true
   },
   "outputs": [],
   "source": [
    "encoder = CNN_Encoder(embedding_dim)\n",
    "decoder = RNN_Decoder(embedding_dim, units, tokenizer.vocabulary_size())"
   ]
  },
  {
   "cell_type": "code",
   "execution_count": 38,
   "metadata": {
    "id": "78pTeZzDy_w2",
    "trusted": true
   },
   "outputs": [],
   "source": [
    "optimizer = tf.keras.optimizers.Adam()\n",
    "loss_object = tf.keras.losses.SparseCategoricalCrossentropy(from_logits=True,\n",
    "                                                            reduction='none')"
   ]
  },
  {
   "cell_type": "code",
   "execution_count": 39,
   "metadata": {
    "id": "qf03YElAzEft",
    "trusted": true
   },
   "outputs": [],
   "source": [
    "def loss_function(real, pred):\n",
    "    mask = tf.math.logical_not(tf.math.equal(real, 0))\n",
    "    loss_ = loss_object(real, pred)\n",
    "\n",
    "    mask = tf.cast(mask, dtype=loss_.dtype)\n",
    "    loss_ *= mask\n",
    "\n",
    "    return tf.reduce_mean(loss_)"
   ]
  },
  {
   "cell_type": "code",
   "execution_count": 40,
   "metadata": {
    "id": "ADMoKNvwzH6m",
    "trusted": true
   },
   "outputs": [],
   "source": [
    "checkpoint_path = \"/kaggle/working/\"\n",
    "\n",
    "ckpt = tf.train.Checkpoint(encoder=encoder,\n",
    "                           decoder=decoder,\n",
    "                           optimizer=optimizer)\n",
    "\n",
    "ckpt_manager = tf.train.CheckpointManager(ckpt, checkpoint_path, max_to_keep=5)"
   ]
  },
  {
   "cell_type": "code",
   "execution_count": 41,
   "metadata": {
    "id": "Q91F8vVI2G_A",
    "trusted": true
   },
   "outputs": [],
   "source": [
    "start_epoch = 0\n",
    "if ckpt_manager.latest_checkpoint:\n",
    "  start_epoch = int(ckpt_manager.latest_checkpoint.split('-')[-1])\n",
    "  ckpt.restore(ckpt_manager.latest_checkpoint)"
   ]
  },
  {
   "cell_type": "markdown",
   "metadata": {
    "id": "9-E0xlqczk1G"
   },
   "source": [
    "<h2> Обучение"
   ]
  },
  {
   "cell_type": "code",
   "execution_count": 42,
   "metadata": {
    "id": "Nw2u5TpOzh9a",
    "trusted": true
   },
   "outputs": [],
   "source": [
    "loss_plot = []"
   ]
  },
  {
   "cell_type": "code",
   "execution_count": 43,
   "metadata": {
    "id": "DYTFqfyozofV",
    "trusted": true
   },
   "outputs": [],
   "source": [
    "@tf.function\n",
    "def train_step(img_tensor, target):\n",
    "    loss = 0\n",
    "\n",
    "    # initialize the hidden state for each batch\n",
    "    hidden = decoder.reset_state(batch_size=target.shape[0])\n",
    "\n",
    "    dec_input = tf.expand_dims([word_to_index('')] * target.shape[0], 1)\n",
    "\n",
    "    with tf.GradientTape() as tape:\n",
    "        features = encoder(img_tensor)\n",
    "\n",
    "        for i in range(1, target.shape[1]):\n",
    "            # passing the features through the decoder\n",
    "            predictions, hidden, _ = decoder(dec_input, features, hidden)\n",
    "\n",
    "            loss += loss_function(target[:, i], predictions)\n",
    "            dec_input = tf.expand_dims(target[:, i], 1)\n",
    "\n",
    "    total_loss = (loss / int(target.shape[1]))\n",
    "\n",
    "    trainable_variables = encoder.trainable_variables + decoder.trainable_variables\n",
    "\n",
    "    gradients = tape.gradient(loss, trainable_variables)\n",
    "\n",
    "    optimizer.apply_gradients(zip(gradients, trainable_variables))\n",
    "\n",
    "    return loss, total_loss"
   ]
  },
  {
   "cell_type": "markdown",
   "metadata": {
    "id": "BbNfo2BP1pZZ"
   },
   "source": [
    "<h3>5 эпох"
   ]
  },
  {
   "cell_type": "code",
   "execution_count": 44,
   "metadata": {
    "id": "jIQMPOcc2dzj",
    "trusted": true
   },
   "outputs": [],
   "source": [
    "import time"
   ]
  },
  {
   "cell_type": "code",
   "execution_count": 45,
   "metadata": {
    "id": "7ROP8bln0ues",
    "trusted": true
   },
   "outputs": [
    {
     "name": "stdout",
     "output_type": "stream",
     "text": [
      "Epoch 1 Batch 0 Loss 2.1459\n",
      "Epoch 1 Loss 1.258578\n",
      "Time taken for 1 epoch 399.19 sec\n",
      "\n",
      "Epoch 2 Batch 0 Loss 0.8984\n",
      "Epoch 2 Loss 0.859548\n",
      "Time taken for 1 epoch 119.45 sec\n",
      "\n",
      "Epoch 3 Batch 0 Loss 0.7834\n",
      "Epoch 3 Loss 0.766646\n",
      "Time taken for 1 epoch 119.15 sec\n",
      "\n",
      "Epoch 4 Batch 0 Loss 0.6445\n",
      "Epoch 4 Loss 0.715143\n",
      "Time taken for 1 epoch 119.21 sec\n",
      "\n",
      "Epoch 5 Batch 0 Loss 0.6917\n",
      "Epoch 5 Loss 0.676654\n",
      "Time taken for 1 epoch 119.29 sec\n",
      "\n"
     ]
    }
   ],
   "source": [
    "EPOCHS = 5\n",
    "\n",
    "for epoch in range(start_epoch, EPOCHS):\n",
    "    start = time.time()\n",
    "    total_loss = 0\n",
    "\n",
    "    for (batch, (img_tensor, target)) in enumerate(dataset):\n",
    "        batch_loss, t_loss = train_step(img_tensor, target)\n",
    "        total_loss += t_loss\n",
    "\n",
    "        if batch % 100 == 0:\n",
    "            average_batch_loss = batch_loss.numpy() / int(target.shape[1])\n",
    "            print(f'Epoch {epoch+1} Batch {batch} Loss {average_batch_loss:.4f}')\n",
    "\n",
    "    # storing the epoch end loss value to plot later\n",
    "    loss_plot.append(total_loss / num_steps)\n",
    "\n",
    "    if epoch % 5 == 0:\n",
    "      ckpt_manager.save()\n",
    "\n",
    "    print(f'Epoch {epoch+1} Loss {total_loss / num_steps:.6f}')\n",
    "    print(f'Time taken for 1 epoch {time.time() - start:.2f} sec\\n')"
   ]
  },
  {
   "cell_type": "markdown",
   "metadata": {
    "id": "G686O8TaF1O0"
   },
   "source": [
    "Графики после 5 эпох обучения"
   ]
  },
  {
   "cell_type": "code",
   "execution_count": 46,
   "metadata": {
    "id": "x8QlJa5aICmW",
    "trusted": true
   },
   "outputs": [],
   "source": [
    "import matplotlib.pyplot as plt"
   ]
  },
  {
   "cell_type": "code",
   "execution_count": 47,
   "metadata": {
    "id": "dgFoy-VL2rD9",
    "trusted": true
   },
   "outputs": [
    {
     "data": {
      "image/png": "[encoded data removed]",
      "text/plain": [
       "<Figure size 640x480 with 1 Axes>"
      ]
     },
     "metadata": {},
     "output_type": "display_data"
    }
   ],
   "source": [
    "plt.plot(loss_plot)\n",
    "plt.xlabel(\"Epochs\")\n",
    "plt.ylabel(\"Loss\")\n",
    "plt.title(\"Loss Plot\")\n",
    "plt.xticks(range(0, len(loss_plot)))\n",
    "plt.show()"
   ]
  },
  {
   "cell_type": "markdown",
   "metadata": {
    "id": "n0PMVO-NJZKT"
   },
   "source": [
    "<h3> Добавим еще 10 эпох. Итого 15"
   ]
  },
  {
   "cell_type": "code",
   "execution_count": 58,
   "metadata": {
    "id": "HqWQTDr1GtD4",
    "trusted": true
   },
   "outputs": [
    {
     "name": "stdout",
     "output_type": "stream",
     "text": [
      "Epoch 1 Batch 0 Loss 0.5648\n",
      "Epoch 1 Loss 0.646223\n",
      "Time taken for 1 epoch 120.19 sec\n",
      "\n",
      "Epoch 2 Batch 0 Loss 0.5664\n",
      "Epoch 2 Loss 0.618160\n",
      "Time taken for 1 epoch 119.47 sec\n",
      "\n",
      "Epoch 3 Batch 0 Loss 0.6473\n",
      "Epoch 4 Loss 0.572265\n",
      "Time taken for 1 epoch 119.45 sec\n",
      "\n",
      "Epoch 5 Batch 0 Loss 0.5277\n",
      "Epoch 5 Loss 0.552197\n",
      "Time taken for 1 epoch 119.38 sec\n",
      "\n",
      "Epoch 6 Batch 0 Loss 0.5214\n",
      "Epoch 6 Loss 0.530209\n",
      "Time taken for 1 epoch 119.49 sec\n",
      "\n",
      "Epoch 7 Batch 0 Loss 0.6229\n",
      "Epoch 7 Loss 0.509077\n",
      "Time taken for 1 epoch 119.46 sec\n",
      "\n",
      "Epoch 8 Batch 0 Loss 0.4751\n",
      "Epoch 8 Loss 0.485602\n",
      "Time taken for 1 epoch 119.46 sec\n",
      "\n",
      "Epoch 9 Batch 0 Loss 0.5123\n",
      "Epoch 9 Loss 0.463107\n",
      "Time taken for 1 epoch 119.40 sec\n",
      "\n",
      "Epoch 10 Batch 0 Loss 0.5077\n",
      "Epoch 10 Loss 0.439382\n",
      "Time taken for 1 epoch 119.41 sec\n",
      "\n"
     ]
    }
   ],
   "source": [
    "EPOCHS = 10\n",
    "\n",
    "for epoch in range(start_epoch, EPOCHS):\n",
    "    start = time.time()\n",
    "    total_loss = 0\n",
    "\n",
    "    for (batch, (img_tensor, target)) in enumerate(dataset):\n",
    "        batch_loss, t_loss = train_step(img_tensor, target)\n",
    "        total_loss += t_loss\n",
    "\n",
    "        if batch % 100 == 0:\n",
    "            average_batch_loss = batch_loss.numpy() / int(target.shape[1])\n",
    "            print(f'Epoch {epoch+1} Batch {batch} Loss {average_batch_loss:.4f}')\n",
    "    # storing the epoch end loss value to plot later\n",
    "    loss_plot.append(total_loss / num_steps)\n",
    "\n",
    "    if epoch % 5 == 0:\n",
    "      ckpt_manager.save()\n",
    "\n",
    "    print(f'Epoch {epoch+1} Loss {total_loss / num_steps:.6f}')\n",
    "    print(f'Time taken for 1 epoch {time.time() - start:.2f} sec\\n')"
   ]
  },
  {
   "cell_type": "markdown",
   "metadata": {
    "id": "J_ZI-nTJMjyl"
   },
   "source": [
    "Графики после 15 эпох обучения"
   ]
  },
  {
   "cell_type": "code",
   "execution_count": 59,
   "metadata": {
    "id": "CFMPao-BJjcq",
    "trusted": true
   },
   "outputs": [
    {
     "data": {
      "image/png": "[encoded data removed]",
      "text/plain": [
       "<Figure size 640x480 with 1 Axes>"
      ]
     },
     "metadata": {},
     "output_type": "display_data"
    }
   ],
   "source": [
    "plt.plot(loss_plot)\n",
    "plt.xlabel(\"Epochs\")\n",
    "plt.ylabel(\"Loss\")\n",
    "plt.title(\"Loss Plot\")\n",
    "plt.xticks(range(0, len(loss_plot)))\n",
    "plt.show()"
   ]
  },
  {
   "cell_type": "code",
   "execution_count": 61,
   "metadata": {
    "id": "2qy4yY9zKP9U",
    "trusted": true
   },
   "outputs": [
    {
     "name": "stdout",
     "output_type": "stream",
     "text": [
      "Epoch 1 Batch 0 Loss 0.3774\n",
      "Epoch 1 Loss 0.416109\n",
      "Time taken for 1 epoch 120.02 sec\n",
      "\n",
      "Epoch 2 Batch 0 Loss 0.3707\n",
      "Epoch 2 Loss 0.391488\n",
      "Time taken for 1 epoch 119.27 sec\n",
      "\n",
      "Epoch 3 Batch 0 Loss 0.3004\n",
      "Epoch 3 Loss 0.365186\n",
      "Time taken for 1 epoch 119.51 sec\n",
      "\n",
      "Epoch 4 Batch 0 Loss 0.3305\n",
      "Epoch 4 Loss 0.339577\n",
      "Time taken for 1 epoch 119.50 sec\n",
      "\n",
      "Epoch 5 Batch 0 Loss 0.2947\n",
      "Epoch 5 Loss 0.314695\n",
      "Time taken for 1 epoch 119.41 sec\n",
      "\n"
     ]
    }
   ],
   "source": [
    "EPOCHS = 5\n",
    "\n",
    "for epoch in range(start_epoch, EPOCHS):\n",
    "    start = time.time()\n",
    "    total_loss = 0\n",
    "\n",
    "    for (batch, (img_tensor, target)) in enumerate(dataset):\n",
    "        batch_loss, t_loss = train_step(img_tensor, target)\n",
    "        total_loss += t_loss\n",
    "\n",
    "        if batch % 100 == 0:\n",
    "            average_batch_loss = batch_loss.numpy() / int(target.shape[1])\n",
    "            print(f'Epoch {epoch+1} Batch {batch} Loss {average_batch_loss:.4f}')\n",
    "\n",
    "    # storing the epoch end loss value to plot later\n",
    "    loss_plot.append(total_loss / num_steps)\n",
    "\n",
    "    if epoch % 5 == 0:\n",
    "      ckpt_manager.save()\n",
    "\n",
    "    print(f'Epoch {epoch+1} Loss {total_loss / num_steps:.6f}')\n",
    "    print(f'Time taken for 1 epoch {time.time() - start:.2f} sec\\n')"
   ]
  },
  {
   "cell_type": "code",
   "execution_count": 62,
   "metadata": {
    "id": "lRfjsz14Mi5-",
    "trusted": true
   },
   "outputs": [
    {
     "data": {
      "image/png": "[encoded data removed]",
      "text/plain": [
       "<Figure size 640x480 with 1 Axes>"
      ]
     },
     "metadata": {},
     "output_type": "display_data"
    }
   ],
   "source": [
    "plt.plot(loss_plot)\n",
    "plt.xlabel(\"Epochs\")\n",
    "plt.ylabel(\"Loss\")\n",
    "plt.title(\"Loss Plot\")\n",
    "plt.xticks(range(0, len(loss_plot)))\n",
    "plt.show()"
   ]
  },
  {
   "cell_type": "markdown",
   "metadata": {
    "id": "XuPnfFr0S4Bo"
   },
   "source": [
    "<h2> Подпись"
   ]
  },
  {
   "cell_type": "code",
   "execution_count": 48,
   "metadata": {
    "id": "UM1hKiZSRvdQ",
    "trusted": true
   },
   "outputs": [],
   "source": [
    "def evaluate(image):\n",
    "    attention_plot = np.zeros((max_length, attention_features_shape))\n",
    "\n",
    "    hidden = decoder.reset_state(batch_size=1)\n",
    "\n",
    "    temp_input = tf.expand_dims(load_image(image)[0], 0)\n",
    "    img_tensor_val = image_features_extract_model(temp_input)\n",
    "    img_tensor_val = tf.reshape(img_tensor_val, (img_tensor_val.shape[0],\n",
    "                                                 -1,\n",
    "                                                 img_tensor_val.shape[3]))\n",
    "\n",
    "    features = encoder(img_tensor_val)\n",
    "\n",
    "    dec_input = tf.expand_dims([word_to_index('')], 0)\n",
    "    result = []\n",
    "\n",
    "    for i in range(max_length):\n",
    "        predictions, hidden, attention_weights = decoder(dec_input,\n",
    "                                                         features,\n",
    "                                                         hidden)\n",
    "\n",
    "        attention_plot[i] = tf.reshape(attention_weights, (-1, )).numpy()\n",
    "\n",
    "        predicted_id = tf.random.categorical(predictions, 1)[0][0].numpy()\n",
    "        predicted_word = tf.compat.as_text(index_to_word(predicted_id).numpy())\n",
    "        result.append(predicted_word)\n",
    "\n",
    "        if predicted_word == '':\n",
    "            return result, attention_plot\n",
    "\n",
    "        dec_input = tf.expand_dims([predicted_id], 0)\n",
    "\n",
    "    attention_plot = attention_plot[:len(result), :]\n",
    "    return result, attention_plot"
   ]
  },
  {
   "cell_type": "code",
   "execution_count": 49,
   "metadata": {
    "id": "Xq2a633MTCRX",
    "trusted": true
   },
   "outputs": [],
   "source": [
    "def plot_attention(image, result, attention_plot):\n",
    "    temp_image = np.array(Image.open(image))\n",
    "\n",
    "    fig = plt.figure(figsize=(200, 200))\n",
    "\n",
    "    len_result = len(result)\n",
    "    for i in range(len_result):\n",
    "        temp_att = np.resize(attention_plot[i], (80, 80))\n",
    "        grid_size = max(int(np.ceil(len_result/2)), 1)\n",
    "        ax = fig.add_subplot(grid_size, grid_size, i+1)\n",
    "        ax.set_title(result[i])\n",
    "        img = ax.imshow(temp_image)\n",
    "        ax.imshow(temp_att, cmap='gray', alpha=0.6, extent=img.get_extent())\n",
    "\n",
    "    # plt.tight_layout()\n",
    "    plt.show()"
   ]
  },
  {
   "cell_type": "code",
   "execution_count": 53,
   "metadata": {
    "id": "POJBkgt2UXBT",
    "trusted": true
   },
   "outputs": [
    {
     "name": "stdout",
     "output_type": "stream",
     "text": [
      "\u001b[2K   \u001b[90m━━━━━━━━━━━━━━━━━━━━━━━━━━━━━━━━━━━━━━━━\u001b[0m \u001b[32m104.3/104.3 MB\u001b[0m \u001b[31m16.5 MB/s\u001b[0m eta \u001b[36m0:00:00\u001b[0m:00:01\u001b[0m0:01\u001b[0m\n",
      "\u001b[?25h"
     ]
    }
   ],
   "source": [
    "!pip install rouge-score bert-score pycocoevalcap -q"
   ]
  },
  {
   "cell_type": "code",
   "execution_count": 51,
   "metadata": {
    "id": "E_gM0ljMzA-Q",
    "trusted": true
   },
   "outputs": [
    {
     "name": "stderr",
     "output_type": "stream",
     "text": [
      "[nltk_data] Downloading package wordnet to /usr/share/nltk_data...\n",
      "[nltk_data]   Package wordnet is already up-to-date!\n"
     ]
    },
    {
     "data": {
      "text/plain": [
       "True"
      ]
     },
     "execution_count": 51,
     "metadata": {},
     "output_type": "execute_result"
    }
   ],
   "source": [
    "import nltk\n",
    "nltk.download('wordnet')"
   ]
  },
  {
   "cell_type": "code",
   "execution_count": 54,
   "metadata": {
    "id": "lH-RuS1wTD_1",
    "trusted": true
   },
   "outputs": [],
   "source": [
    "from nltk.translate.bleu_score import sentence_bleu, SmoothingFunction\n",
    "from rouge_score import rouge_scorer\n",
    "from bert_score import score as bert_score_fn\n",
    "from nltk.translate.meteor_score import meteor_score\n",
    "from nltk.translate.meteor_score import single_meteor_score\n",
    "from pycocoevalcap.cider.cider import Cider\n",
    "from pycocoevalcap.spice.spice import Spice\n",
    "\n",
    "chencherry = SmoothingFunction()"
   ]
  },
  {
   "cell_type": "code",
   "execution_count": 66,
   "metadata": {
    "execution": {
     "iopub.execute_input": "2025-06-17T18:03:00.926782Z",
     "iopub.status.busy": "2025-06-17T18:03:00.926070Z",
     "iopub.status.idle": "2025-06-17T18:03:04.386607Z",
     "shell.execute_reply": "2025-06-17T18:03:04.385870Z",
     "shell.execute_reply.started": "2025-06-17T18:03:00.926756Z"
    },
    "id": "WEN6Hc5cTY3A",
    "trusted": true
   },
   "outputs": [
    {
     "name": "stdout",
     "output_type": "stream",
     "text": [
      "rid 1104\n",
      "BLEU-1: 0.0068\n",
      "BLEU-2: 0.0048\n",
      "BLEU-3: 0.0034\n",
      "BLEU-4: 0.0024\n",
      "ROUGE-1 score: 0.6875\n",
      "ROUGE-2 score: 0.3333333333333333\n",
      "ROUGE-L score: 0.5\n",
      "METEOR score: 0.289779265613558\n",
      "\n",
      "CIDEr score: 0.0000\n",
      "Real report:  cardiac and mediastinal contours are within normal limits the lungs are clear bony structures are intact\n",
      "Predicted report:  both lungs are clear and epanded heart and mediastinum normal or masses there is atelectasis versus scar unchanged no focal consolidation pleural effusion or pneumothora or cavitary markings no focal air space consolidation no pneumothora or large pleural effusions heart and mediastinum are normal the lungs are clear bilaterally specifically no pneumonia effusions edema pneumothora adenopathy nodules or masses or masses or outside is normal the lungs are clear bilaterally specifically no pneumothora and soft tissues are normal pulmonary vasculature and pulmonary vasculature are normal the mediastinal contour and pulmonary vasculature are within\n"
     ]
    },
    {
     "data": {
      "image/png": "[encoded data removed]",
      "text/plain": [
       "<Figure size 640x480 with 1 Axes>"
      ]
     },
     "metadata": {},
     "output_type": "display_data"
    }
   ],
   "source": [
    "# rid = np.random.randint(0, len(img_name_val))\n",
    "rid = 1104\n",
    "print('rid', rid)\n",
    "\n",
    "image = img_name_val[rid]\n",
    "img = plt.imread(image)\n",
    "\n",
    "plt.figure()\n",
    "plt.imshow(img, cmap = \"gray\")\n",
    "plt.axis(False)\n",
    "\n",
    "real_caption = [tf.compat.as_text(index_to_word(i).numpy())\n",
    "                         for i in cap_val[rid] if i not in [0]]\n",
    "\n",
    "result, attention_plot = evaluate(image)\n",
    "rem = ['startseq', 'start', 'end', 'endseq']\n",
    "\n",
    "real_caption  = [x for x in real_caption if x not in rem]\n",
    "result = [x for x in result if x not in rem]\n",
    "\n",
    "weights = [(1, 0, 0, 0),   # BLEU-1\n",
    "           (0.5, 0.5, 0, 0), # BLEU-2\n",
    "           (0.33, 0.33, 0.33, 0), # BLEU-3\n",
    "           (0.25, 0.25, 0.25, 0.25)] # BLEU-4\n",
    "\n",
    "bleu_scores = []\n",
    "for i, weight in enumerate(weights, start=1):\n",
    "    score = sentence_bleu([result], real_caption, weights=weight, smoothing_function=SmoothingFunction().method5)\n",
    "    print(f\"BLEU-{i}: {score:.4f}\")\n",
    "\n",
    "scorer = rouge_scorer.RougeScorer(['rouge1', 'rouge2', 'rougeL'], use_stemmer=True)\n",
    "rouge_scores = scorer.score(' '.join(result), ' '.join(real_caption))\n",
    "print(\"ROUGE-1 score:\", rouge_scores['rouge1'].precision)\n",
    "print(\"ROUGE-2 score:\", rouge_scores['rouge2'].precision)\n",
    "print(\"ROUGE-L score:\", rouge_scores['rougeL'].precision)\n",
    "\n",
    "meteor_score = single_meteor_score(real_caption, result)\n",
    "print('METEOR score:', meteor_score)\n",
    "\n",
    "cand_str = \" \".join(result)\n",
    "ref_str  = \" \".join(real_caption)\n",
    "# P, R, F1 = bert_score_fn([cand_str], [ref_str],\n",
    "#                          lang=\"en\", idf=True, verbose=False)\n",
    "# print(f\"\\nBERTScore: {P.mean().item():.4f}  R: {R.mean().item():.4f}  F1: {F1.mean().item():.4f}\")\n",
    "\n",
    "refs  = {0: [ref_str]}\n",
    "cands = {0: [cand_str]}\n",
    "\n",
    "cider_scorer = Cider()\n",
    "cider_score, _     = cider_scorer.compute_score(refs, cands)\n",
    "print(f\"\\nCIDEr score: {cider_score:.4f}\")\n",
    "\n",
    "# spice_scorer = Spice()\n",
    "# spice_score, _     = spice_scorer.compute_score(refs, cands)\n",
    "# print(f\"SPICE score: {spice_score:.4f}\")\n",
    "\n",
    "print('Real report: ', ' '.join([i for i in real_caption]))\n",
    "print('Predicted report: ', ' '.join(result))"
   ]
  },
  {
   "cell_type": "code",
   "execution_count": null,
   "metadata": {
    "colab": {
     "base_uri": "https://localhost:8080/",
     "height": 70
    },
    "id": "6MM3iuRu11v3",
    "outputId": "b3ccc11e-1a8f-4fa9-acfe-d0c2d81053f6"
   },
   "outputs": [
    {
     "data": {
      "application/vnd.google.colaboratory.intrinsic+json": {
       "type": "string"
      },
      "text/plain": [
       "'the heart is normal in size atherosclerotic calcifications of the aorta the mediastinum is stable there is again soft tissue density projected over the right mid chest patients known large breast mass the appearance is grossly stable to decreased from prior study the lateral projection is suboptimal as patient could not raise there is no pleural effusion'"
      ]
     },
     "execution_count": 89,
     "metadata": {},
     "output_type": "execute_result"
    }
   ],
   "source": [
    "df[df[\"findings\"].str.startswith(\"the heart is normal in size atherosclerotic calcifications\")]['findings'].iloc[0]"
   ]
  },
  {
   "cell_type": "markdown",
   "metadata": {
    "id": "cyjeOarRb8K2"
   },
   "source": [
    "The heart is normal in size. Atherosclerotic calcifications of the aorta. The mediastinum is stable. There is again soft tissue density projected over the right mid chest, XXXX patient's known large breast mass. The appearance is grossly stable to decreased from prior study. The lateral projection is suboptimal as patient could not raise XXXX. There is no pleural effusion."
   ]
  },
  {
   "cell_type": "markdown",
   "metadata": {
    "id": "n2-DaHHPXrWT"
   },
   "source": [
    "<h2>Расчет качества модели"
   ]
  },
  {
   "cell_type": "code",
   "execution_count": null,
   "metadata": {
    "colab": {
     "base_uri": "https://localhost:8080/"
    },
    "id": "DSMjVmWdTa9Q",
    "outputId": "453b0a29-8400-4fc5-f04d-f492fd012523"
   },
   "outputs": [
    {
     "name": "stdout",
     "output_type": "stream",
     "text": [
      "Real report:  indications male with chest pain findings low lung volumes with bronchovascular crowding sequela of prior granulomatous disease otherwise lungs clear heart size normal stable severe l deformity impressions low lung volumes with bronchovascular crowding no acute cardiopulmonary finding\n",
      "Predicted report:  indications male with findings heart size within normal limits surgical clips are low with sulci heart size and pulmonary consolidation pneumothora or pleural effusion there are no focal consolidation no focal consolidation pneumothora or large pleural effusion no abnormal opacity the cardiomediastinal silhouette is within normal limits there is no gross consolidation or large pleural effusion left lower lobe airspace consolidation given differences in the left base atelectasis or focal airspace disease prominent interstitial opacities cardiomediastinal silhouette persistent low lung volumes with bronchovascular crowding patchy bibasilar atelectasis no acute infectioustuberculous process stable configuration the lungs are normally\n",
      "Bleu score:  0.16200470343914514\n",
      "ROUGE-1 score: 0.5263157894736842\n",
      "ROUGE-L score: 0.4473684210526316\n",
      "****************************************************************************************************\n"
     ]
    },
    {
     "name": "stderr",
     "output_type": "stream",
     "text": [
      "<ipython-input-92-1f0604ee8117>:43: FutureWarning: The frame.append method is deprecated and will be removed from pandas in a future version. Use pandas.concat instead.\n",
      "  dat = dat.append({'image': image,\n"
     ]
    },
    {
     "name": "stdout",
     "output_type": "stream",
     "text": [
      "Real report:  indications findings the eamination consists of frontal and lateral radiographs of the chest the cardiomediastinal contours lungs pleura osseous structures and visualized upper abdomen are normal impressions unremarkable radiographs of the chest\n",
      "Predicted report:  indications with asthma and vomiting findings there are no focal areas of acute process stable aorta no focal consolidation pneumothora or pleural effusion the pleural spaces are clear there is no pneumothora or pleural effusion there is a right hilar lymph and eventration question small effusion seen no acute pulmonary disease impressions no acute process mild cardiomegaly calcified granulomas are normal impressions no significant degenerative changes of the thoracolumbar spine fusion cholecystectomy clips mild loss of right rib fractures are present incompletely evaluated impressions no evidence of\n",
      "Bleu score:  0.11036945593004616\n",
      "ROUGE-1 score: 0.375\n",
      "ROUGE-L score: 0.3125\n",
      "****************************************************************************************************\n"
     ]
    },
    {
     "name": "stderr",
     "output_type": "stream",
     "text": [
      "<ipython-input-92-1f0604ee8117>:43: FutureWarning: The frame.append method is deprecated and will be removed from pandas in a future version. Use pandas.concat instead.\n",
      "  dat = dat.append({'image': image,\n"
     ]
    },
    {
     "name": "stdout",
     "output_type": "stream",
     "text": [
      "Real report:  indications female findings cardiomediastinal silhouettes are within normal limits there are right upper lobe lung nodules the largest measuring approimately mm lungs are without focal consolidation pneumothora or pleural effusion bony thora is unremarkable impressions right upper lobe lung nodules recommend\n",
      "Predicted report:  indications cp sob findings cardiomediastinal silhouette is within normal limits no focal consolidation pneumothora or pleural effusions identified no focal consolidation suspicious pulmonary and lateral view reveals atelectasis in the lower lung base otherwise no focal pulmonary nodules or masses impressions no acute cardiopulmonary abnormalities or focal airspace disease atelectasis no infiltrates heart and lateral chest eamination was obtained the heart silhouette is within normal limits impressions no active disease left ape partially present small calcified aorta stable mediastinal contour are within normal limits for appearance pulmonary consolidation no effusion or\n",
      "Bleu score:  0.20460067698272777\n",
      "ROUGE-1 score: 0.4634146341463415\n",
      "ROUGE-L score: 0.36585365853658536\n",
      "****************************************************************************************************\n"
     ]
    },
    {
     "name": "stderr",
     "output_type": "stream",
     "text": [
      "<ipython-input-92-1f0604ee8117>:43: FutureWarning: The frame.append method is deprecated and will be removed from pandas in a future version. Use pandas.concat instead.\n",
      "  dat = dat.append({'image': image,\n"
     ]
    },
    {
     "name": "stdout",
     "output_type": "stream",
     "text": [
      "Real report:  indications female with dyspnea findings cardiac silhouette is normal in size normal mediastinal contour and pulmonary vasculature the lungs are without focal airspace consolidation large pleural effusion or pneumothoraces impressions no acute cardiopulmonary findings\n",
      "Predicted report:  indications chest pain findings normal heart size left lung consolidation hyperepanded lungs impressions no acute cardiopulmonary abnormality impressions no acute radiographic cardiopulmonary right mid basilar calcified granulomas no acute bony abnormality impressions no acute cardiopulmonary abnormality impressions no acute osseous abnormality identified unremarkable impressions no radiographic evidence of active cardiopulmonary disease impressions no acute cardiopulmonary abnormality impressions no acute osseous abnormalities are normal are normal no focal consolidation pneumothora or large pleural effusion\n",
      "Bleu score:  0.22775180975865483\n",
      "ROUGE-1 score: 0.5\n",
      "ROUGE-L score: 0.3235294117647059\n",
      "****************************************************************************************************\n"
     ]
    },
    {
     "name": "stderr",
     "output_type": "stream",
     "text": [
      "<ipython-input-92-1f0604ee8117>:43: FutureWarning: The frame.append method is deprecated and will be removed from pandas in a future version. Use pandas.concat instead.\n",
      "  dat = dat.append({'image': image,\n"
     ]
    },
    {
     "name": "stdout",
     "output_type": "stream",
     "text": [
      "Real report:  indications chest pain findings low lung volumes normal heart size no pneumothora no large effusion no focal infiltrate impressions low lung volumes no acute cardiopulmonary disease\n",
      "Predicted report:  indications findings pa and lateral views of the lungs with flattening of the cardiac silhouette given overlapping silhouettes are normal the aortic are normal impressions no acute or lung apices the heart size and mediastinal contours the lungs are clear no pleural effusion the heart and clear the mediastinum is stable is stable with ectasia of the right th rib fractures may be helpful for further evaluation with mild to an unchanged cardiomegaly stable mediastinal contours are normal the lungs are clear there is again engorged no active infiltrate or consolidation heart size is within\n",
      "Bleu score:  0.04879679967025778\n",
      "ROUGE-1 score: 0.5384615384615384\n",
      "ROUGE-L score: 0.38461538461538464\n",
      "****************************************************************************************************\n"
     ]
    },
    {
     "name": "stderr",
     "output_type": "stream",
     "text": [
      "<ipython-input-92-1f0604ee8117>:43: FutureWarning: The frame.append method is deprecated and will be removed from pandas in a future version. Use pandas.concat instead.\n",
      "  dat = dat.append({'image': image,\n"
     ]
    },
    {
     "name": "stdout",
     "output_type": "stream",
     "text": [
      "Real report:  indications nan findings the lungs are clear heart size is normal no pneumothora impressions clear lungs no acute cardiopulmonary abnormality\n",
      "Predicted report:  indications findings the heart size and mediastinal contours lungs are clear bilateral breast and left pleural thickening and the left hemidiaphragm of chronic changes and the cheek shortness of breath findings the heart is within normal limits impressions no acute cardiopulmonary disease impressions stable cardiomegaly with stable mild pulmonary vascular structures no acute pulmonary disease there is mild aortic atherosclerotic vascular calcification of the right hemidiaphragm stable cardiomediastinal silhouette has normal size within normal limits for patient history of pneumonia findings the cardiomediastinal silhouette and\n",
      "Bleu score:  0.03639333542100224\n",
      "ROUGE-1 score: 0.75\n",
      "ROUGE-L score: 0.65\n",
      "****************************************************************************************************\n"
     ]
    },
    {
     "name": "stderr",
     "output_type": "stream",
     "text": [
      "<ipython-input-92-1f0604ee8117>:43: FutureWarning: The frame.append method is deprecated and will be removed from pandas in a future version. Use pandas.concat instead.\n",
      "  dat = dat.append({'image': image,\n"
     ]
    },
    {
     "name": "stdout",
     "output_type": "stream",
     "text": [
      "Real report:  indications wheezing findings there is opacity left lung base may represent atelectasis or early infiltrate the cardiomediastinal silhouette is within normal limits no pneumothora or pleural effusion impressions opacity left lung base\n",
      "Predicted report:  indications female chest pain findings low no pleural effusion or pneumothora eaggerated thoracic spondylosis impressions no acute cardiopulmonary findings impressions postoperative left lower lobe calcifications projecting over the left midlung scattered calcified right hilar lymph node or atelectasis impressions no acute osseous abnormality prominent interstitium is normal no focal consolidation no pneumothora or pleural effusion sternotomy noted the lungs are hyperepanded these contour atherosclerotic and soft tissues grossly unremarkable impressions no acute cardiopulmonary abnormalities moderate degenerative changes of the spine impressions no acute\n",
      "Bleu score:  0.13994716452978495\n",
      "ROUGE-1 score: 0.5\n",
      "ROUGE-L score: 0.375\n",
      "****************************************************************************************************\n"
     ]
    },
    {
     "name": "stderr",
     "output_type": "stream",
     "text": [
      "<ipython-input-92-1f0604ee8117>:43: FutureWarning: The frame.append method is deprecated and will be removed from pandas in a future version. Use pandas.concat instead.\n",
      "  dat = dat.append({'image': image,\n"
     ]
    },
    {
     "name": "stdout",
     "output_type": "stream",
     "text": [
      "Real report:  indications female with shortness of breath history of copd findings pa and moderate loss of the chest demonstrate stable moderate cardiomediastinal silhouette with atherosclerotic calcifications of the aortic and mild aortic ectasia emphysematous changes with flattening of the hemidiaphragms blunting of the costophrenic and secondary to scarringemphysematous changes no evidence of focal airspace consolidation large pleural effusion or pneumothora visualized osseous structures appear intact impressions emphysematous changes without evidence of focal airspace disease or pulmonary edema\n",
      "Predicted report:  indications suspected right midlung with left emphysematous and midback pain findings heart enlargementprominence of focal infiltrate pneumothora or large pleural effusion bony thora is identified there are subpleural change impressions no focal airspace consolidation atelectasis impressions suspected pneumothora impressions no interval change with mild subsegmental atelectasis impressions small bilateral pleural effusions with mild interstitial edema versus infiltrate there has been interval increased density as to be a recent pneumonia findings cardiomediastinal silhouette is normal in size the left lower lobe airspace opacities with\n",
      "Bleu score:  0.5363253770371467\n",
      "ROUGE-1 score: 0.3684210526315789\n",
      "ROUGE-L score: 0.17105263157894737\n",
      "****************************************************************************************************\n"
     ]
    },
    {
     "name": "stderr",
     "output_type": "stream",
     "text": [
      "<ipython-input-92-1f0604ee8117>:43: FutureWarning: The frame.append method is deprecated and will be removed from pandas in a future version. Use pandas.concat instead.\n",
      "  dat = dat.append({'image': image,\n"
     ]
    },
    {
     "name": "stdout",
     "output_type": "stream",
     "text": [
      "Real report:  indications preop knee surgery findings cardiac and mediastinal contours are within normal limits the lungs are clear bony structures are intact impressions no acute preoperative findings\n",
      "Predicted report:  indications female with findings the heart pulmonary and mediastinal contours no pneumothora or large pleural effusion bony structures the thoracic aorta is calcified mediastinal lymph impressions no lobar consolidation the cardiomediastinal silhouette is normal in size the mediastinum is unremarkable pulmonary vasculature and pulmonary vascularity within normal limits a calcified granulomas no acute bony findings impressions right lower lobe impressions no acute cardiopulmonary disease impressions no acute cardiopulmonary abnormality impressions no acute cardiopulmonary abnormality lungs\n",
      "Bleu score:  0.1271181257698274\n",
      "ROUGE-1 score: 0.6153846153846154\n",
      "ROUGE-L score: 0.46153846153846156\n",
      "****************************************************************************************************\n"
     ]
    },
    {
     "name": "stderr",
     "output_type": "stream",
     "text": [
      "<ipython-input-92-1f0604ee8117>:43: FutureWarning: The frame.append method is deprecated and will be removed from pandas in a future version. Use pandas.concat instead.\n",
      "  dat = dat.append({'image': image,\n"
     ]
    },
    {
     "name": "stdout",
     "output_type": "stream",
     "text": [
      "Real report:  indications female with history of dyspnea on eertion findings the heart size is normal the mediastinal contour is within normal limits the lungs are free of any focal infiltrates there are no nodules or masses no visible pneumothora no visible pleural fluid the are grossly normal there is no visible free intraperitoneal air under the diaphragm surgical clips are seen the right upper quadrant impressions no acute radiographic cardiopulmonary process\n",
      "Predicted report:  indications female with shortness of breath days questionable nodule granuloma are normal impressions normal chest or focal airspace disease normal heart size clear lungs no pneumothora or large pleural effusion bony structures appear intact impressions normal chest eam impressions no acute findings impressions no evidence of active disease impressions no active disease impressions no acute cardiopulmonary process impressions negative for adenopathy heart size normal no airspace disease no effusion or pneumothora mild degenerative disc disease\n",
      "Bleu score:  0.5678904656331368\n",
      "ROUGE-1 score: 0.38571428571428573\n",
      "ROUGE-L score: 0.24285714285714285\n",
      "****************************************************************************************************\n"
     ]
    },
    {
     "name": "stderr",
     "output_type": "stream",
     "text": [
      "<ipython-input-92-1f0604ee8117>:43: FutureWarning: The frame.append method is deprecated and will be removed from pandas in a future version. Use pandas.concat instead.\n",
      "  dat = dat.append({'image': image,\n"
     ]
    },
    {
     "name": "stdout",
     "output_type": "stream",
     "text": [
      "Real report:  indications male pain findings stable cardiomediastinal silhouette with normal heart size mediastinal calcifications suggest a previous granulomatous process apical irregularities also present on the previous eam suggestive of scarring no focal alveolar consolidation no definite pleural effusion seen no typical findings of pulmonary edema no pneumothora impressions no acute findings\n",
      "Predicted report:  indications with a ladder the left lower lobe and left upper lobe fibrotic changes of the thoracic spine impressions no active pulmonary disease posttraumatic degenerative changes in the spine impressions no acute cardiopulmonary abnormality of renal collecting systems contrast further both lungs are mildly enlarged mediastinum is normal the lungs are clear without evidence of copd impressions no acute cardiopulmonary abnormality lungs are mildly enlarged heart size impressions no acute cardiopulmonary abnormality impressions stable bilateral costophrenic sulci cardiac silhouette the lungs\n",
      "Bleu score:  0.31939993546437545\n",
      "ROUGE-1 score: 0.36\n",
      "ROUGE-L score: 0.24\n",
      "****************************************************************************************************\n"
     ]
    },
    {
     "name": "stderr",
     "output_type": "stream",
     "text": [
      "<ipython-input-92-1f0604ee8117>:43: FutureWarning: The frame.append method is deprecated and will be removed from pandas in a future version. Use pandas.concat instead.\n",
      "  dat = dat.append({'image': image,\n"
     ]
    },
    {
     "name": "stdout",
     "output_type": "stream",
     "text": [
      "Real report:  indications female with history of aortic stenosis pulmonic stenosis icd codes findings sternotomy appear intact there is no pleural effusion or pneumothora the cardiomediastinal silhouette is within normal limits the pulmonary vasculature is within normal limits there is no focal lung opacity clips overlie the right upper quadrant impressions no acute cardiopulmonary findings\n",
      "Predicted report:  indications female mvc findings mediastinal contours are within normal limits no focal airspace consolidation pleural effusion or pneumothora heart size and mediastinal contours are normal pulmonary vasculature and pulmonary are unremarkable impressions no acute cardiopulmonary abnormalities impressions no acute cardiopulmonary disease impressions no acute cardiopulmonary finding identified however no bony abnormality the heart size and mediastinal contours no focal airspace consolidation there are no nodules or masses impressions no acute cardiopulmonary abnormalities mm pulmonary are clear lungs no pleural\n",
      "Bleu score:  0.42062757917980825\n",
      "ROUGE-1 score: 0.4528301886792453\n",
      "ROUGE-L score: 0.32075471698113206\n",
      "****************************************************************************************************\n"
     ]
    },
    {
     "name": "stderr",
     "output_type": "stream",
     "text": [
      "<ipython-input-92-1f0604ee8117>:43: FutureWarning: The frame.append method is deprecated and will be removed from pandas in a future version. Use pandas.concat instead.\n",
      "  dat = dat.append({'image': image,\n"
     ]
    },
    {
     "name": "stdout",
     "output_type": "stream",
     "text": [
      "Real report:  indications the patient is a male with hiccups and findings the trachea is midline the cardiomediastinal silhouette is normal the lungs are clear without evidence of focal consolidations or pleural effusion there is no pneumothora the visualized bony structures reveal no acute abnormalities impressions no acute cardiopulmonary findings\n",
      "Predicted report:  indications kidney transplant findings heart size within normal limits no pulmonary edema mild contours are normal no pneumothora heart size within normal limits mild bilateral pleural effusion seen no typical findings of pulmonary edema no evidence of acute process stable left midlung granuloma heart size no evidence of pleural effusion seen no typical mediastinal and pulmonary edema prior granulomatous process no typical findings of pulmonary edema no pleural effusions impressions stable appearance impressions no evidence of acute cardiopulmonary abnormality or adenopathy noted not seen no convincing acute\n",
      "Bleu score:  0.2807514748473972\n",
      "ROUGE-1 score: 0.4166666666666667\n",
      "ROUGE-L score: 0.2916666666666667\n",
      "****************************************************************************************************\n"
     ]
    },
    {
     "name": "stderr",
     "output_type": "stream",
     "text": [
      "<ipython-input-92-1f0604ee8117>:43: FutureWarning: The frame.append method is deprecated and will be removed from pandas in a future version. Use pandas.concat instead.\n",
      "  dat = dat.append({'image': image,\n"
     ]
    },
    {
     "name": "stdout",
     "output_type": "stream",
     "text": [
      "Real report:  indications the patient is a male with lung transplant findings right lower lobe infiltrate the trachea is midline negative for pneumothora pleural effusion the heart size is normal there has been interval placement of a left chest with its distal tip in the left sided svc impressions right lower lobe infiltrate suggestive of pneumonia\n",
      "Predicted report:  indications with rt scapular area and atelectasis or atelectasis no pleural effusion or pneumothora is seen there are only minimal early interstitial thickening and increased lung markings are seen is seen impressions decreased right with scarring lungs are free of infiltrate mass or chronic lung calcified granuloma no pleural effusion or pneumothora impressions no evidence of active disease the mediastinum is stable there is fracture or atelectasis with the heart size is within normal limits the vascularity is within normal limits there is stable atherosclerotic size and vasculature are within normal limits the lungs are\n",
      "Bleu score:  0.3006708094179601\n",
      "ROUGE-1 score: 0.42592592592592593\n",
      "ROUGE-L score: 0.25925925925925924\n",
      "****************************************************************************************************\n"
     ]
    },
    {
     "name": "stderr",
     "output_type": "stream",
     "text": [
      "<ipython-input-92-1f0604ee8117>:43: FutureWarning: The frame.append method is deprecated and will be removed from pandas in a future version. Use pandas.concat instead.\n",
      "  dat = dat.append({'image': image,\n"
     ]
    },
    {
     "name": "stdout",
     "output_type": "stream",
     "text": [
      "Real report:  indications woman with chest pain and shortness of breath findings the lungs are clear bilaterally specifically no evidence of focal consolidation pneumothora or pleural effusion cardiomediastinal silhouette is unremarkable visualized osseous structures of the thora are without acute abnormality impressions no acute cardiopulmonary abnormality\n",
      "Predicted report:  indications with findings the cardiac contours are normal the lungs are wellinflated and mediastinum normal impressions no active disease or due to overlapping structures are unremarkable impressions no evidence of infiltrate there is evidence of infiltrate there is no effusion or pneumothora identified the bony thora is midline the moderate degenerative changes of the thora are without acute abnormality impressions no active disease or cortical this is stable from the chest were obtained the heart and pulmonary are normal impressions no acute cardiopulmonary abnormality\n",
      "Bleu score:  0.36739963076722904\n",
      "ROUGE-1 score: 0.6818181818181818\n",
      "ROUGE-L score: 0.5227272727272727\n",
      "****************************************************************************************************\n"
     ]
    },
    {
     "name": "stderr",
     "output_type": "stream",
     "text": [
      "<ipython-input-92-1f0604ee8117>:43: FutureWarning: The frame.append method is deprecated and will be removed from pandas in a future version. Use pandas.concat instead.\n",
      "  dat = dat.append({'image': image,\n"
     ]
    },
    {
     "name": "stdout",
     "output_type": "stream",
     "text": [
      "Real report:  indications male rule out pneumonia findings calcified left hilar lymph from prior granulomatous disease the cardiomediastinal silhouette is within normal limits for size pulmonary vasculature is within normal limits no focal consolidations effusions or pneumothoraces no acute bony abnormality impressions no acute cardiopulmonary abnormality\n",
      "Predicted report:  indications male with positive ppd with chest pain findings the heart size is normal the lungs are clear without focal consolidation is mildly enlarged mediastinal contours are within normal limits no focal consolidation there is no mediastinal contours are within normal limits impressions normal chest impressions no acute changes the are intact impressions no active disease impressions no acute cardiopulmonary abnormality impressions no acute cardiopulmonary abnormality impressions no acute cardiopulmonary disease impressions lobulated\n",
      "Bleu score:  0.41269051409047375\n",
      "ROUGE-1 score: 0.5681818181818182\n",
      "ROUGE-L score: 0.4772727272727273\n",
      "****************************************************************************************************\n"
     ]
    },
    {
     "name": "stderr",
     "output_type": "stream",
     "text": [
      "<ipython-input-92-1f0604ee8117>:43: FutureWarning: The frame.append method is deprecated and will be removed from pandas in a future version. Use pandas.concat instead.\n",
      "  dat = dat.append({'image': image,\n"
     ]
    },
    {
     "name": "stdout",
     "output_type": "stream",
     "text": [
      "Real report:  indications woman with pain findings the lungs are clear bilaterally specifically no evidence of focal consolidation pneumothora or pleural effusion cardiomediastinal silhouette is unremarkable heart size upper limit of normal visualized osseous structures of the thora are without acute abnormality impressions no acute cardiopulmonary abnormality\n",
      "Predicted report:  indications male status post assault or free air collections and worsening of chest eam have increased interstitial markings the heart size and mediastinal contours the lungs are clear the lungs are clear there are no focal consolidation pneumothora or pleural effusion which could be helpful or lymphoma findings there is an acute cardiopulmonary abnormalities lungs have in the interval both lungs are clear the cardiomediastinal silhouette is within normal limits impressions no acute disease history of endstage renal cell tumor findings the lungs or focal\n",
      "Bleu score:  0.3542902045633489\n",
      "ROUGE-1 score: 0.6666666666666666\n",
      "ROUGE-L score: 0.4222222222222222\n",
      "****************************************************************************************************\n"
     ]
    },
    {
     "name": "stderr",
     "output_type": "stream",
     "text": [
      "<ipython-input-92-1f0604ee8117>:43: FutureWarning: The frame.append method is deprecated and will be removed from pandas in a future version. Use pandas.concat instead.\n",
      "  dat = dat.append({'image': image,\n"
     ]
    },
    {
     "name": "stdout",
     "output_type": "stream",
     "text": [
      "Real report:  indications dyspnea findings heart size and pulmonary vascularity within normal limits no focal infiltrate pneumothora or pleural effusion identified impressions no acute cardiopulmonary disease\n",
      "Predicted report:  indications male with chest pain findings the heart and pulmonary are normal mediastinal contours are within normal limits there is no evidence of pneumonia lungs have in the interval both lungs are free of focal airspace disease effusion or pneumothora impressions no acute cardiopulmonary abnormalities impressions no acute cardiopulmonary abnormality impressions right apical pneumothora or focal airspace disease the remainder of the image and posterior third and back pain findings the cardiac silhouette is enlarged the pulmonary are otherwise\n",
      "Bleu score:  0.09450448857500889\n",
      "ROUGE-1 score: 0.75\n",
      "ROUGE-L score: 0.6666666666666666\n",
      "****************************************************************************************************\n"
     ]
    },
    {
     "name": "stderr",
     "output_type": "stream",
     "text": [
      "<ipython-input-92-1f0604ee8117>:43: FutureWarning: The frame.append method is deprecated and will be removed from pandas in a future version. Use pandas.concat instead.\n",
      "  dat = dat.append({'image': image,\n"
     ]
    },
    {
     "name": "stdout",
     "output_type": "stream",
     "text": [
      "Real report:  indications chest pain findings heart size and mediastinal contours appear within normal limits pulmonary vascularity is within normal limits no focal consolidation suspicious pulmonary opacity pneumothora or definite pleural effusion visualized osseous structures appear intact impressions no acute cardiopulmonary abnormality\n",
      "Predicted report:  indications male with chest pain findings the heart size and mediastinal silhouette no focal consolidation pneumothora no pleural effusion or pneumothora is seen no acute displaced rib fractures impressions no active pulmonary disease lungs have in unremarkable chest lungs have in unremarkable chest eam impressions no acute cardiopulmonary abnormality or pneumothora visualized osseous structures appear intact left suprahilar the cardiomediastinal silhouette and mediastinal contours no pneumothora pleural effusion or pneumothora calcified granuloma no focal airspace consolidation no pleural effusion or pneumothora normal heart size and mediastinal contours\n",
      "Bleu score:  0.2970733005460397\n",
      "ROUGE-1 score: 0.725\n",
      "ROUGE-L score: 0.5\n",
      "****************************************************************************************************\n"
     ]
    },
    {
     "name": "stderr",
     "output_type": "stream",
     "text": [
      "<ipython-input-92-1f0604ee8117>:43: FutureWarning: The frame.append method is deprecated and will be removed from pandas in a future version. Use pandas.concat instead.\n",
      "  dat = dat.append({'image': image,\n"
     ]
    },
    {
     "name": "stdout",
     "output_type": "stream",
     "text": [
      "Real report:  indications female with findings the heart is normal size the mediastinum is unremarkable there is no pleural effusion pneumothora or focal airspace disease the are unremarkable impressions no acute cardiopulmonary abnormality\n",
      "Predicted report:  indications female with onset pleuritic chest pain findings lungs are clear bilaterally cardiac and mediastinal silhouettes are unremarkable there are stable with no focal consolidation no pneumothora or pleural effusion normal cardiomediastinal silhouettes negative for pneumothora impressions negative for acute cardiopulmonary disease or chronic right lower lobe are present within the lateral image and intact calcified granuloma the aortic ectasia and tortuosity and unchanged eventration of the abdomen are normal impressions clear lungs impressions negative chest were obtained the cardiomediastinal silhouette is normal in size and contour\n",
      "Bleu score:  0.1541109407806291\n",
      "ROUGE-1 score: 0.7741935483870968\n",
      "ROUGE-L score: 0.45161290322580644\n",
      "****************************************************************************************************\n"
     ]
    },
    {
     "name": "stderr",
     "output_type": "stream",
     "text": [
      "<ipython-input-92-1f0604ee8117>:43: FutureWarning: The frame.append method is deprecated and will be removed from pandas in a future version. Use pandas.concat instead.\n",
      "  dat = dat.append({'image': image,\n"
     ]
    },
    {
     "name": "stdout",
     "output_type": "stream",
     "text": [
      "Real report:  indications findings the cardiac silhouette and mediastinal contours are within normal limits there is no focal opacity there is no pneumothora there is no large pleural effusion impressions no acute cardiopulmonary disease\n",
      "Predicted report:  indications dyspnea findings no focal areas of consolidation heart size clear lungs clear no pneumothora or pleural effusion identified multilevel degenerative changes are unremarkable impressions no acute lung bases the lungs are clear there is no pneumothora or pleural effusion mildly epanded with clear no pneumothora or pleural effusion are available for pneumonia impressions no acute cardiopulmonary findings impressions no acute cardiopulmonary abnormality or infiltrate with scarring or lymphadenopathy impressions no acute cardiopulmonary abnormalities impressions no acute\n",
      "Bleu score:  0.18955959722553786\n",
      "ROUGE-1 score: 0.53125\n",
      "ROUGE-L score: 0.46875\n",
      "****************************************************************************************************\n"
     ]
    },
    {
     "name": "stderr",
     "output_type": "stream",
     "text": [
      "<ipython-input-92-1f0604ee8117>:43: FutureWarning: The frame.append method is deprecated and will be removed from pandas in a future version. Use pandas.concat instead.\n",
      "  dat = dat.append({'image': image,\n"
     ]
    },
    {
     "name": "stdout",
     "output_type": "stream",
     "text": [
      "Real report:  indications metastatic breast cancer findings the pulmonary nodules and masses masses on previous eam are smaller and not definitely seen the lungs are otherwise clear heart size normal no pneumothora there is a right chest with tip projecting over the lower svc impressions interval decrease in size of numerous pulmonary nodules and masses no nodules or masses are definitely seen on radiograph\n",
      "Predicted report:  indications chest pain and dyspnea findings cardiac and mediastinal contours are within normal limits the lungs are clear bilaterally cardiac and mediastinal contours are within normal limits mild scoliosis and calcified granuloma noted impressions no acute cardiopulmonary abnormality or adenopathy is clear impressions no acute cardiopulmonary abnormality or pneumothora are unremarkable impressions no acute cardiopulmonary abnormality or adenopathy or masses no acute bony abnormality impressions no acute cardiopulmonary abnormality heart size normal no focal airspace consolidation pleural effusion or pneumothora is\n",
      "Bleu score:  0.4476267862328422\n",
      "ROUGE-1 score: 0.3548387096774194\n",
      "ROUGE-L score: 0.24193548387096775\n",
      "****************************************************************************************************\n"
     ]
    },
    {
     "name": "stderr",
     "output_type": "stream",
     "text": [
      "<ipython-input-92-1f0604ee8117>:43: FutureWarning: The frame.append method is deprecated and will be removed from pandas in a future version. Use pandas.concat instead.\n",
      "  dat = dat.append({'image': image,\n"
     ]
    },
    {
     "name": "stdout",
     "output_type": "stream",
     "text": [
      "Real report:  indications bleed findings in the interval a cm uncalcified mass has developed in the posterior segment of the right upper lobe in addition on the pa view an mm opacity is adjacent to the left of the heart this opacity cannot be well identified on the lateral view it may be artifactual but another mass on the left cannot be ecluded mediastinum is normal with no evidence for adenopathy heart size normal note of an unchanged hiatal hernia impressions right upper lobe mass suspicious for neoplasm ct of chest abdomen and head would be\n",
      "Predicted report:  indications shortness of breath findings the cardiomediastinal silhouette is normal in size tortuosity of the to represent dilated small calcified granuloma no focal areas of consolidation interface in size tortuosity of the lungs no mediastinal contours are normal in size the stomach contours lungs are clear without focal airspace consolidation minimal atelectasis left chest show an unchanged leftsided cardiomediastinal silhouette and mediastinal contours the lungs are clear impressions no acute cardiopulmonary process tortuous and associated bronchopulmonary crowding versus scar impressions no acute cardiopulmonary abnormalities of sternotomy the\n",
      "Bleu score:  0.539159612598185\n",
      "ROUGE-1 score: 0.2872340425531915\n",
      "ROUGE-L score: 0.1595744680851064\n",
      "****************************************************************************************************\n"
     ]
    },
    {
     "name": "stderr",
     "output_type": "stream",
     "text": [
      "<ipython-input-92-1f0604ee8117>:43: FutureWarning: The frame.append method is deprecated and will be removed from pandas in a future version. Use pandas.concat instead.\n",
      "  dat = dat.append({'image': image,\n"
     ]
    },
    {
     "name": "stdout",
     "output_type": "stream",
     "text": [
      "Real report:  indications chest pain findings mediastinal contours are normal lungs are clear there is no pneumothora or large pleural effusion impressions no acute cardiopulmonary abnormality\n",
      "Predicted report:  indications unavailable findings lungs are clear bilateral glenohumeral degenerative changes are grossly unremarkable impressions negative for acute cardiopulmonary abnormality impressions right lower lobe calcified granuloma or infiltrate impressions no acute cardiopulmonary abnormalities impressions chest radiograph stable chest findings and epanded heart size and cardiomediastinal silhouette and pulmonary vascularity are within normal limits no focal consolidation effusion or pneumothora impressions chest radiograph no acute cardiopulmonary abnormality impressions unremarkable eamination and mediastinal contours are unremarkable no consolidation stable leftsided\n",
      "Bleu score:  0.10736215098974013\n",
      "ROUGE-1 score: 0.7916666666666666\n",
      "ROUGE-L score: 0.5\n",
      "****************************************************************************************************\n"
     ]
    },
    {
     "name": "stderr",
     "output_type": "stream",
     "text": [
      "<ipython-input-92-1f0604ee8117>:43: FutureWarning: The frame.append method is deprecated and will be removed from pandas in a future version. Use pandas.concat instead.\n",
      "  dat = dat.append({'image': image,\n"
     ]
    },
    {
     "name": "stdout",
     "output_type": "stream",
     "text": [
      "Real report:  indications female pain findings heart size within normal limits no focal alveolar consolidation no definite pleural effusion seen no typical findings of pulmonary edema no pneumothora impressions no acute cardiopulmonary findings\n",
      "Predicted report:  indications chest pain findings the lungs are clear bilaterally cardiac and mediastinal contours are within normal limits the lungs are normally inflated with no fractures impressions negative for acute cardiopulmonary findings impressions no acute cardiopulmonary abnormality impressions no acute cardiopulmonary findings lungs are clear bilaterally impressions no acute cardiopulmonary abnormality lungs are within the spine normal impressions no acute cardiopulmonary abnormality or mediastinal lymphadenopathy findings cardiac and soft tissues are unremarkable\n",
      "Bleu score:  0.20781665763729618\n",
      "ROUGE-1 score: 0.5161290322580645\n",
      "ROUGE-L score: 0.5161290322580645\n",
      "****************************************************************************************************\n"
     ]
    },
    {
     "name": "stderr",
     "output_type": "stream",
     "text": [
      "<ipython-input-92-1f0604ee8117>:43: FutureWarning: The frame.append method is deprecated and will be removed from pandas in a future version. Use pandas.concat instead.\n",
      "  dat = dat.append({'image': image,\n"
     ]
    },
    {
     "name": "stdout",
     "output_type": "stream",
     "text": [
      "Real report:  indications male with chest pain findings heart size normal no focal airspace disease no pneumothora or effusions impressions no acute cardiopulmonary findings\n",
      "Predicted report:  indications male with findings frontal and lateral views were obtained the osseous structures are intact impressions no evidence of acute osseous abnormality mild degenerative disc disease impressions round opacity no acute displaced rib fractures impressions no evidence of acute cardiopulmonary abnormality impressions chest nodule findings lungs have a few scattered calcified granuloma within the distal left suprahilar calcified granuloma noted no convincing acute osseous abnormality impressions negative chest tip at the anterior loss findings no acute displaced rib fractures seen no convincing acute\n",
      "Bleu score:  0.05040787839489473\n",
      "ROUGE-1 score: 0.5909090909090909\n",
      "ROUGE-L score: 0.5454545454545454\n",
      "****************************************************************************************************\n"
     ]
    },
    {
     "name": "stderr",
     "output_type": "stream",
     "text": [
      "<ipython-input-92-1f0604ee8117>:43: FutureWarning: The frame.append method is deprecated and will be removed from pandas in a future version. Use pandas.concat instead.\n",
      "  dat = dat.append({'image': image,\n"
     ]
    },
    {
     "name": "stdout",
     "output_type": "stream",
     "text": [
      "Real report:  indications male with dyspnea findings lungs are hyperinflated but clear no focal infiltrate or effusion heart and mediastinal contours within normal limits calcified mediastinal identified impressions hyperinflated but clear lungs\n",
      "Predicted report:  indications dyspnea findings the heart is mildly enlarged stable valve noted with no focal areas of a mm bilateral pulmonary edema or chronic lung changes impressions no acute findings there are opacities are intact impressions continued elevation of the distal left costophrenic blunting no focal consolidation atelectasis no pneumothora no large pleural effusion or focal consolidation impressions no acute intrathoracic abnormality impressions no evidence for bilateral pleural effusion or pleural effusion right chest if an ap diameter consolidation impressions postoperative changes\n",
      "Bleu score:  0.10975010180639383\n",
      "ROUGE-1 score: 0.4\n",
      "ROUGE-L score: 0.3333333333333333\n",
      "****************************************************************************************************\n"
     ]
    },
    {
     "name": "stderr",
     "output_type": "stream",
     "text": [
      "<ipython-input-92-1f0604ee8117>:43: FutureWarning: The frame.append method is deprecated and will be removed from pandas in a future version. Use pandas.concat instead.\n",
      "  dat = dat.append({'image': image,\n"
     ]
    },
    {
     "name": "stdout",
     "output_type": "stream",
     "text": [
      "Real report:  indications female short of breath chest pain findings heart size within normal limits stable mediastinal and hilar contours no focal alveolar consolidation no definite pleural effusion seen bronchovascular crowding without typical findings of pulmonary edema impressions no acute findings\n",
      "Predicted report:  indications female on liters findings marked cardiomegaly unfolding of the spine stable cholecystectomy impressions findings there are no of pleural effusion impressions stable appearance is in the right lung opacity in left lung there are degenerative changes of the spine and soft tissue are seen lungs have in the interval no focal consolidation pleural effusion or pneumothora impressions left upper lobe interstitial pulmonary edema small right atrial enlargement of the right basilar atelectasis and right central venous catheter distal thoracic spine right hilar lymph suggesting\n",
      "Bleu score:  0.21311715135031375\n",
      "ROUGE-1 score: 0.48717948717948717\n",
      "ROUGE-L score: 0.3333333333333333\n",
      "****************************************************************************************************\n"
     ]
    },
    {
     "name": "stderr",
     "output_type": "stream",
     "text": [
      "<ipython-input-92-1f0604ee8117>:43: FutureWarning: The frame.append method is deprecated and will be removed from pandas in a future version. Use pandas.concat instead.\n",
      "  dat = dat.append({'image': image,\n"
     ]
    },
    {
     "name": "stdout",
     "output_type": "stream",
     "text": [
      "Real report:  indications female with persistent for months findings the lungs are clear there is no focal airspace consolidation no pleural effusion or pneumothora heart size and mediastinal contour are normal there are minimal degenerative changes of the spine impressions no evidence of active disease\n",
      "Predicted report:  indications findings the lungs are clear the lungs are clear there is no pneumothora there is no evidence of active disease impressions low lung volumes are stable right suprahilar the trachea is midline the cardiac silhouette there is no evidence of pneumonia the cardiac silhouette are normal there is no evidence of pneumonia impressions right upper lobe there is mild degenerative changes of the spine impressions of two bullae are without evidence of consolidation a right base otherwise no pneumothora or pleural effusions no focal consolidation pneumothora\n",
      "Bleu score:  0.34117968983550157\n",
      "ROUGE-1 score: 0.7209302325581395\n",
      "ROUGE-L score: 0.4883720930232558\n",
      "****************************************************************************************************\n"
     ]
    },
    {
     "name": "stderr",
     "output_type": "stream",
     "text": [
      "<ipython-input-92-1f0604ee8117>:43: FutureWarning: The frame.append method is deprecated and will be removed from pandas in a future version. Use pandas.concat instead.\n",
      "  dat = dat.append({'image': image,\n"
     ]
    },
    {
     "name": "stdout",
     "output_type": "stream",
     "text": [
      "Real report:  indications low back pn findings chest there is no change in the strandy scarring in the right ape no infiltrates or masses in the lungs heart and mediastinum remain normal lumbosacral spine disc spaces are old narrow and large osteophytes present on the vertebral bodies worst at ll elements from l through s are sclerotic sacrum and sacroiliac joints are normal calcific aortic disease is present impressions chest no change right upper lobe scar no acute disease lumbosacral spine multiple levels of advanced degenerative disc disease and arthritis\n",
      "Predicted report:  indications esophageal carcinoma findings lungs appear clear heart size aortic calcifications are noted the lungs are normally inflated with flattening of the right costophrenic this appears unchanged in the right proimal humerus incompletely evaluated a male with notified of the left costophrenic sulcus could be posttraumatic or masses no pneumonia or consolidation stable appearing contour interval innumerable bilateral costophrenic heart size within normal limits no focal airspace consolidation impressions no acute disease lungs well substernal chest seen on the previous eam there is no consolidation tortuous thoracic aorta no change in\n",
      "Bleu score:  0.5898714578726344\n",
      "ROUGE-1 score: 0.375\n",
      "ROUGE-L score: 0.17045454545454544\n",
      "****************************************************************************************************\n"
     ]
    },
    {
     "name": "stderr",
     "output_type": "stream",
     "text": [
      "<ipython-input-92-1f0604ee8117>:43: FutureWarning: The frame.append method is deprecated and will be removed from pandas in a future version. Use pandas.concat instead.\n",
      "  dat = dat.append({'image': image,\n"
     ]
    },
    {
     "name": "stdout",
     "output_type": "stream",
     "text": [
      "Real report:  indications findings in the interval consolidation and atelectasis have developed in the right lower lobe costophrenic blunted on the right left lung clear heart size normal impressions left lower lobe airspace disease consistent with pneumonia associated right pleural effusion\n",
      "Predicted report:  indications female female with shortness of breath findings normal heart normal pleural effusion or focal airspace disease or bone destruction note of infection impressions chest no acute cardiopulmonary abnormality mm nodule normal heart size stable there are bilateral pulmonary consolidation no pleural effusion is noted high tuberculosis findings normal heart size upper mediastinum are unremarkable there is stable cardiomediastinal silhouette normal impressions scattered calcified testes bilaterally and mediastinal contour are normal there are stable mild heart size is upper lung volumes are normal\n",
      "Bleu score:  0.19667204095989668\n",
      "ROUGE-1 score: 0.358974358974359\n",
      "ROUGE-L score: 0.20512820512820512\n",
      "****************************************************************************************************\n"
     ]
    },
    {
     "name": "stderr",
     "output_type": "stream",
     "text": [
      "<ipython-input-92-1f0604ee8117>:43: FutureWarning: The frame.append method is deprecated and will be removed from pandas in a future version. Use pandas.concat instead.\n",
      "  dat = dat.append({'image': image,\n"
     ]
    },
    {
     "name": "stdout",
     "output_type": "stream",
     "text": [
      "Real report:  indications shortness of breath findings the trachea is midline the cardiomediastinal silhouette is normal in size and unchanged from prior eaminations with sternotomy and surgical clips overlying there is blunting of the right costophrenic which appears unchanged from prior eamination and may be secondary to scarring or pleural thickening of the right lung base there is no evidence of acute infiltrate there is no pneumothora visualized bony structures reveal no acute abnormalities impressions hyperepanded lung no acute cardiopulmonary abnormalities\n",
      "Predicted report:  indications weakness shoulder pain findings lungs are hyperepanded with no pneumothora pleural effusion or pneumothora impressions interval a vascular calcifications within the hilar fullness of the left hemidiaphragm no visualized pneumothora or large pleural effusion degenerative changes of the spine impressions normal chest or small calcified granulomata are noted stable appearance impressions no interval development of sclerosis of the right shoulder and mediastinal surgical clips about cm no pneumothora focal airspace consolidation pneumothora or large pleural effusion negative no large pleural effusion or mediastinal surgical clips in\n",
      "Bleu score:  0.5264452848183703\n",
      "ROUGE-1 score: 0.3670886075949367\n",
      "ROUGE-L score: 0.17721518987341772\n",
      "****************************************************************************************************\n"
     ]
    },
    {
     "name": "stderr",
     "output_type": "stream",
     "text": [
      "<ipython-input-92-1f0604ee8117>:43: FutureWarning: The frame.append method is deprecated and will be removed from pandas in a future version. Use pandas.concat instead.\n",
      "  dat = dat.append({'image': image,\n"
     ]
    },
    {
     "name": "stdout",
     "output_type": "stream",
     "text": [
      "Real report:  indications male for rule out pneumothora findings small mm rightsided pneumothora only visible on the left lateral decubitus film left lung is clear normal cardiac contour no evidence of pleural effusion impressions small mm rightsided pneumothora\n",
      "Predicted report:  indications ppd findings the heart size is within normal limits for acute osseous abnormality no pneumothora no pneumothora or large pleural effusion mildly enlarged heart size minimal left a stable mediastinal contours no focal consolidation pneumothora or large calcified lymph lung calcified granuloma no pneumothora no visible pneumothora calcified left base bony structures appear stable mild degenerative changes identified no pleural effusions edema fracture noted with calcified mediastinal adenopathy is identified findings the lungs are free of focal consolidation pneumothora no large pleural effusion or focal consolidation or pleural effusion no acute abnormalities\n",
      "Bleu score:  0.13501325099038475\n",
      "ROUGE-1 score: 0.5\n",
      "ROUGE-L score: 0.2777777777777778\n",
      "****************************************************************************************************\n"
     ]
    },
    {
     "name": "stderr",
     "output_type": "stream",
     "text": [
      "<ipython-input-92-1f0604ee8117>:43: FutureWarning: The frame.append method is deprecated and will be removed from pandas in a future version. Use pandas.concat instead.\n",
      "  dat = dat.append({'image': image,\n"
     ]
    },
    {
     "name": "stdout",
     "output_type": "stream",
     "text": [
      "Real report:  indications and symptoms findings the cardiomediastinal silhouette is normal size and configuration pulmonary vasculature within normal limits the lungs are wellaerated there is no pneumothora pleural effusion or focal consolidation impressions no acute cardiopulmonary disease\n",
      "Predicted report:  indications findings the cardiomediastinal silhouette is normal in size the bilaterally and mediastinal contours are within normal limits are unremarkable there are calcified mediastinal no pleural effusion or pneumothora identified degenerative changes are intact a wedgeshaped fracture low lung bilaterally the heart pulmonary and mediastinal contours are unremarkable mediastinal contour and pulmonary vasculature are within normal limits no focal consolidation no pneumothora there is no pleural effusion or pneumothora numerous calcified mediastinal contour within normal limits no focal areas of consolidation impressions no acute disease impressions no acute cardiopulmonary abnormality\n",
      "Bleu score:  0.2285811986274689\n",
      "ROUGE-1 score: 0.9142857142857143\n",
      "ROUGE-L score: 0.7428571428571429\n",
      "****************************************************************************************************\n"
     ]
    },
    {
     "name": "stderr",
     "output_type": "stream",
     "text": [
      "<ipython-input-92-1f0604ee8117>:43: FutureWarning: The frame.append method is deprecated and will be removed from pandas in a future version. Use pandas.concat instead.\n",
      "  dat = dat.append({'image': image,\n"
     ]
    },
    {
     "name": "stdout",
     "output_type": "stream",
     "text": [
      "Real report:  indications nan findings there is an ovoid opacity cm in the retrocardiac area on ap view not wellseen on the lateral view a dedicated scan is recommended no pneumothora or pleural effusion present the heart is normal in size no hilar lymphadenopathy no destructive bony lesions impressions no acute cardiopulmonary abnormalities an ovoid opacity in the left retrocardiac area could be projectional or solid mass further study is recommended\n",
      "Predicted report:  indications male findings a small calcified mediastinal and mediastinal contours are within normal limits stable mediastinal and mediastinal contour within normal limits calcified right hemidiaphragm no typical findings of normal mediastinal contours are normal impressions no acute disease impressions no evidence of breath dizziness findings the cardiomediastinal silhouette is near the spine impressions no acute cardiopulmonary findings impressions no acute cardiopulmonary disease no evidence of acute pulmonary disease identified in the medial right lower lobe suggests prior granulomatous disease there are\n",
      "Bleu score:  0.43463294846212963\n",
      "ROUGE-1 score: 0.2463768115942029\n",
      "ROUGE-L score: 0.18840579710144928\n",
      "****************************************************************************************************\n"
     ]
    },
    {
     "name": "stderr",
     "output_type": "stream",
     "text": [
      "<ipython-input-92-1f0604ee8117>:43: FutureWarning: The frame.append method is deprecated and will be removed from pandas in a future version. Use pandas.concat instead.\n",
      "  dat = dat.append({'image': image,\n"
     ]
    },
    {
     "name": "stdout",
     "output_type": "stream",
     "text": [
      "Real report:  indications leftsided chest pain under left breast three days findings minimal opacities at the posterior sulci a few septal lines of the left lateral sulcus otherwise the lungs are clear with granulomas and sulci heart size upper normal thin lv contourunfolded calcified aorta tspine small osteophytes impressions no pneumothora similar appearance\n",
      "Predicted report:  indications copd headache findings cardiac silhouette stable right with mild bibasilar patchy edema there is no pneumothora or effusion mild degenerative changes of the spine impressions minimal right basilar atelectasis no pneumothora left midline sternotomy and deep opacity may be related to lymph node there are degenerative changes are intact impressions negative chest are blunted aortic changes with redemonstration of large pleural effusion impressions emphysema without pulmonary vascular congestion no pneumothora right basal atelectasis since the lateral view as compared to prior eam question small pleural thickening\n",
      "Bleu score:  0.2743917249974618\n",
      "ROUGE-1 score: 0.3333333333333333\n",
      "ROUGE-L score: 0.19607843137254902\n",
      "****************************************************************************************************\n"
     ]
    },
    {
     "name": "stderr",
     "output_type": "stream",
     "text": [
      "<ipython-input-92-1f0604ee8117>:43: FutureWarning: The frame.append method is deprecated and will be removed from pandas in a future version. Use pandas.concat instead.\n",
      "  dat = dat.append({'image': image,\n"
     ]
    },
    {
     "name": "stdout",
     "output_type": "stream",
     "text": [
      "Real report:  indications preprocedure evaluation prior to bone marrow transplant findings the lungs appear clear there are no suspicious pulmonary nodules or infiltrates the heart and pulmonary appear normal the pleural spaces are clear mediastinal contours are normal there is a leftsided tunneled catheter the distal tip at the mid superior level impressions no acute cardiopulmonary disease\n",
      "Predicted report:  indications nan findings the lungs are clear there is no focal air space opacities pleural effusion or pneumothora is seen vp shunt tubing is grossly normal size and pulmonary are normal the lungs are clear thoracic spondylosis impressions no acute pulmonary disease impressions no acute pulmonary disease impressions no acute cardiopulmonary disease or focal airspace disease as to the left knee there is a vascular congestion normal heart size and pulmonary vascularity are within normal limits in size and contour aortic appear normal\n",
      "Bleu score:  0.47813510629732403\n",
      "ROUGE-1 score: 0.6\n",
      "ROUGE-L score: 0.34545454545454546\n",
      "****************************************************************************************************\n"
     ]
    },
    {
     "name": "stderr",
     "output_type": "stream",
     "text": [
      "<ipython-input-92-1f0604ee8117>:43: FutureWarning: The frame.append method is deprecated and will be removed from pandas in a future version. Use pandas.concat instead.\n",
      "  dat = dat.append({'image': image,\n"
     ]
    },
    {
     "name": "stdout",
     "output_type": "stream",
     "text": [
      "Real report:  indications placement findings heart size normal lungs are clear are normal no pneumonia effusions edema pneumothora adenopathy nodules or masses impressions normal chest no evidence of tuberculosis\n",
      "Predicted report:  indications dyspnea findings normal cardiac silhouette normal the lungs are clear bilaterally specifically no evidence of focal consolidation pneumothora or pleural disease consistent with clear lungs negative for pneumothora impressions low lung volumes on bilateral interstitial disease impressions negative for acute abnormality large hiatal hernia clear or adenopathy or possibly lymphadenopathy consistent with chronic interstitial and reflects scar of the upper lungs heart size normal there is bibasilar airspace disease lungs no pneumothora or large pleural effusions impressions clear lungs no pneumothora or large pleural\n",
      "Bleu score:  0.10262513193207552\n",
      "ROUGE-1 score: 0.7037037037037037\n",
      "ROUGE-L score: 0.4444444444444444\n",
      "****************************************************************************************************\n"
     ]
    },
    {
     "name": "stderr",
     "output_type": "stream",
     "text": [
      "<ipython-input-92-1f0604ee8117>:43: FutureWarning: The frame.append method is deprecated and will be removed from pandas in a future version. Use pandas.concat instead.\n",
      "  dat = dat.append({'image': image,\n"
     ]
    },
    {
     "name": "stdout",
     "output_type": "stream",
     "text": [
      "Real report:  indications and hypoia findings heart size and mediastinal contours appear within normal limits pulmonary vascularity is within normal limits no focal consolidation suspicious pulmonary opacity pneumothora or definite pleural effusion visualized osseous structures appear intact impressions no acute cardiopulmonary abnormality\n",
      "Predicted report:  indications male findings the heart is normal in size with no acute cardiopulmonary abnormality impressions no acute cardiopulmonary abnormality findings the lungs are clear bilaterally specifically no evidence of focal airspace disease pneumothora or pleural effusion negative for acute bony abnormality impressions no acute cardiopulmonary abnormality impressions no acute cardiopulmonary abnormality impressions no acute cardiopulmonary abnormalities or magnified appearance of the chest the chest complaints findings lungs\n",
      "Bleu score:  0.34009037838017064\n",
      "ROUGE-1 score: 0.45\n",
      "ROUGE-L score: 0.4\n",
      "****************************************************************************************************\n"
     ]
    },
    {
     "name": "stderr",
     "output_type": "stream",
     "text": [
      "<ipython-input-92-1f0604ee8117>:43: FutureWarning: The frame.append method is deprecated and will be removed from pandas in a future version. Use pandas.concat instead.\n",
      "  dat = dat.append({'image': image,\n"
     ]
    },
    {
     "name": "stdout",
     "output_type": "stream",
     "text": [
      "Real report:  indications the patient is a with back pain findings the trachea is midline cardiomediastinal silhouette is normal the lungs are clear without evidence of focal consolidation or pleural effusion there is no pneumothora the visualized bony structures reveal no acute abnormalities impressions no acute cardiopulmonary abnormalities\n",
      "Predicted report:  indications hemoptysis findings the cardiomediastinal contours are within normal limits no pleural effusion or focal airspace consolidation the cardiac silhouette mediastinal calcifications impressions normal chest impressions chest evidence of acute cardiopulmonary disease impressions no acute disease impressions no acute cardiopulmonary findings small calcified left shoulder impressions normal chest impressions no acute cardiopulmonary findings impressions unremarkable left chest impressions normal chest impressions unremarkable chest the lungs are clear\n",
      "Bleu score:  0.4876086758477133\n",
      "ROUGE-1 score: 0.5434782608695652\n",
      "ROUGE-L score: 0.32608695652173914\n",
      "****************************************************************************************************\n"
     ]
    },
    {
     "name": "stderr",
     "output_type": "stream",
     "text": [
      "<ipython-input-92-1f0604ee8117>:43: FutureWarning: The frame.append method is deprecated and will be removed from pandas in a future version. Use pandas.concat instead.\n",
      "  dat = dat.append({'image': image,\n"
     ]
    },
    {
     "name": "stdout",
     "output_type": "stream",
     "text": [
      "Real report:  indications dyspnea history of prostate cancer shortness of breath nausea patient on chemotherapy findings there is a rightsided chest identified whose distal tip projects over the svc heart size is normal low lung volumes with elevated right hemidiaphragm the lungs are grossly clear no focal infiltrate no pleural effusion or pneumothora normal pulmonary vascularity normal mediastinal and hilar contours degenerative changes of the spine impressions low lung volumes no acute abnormality\n",
      "Predicted report:  indications male presents for evaluation with history impressions low lung consolidation no pleural effusion or airspace disease identified no pulmonary edema impressions mild cardiomegaly or adenopathy there is elevated right lateral view lungs with cardiomegaly no focal infiltrate there is right right mid lung no significant pleural effusion findings there are low lung volumes no pneumothora heart size is enlarged stable impressions low lung volumes no significant pleural effusion seen interstitial edema\n",
      "Bleu score:  0.6908051305249016\n",
      "ROUGE-1 score: 0.43661971830985913\n",
      "ROUGE-L score: 0.2676056338028169\n",
      "****************************************************************************************************\n"
     ]
    },
    {
     "name": "stderr",
     "output_type": "stream",
     "text": [
      "<ipython-input-92-1f0604ee8117>:43: FutureWarning: The frame.append method is deprecated and will be removed from pandas in a future version. Use pandas.concat instead.\n",
      "  dat = dat.append({'image': image,\n"
     ]
    },
    {
     "name": "stdout",
     "output_type": "stream",
     "text": [
      "Real report:  indications pt co cp findings the heart and lungs have in the interval both lungs are clear and epanded heart and mediastinum normal impressions no active disease\n",
      "Predicted report:  indications rule out sarcoidosis findings the heart silhouette is unremarkable there is distal thoracic spine no nodules or masses no large pleural effusion or pneumothora impressions unremarkable eam thora are without acute abnormality low lung volumes with blunted right hemidiaphragm no possible right upper lobe airspace disease otherwise clear on chest with no focal airspace consolidation no pneumothora impressions unremarkable chest with no pneumothora or pleural effusions mild degenerative changes of the spine specifically no evidence of acute radiographic cardiopulmonary process there are no radiographic evidence of\n",
      "Bleu score:  0.0656588782673975\n",
      "ROUGE-1 score: 0.4074074074074074\n",
      "ROUGE-L score: 0.2962962962962963\n",
      "****************************************************************************************************\n"
     ]
    },
    {
     "name": "stderr",
     "output_type": "stream",
     "text": [
      "<ipython-input-92-1f0604ee8117>:43: FutureWarning: The frame.append method is deprecated and will be removed from pandas in a future version. Use pandas.concat instead.\n",
      "  dat = dat.append({'image': image,\n"
     ]
    },
    {
     "name": "stdout",
     "output_type": "stream",
     "text": [
      "Real report:  indications dyspnea findings cardiomediastinal silhouette is within normal limits of size and appearance the pulmonary vascularity is unremarkable lungs are epanded and clear of airspace disease negative for pneumothora or pleural effusion limited bone evaluation reveals no acute abnormality there is incompletely evaluated lumbar levoscoliosis impressions no acute cardiopulmonary abnormality\n",
      "Predicted report:  indications chest pain findings normal heart size within normal limits no acute bony abnormality impressions no radiographic evidence of acute cardiopulmonary findings impressions heart silhouette is within normal limits no pleural effusions or pneumothoraces the thora intact impressions no acute cardiopulmonary abnormality impressions no acute cardiopulmonary abnormality impressions no active cardiopulmonary disease impressions no acute findings impressions no active cardiopulmonary disease or adenopathy is due to large\n",
      "Bleu score:  0.489620510460919\n",
      "ROUGE-1 score: 0.48\n",
      "ROUGE-L score: 0.34\n",
      "****************************************************************************************************\n"
     ]
    },
    {
     "name": "stderr",
     "output_type": "stream",
     "text": [
      "<ipython-input-92-1f0604ee8117>:43: FutureWarning: The frame.append method is deprecated and will be removed from pandas in a future version. Use pandas.concat instead.\n",
      "  dat = dat.append({'image': image,\n"
     ]
    },
    {
     "name": "stdout",
     "output_type": "stream",
     "text": [
      "Real report:  indications female with history of leukocytosis findings stable cardiomegaly and mediastinal contour increased interstitial lung markings are seen possibly due to volume overload there is improved aeration of the lung bases with small residual left basilar effusion no focal consolidation or pneumothora stable tunneled dialysis catheter visualized osseous structures appear intact impressions stable cardiomegaly improved aeration of lung bases with persistent left basilar effusion prominent interstitium possibly due to mild volume overload\n",
      "Predicted report:  indications nan findings cardiomegaly and may be secondary to scarring impressions cardiomegaly with left basilar opacity with mild pacemakerdefibrillator terminating with correlate for further evaluation if warranted there minimal bibasilar patchy bibasilar opacity probable right lateral rib fracture impressions stable appearance of the right either atelectasis there is eventration of the left th rib may represent mild diaphragm eventration of the left than right apical pleuralparenchymal irregularity consistent with mild interstitial edema there is aortic valve replacement seen in the left lung no acute pulmonary disease\n",
      "Bleu score:  0.48433357205082095\n",
      "ROUGE-1 score: 0.3611111111111111\n",
      "ROUGE-L score: 0.18055555555555555\n",
      "****************************************************************************************************\n"
     ]
    },
    {
     "name": "stderr",
     "output_type": "stream",
     "text": [
      "<ipython-input-92-1f0604ee8117>:43: FutureWarning: The frame.append method is deprecated and will be removed from pandas in a future version. Use pandas.concat instead.\n",
      "  dat = dat.append({'image': image,\n"
     ]
    },
    {
     "name": "stdout",
     "output_type": "stream",
     "text": [
      "Real report:  indications chest pain findings the heart size is normal and cardiomediastinal silhouette is normal in contour lungs are clear bilaterally there is no pleural effusion or pneumothora no bony or soft tissue abnormalities impressions no acute cardiopulmonary abnormality\n",
      "Predicted report:  indications test ca for one findings both lungs are clear small bilateral pleural effusion impressions normal chest impressions hyperepanded lungs consistent with epanded heart size normal no pleural effusion or focal area of pneumothora adenopathy nodules or masses identified calcified granuloma in the left costophrenic sulcus could obscure a mm calcified granuloma right middle lobe the cardiomediastinal silhouette is normal impressions mild heart size within normal limits lungs are clear multilevel cervical spine curvature the lumbar spine impressions normal chest impressions hyperepanded lungs\n",
      "Bleu score:  0.24490619197934982\n",
      "ROUGE-1 score: 0.6052631578947368\n",
      "ROUGE-L score: 0.34210526315789475\n",
      "****************************************************************************************************\n"
     ]
    },
    {
     "name": "stderr",
     "output_type": "stream",
     "text": [
      "<ipython-input-92-1f0604ee8117>:43: FutureWarning: The frame.append method is deprecated and will be removed from pandas in a future version. Use pandas.concat instead.\n",
      "  dat = dat.append({'image': image,\n"
     ]
    },
    {
     "name": "stdout",
     "output_type": "stream",
     "text": [
      "Real report:  indications asthma findings lungs are clear no pleural effusions or pneumothoraces heart and mediastinum are stable with normal sized heart degenerative changes in the spine impressions clear lungs\n",
      "Predicted report:  indications ordering a followup chest pain preop bilateral rib pain findings heart size within normal limits no pneumothora pleural effusion or pneumothora there is mild pectus ecavatum deformity of rightsided chest congestion presents followup chest pain symptoms for weeks to chills and difficulty findings heart size noted impressions no acute cardiopulmonary abnormality heart size and pulmonary vascularity appear within normal limits there is an interim cervical spine there has been previous eam there is blunting of the skeletal structures which could represent a pneumonia there is again scar or\n",
      "Bleu score:  0.07007813053726517\n",
      "ROUGE-1 score: 0.5\n",
      "ROUGE-L score: 0.35714285714285715\n",
      "****************************************************************************************************\n"
     ]
    },
    {
     "name": "stderr",
     "output_type": "stream",
     "text": [
      "<ipython-input-92-1f0604ee8117>:43: FutureWarning: The frame.append method is deprecated and will be removed from pandas in a future version. Use pandas.concat instead.\n",
      "  dat = dat.append({'image': image,\n"
     ]
    },
    {
     "name": "stdout",
     "output_type": "stream",
     "text": [
      "Real report:  indications shortness of breath findings normal heart size normal mediastinal silhouette no pneumothora pleural effusion or suspicious focal air space opacity impressions normal eam\n",
      "Predicted report:  indications with shortness of breath findings the lungs are clear without focal air collections or focal airspace disease nodular opacity in the superior lungs are clear no pleural effusion is unremarkable no pneumothora or pleural effusion stable normal impressions no active pulmonary disease impressions no acute cardiopulmonary abnormality impressions no acute cardiopulmonary abnormality or focal airspace consolidation pleural effusion or pneumothora impressions no acute cardiopulmonary abnormality or focal consolidation no pneumothora there is no pneumothora or pleural effusion impressions\n",
      "Bleu score:  0.08607966982607398\n",
      "ROUGE-1 score: 0.625\n",
      "ROUGE-L score: 0.5\n",
      "****************************************************************************************************\n"
     ]
    },
    {
     "name": "stderr",
     "output_type": "stream",
     "text": [
      "<ipython-input-92-1f0604ee8117>:43: FutureWarning: The frame.append method is deprecated and will be removed from pandas in a future version. Use pandas.concat instead.\n",
      "  dat = dat.append({'image': image,\n"
     ]
    },
    {
     "name": "stdout",
     "output_type": "stream",
     "text": [
      "Real report:  indications vomiting diarrhea chills findings heart size and vascularity normal mediastinal contour normal lungs are clear no pleural effusions or pneumothoraces impressions normal chest\n",
      "Predicted report:  indications loss of the t and lower lobe pneumonia recommend follow up to shoulder pain gunshot wound years ago findings heart size and mediastinal contour within normal limits no focal airspace consolidation pneumothora or pleural effusion no convincing acute bony findings impressions no acute cardiopulmonary abnormalities impressions no evidence of active disease impressions no acute cardiopulmonary abnormalities are clear there is no focal consolidation pleural effusion or pneumothora osseous structures and soft tissues are intact impressions no acute pulmonary abnormality\n",
      "Bleu score:  0.07706226431736536\n",
      "ROUGE-1 score: 0.625\n",
      "ROUGE-L score: 0.625\n",
      "****************************************************************************************************\n"
     ]
    },
    {
     "name": "stderr",
     "output_type": "stream",
     "text": [
      "<ipython-input-92-1f0604ee8117>:43: FutureWarning: The frame.append method is deprecated and will be removed from pandas in a future version. Use pandas.concat instead.\n",
      "  dat = dat.append({'image': image,\n"
     ]
    },
    {
     "name": "stdout",
     "output_type": "stream",
     "text": [
      "Real report:  indications male with chest pain findings heart size normal no focal airspace disease no pneumothora or effusions impressions no acute cardiopulmonary findings\n",
      "Predicted report:  indications male with findings the lungs are clear impressions no acute cardiopulmonary abnormality impressions no acute cardiopulmonary finding impressions no evidence of acute cardiopulmonary abnormalities or visualized osseous structures are intact no focal consolidation pneumothora or large pleural effusion impressions no active disease or soft tissues are intact impressions negative chest were obtained the cardiomediastinal silhouette is normal in size with clear impressions no acute cardiopulmonary abnormality impressions no acute cardiopulmonary abnormality\n",
      "Bleu score:  0.0988679427158343\n",
      "ROUGE-1 score: 0.8636363636363636\n",
      "ROUGE-L score: 0.5909090909090909\n",
      "****************************************************************************************************\n"
     ]
    },
    {
     "name": "stderr",
     "output_type": "stream",
     "text": [
      "<ipython-input-92-1f0604ee8117>:43: FutureWarning: The frame.append method is deprecated and will be removed from pandas in a future version. Use pandas.concat instead.\n",
      "  dat = dat.append({'image': image,\n"
     ]
    },
    {
     "name": "stdout",
     "output_type": "stream",
     "text": [
      "Real report:  indications hemorrhagic infarct increased bnp findings heart size is within normal limits emphysematous changes focal pleural thickening in the left ape is scarring atherosclerotic calcifications of the aortic there is no focal infiltrate no pneumothora or pleural effusion impressions emphysema without acute cardiopulmonary findings\n",
      "Predicted report:  indications tripped inflated and mediastinum normal no pleural effusion no focal areas of consolidation no pleural effusions no pleural effusion no pneumothora no pneumothora no pleural effusions no acute pulmonary disease there is approimately mm left no pneumothora no pleural effusions no suspicious pulmonary no pleural effusion no evidence of apical opacity that fractures impressions no acute disease impressions no acute cardiopulmonary abnormality identified or small calcified granuloma no focal areas of pulmonary vascular congestion no focal leftsided rotated the cardiomediastinal silhouette and pulmonary vascular opacities no pneumothora no\n",
      "Bleu score:  0.2373343368365849\n",
      "ROUGE-1 score: 0.4318181818181818\n",
      "ROUGE-L score: 0.29545454545454547\n",
      "****************************************************************************************************\n",
      "Average bleu score on the test data is  0.2741502049035369\n",
      "Average rouge_1 score on the test data is  0.5250445780894636\n",
      "Average rouge_l score on the test data is  0.37484704229258187\n"
     ]
    },
    {
     "name": "stderr",
     "output_type": "stream",
     "text": [
      "<ipython-input-92-1f0604ee8117>:43: FutureWarning: The frame.append method is deprecated and will be removed from pandas in a future version. Use pandas.concat instead.\n",
      "  dat = dat.append({'image': image,\n"
     ]
    }
   ],
   "source": [
    "index = len(img_name_val)\n",
    "cols = ['image', 'real', 'pred', 'bleu', 'rouge_1', 'rouge_l']\n",
    "dat = pd.DataFrame(columns=cols)\n",
    "\n",
    "bl = 0\n",
    "rouge_1 = 0\n",
    "rouge_l = 0\n",
    "\n",
    "df_predicted_res = pd.DataFrame()\n",
    "\n",
    "nums = 50\n",
    "\n",
    "for j in range(nums):\n",
    "    image = img_name_val[j]\n",
    "\n",
    "    real_caption = [tf.compat.as_text(index_to_word(i).numpy())\n",
    "                            for i in cap_val[j] if i not in [0]]\n",
    "\n",
    "    result, attention_plot = evaluate(image)\n",
    "\n",
    "    # removing the start and end tags we initially added\n",
    "    rem = ['startseq', 'start', 'end', 'endseq']\n",
    "\n",
    "    real_caption  = [x for x in real_caption if x not in rem]\n",
    "    result  = [x for x in result if x not in rem]\n",
    "\n",
    "    print('Real report: ', ' '.join([i for i in real_caption]))\n",
    "    print('Predicted report: ', ' '.join(result))\n",
    "\n",
    "    chencherry = SmoothingFunction()\n",
    "    bl += sentence_bleu([result], real_caption, weights=(1, 0, 0, 0), smoothing_function=chencherry.method5)\n",
    "    scorer = rouge_scorer.RougeScorer(['rouge1', 'rougeL'], use_stemmer=True)\n",
    "    rouge_scores = scorer.score(' '.join(result), ' '.join(real_caption))\n",
    "    rouge_1 += rouge_scores['rouge1'].precision\n",
    "    rouge_l += rouge_scores['rougeL'].precision\n",
    "\n",
    "    print('Bleu score: ', sentence_bleu([result], real_caption, weights=(1, 0, 0, 0), smoothing_function=chencherry.method5))\n",
    "    print(\"ROUGE-1 score:\", rouge_scores['rouge1'].precision)\n",
    "    print(\"ROUGE-L score:\", rouge_scores['rougeL'].precision)\n",
    "\n",
    "    real_cap =  ' '.join([i for i in real_caption])\n",
    "    pred_cap = ' '.join(result)\n",
    "    dat = dat.append({'image': image,\n",
    "                      'real': real_cap,\n",
    "                      'pred': pred_cap,\n",
    "                      'bleu': sentence_bleu([result], real_caption, weights=(1, 0, 0, 0), smoothing_function=chencherry.method5),\n",
    "                      'rouge_1': rouge_scores['rouge1'].precision,\n",
    "                      'rouge_l': rouge_scores['rougeL'].precision}, ignore_index=True)\n",
    "    print('*' * 100)\n",
    "\n",
    "print(\"Average bleu score on the test data is \", bl / nums)\n",
    "print(\"Average rouge_1 score on the test data is \", rouge_1 / nums)\n",
    "print(\"Average rouge_l score on the test data is \", rouge_l / nums)\n",
    "\n",
    "dat.to_csv('/content/drive/MyDrive/shikha version/data/real_vs_predicted.csv')\n"
   ]
  },
  {
   "cell_type": "code",
   "execution_count": null,
   "metadata": {
    "colab": {
     "base_uri": "https://localhost:8080/"
    },
    "id": "f5KAJkJHYViR",
    "outputId": "caec73b0-1700-4bf5-aec3-4dffde896c50"
   },
   "outputs": [
    {
     "data": {
      "text/html": [
       "\n",
       "  <div id=\"df-a8150c23-b2d8-4251-9f8d-43f08a765bda\" class=\"colab-df-container\">\n",
       "    <div>\n",
       "<style scoped>\n",
       "    .dataframe tbody tr th:only-of-type {\n",
       "        vertical-align: middle;\n",
       "    }\n",
       "\n",
       "    .dataframe tbody tr th {\n",
       "        vertical-align: top;\n",
       "    }\n",
       "\n",
       "    .dataframe thead th {\n",
       "        text-align: right;\n",
       "    }\n",
       "</style>\n",
       "<table border=\"1\" class=\"dataframe\">\n",
       "  <thead>\n",
       "    <tr style=\"text-align: right;\">\n",
       "      <th></th>\n",
       "      <th>Unnamed: 0</th>\n",
       "      <th>image</th>\n",
       "      <th>real</th>\n",
       "      <th>pred</th>\n",
       "      <th>bleu</th>\n",
       "      <th>rouge_1</th>\n",
       "      <th>rouge_l</th>\n",
       "    </tr>\n",
       "  </thead>\n",
       "  <tbody>\n",
       "    <tr>\n",
       "      <th>0</th>\n",
       "      <td>0</td>\n",
       "      <td>/content/images/images_normalized/1119_IM-0080...</td>\n",
       "      <td>indications male with chest pain findings low ...</td>\n",
       "      <td>indications male with findings heart size with...</td>\n",
       "      <td>0.162005</td>\n",
       "      <td>0.526316</td>\n",
       "      <td>0.447368</td>\n",
       "    </tr>\n",
       "    <tr>\n",
       "      <th>1</th>\n",
       "      <td>1</td>\n",
       "      <td>/content/images/images_normalized/2376_IM-0936...</td>\n",
       "      <td>indications findings the eamination consists o...</td>\n",
       "      <td>indications with asthma and vomiting findings ...</td>\n",
       "      <td>0.110369</td>\n",
       "      <td>0.375000</td>\n",
       "      <td>0.312500</td>\n",
       "    </tr>\n",
       "    <tr>\n",
       "      <th>2</th>\n",
       "      <td>2</td>\n",
       "      <td>/content/images/images_normalized/1581_IM-0378...</td>\n",
       "      <td>indications female findings cardiomediastinal ...</td>\n",
       "      <td>indications cp sob findings cardiomediastinal ...</td>\n",
       "      <td>0.204601</td>\n",
       "      <td>0.463415</td>\n",
       "      <td>0.365854</td>\n",
       "    </tr>\n",
       "    <tr>\n",
       "      <th>3</th>\n",
       "      <td>3</td>\n",
       "      <td>/content/images/images_normalized/865_IM-2385-...</td>\n",
       "      <td>indications female with dyspnea findings cardi...</td>\n",
       "      <td>indications chest pain findings normal heart s...</td>\n",
       "      <td>0.227752</td>\n",
       "      <td>0.500000</td>\n",
       "      <td>0.323529</td>\n",
       "    </tr>\n",
       "    <tr>\n",
       "      <th>4</th>\n",
       "      <td>4</td>\n",
       "      <td>/content/images/images_normalized/3717_IM-1856...</td>\n",
       "      <td>indications chest pain findings low lung volum...</td>\n",
       "      <td>indications findings pa and lateral views of t...</td>\n",
       "      <td>0.048797</td>\n",
       "      <td>0.538462</td>\n",
       "      <td>0.384615</td>\n",
       "    </tr>\n",
       "    <tr>\n",
       "      <th>5</th>\n",
       "      <td>5</td>\n",
       "      <td>/content/images/images_normalized/3646_IM-1808...</td>\n",
       "      <td>indications nan findings the lungs are clear h...</td>\n",
       "      <td>indications findings the heart size and medias...</td>\n",
       "      <td>0.036393</td>\n",
       "      <td>0.750000</td>\n",
       "      <td>0.650000</td>\n",
       "    </tr>\n",
       "    <tr>\n",
       "      <th>6</th>\n",
       "      <td>6</td>\n",
       "      <td>/content/images/images_normalized/3813_IM-1922...</td>\n",
       "      <td>indications wheezing findings there is opacity...</td>\n",
       "      <td>indications female chest pain findings low no ...</td>\n",
       "      <td>0.139947</td>\n",
       "      <td>0.500000</td>\n",
       "      <td>0.375000</td>\n",
       "    </tr>\n",
       "    <tr>\n",
       "      <th>7</th>\n",
       "      <td>7</td>\n",
       "      <td>/content/images/images_normalized/1173_IM-0118...</td>\n",
       "      <td>indications female with shortness of breath hi...</td>\n",
       "      <td>indications suspected right midlung with left ...</td>\n",
       "      <td>0.536325</td>\n",
       "      <td>0.368421</td>\n",
       "      <td>0.171053</td>\n",
       "    </tr>\n",
       "    <tr>\n",
       "      <th>8</th>\n",
       "      <td>8</td>\n",
       "      <td>/content/images/images_normalized/3223_IM-1523...</td>\n",
       "      <td>indications preop knee surgery findings cardia...</td>\n",
       "      <td>indications female with findings the heart pul...</td>\n",
       "      <td>0.127118</td>\n",
       "      <td>0.615385</td>\n",
       "      <td>0.461538</td>\n",
       "    </tr>\n",
       "    <tr>\n",
       "      <th>9</th>\n",
       "      <td>9</td>\n",
       "      <td>/content/images/images_normalized/2229_IM-0831...</td>\n",
       "      <td>indications female with history of dyspnea on ...</td>\n",
       "      <td>indications female with shortness of breath da...</td>\n",
       "      <td>0.567890</td>\n",
       "      <td>0.385714</td>\n",
       "      <td>0.242857</td>\n",
       "    </tr>\n",
       "    <tr>\n",
       "      <th>10</th>\n",
       "      <td>10</td>\n",
       "      <td>/content/images/images_normalized/1478_IM-0310...</td>\n",
       "      <td>indications male pain findings stable cardiome...</td>\n",
       "      <td>indications with a ladder the left lower lobe ...</td>\n",
       "      <td>0.319400</td>\n",
       "      <td>0.360000</td>\n",
       "      <td>0.240000</td>\n",
       "    </tr>\n",
       "    <tr>\n",
       "      <th>11</th>\n",
       "      <td>11</td>\n",
       "      <td>/content/images/images_normalized/2568_IM-1070...</td>\n",
       "      <td>indications female with history of aortic sten...</td>\n",
       "      <td>indications female mvc findings mediastinal co...</td>\n",
       "      <td>0.420628</td>\n",
       "      <td>0.452830</td>\n",
       "      <td>0.320755</td>\n",
       "    </tr>\n",
       "    <tr>\n",
       "      <th>12</th>\n",
       "      <td>12</td>\n",
       "      <td>/content/images/images_normalized/2131_IM-0755...</td>\n",
       "      <td>indications the patient is a male with hiccups...</td>\n",
       "      <td>indications kidney transplant findings heart s...</td>\n",
       "      <td>0.280751</td>\n",
       "      <td>0.416667</td>\n",
       "      <td>0.291667</td>\n",
       "    </tr>\n",
       "    <tr>\n",
       "      <th>13</th>\n",
       "      <td>13</td>\n",
       "      <td>/content/images/images_normalized/2756_IM-1205...</td>\n",
       "      <td>indications the patient is a male with lung tr...</td>\n",
       "      <td>indications with rt scapular area and atelecta...</td>\n",
       "      <td>0.300671</td>\n",
       "      <td>0.425926</td>\n",
       "      <td>0.259259</td>\n",
       "    </tr>\n",
       "    <tr>\n",
       "      <th>14</th>\n",
       "      <td>14</td>\n",
       "      <td>/content/images/images_normalized/2805_IM-1235...</td>\n",
       "      <td>indications woman with chest pain and shortnes...</td>\n",
       "      <td>indications with findings the cardiac contours...</td>\n",
       "      <td>0.367400</td>\n",
       "      <td>0.681818</td>\n",
       "      <td>0.522727</td>\n",
       "    </tr>\n",
       "    <tr>\n",
       "      <th>15</th>\n",
       "      <td>15</td>\n",
       "      <td>/content/images/images_normalized/3128_IM-1471...</td>\n",
       "      <td>indications male rule out pneumonia findings c...</td>\n",
       "      <td>indications male with positive ppd with chest ...</td>\n",
       "      <td>0.412691</td>\n",
       "      <td>0.568182</td>\n",
       "      <td>0.477273</td>\n",
       "    </tr>\n",
       "    <tr>\n",
       "      <th>16</th>\n",
       "      <td>16</td>\n",
       "      <td>/content/images/images_normalized/1163_IM-0108...</td>\n",
       "      <td>indications woman with pain findings the lungs...</td>\n",
       "      <td>indications male status post assault or free a...</td>\n",
       "      <td>0.354290</td>\n",
       "      <td>0.666667</td>\n",
       "      <td>0.422222</td>\n",
       "    </tr>\n",
       "    <tr>\n",
       "      <th>17</th>\n",
       "      <td>17</td>\n",
       "      <td>/content/images/images_normalized/2413_IM-0959...</td>\n",
       "      <td>indications dyspnea findings heart size and pu...</td>\n",
       "      <td>indications male with chest pain findings the ...</td>\n",
       "      <td>0.094504</td>\n",
       "      <td>0.750000</td>\n",
       "      <td>0.666667</td>\n",
       "    </tr>\n",
       "    <tr>\n",
       "      <th>18</th>\n",
       "      <td>18</td>\n",
       "      <td>/content/images/images_normalized/980_IM-2468-...</td>\n",
       "      <td>indications chest pain findings heart size and...</td>\n",
       "      <td>indications male with chest pain findings the ...</td>\n",
       "      <td>0.297073</td>\n",
       "      <td>0.725000</td>\n",
       "      <td>0.500000</td>\n",
       "    </tr>\n",
       "    <tr>\n",
       "      <th>19</th>\n",
       "      <td>19</td>\n",
       "      <td>/content/images/images_normalized/1810_IM-0524...</td>\n",
       "      <td>indications female with findings the heart is ...</td>\n",
       "      <td>indications female with onset pleuritic chest ...</td>\n",
       "      <td>0.154111</td>\n",
       "      <td>0.774194</td>\n",
       "      <td>0.451613</td>\n",
       "    </tr>\n",
       "    <tr>\n",
       "      <th>20</th>\n",
       "      <td>20</td>\n",
       "      <td>/content/images/images_normalized/3617_IM-1789...</td>\n",
       "      <td>indications findings the cardiac silhouette an...</td>\n",
       "      <td>indications dyspnea findings no focal areas of...</td>\n",
       "      <td>0.189560</td>\n",
       "      <td>0.531250</td>\n",
       "      <td>0.468750</td>\n",
       "    </tr>\n",
       "    <tr>\n",
       "      <th>21</th>\n",
       "      <td>21</td>\n",
       "      <td>/content/images/images_normalized/2778_IM-1218...</td>\n",
       "      <td>indications metastatic breast cancer findings ...</td>\n",
       "      <td>indications chest pain and dyspnea findings ca...</td>\n",
       "      <td>0.447627</td>\n",
       "      <td>0.354839</td>\n",
       "      <td>0.241935</td>\n",
       "    </tr>\n",
       "    <tr>\n",
       "      <th>22</th>\n",
       "      <td>22</td>\n",
       "      <td>/content/images/images_normalized/1303_IM-0199...</td>\n",
       "      <td>indications bleed findings in the interval a c...</td>\n",
       "      <td>indications shortness of breath findings the c...</td>\n",
       "      <td>0.539160</td>\n",
       "      <td>0.287234</td>\n",
       "      <td>0.159574</td>\n",
       "    </tr>\n",
       "    <tr>\n",
       "      <th>23</th>\n",
       "      <td>23</td>\n",
       "      <td>/content/images/images_normalized/1470_IM-0303...</td>\n",
       "      <td>indications chest pain findings mediastinal co...</td>\n",
       "      <td>indications unavailable findings lungs are cle...</td>\n",
       "      <td>0.107362</td>\n",
       "      <td>0.791667</td>\n",
       "      <td>0.500000</td>\n",
       "    </tr>\n",
       "    <tr>\n",
       "      <th>24</th>\n",
       "      <td>24</td>\n",
       "      <td>/content/images/images_normalized/751_IM-2305-...</td>\n",
       "      <td>indications female pain findings heart size wi...</td>\n",
       "      <td>indications chest pain findings the lungs are ...</td>\n",
       "      <td>0.207817</td>\n",
       "      <td>0.516129</td>\n",
       "      <td>0.516129</td>\n",
       "    </tr>\n",
       "    <tr>\n",
       "      <th>25</th>\n",
       "      <td>25</td>\n",
       "      <td>/content/images/images_normalized/3359_IM-1612...</td>\n",
       "      <td>indications male with chest pain findings hear...</td>\n",
       "      <td>indications male with findings frontal and lat...</td>\n",
       "      <td>0.050408</td>\n",
       "      <td>0.590909</td>\n",
       "      <td>0.545455</td>\n",
       "    </tr>\n",
       "    <tr>\n",
       "      <th>26</th>\n",
       "      <td>26</td>\n",
       "      <td>/content/images/images_normalized/2336_IM-0903...</td>\n",
       "      <td>indications male with dyspnea findings lungs a...</td>\n",
       "      <td>indications dyspnea findings the heart is mild...</td>\n",
       "      <td>0.109750</td>\n",
       "      <td>0.400000</td>\n",
       "      <td>0.333333</td>\n",
       "    </tr>\n",
       "    <tr>\n",
       "      <th>27</th>\n",
       "      <td>27</td>\n",
       "      <td>/content/images/images_normalized/223_IM-0831-...</td>\n",
       "      <td>indications female short of breath chest pain ...</td>\n",
       "      <td>indications female on liters findings marked c...</td>\n",
       "      <td>0.213117</td>\n",
       "      <td>0.487179</td>\n",
       "      <td>0.333333</td>\n",
       "    </tr>\n",
       "    <tr>\n",
       "      <th>28</th>\n",
       "      <td>28</td>\n",
       "      <td>/content/images/images_normalized/250_IM-1025-...</td>\n",
       "      <td>indications female with persistent for months ...</td>\n",
       "      <td>indications findings the lungs are clear the l...</td>\n",
       "      <td>0.341180</td>\n",
       "      <td>0.720930</td>\n",
       "      <td>0.488372</td>\n",
       "    </tr>\n",
       "    <tr>\n",
       "      <th>29</th>\n",
       "      <td>29</td>\n",
       "      <td>/content/images/images_normalized/240_IM-0950-...</td>\n",
       "      <td>indications low back pn findings chest there i...</td>\n",
       "      <td>indications esophageal carcinoma findings lung...</td>\n",
       "      <td>0.589871</td>\n",
       "      <td>0.375000</td>\n",
       "      <td>0.170455</td>\n",
       "    </tr>\n",
       "    <tr>\n",
       "      <th>30</th>\n",
       "      <td>30</td>\n",
       "      <td>/content/images/images_normalized/2370_IM-0931...</td>\n",
       "      <td>indications findings in the interval consolida...</td>\n",
       "      <td>indications female female with shortness of br...</td>\n",
       "      <td>0.196672</td>\n",
       "      <td>0.358974</td>\n",
       "      <td>0.205128</td>\n",
       "    </tr>\n",
       "    <tr>\n",
       "      <th>31</th>\n",
       "      <td>31</td>\n",
       "      <td>/content/images/images_normalized/1735_IM-0484...</td>\n",
       "      <td>indications shortness of breath findings the t...</td>\n",
       "      <td>indications weakness shoulder pain findings lu...</td>\n",
       "      <td>0.526445</td>\n",
       "      <td>0.367089</td>\n",
       "      <td>0.177215</td>\n",
       "    </tr>\n",
       "    <tr>\n",
       "      <th>32</th>\n",
       "      <td>32</td>\n",
       "      <td>/content/images/images_normalized/1339_IM-0218...</td>\n",
       "      <td>indications male for rule out pneumothora find...</td>\n",
       "      <td>indications ppd findings the heart size is wit...</td>\n",
       "      <td>0.135013</td>\n",
       "      <td>0.500000</td>\n",
       "      <td>0.277778</td>\n",
       "    </tr>\n",
       "    <tr>\n",
       "      <th>33</th>\n",
       "      <td>33</td>\n",
       "      <td>/content/images/images_normalized/2988_IM-1375...</td>\n",
       "      <td>indications and symptoms findings the cardiome...</td>\n",
       "      <td>indications findings the cardiomediastinal sil...</td>\n",
       "      <td>0.228581</td>\n",
       "      <td>0.914286</td>\n",
       "      <td>0.742857</td>\n",
       "    </tr>\n",
       "    <tr>\n",
       "      <th>34</th>\n",
       "      <td>34</td>\n",
       "      <td>/content/images/images_normalized/1747_IM-0490...</td>\n",
       "      <td>indications nan findings there is an ovoid opa...</td>\n",
       "      <td>indications male findings a small calcified me...</td>\n",
       "      <td>0.434633</td>\n",
       "      <td>0.246377</td>\n",
       "      <td>0.188406</td>\n",
       "    </tr>\n",
       "    <tr>\n",
       "      <th>35</th>\n",
       "      <td>35</td>\n",
       "      <td>/content/images/images_normalized/337_IM-1622-...</td>\n",
       "      <td>indications leftsided chest pain under left br...</td>\n",
       "      <td>indications copd headache findings cardiac sil...</td>\n",
       "      <td>0.274392</td>\n",
       "      <td>0.333333</td>\n",
       "      <td>0.196078</td>\n",
       "    </tr>\n",
       "    <tr>\n",
       "      <th>36</th>\n",
       "      <td>36</td>\n",
       "      <td>/content/images/images_normalized/3947_IM-2016...</td>\n",
       "      <td>indications preprocedure evaluation prior to b...</td>\n",
       "      <td>indications nan findings the lungs are clear t...</td>\n",
       "      <td>0.478135</td>\n",
       "      <td>0.600000</td>\n",
       "      <td>0.345455</td>\n",
       "    </tr>\n",
       "    <tr>\n",
       "      <th>37</th>\n",
       "      <td>37</td>\n",
       "      <td>/content/images/images_normalized/1573_IM-0374...</td>\n",
       "      <td>indications placement findings heart size norm...</td>\n",
       "      <td>indications dyspnea findings normal cardiac si...</td>\n",
       "      <td>0.102625</td>\n",
       "      <td>0.703704</td>\n",
       "      <td>0.444444</td>\n",
       "    </tr>\n",
       "    <tr>\n",
       "      <th>38</th>\n",
       "      <td>38</td>\n",
       "      <td>/content/images/images_normalized/2015_IM-0664...</td>\n",
       "      <td>indications and hypoia findings heart size and...</td>\n",
       "      <td>indications male findings the heart is normal ...</td>\n",
       "      <td>0.340090</td>\n",
       "      <td>0.450000</td>\n",
       "      <td>0.400000</td>\n",
       "    </tr>\n",
       "    <tr>\n",
       "      <th>39</th>\n",
       "      <td>39</td>\n",
       "      <td>/content/images/images_normalized/2026_IM-0671...</td>\n",
       "      <td>indications the patient is a with back pain fi...</td>\n",
       "      <td>indications hemoptysis findings the cardiomedi...</td>\n",
       "      <td>0.487609</td>\n",
       "      <td>0.543478</td>\n",
       "      <td>0.326087</td>\n",
       "    </tr>\n",
       "    <tr>\n",
       "      <th>40</th>\n",
       "      <td>40</td>\n",
       "      <td>/content/images/images_normalized/2479_IM-1007...</td>\n",
       "      <td>indications dyspnea history of prostate cancer...</td>\n",
       "      <td>indications male presents for evaluation with ...</td>\n",
       "      <td>0.690805</td>\n",
       "      <td>0.436620</td>\n",
       "      <td>0.267606</td>\n",
       "    </tr>\n",
       "    <tr>\n",
       "      <th>41</th>\n",
       "      <td>41</td>\n",
       "      <td>/content/images/images_normalized/3357_IM-1610...</td>\n",
       "      <td>indications pt co cp findings the heart and lu...</td>\n",
       "      <td>indications rule out sarcoidosis findings the ...</td>\n",
       "      <td>0.065659</td>\n",
       "      <td>0.407407</td>\n",
       "      <td>0.296296</td>\n",
       "    </tr>\n",
       "    <tr>\n",
       "      <th>42</th>\n",
       "      <td>42</td>\n",
       "      <td>/content/images/images_normalized/24_IM-0949-1...</td>\n",
       "      <td>indications dyspnea findings cardiomediastinal...</td>\n",
       "      <td>indications chest pain findings normal heart s...</td>\n",
       "      <td>0.489621</td>\n",
       "      <td>0.480000</td>\n",
       "      <td>0.340000</td>\n",
       "    </tr>\n",
       "    <tr>\n",
       "      <th>43</th>\n",
       "      <td>43</td>\n",
       "      <td>/content/images/images_normalized/3595_IM-1773...</td>\n",
       "      <td>indications female with history of leukocytosi...</td>\n",
       "      <td>indications nan findings cardiomegaly and may ...</td>\n",
       "      <td>0.484334</td>\n",
       "      <td>0.361111</td>\n",
       "      <td>0.180556</td>\n",
       "    </tr>\n",
       "    <tr>\n",
       "      <th>44</th>\n",
       "      <td>44</td>\n",
       "      <td>/content/images/images_normalized/3279_IM-1560...</td>\n",
       "      <td>indications chest pain findings the heart size...</td>\n",
       "      <td>indications test ca for one findings both lung...</td>\n",
       "      <td>0.244906</td>\n",
       "      <td>0.605263</td>\n",
       "      <td>0.342105</td>\n",
       "    </tr>\n",
       "    <tr>\n",
       "      <th>45</th>\n",
       "      <td>45</td>\n",
       "      <td>/content/images/images_normalized/617_IM-2200-...</td>\n",
       "      <td>indications asthma findings lungs are clear no...</td>\n",
       "      <td>indications ordering a followup chest pain pre...</td>\n",
       "      <td>0.070078</td>\n",
       "      <td>0.500000</td>\n",
       "      <td>0.357143</td>\n",
       "    </tr>\n",
       "    <tr>\n",
       "      <th>46</th>\n",
       "      <td>46</td>\n",
       "      <td>/content/images/images_normalized/2152_IM-0772...</td>\n",
       "      <td>indications shortness of breath findings norma...</td>\n",
       "      <td>indications with shortness of breath findings ...</td>\n",
       "      <td>0.086080</td>\n",
       "      <td>0.625000</td>\n",
       "      <td>0.500000</td>\n",
       "    </tr>\n",
       "    <tr>\n",
       "      <th>47</th>\n",
       "      <td>47</td>\n",
       "      <td>/content/images/images_normalized/3045_IM-1418...</td>\n",
       "      <td>indications vomiting diarrhea chills findings ...</td>\n",
       "      <td>indications loss of the t and lower lobe pneum...</td>\n",
       "      <td>0.077062</td>\n",
       "      <td>0.625000</td>\n",
       "      <td>0.625000</td>\n",
       "    </tr>\n",
       "    <tr>\n",
       "      <th>48</th>\n",
       "      <td>48</td>\n",
       "      <td>/content/images/images_normalized/3359_IM-1612...</td>\n",
       "      <td>indications male with chest pain findings hear...</td>\n",
       "      <td>indications male with findings the lungs are c...</td>\n",
       "      <td>0.098868</td>\n",
       "      <td>0.863636</td>\n",
       "      <td>0.590909</td>\n",
       "    </tr>\n",
       "    <tr>\n",
       "      <th>49</th>\n",
       "      <td>49</td>\n",
       "      <td>/content/images/images_normalized/440_IM-2078-...</td>\n",
       "      <td>indications hemorrhagic infarct increased bnp ...</td>\n",
       "      <td>indications tripped inflated and mediastinum n...</td>\n",
       "      <td>0.237334</td>\n",
       "      <td>0.431818</td>\n",
       "      <td>0.295455</td>\n",
       "    </tr>\n",
       "  </tbody>\n",
       "</table>\n",
       "</div>\n",
       "    <div class=\"colab-df-buttons\">\n",
       "\n",
       "  <div class=\"colab-df-container\">\n",
       "    <button class=\"colab-df-convert\" onclick=\"convertToInteractive('df-a8150c23-b2d8-4251-9f8d-43f08a765bda')\"\n",
       "            title=\"Convert this dataframe to an interactive table.\"\n",
       "            style=\"display:none;\">\n",
       "\n",
       "  <svg xmlns=\"http://www.w3.org/2000/svg\" height=\"24px\" viewBox=\"0 -960 960 960\">\n",
       "    <path d=\"M120-120v-720h720v720H120Zm60-500h600v-160H180v160Zm220 220h160v-160H400v160Zm0 220h160v-160H400v160ZM180-400h160v-160H180v160Zm440 0h160v-160H620v160ZM180-180h160v-160H180v160Zm440 0h160v-160H620v160Z\"/>\n",
       "  </svg>\n",
       "    </button>\n",
       "\n",
       "  <style>\n",
       "    .colab-df-container {\n",
       "      display:flex;\n",
       "      gap: 12px;\n",
       "    }\n",
       "\n",
       "    .colab-df-convert {\n",
       "      background-color: #E8F0FE;\n",
       "      border: none;\n",
       "      border-radius: 50%;\n",
       "      cursor: pointer;\n",
       "      display: none;\n",
       "      fill: #1967D2;\n",
       "      height: 32px;\n",
       "      padding: 0 0 0 0;\n",
       "      width: 32px;\n",
       "    }\n",
       "\n",
       "    .colab-df-convert:hover {\n",
       "      background-color: #E2EBFA;\n",
       "      box-shadow: 0px 1px 2px rgba(60, 64, 67, 0.3), 0px 1px 3px 1px rgba(60, 64, 67, 0.15);\n",
       "      fill: #174EA6;\n",
       "    }\n",
       "\n",
       "    .colab-df-buttons div {\n",
       "      margin-bottom: 4px;\n",
       "    }\n",
       "\n",
       "    [theme=dark] .colab-df-convert {\n",
       "      background-color: #3B4455;\n",
       "      fill: #D2E3FC;\n",
       "    }\n",
       "\n",
       "    [theme=dark] .colab-df-convert:hover {\n",
       "      background-color: #434B5C;\n",
       "      box-shadow: 0px 1px 3px 1px rgba(0, 0, 0, 0.15);\n",
       "      filter: drop-shadow(0px 1px 2px rgba(0, 0, 0, 0.3));\n",
       "      fill: #FFFFFF;\n",
       "    }\n",
       "  </style>\n",
       "\n",
       "    <script>\n",
       "      const buttonEl =\n",
       "        document.querySelector('#df-a8150c23-b2d8-4251-9f8d-43f08a765bda button.colab-df-convert');\n",
       "      buttonEl.style.display =\n",
       "        google.colab.kernel.accessAllowed ? 'block' : 'none';\n",
       "\n",
       "      async function convertToInteractive(key) {\n",
       "        const element = document.querySelector('#df-a8150c23-b2d8-4251-9f8d-43f08a765bda');\n",
       "        const dataTable =\n",
       "          await google.colab.kernel.invokeFunction('convertToInteractive',\n",
       "                                                    [key], {});\n",
       "        if (!dataTable) return;\n",
       "\n",
       "        const docLinkHtml = 'Like what you see? Visit the ' +\n",
       "          '<a target=\"_blank\" href=https://colab.research.google.com/notebooks/data_table.ipynb>data table notebook</a>'\n",
       "          + ' to learn more about interactive tables.';\n",
       "        element.innerHTML = '';\n",
       "        dataTable['output_type'] = 'display_data';\n",
       "        await google.colab.output.renderOutput(dataTable, element);\n",
       "        const docLink = document.createElement('div');\n",
       "        docLink.innerHTML = docLinkHtml;\n",
       "        element.appendChild(docLink);\n",
       "      }\n",
       "    </script>\n",
       "  </div>\n",
       "\n",
       "\n",
       "<div id=\"df-de62edd9-b20e-42d8-8960-7c0b50627332\">\n",
       "  <button class=\"colab-df-quickchart\" onclick=\"quickchart('df-de62edd9-b20e-42d8-8960-7c0b50627332')\"\n",
       "            title=\"Suggest charts\"\n",
       "            style=\"display:none;\">\n",
       "\n",
       "<svg xmlns=\"http://www.w3.org/2000/svg\" height=\"24px\"viewBox=\"0 0 24 24\"\n",
       "     width=\"24px\">\n",
       "    <g>\n",
       "        <path d=\"M19 3H5c-1.1 0-2 .9-2 2v14c0 1.1.9 2 2 2h14c1.1 0 2-.9 2-2V5c0-1.1-.9-2-2-2zM9 17H7v-7h2v7zm4 0h-2V7h2v10zm4 0h-2v-4h2v4z\"/>\n",
       "    </g>\n",
       "</svg>\n",
       "  </button>\n",
       "\n",
       "<style>\n",
       "  .colab-df-quickchart {\n",
       "      --bg-color: #E8F0FE;\n",
       "      --fill-color: #1967D2;\n",
       "      --hover-bg-color: #E2EBFA;\n",
       "      --hover-fill-color: #174EA6;\n",
       "      --disabled-fill-color: #AAA;\n",
       "      --disabled-bg-color: #DDD;\n",
       "  }\n",
       "\n",
       "  [theme=dark] .colab-df-quickchart {\n",
       "      --bg-color: #3B4455;\n",
       "      --fill-color: #D2E3FC;\n",
       "      --hover-bg-color: #434B5C;\n",
       "      --hover-fill-color: #FFFFFF;\n",
       "      --disabled-bg-color: #3B4455;\n",
       "      --disabled-fill-color: #666;\n",
       "  }\n",
       "\n",
       "  .colab-df-quickchart {\n",
       "    background-color: var(--bg-color);\n",
       "    border: none;\n",
       "    border-radius: 50%;\n",
       "    cursor: pointer;\n",
       "    display: none;\n",
       "    fill: var(--fill-color);\n",
       "    height: 32px;\n",
       "    padding: 0;\n",
       "    width: 32px;\n",
       "  }\n",
       "\n",
       "  .colab-df-quickchart:hover {\n",
       "    background-color: var(--hover-bg-color);\n",
       "    box-shadow: 0 1px 2px rgba(60, 64, 67, 0.3), 0 1px 3px 1px rgba(60, 64, 67, 0.15);\n",
       "    fill: var(--button-hover-fill-color);\n",
       "  }\n",
       "\n",
       "  .colab-df-quickchart-complete:disabled,\n",
       "  .colab-df-quickchart-complete:disabled:hover {\n",
       "    background-color: var(--disabled-bg-color);\n",
       "    fill: var(--disabled-fill-color);\n",
       "    box-shadow: none;\n",
       "  }\n",
       "\n",
       "  .colab-df-spinner {\n",
       "    border: 2px solid var(--fill-color);\n",
       "    border-color: transparent;\n",
       "    border-bottom-color: var(--fill-color);\n",
       "    animation:\n",
       "      spin 1s steps(1) infinite;\n",
       "  }\n",
       "\n",
       "  @keyframes spin {\n",
       "    0% {\n",
       "      border-color: transparent;\n",
       "      border-bottom-color: var(--fill-color);\n",
       "      border-left-color: var(--fill-color);\n",
       "    }\n",
       "    20% {\n",
       "      border-color: transparent;\n",
       "      border-left-color: var(--fill-color);\n",
       "      border-top-color: var(--fill-color);\n",
       "    }\n",
       "    30% {\n",
       "      border-color: transparent;\n",
       "      border-left-color: var(--fill-color);\n",
       "      border-top-color: var(--fill-color);\n",
       "      border-right-color: var(--fill-color);\n",
       "    }\n",
       "    40% {\n",
       "      border-color: transparent;\n",
       "      border-right-color: var(--fill-color);\n",
       "      border-top-color: var(--fill-color);\n",
       "    }\n",
       "    60% {\n",
       "      border-color: transparent;\n",
       "      border-right-color: var(--fill-color);\n",
       "    }\n",
       "    80% {\n",
       "      border-color: transparent;\n",
       "      border-right-color: var(--fill-color);\n",
       "      border-bottom-color: var(--fill-color);\n",
       "    }\n",
       "    90% {\n",
       "      border-color: transparent;\n",
       "      border-bottom-color: var(--fill-color);\n",
       "    }\n",
       "  }\n",
       "</style>\n",
       "\n",
       "  <script>\n",
       "    async function quickchart(key) {\n",
       "      const quickchartButtonEl =\n",
       "        document.querySelector('#' + key + ' button');\n",
       "      quickchartButtonEl.disabled = true;  // To prevent multiple clicks.\n",
       "      quickchartButtonEl.classList.add('colab-df-spinner');\n",
       "      try {\n",
       "        const charts = await google.colab.kernel.invokeFunction(\n",
       "            'suggestCharts', [key], {});\n",
       "      } catch (error) {\n",
       "        console.error('Error during call to suggestCharts:', error);\n",
       "      }\n",
       "      quickchartButtonEl.classList.remove('colab-df-spinner');\n",
       "      quickchartButtonEl.classList.add('colab-df-quickchart-complete');\n",
       "    }\n",
       "    (() => {\n",
       "      let quickchartButtonEl =\n",
       "        document.querySelector('#df-de62edd9-b20e-42d8-8960-7c0b50627332 button');\n",
       "      quickchartButtonEl.style.display =\n",
       "        google.colab.kernel.accessAllowed ? 'block' : 'none';\n",
       "    })();\n",
       "  </script>\n",
       "</div>\n",
       "    </div>\n",
       "  </div>\n"
      ],
      "text/plain": [
       "    Unnamed: 0                                              image  \\\n",
       "0            0  /content/images/images_normalized/1119_IM-0080...   \n",
       "1            1  /content/images/images_normalized/2376_IM-0936...   \n",
       "2            2  /content/images/images_normalized/1581_IM-0378...   \n",
       "3            3  /content/images/images_normalized/865_IM-2385-...   \n",
       "4            4  /content/images/images_normalized/3717_IM-1856...   \n",
       "5            5  /content/images/images_normalized/3646_IM-1808...   \n",
       "6            6  /content/images/images_normalized/3813_IM-1922...   \n",
       "7            7  /content/images/images_normalized/1173_IM-0118...   \n",
       "8            8  /content/images/images_normalized/3223_IM-1523...   \n",
       "9            9  /content/images/images_normalized/2229_IM-0831...   \n",
       "10          10  /content/images/images_normalized/1478_IM-0310...   \n",
       "11          11  /content/images/images_normalized/2568_IM-1070...   \n",
       "12          12  /content/images/images_normalized/2131_IM-0755...   \n",
       "13          13  /content/images/images_normalized/2756_IM-1205...   \n",
       "14          14  /content/images/images_normalized/2805_IM-1235...   \n",
       "15          15  /content/images/images_normalized/3128_IM-1471...   \n",
       "16          16  /content/images/images_normalized/1163_IM-0108...   \n",
       "17          17  /content/images/images_normalized/2413_IM-0959...   \n",
       "18          18  /content/images/images_normalized/980_IM-2468-...   \n",
       "19          19  /content/images/images_normalized/1810_IM-0524...   \n",
       "20          20  /content/images/images_normalized/3617_IM-1789...   \n",
       "21          21  /content/images/images_normalized/2778_IM-1218...   \n",
       "22          22  /content/images/images_normalized/1303_IM-0199...   \n",
       "23          23  /content/images/images_normalized/1470_IM-0303...   \n",
       "24          24  /content/images/images_normalized/751_IM-2305-...   \n",
       "25          25  /content/images/images_normalized/3359_IM-1612...   \n",
       "26          26  /content/images/images_normalized/2336_IM-0903...   \n",
       "27          27  /content/images/images_normalized/223_IM-0831-...   \n",
       "28          28  /content/images/images_normalized/250_IM-1025-...   \n",
       "29          29  /content/images/images_normalized/240_IM-0950-...   \n",
       "30          30  /content/images/images_normalized/2370_IM-0931...   \n",
       "31          31  /content/images/images_normalized/1735_IM-0484...   \n",
       "32          32  /content/images/images_normalized/1339_IM-0218...   \n",
       "33          33  /content/images/images_normalized/2988_IM-1375...   \n",
       "34          34  /content/images/images_normalized/1747_IM-0490...   \n",
       "35          35  /content/images/images_normalized/337_IM-1622-...   \n",
       "36          36  /content/images/images_normalized/3947_IM-2016...   \n",
       "37          37  /content/images/images_normalized/1573_IM-0374...   \n",
       "38          38  /content/images/images_normalized/2015_IM-0664...   \n",
       "39          39  /content/images/images_normalized/2026_IM-0671...   \n",
       "40          40  /content/images/images_normalized/2479_IM-1007...   \n",
       "41          41  /content/images/images_normalized/3357_IM-1610...   \n",
       "42          42  /content/images/images_normalized/24_IM-0949-1...   \n",
       "43          43  /content/images/images_normalized/3595_IM-1773...   \n",
       "44          44  /content/images/images_normalized/3279_IM-1560...   \n",
       "45          45  /content/images/images_normalized/617_IM-2200-...   \n",
       "46          46  /content/images/images_normalized/2152_IM-0772...   \n",
       "47          47  /content/images/images_normalized/3045_IM-1418...   \n",
       "48          48  /content/images/images_normalized/3359_IM-1612...   \n",
       "49          49  /content/images/images_normalized/440_IM-2078-...   \n",
       "\n",
       "                                                 real  \\\n",
       "0   indications male with chest pain findings low ...   \n",
       "1   indications findings the eamination consists o...   \n",
       "2   indications female findings cardiomediastinal ...   \n",
       "3   indications female with dyspnea findings cardi...   \n",
       "4   indications chest pain findings low lung volum...   \n",
       "5   indications nan findings the lungs are clear h...   \n",
       "6   indications wheezing findings there is opacity...   \n",
       "7   indications female with shortness of breath hi...   \n",
       "8   indications preop knee surgery findings cardia...   \n",
       "9   indications female with history of dyspnea on ...   \n",
       "10  indications male pain findings stable cardiome...   \n",
       "11  indications female with history of aortic sten...   \n",
       "12  indications the patient is a male with hiccups...   \n",
       "13  indications the patient is a male with lung tr...   \n",
       "14  indications woman with chest pain and shortnes...   \n",
       "15  indications male rule out pneumonia findings c...   \n",
       "16  indications woman with pain findings the lungs...   \n",
       "17  indications dyspnea findings heart size and pu...   \n",
       "18  indications chest pain findings heart size and...   \n",
       "19  indications female with findings the heart is ...   \n",
       "20  indications findings the cardiac silhouette an...   \n",
       "21  indications metastatic breast cancer findings ...   \n",
       "22  indications bleed findings in the interval a c...   \n",
       "23  indications chest pain findings mediastinal co...   \n",
       "24  indications female pain findings heart size wi...   \n",
       "25  indications male with chest pain findings hear...   \n",
       "26  indications male with dyspnea findings lungs a...   \n",
       "27  indications female short of breath chest pain ...   \n",
       "28  indications female with persistent for months ...   \n",
       "29  indications low back pn findings chest there i...   \n",
       "30  indications findings in the interval consolida...   \n",
       "31  indications shortness of breath findings the t...   \n",
       "32  indications male for rule out pneumothora find...   \n",
       "33  indications and symptoms findings the cardiome...   \n",
       "34  indications nan findings there is an ovoid opa...   \n",
       "35  indications leftsided chest pain under left br...   \n",
       "36  indications preprocedure evaluation prior to b...   \n",
       "37  indications placement findings heart size norm...   \n",
       "38  indications and hypoia findings heart size and...   \n",
       "39  indications the patient is a with back pain fi...   \n",
       "40  indications dyspnea history of prostate cancer...   \n",
       "41  indications pt co cp findings the heart and lu...   \n",
       "42  indications dyspnea findings cardiomediastinal...   \n",
       "43  indications female with history of leukocytosi...   \n",
       "44  indications chest pain findings the heart size...   \n",
       "45  indications asthma findings lungs are clear no...   \n",
       "46  indications shortness of breath findings norma...   \n",
       "47  indications vomiting diarrhea chills findings ...   \n",
       "48  indications male with chest pain findings hear...   \n",
       "49  indications hemorrhagic infarct increased bnp ...   \n",
       "\n",
       "                                                 pred      bleu   rouge_1  \\\n",
       "0   indications male with findings heart size with...  0.162005  0.526316   \n",
       "1   indications with asthma and vomiting findings ...  0.110369  0.375000   \n",
       "2   indications cp sob findings cardiomediastinal ...  0.204601  0.463415   \n",
       "3   indications chest pain findings normal heart s...  0.227752  0.500000   \n",
       "4   indications findings pa and lateral views of t...  0.048797  0.538462   \n",
       "5   indications findings the heart size and medias...  0.036393  0.750000   \n",
       "6   indications female chest pain findings low no ...  0.139947  0.500000   \n",
       "7   indications suspected right midlung with left ...  0.536325  0.368421   \n",
       "8   indications female with findings the heart pul...  0.127118  0.615385   \n",
       "9   indications female with shortness of breath da...  0.567890  0.385714   \n",
       "10  indications with a ladder the left lower lobe ...  0.319400  0.360000   \n",
       "11  indications female mvc findings mediastinal co...  0.420628  0.452830   \n",
       "12  indications kidney transplant findings heart s...  0.280751  0.416667   \n",
       "13  indications with rt scapular area and atelecta...  0.300671  0.425926   \n",
       "14  indications with findings the cardiac contours...  0.367400  0.681818   \n",
       "15  indications male with positive ppd with chest ...  0.412691  0.568182   \n",
       "16  indications male status post assault or free a...  0.354290  0.666667   \n",
       "17  indications male with chest pain findings the ...  0.094504  0.750000   \n",
       "18  indications male with chest pain findings the ...  0.297073  0.725000   \n",
       "19  indications female with onset pleuritic chest ...  0.154111  0.774194   \n",
       "20  indications dyspnea findings no focal areas of...  0.189560  0.531250   \n",
       "21  indications chest pain and dyspnea findings ca...  0.447627  0.354839   \n",
       "22  indications shortness of breath findings the c...  0.539160  0.287234   \n",
       "23  indications unavailable findings lungs are cle...  0.107362  0.791667   \n",
       "24  indications chest pain findings the lungs are ...  0.207817  0.516129   \n",
       "25  indications male with findings frontal and lat...  0.050408  0.590909   \n",
       "26  indications dyspnea findings the heart is mild...  0.109750  0.400000   \n",
       "27  indications female on liters findings marked c...  0.213117  0.487179   \n",
       "28  indications findings the lungs are clear the l...  0.341180  0.720930   \n",
       "29  indications esophageal carcinoma findings lung...  0.589871  0.375000   \n",
       "30  indications female female with shortness of br...  0.196672  0.358974   \n",
       "31  indications weakness shoulder pain findings lu...  0.526445  0.367089   \n",
       "32  indications ppd findings the heart size is wit...  0.135013  0.500000   \n",
       "33  indications findings the cardiomediastinal sil...  0.228581  0.914286   \n",
       "34  indications male findings a small calcified me...  0.434633  0.246377   \n",
       "35  indications copd headache findings cardiac sil...  0.274392  0.333333   \n",
       "36  indications nan findings the lungs are clear t...  0.478135  0.600000   \n",
       "37  indications dyspnea findings normal cardiac si...  0.102625  0.703704   \n",
       "38  indications male findings the heart is normal ...  0.340090  0.450000   \n",
       "39  indications hemoptysis findings the cardiomedi...  0.487609  0.543478   \n",
       "40  indications male presents for evaluation with ...  0.690805  0.436620   \n",
       "41  indications rule out sarcoidosis findings the ...  0.065659  0.407407   \n",
       "42  indications chest pain findings normal heart s...  0.489621  0.480000   \n",
       "43  indications nan findings cardiomegaly and may ...  0.484334  0.361111   \n",
       "44  indications test ca for one findings both lung...  0.244906  0.605263   \n",
       "45  indications ordering a followup chest pain pre...  0.070078  0.500000   \n",
       "46  indications with shortness of breath findings ...  0.086080  0.625000   \n",
       "47  indications loss of the t and lower lobe pneum...  0.077062  0.625000   \n",
       "48  indications male with findings the lungs are c...  0.098868  0.863636   \n",
       "49  indications tripped inflated and mediastinum n...  0.237334  0.431818   \n",
       "\n",
       "     rouge_l  \n",
       "0   0.447368  \n",
       "1   0.312500  \n",
       "2   0.365854  \n",
       "3   0.323529  \n",
       "4   0.384615  \n",
       "5   0.650000  \n",
       "6   0.375000  \n",
       "7   0.171053  \n",
       "8   0.461538  \n",
       "9   0.242857  \n",
       "10  0.240000  \n",
       "11  0.320755  \n",
       "12  0.291667  \n",
       "13  0.259259  \n",
       "14  0.522727  \n",
       "15  0.477273  \n",
       "16  0.422222  \n",
       "17  0.666667  \n",
       "18  0.500000  \n",
       "19  0.451613  \n",
       "20  0.468750  \n",
       "21  0.241935  \n",
       "22  0.159574  \n",
       "23  0.500000  \n",
       "24  0.516129  \n",
       "25  0.545455  \n",
       "26  0.333333  \n",
       "27  0.333333  \n",
       "28  0.488372  \n",
       "29  0.170455  \n",
       "30  0.205128  \n",
       "31  0.177215  \n",
       "32  0.277778  \n",
       "33  0.742857  \n",
       "34  0.188406  \n",
       "35  0.196078  \n",
       "36  0.345455  \n",
       "37  0.444444  \n",
       "38  0.400000  \n",
       "39  0.326087  \n",
       "40  0.267606  \n",
       "41  0.296296  \n",
       "42  0.340000  \n",
       "43  0.180556  \n",
       "44  0.342105  \n",
       "45  0.357143  \n",
       "46  0.500000  \n",
       "47  0.625000  \n",
       "48  0.590909  \n",
       "49  0.295455  "
      ]
     },
     "execution_count": 93,
     "metadata": {},
     "output_type": "execute_result"
    }
   ],
   "source": [
    "prediction = pd.read_csv('/content/drive/MyDrive/shikha version/data/real_vs_predicted.csv')\n",
    "prediction"
   ]
  },
  {
   "cell_type": "code",
   "execution_count": null,
   "metadata": {
    "id": "ABFbhkgbaOfg"
   },
   "outputs": [],
   "source": []
  }
 ],
 "metadata": {
  "accelerator": "GPU",
  "colab": {
   "gpuType": "T4",
   "provenance": []
  },
  "kaggle": {
   "accelerator": "nvidiaTeslaT4",
   "dataSources": [
    {
     "datasetId": 516716,
     "sourceId": 951996,
     "sourceType": "datasetVersion"
    },
    {
     "datasetId": 7683551,
     "sourceId": 12197762,
     "sourceType": "datasetVersion"
    }
   ],
   "dockerImageVersionId": 31041,
   "isGpuEnabled": true,
   "isInternetEnabled": true,
   "language": "python",
   "sourceType": "notebook"
  },
  "kernelspec": {
   "display_name": "Python 3 (ipykernel)",
   "language": "python",
   "name": "python3"
  },
  "language_info": {
   "codemirror_mode": {
    "name": "ipython",
    "version": 3
   },
   "file_extension": ".py",
   "mimetype": "text/x-python",
   "name": "python",
   "nbconvert_exporter": "python",
   "pygments_lexer": "ipython3",
   "version": "3.11.11"
  }
 },
 "nbformat": 4,
 "nbformat_minor": 4
}
